{
 "cells": [
  {
   "cell_type": "markdown",
   "metadata": {},
   "source": [
    "#  Прогнозирование заказов такси"
   ]
  },
  {
   "cell_type": "markdown",
   "metadata": {
    "toc": true
   },
   "source": [
    "<h1>Содержание<span class=\"tocSkip\"></span></h1>\n",
    "<div class=\"toc\"><ul class=\"toc-item\"><li><span><a href=\"#Подготовка\" data-toc-modified-id=\"Подготовка-1\"><span class=\"toc-item-num\">1&nbsp;&nbsp;</span>Подготовка</a></span></li><li><span><a href=\"#Анализ\" data-toc-modified-id=\"Анализ-2\"><span class=\"toc-item-num\">2&nbsp;&nbsp;</span>Анализ</a></span></li><li><span><a href=\"#Обучение\" data-toc-modified-id=\"Обучение-3\"><span class=\"toc-item-num\">3&nbsp;&nbsp;</span>Обучение</a></span><ul class=\"toc-item\"><li><span><a href=\"#DecisionTreeRegressor\" data-toc-modified-id=\"DecisionTreeRegressor-3.1\"><span class=\"toc-item-num\">3.1&nbsp;&nbsp;</span>DecisionTreeRegressor</a></span></li><li><span><a href=\"#LGBMRegressor\" data-toc-modified-id=\"LGBMRegressor-3.2\"><span class=\"toc-item-num\">3.2&nbsp;&nbsp;</span>LGBMRegressor</a></span></li></ul></li><li><span><a href=\"#Тестирование\" data-toc-modified-id=\"Тестирование-4\"><span class=\"toc-item-num\">4&nbsp;&nbsp;</span>Тестирование</a></span></li></ul></div>"
   ]
  },
  {
   "cell_type": "markdown",
   "metadata": {},
   "source": [
    "Компания собрала исторические данные о заказах такси в аэропортах. Чтобы привлекать больше водителей в период пиковой нагрузки, нужно спрогнозировать количество заказов такси на следующий час. Нужно построить модель для такого предсказания.\n",
    "\n",
    "Значение метрики *RMSE* на тестовой выборке должно быть не больше 48."
   ]
  },
  {
   "cell_type": "code",
   "execution_count": 1,
   "metadata": {},
   "outputs": [
    {
     "name": "stdout",
     "output_type": "stream",
     "text": [
      "Requirement already satisfied: scikit-learn in /opt/conda/lib/python3.9/site-packages (1.5.0)\n",
      "Requirement already satisfied: joblib>=1.2.0 in /opt/conda/lib/python3.9/site-packages (from scikit-learn) (1.4.2)\n",
      "Requirement already satisfied: numpy>=1.19.5 in /opt/conda/lib/python3.9/site-packages (from scikit-learn) (1.21.1)\n",
      "Requirement already satisfied: threadpoolctl>=3.1.0 in /opt/conda/lib/python3.9/site-packages (from scikit-learn) (3.1.0)\n",
      "Requirement already satisfied: scipy>=1.6.0 in /opt/conda/lib/python3.9/site-packages (from scikit-learn) (1.9.1)\n"
     ]
    }
   ],
   "source": [
    "!pip install -U scikit-learn"
   ]
  },
  {
   "cell_type": "code",
   "execution_count": 2,
   "metadata": {},
   "outputs": [],
   "source": [
    "import pandas as pd\n",
    "import numpy as np\n",
    "import math\n",
    "import scipy.stats as st\n",
    "import matplotlib.pyplot as plt\n",
    "import seaborn as sns\n",
    "import warnings\n",
    "import random\n",
    "\n",
    "from sklearn.model_selection import train_test_split, TimeSeriesSplit, RandomizedSearchCV\n",
    "from statsmodels.tsa.seasonal import seasonal_decompose\n",
    "from sklearn.preprocessing import MinMaxScaler\n",
    "from sklearn.tree import DecisionTreeRegressor\n",
    "from lightgbm import LGBMRegressor\n",
    "from sklearn.metrics import mean_squared_error as mse"
   ]
  },
  {
   "cell_type": "code",
   "execution_count": 3,
   "metadata": {},
   "outputs": [],
   "source": [
    "def make_features(df, max_lag, rolling_mean_size):\n",
    "    df['day'] = df.index.day\n",
    "    df['dayofweek'] = df.index.dayofweek\n",
    "    \n",
    "    for lag in range(1, max_lag + 1):\n",
    "        df['lag_{}'.format(lag)] = df['num_orders'].shift(lag)\n",
    "\n",
    "    df['rolling_mean'] = df['num_orders'].shift().rolling(rolling_mean_size).mean()\n"
   ]
  },
  {
   "cell_type": "code",
   "execution_count": 4,
   "metadata": {},
   "outputs": [],
   "source": [
    "RANDOM_STATE = 42\n",
    "TEST_SIZE = 0.1"
   ]
  },
  {
   "cell_type": "markdown",
   "metadata": {},
   "source": [
    "## Подготовка"
   ]
  },
  {
   "cell_type": "code",
   "execution_count": 5,
   "metadata": {},
   "outputs": [
    {
     "name": "stdout",
     "output_type": "stream",
     "text": [
      "<class 'pandas.core.frame.DataFrame'>\n",
      "DatetimeIndex: 26496 entries, 2018-03-01 00:00:00 to 2018-08-31 23:50:00\n",
      "Data columns (total 1 columns):\n",
      " #   Column      Non-Null Count  Dtype\n",
      "---  ------      --------------  -----\n",
      " 0   num_orders  26496 non-null  int64\n",
      "dtypes: int64(1)\n",
      "memory usage: 414.0 KB\n"
     ]
    },
    {
     "data": {
      "text/plain": [
       "None"
      ]
     },
     "metadata": {},
     "output_type": "display_data"
    },
    {
     "name": "stdout",
     "output_type": "stream",
     "text": [
      "\n"
     ]
    },
    {
     "data": {
      "text/plain": [
       "(26496, 1)"
      ]
     },
     "metadata": {},
     "output_type": "display_data"
    },
    {
     "name": "stdout",
     "output_type": "stream",
     "text": [
      "\n"
     ]
    },
    {
     "data": {
      "text/plain": [
       "True"
      ]
     },
     "metadata": {},
     "output_type": "display_data"
    }
   ],
   "source": [
    "df = pd.read_csv('/datasets/taxi.csv', parse_dates=[0], index_col=[0])\n",
    "display(df.info())\n",
    "print()\n",
    "display(df.shape)\n",
    "print()\n",
    "display(df.index.is_monotonic_increasing)"
   ]
  },
  {
   "cell_type": "code",
   "execution_count": 6,
   "metadata": {},
   "outputs": [
    {
     "data": {
      "text/html": [
       "<div>\n",
       "<style scoped>\n",
       "    .dataframe tbody tr th:only-of-type {\n",
       "        vertical-align: middle;\n",
       "    }\n",
       "\n",
       "    .dataframe tbody tr th {\n",
       "        vertical-align: top;\n",
       "    }\n",
       "\n",
       "    .dataframe thead th {\n",
       "        text-align: right;\n",
       "    }\n",
       "</style>\n",
       "<table border=\"1\" class=\"dataframe\">\n",
       "  <thead>\n",
       "    <tr style=\"text-align: right;\">\n",
       "      <th></th>\n",
       "      <th>num_orders</th>\n",
       "    </tr>\n",
       "    <tr>\n",
       "      <th>datetime</th>\n",
       "      <th></th>\n",
       "    </tr>\n",
       "  </thead>\n",
       "  <tbody>\n",
       "    <tr>\n",
       "      <th>2018-03-01 00:00:00</th>\n",
       "      <td>9</td>\n",
       "    </tr>\n",
       "    <tr>\n",
       "      <th>2018-03-01 00:10:00</th>\n",
       "      <td>14</td>\n",
       "    </tr>\n",
       "    <tr>\n",
       "      <th>2018-03-01 00:20:00</th>\n",
       "      <td>28</td>\n",
       "    </tr>\n",
       "    <tr>\n",
       "      <th>2018-03-01 00:30:00</th>\n",
       "      <td>20</td>\n",
       "    </tr>\n",
       "    <tr>\n",
       "      <th>2018-03-01 00:40:00</th>\n",
       "      <td>32</td>\n",
       "    </tr>\n",
       "  </tbody>\n",
       "</table>\n",
       "</div>"
      ],
      "text/plain": [
       "                     num_orders\n",
       "datetime                       \n",
       "2018-03-01 00:00:00           9\n",
       "2018-03-01 00:10:00          14\n",
       "2018-03-01 00:20:00          28\n",
       "2018-03-01 00:30:00          20\n",
       "2018-03-01 00:40:00          32"
      ]
     },
     "execution_count": 6,
     "metadata": {},
     "output_type": "execute_result"
    }
   ],
   "source": [
    "df.head()"
   ]
  },
  {
   "cell_type": "code",
   "execution_count": 7,
   "metadata": {},
   "outputs": [
    {
     "data": {
      "text/html": [
       "<div>\n",
       "<style scoped>\n",
       "    .dataframe tbody tr th:only-of-type {\n",
       "        vertical-align: middle;\n",
       "    }\n",
       "\n",
       "    .dataframe tbody tr th {\n",
       "        vertical-align: top;\n",
       "    }\n",
       "\n",
       "    .dataframe thead th {\n",
       "        text-align: right;\n",
       "    }\n",
       "</style>\n",
       "<table border=\"1\" class=\"dataframe\">\n",
       "  <thead>\n",
       "    <tr style=\"text-align: right;\">\n",
       "      <th></th>\n",
       "      <th>num_orders</th>\n",
       "    </tr>\n",
       "  </thead>\n",
       "  <tbody>\n",
       "    <tr>\n",
       "      <th>count</th>\n",
       "      <td>26496.000000</td>\n",
       "    </tr>\n",
       "    <tr>\n",
       "      <th>mean</th>\n",
       "      <td>14.070463</td>\n",
       "    </tr>\n",
       "    <tr>\n",
       "      <th>std</th>\n",
       "      <td>9.211330</td>\n",
       "    </tr>\n",
       "    <tr>\n",
       "      <th>min</th>\n",
       "      <td>0.000000</td>\n",
       "    </tr>\n",
       "    <tr>\n",
       "      <th>25%</th>\n",
       "      <td>8.000000</td>\n",
       "    </tr>\n",
       "    <tr>\n",
       "      <th>50%</th>\n",
       "      <td>13.000000</td>\n",
       "    </tr>\n",
       "    <tr>\n",
       "      <th>75%</th>\n",
       "      <td>19.000000</td>\n",
       "    </tr>\n",
       "    <tr>\n",
       "      <th>max</th>\n",
       "      <td>119.000000</td>\n",
       "    </tr>\n",
       "  </tbody>\n",
       "</table>\n",
       "</div>"
      ],
      "text/plain": [
       "         num_orders\n",
       "count  26496.000000\n",
       "mean      14.070463\n",
       "std        9.211330\n",
       "min        0.000000\n",
       "25%        8.000000\n",
       "50%       13.000000\n",
       "75%       19.000000\n",
       "max      119.000000"
      ]
     },
     "execution_count": 7,
     "metadata": {},
     "output_type": "execute_result"
    }
   ],
   "source": [
    "df.describe()"
   ]
  },
  {
   "cell_type": "markdown",
   "metadata": {},
   "source": [
    "Данные загружены, пропусков нет. Неявных дубликатов, как и явных, в этом датасете быть не может."
   ]
  },
  {
   "cell_type": "code",
   "execution_count": 8,
   "metadata": {},
   "outputs": [],
   "source": [
    "df = df.resample('1H').sum()"
   ]
  },
  {
   "cell_type": "markdown",
   "metadata": {},
   "source": [
    "## Анализ"
   ]
  },
  {
   "cell_type": "code",
   "execution_count": 9,
   "metadata": {},
   "outputs": [
    {
     "data": {
      "image/png": "[encoded data removed]",
      "text/plain": [
       "<Figure size 1080x288 with 1 Axes>"
      ]
     },
     "metadata": {},
     "output_type": "display_data"
    }
   ],
   "source": [
    "df_ = df.copy()\n",
    "df_['rolling_mean'] = df_.rolling(24).mean()\n",
    "\n",
    "plt.rcParams['figure.figsize'] = [15, 4]\n",
    "sns.set(style='whitegrid')\n",
    "df_.plot()\n",
    "plt.xlabel('Datetime')\n",
    "plt.ylabel('Number of orders')\n",
    "plt.show()"
   ]
  },
  {
   "cell_type": "markdown",
   "metadata": {},
   "source": [
    "Скользящее среднее со временем увеличивается. Можно предположить, что ряд нестационарен."
   ]
  },
  {
   "cell_type": "code",
   "execution_count": 10,
   "metadata": {},
   "outputs": [],
   "source": [
    "decomposed = seasonal_decompose(df)"
   ]
  },
  {
   "cell_type": "code",
   "execution_count": 11,
   "metadata": {
    "scrolled": true
   },
   "outputs": [
    {
     "data": {
      "image/png": "[encoded data removed]",
      "text/plain": [
       "<Figure size 1080x288 with 1 Axes>"
      ]
     },
     "metadata": {},
     "output_type": "display_data"
    }
   ],
   "source": [
    "decomposed.trend.plot(ax=plt.gca())\n",
    "plt.title('Trend')\n",
    "plt.xlabel('Datetime')\n",
    "plt.ylabel('Number of orders')\n",
    "plt.show()"
   ]
  },
  {
   "cell_type": "markdown",
   "metadata": {},
   "source": [
    "Вижу тренд на увеличение числа заказов к концу летнего периода &mdash; началу осени."
   ]
  },
  {
   "cell_type": "code",
   "execution_count": 12,
   "metadata": {},
   "outputs": [
    {
     "data": {
      "image/png": "[encoded data removed]",
      "text/plain": [
       "<Figure size 1080x288 with 1 Axes>"
      ]
     },
     "metadata": {},
     "output_type": "display_data"
    }
   ],
   "source": [
    "decomposed.seasonal['2018-04-01':'2018-04-3'].plot(ax=plt.gca())\n",
    "plt.title('Seasonality')\n",
    "plt.xlabel('Datetime')\n",
    "plt.ylabel('Number of orders')\n",
    "plt.show()"
   ]
  },
  {
   "cell_type": "markdown",
   "metadata": {},
   "source": [
    "Сезонность дневная, спад заказов наблюдается к 6 утра, пик достигается к полуночи. Это связано со временем прибытия / отправления самолетов. Можно заключить, что к ночи прилетает / отправляется большее количество самолетов, нежели чем рано утром."
   ]
  },
  {
   "cell_type": "markdown",
   "metadata": {},
   "source": [
    "## Обучение"
   ]
  },
  {
   "cell_type": "code",
   "execution_count": 15,
   "metadata": {},
   "outputs": [],
   "source": [
    "make_features(df, 20, 3)"
   ]
  },
  {
   "cell_type": "markdown",
   "metadata": {},
   "source": [
    "В преобразованном датасете столбцы 'month', 'day', 'dayofweek' уже записаны таким образом, как если преобразовывать их OrdinalEncoder-ом, который и стоило бы использовать, если тип данных был другой. Надо отделить оставшиеся столбцы и скалировать их."
   ]
  },
  {
   "cell_type": "code",
   "execution_count": 16,
   "metadata": {},
   "outputs": [
    {
     "data": {
      "text/html": [
       "<div>\n",
       "<style scoped>\n",
       "    .dataframe tbody tr th:only-of-type {\n",
       "        vertical-align: middle;\n",
       "    }\n",
       "\n",
       "    .dataframe tbody tr th {\n",
       "        vertical-align: top;\n",
       "    }\n",
       "\n",
       "    .dataframe thead th {\n",
       "        text-align: right;\n",
       "    }\n",
       "</style>\n",
       "<table border=\"1\" class=\"dataframe\">\n",
       "  <thead>\n",
       "    <tr style=\"text-align: right;\">\n",
       "      <th></th>\n",
       "      <th>day</th>\n",
       "      <th>dayofweek</th>\n",
       "      <th>lag_1</th>\n",
       "      <th>lag_2</th>\n",
       "      <th>lag_3</th>\n",
       "      <th>lag_4</th>\n",
       "      <th>lag_5</th>\n",
       "      <th>lag_6</th>\n",
       "      <th>lag_7</th>\n",
       "      <th>lag_8</th>\n",
       "      <th>...</th>\n",
       "      <th>lag_12</th>\n",
       "      <th>lag_13</th>\n",
       "      <th>lag_14</th>\n",
       "      <th>lag_15</th>\n",
       "      <th>lag_16</th>\n",
       "      <th>lag_17</th>\n",
       "      <th>lag_18</th>\n",
       "      <th>lag_19</th>\n",
       "      <th>lag_20</th>\n",
       "      <th>rolling_mean</th>\n",
       "    </tr>\n",
       "    <tr>\n",
       "      <th>datetime</th>\n",
       "      <th></th>\n",
       "      <th></th>\n",
       "      <th></th>\n",
       "      <th></th>\n",
       "      <th></th>\n",
       "      <th></th>\n",
       "      <th></th>\n",
       "      <th></th>\n",
       "      <th></th>\n",
       "      <th></th>\n",
       "      <th></th>\n",
       "      <th></th>\n",
       "      <th></th>\n",
       "      <th></th>\n",
       "      <th></th>\n",
       "      <th></th>\n",
       "      <th></th>\n",
       "      <th></th>\n",
       "      <th></th>\n",
       "      <th></th>\n",
       "      <th></th>\n",
       "    </tr>\n",
       "  </thead>\n",
       "  <tbody>\n",
       "    <tr>\n",
       "      <th>2018-03-01 20:00:00</th>\n",
       "      <td>1</td>\n",
       "      <td>3</td>\n",
       "      <td>45.0</td>\n",
       "      <td>73.0</td>\n",
       "      <td>44.0</td>\n",
       "      <td>43.0</td>\n",
       "      <td>66.0</td>\n",
       "      <td>48.0</td>\n",
       "      <td>32.0</td>\n",
       "      <td>30.0</td>\n",
       "      <td>...</td>\n",
       "      <td>34.0</td>\n",
       "      <td>15.0</td>\n",
       "      <td>12.0</td>\n",
       "      <td>6.0</td>\n",
       "      <td>43.0</td>\n",
       "      <td>66.0</td>\n",
       "      <td>71.0</td>\n",
       "      <td>85.0</td>\n",
       "      <td>124.0</td>\n",
       "      <td>54.000000</td>\n",
       "    </tr>\n",
       "    <tr>\n",
       "      <th>2018-03-01 21:00:00</th>\n",
       "      <td>1</td>\n",
       "      <td>3</td>\n",
       "      <td>61.0</td>\n",
       "      <td>45.0</td>\n",
       "      <td>73.0</td>\n",
       "      <td>44.0</td>\n",
       "      <td>43.0</td>\n",
       "      <td>66.0</td>\n",
       "      <td>48.0</td>\n",
       "      <td>32.0</td>\n",
       "      <td>...</td>\n",
       "      <td>69.0</td>\n",
       "      <td>34.0</td>\n",
       "      <td>15.0</td>\n",
       "      <td>12.0</td>\n",
       "      <td>6.0</td>\n",
       "      <td>43.0</td>\n",
       "      <td>66.0</td>\n",
       "      <td>71.0</td>\n",
       "      <td>85.0</td>\n",
       "      <td>59.666667</td>\n",
       "    </tr>\n",
       "    <tr>\n",
       "      <th>2018-03-01 22:00:00</th>\n",
       "      <td>1</td>\n",
       "      <td>3</td>\n",
       "      <td>66.0</td>\n",
       "      <td>61.0</td>\n",
       "      <td>45.0</td>\n",
       "      <td>73.0</td>\n",
       "      <td>44.0</td>\n",
       "      <td>43.0</td>\n",
       "      <td>66.0</td>\n",
       "      <td>48.0</td>\n",
       "      <td>...</td>\n",
       "      <td>64.0</td>\n",
       "      <td>69.0</td>\n",
       "      <td>34.0</td>\n",
       "      <td>15.0</td>\n",
       "      <td>12.0</td>\n",
       "      <td>6.0</td>\n",
       "      <td>43.0</td>\n",
       "      <td>66.0</td>\n",
       "      <td>71.0</td>\n",
       "      <td>57.333333</td>\n",
       "    </tr>\n",
       "    <tr>\n",
       "      <th>2018-03-01 23:00:00</th>\n",
       "      <td>1</td>\n",
       "      <td>3</td>\n",
       "      <td>113.0</td>\n",
       "      <td>66.0</td>\n",
       "      <td>61.0</td>\n",
       "      <td>45.0</td>\n",
       "      <td>73.0</td>\n",
       "      <td>44.0</td>\n",
       "      <td>43.0</td>\n",
       "      <td>66.0</td>\n",
       "      <td>...</td>\n",
       "      <td>96.0</td>\n",
       "      <td>64.0</td>\n",
       "      <td>69.0</td>\n",
       "      <td>34.0</td>\n",
       "      <td>15.0</td>\n",
       "      <td>12.0</td>\n",
       "      <td>6.0</td>\n",
       "      <td>43.0</td>\n",
       "      <td>66.0</td>\n",
       "      <td>80.000000</td>\n",
       "    </tr>\n",
       "    <tr>\n",
       "      <th>2018-03-02 00:00:00</th>\n",
       "      <td>2</td>\n",
       "      <td>4</td>\n",
       "      <td>58.0</td>\n",
       "      <td>113.0</td>\n",
       "      <td>66.0</td>\n",
       "      <td>61.0</td>\n",
       "      <td>45.0</td>\n",
       "      <td>73.0</td>\n",
       "      <td>44.0</td>\n",
       "      <td>43.0</td>\n",
       "      <td>...</td>\n",
       "      <td>30.0</td>\n",
       "      <td>96.0</td>\n",
       "      <td>64.0</td>\n",
       "      <td>69.0</td>\n",
       "      <td>34.0</td>\n",
       "      <td>15.0</td>\n",
       "      <td>12.0</td>\n",
       "      <td>6.0</td>\n",
       "      <td>43.0</td>\n",
       "      <td>79.000000</td>\n",
       "    </tr>\n",
       "  </tbody>\n",
       "</table>\n",
       "<p>5 rows × 23 columns</p>\n",
       "</div>"
      ],
      "text/plain": [
       "                     day  dayofweek  lag_1  lag_2  lag_3  lag_4  lag_5  lag_6  \\\n",
       "datetime                                                                        \n",
       "2018-03-01 20:00:00    1          3   45.0   73.0   44.0   43.0   66.0   48.0   \n",
       "2018-03-01 21:00:00    1          3   61.0   45.0   73.0   44.0   43.0   66.0   \n",
       "2018-03-01 22:00:00    1          3   66.0   61.0   45.0   73.0   44.0   43.0   \n",
       "2018-03-01 23:00:00    1          3  113.0   66.0   61.0   45.0   73.0   44.0   \n",
       "2018-03-02 00:00:00    2          4   58.0  113.0   66.0   61.0   45.0   73.0   \n",
       "\n",
       "                     lag_7  lag_8  ...  lag_12  lag_13  lag_14  lag_15  \\\n",
       "datetime                           ...                                   \n",
       "2018-03-01 20:00:00   32.0   30.0  ...    34.0    15.0    12.0     6.0   \n",
       "2018-03-01 21:00:00   48.0   32.0  ...    69.0    34.0    15.0    12.0   \n",
       "2018-03-01 22:00:00   66.0   48.0  ...    64.0    69.0    34.0    15.0   \n",
       "2018-03-01 23:00:00   43.0   66.0  ...    96.0    64.0    69.0    34.0   \n",
       "2018-03-02 00:00:00   44.0   43.0  ...    30.0    96.0    64.0    69.0   \n",
       "\n",
       "                     lag_16  lag_17  lag_18  lag_19  lag_20  rolling_mean  \n",
       "datetime                                                                   \n",
       "2018-03-01 20:00:00    43.0    66.0    71.0    85.0   124.0     54.000000  \n",
       "2018-03-01 21:00:00     6.0    43.0    66.0    71.0    85.0     59.666667  \n",
       "2018-03-01 22:00:00    12.0     6.0    43.0    66.0    71.0     57.333333  \n",
       "2018-03-01 23:00:00    15.0    12.0     6.0    43.0    66.0     80.000000  \n",
       "2018-03-02 00:00:00    34.0    15.0    12.0     6.0    43.0     79.000000  \n",
       "\n",
       "[5 rows x 23 columns]"
      ]
     },
     "execution_count": 16,
     "metadata": {},
     "output_type": "execute_result"
    }
   ],
   "source": [
    "train, test = train_test_split(df, shuffle=False, test_size=TEST_SIZE)\n",
    "train = train.dropna()\n",
    "\n",
    "X_train, X_test = train.drop('num_orders', axis=1), test.drop('num_orders', axis=1)\n",
    "y_train, y_test = train['num_orders'], test['num_orders']\n",
    "\n",
    "X_train.head()"
   ]
  },
  {
   "cell_type": "code",
   "execution_count": 17,
   "metadata": {},
   "outputs": [
    {
     "data": {
      "text/plain": [
       "(['day', 'dayofweek', 'lag_1'],\n",
       " ['lag_2',\n",
       "  'lag_3',\n",
       "  'lag_4',\n",
       "  'lag_5',\n",
       "  'lag_6',\n",
       "  'lag_7',\n",
       "  'lag_8',\n",
       "  'lag_9',\n",
       "  'lag_10',\n",
       "  'lag_11',\n",
       "  'lag_12',\n",
       "  'lag_13',\n",
       "  'lag_14',\n",
       "  'lag_15',\n",
       "  'lag_16',\n",
       "  'lag_17',\n",
       "  'lag_18',\n",
       "  'lag_19',\n",
       "  'lag_20',\n",
       "  'rolling_mean'])"
      ]
     },
     "execution_count": 17,
     "metadata": {},
     "output_type": "execute_result"
    }
   ],
   "source": [
    "ord_columns = X_train.columns.to_list()[:3]\n",
    "num_columns = X_train.columns.to_list()[3:]\n",
    "ord_columns, num_columns"
   ]
  },
  {
   "cell_type": "code",
   "execution_count": 18,
   "metadata": {},
   "outputs": [],
   "source": [
    "X_train_ord = X_train[ord_columns]\n",
    "X_test_ord = X_test[ord_columns]"
   ]
  },
  {
   "cell_type": "code",
   "execution_count": 19,
   "metadata": {},
   "outputs": [],
   "source": [
    "scaler = MinMaxScaler()\n",
    "scaler.fit(X_train[num_columns])\n",
    "X_train_scaled = scaler.transform(X_train[num_columns])\n",
    "X_test_scaled = scaler.transform(X_test[num_columns])\n",
    "\n",
    "df_scaled_train = pd.DataFrame(X_train_scaled, columns=num_columns, index=X_train.index)\n",
    "df_scaled_test = pd.DataFrame(X_test_scaled, columns=num_columns, index=X_test.index)"
   ]
  },
  {
   "cell_type": "code",
   "execution_count": 20,
   "metadata": {
    "scrolled": true
   },
   "outputs": [
    {
     "data": {
      "text/html": [
       "<div>\n",
       "<style scoped>\n",
       "    .dataframe tbody tr th:only-of-type {\n",
       "        vertical-align: middle;\n",
       "    }\n",
       "\n",
       "    .dataframe tbody tr th {\n",
       "        vertical-align: top;\n",
       "    }\n",
       "\n",
       "    .dataframe thead th {\n",
       "        text-align: right;\n",
       "    }\n",
       "</style>\n",
       "<table border=\"1\" class=\"dataframe\">\n",
       "  <thead>\n",
       "    <tr style=\"text-align: right;\">\n",
       "      <th></th>\n",
       "      <th>day</th>\n",
       "      <th>dayofweek</th>\n",
       "      <th>lag_1</th>\n",
       "      <th>lag_2</th>\n",
       "      <th>lag_3</th>\n",
       "      <th>lag_4</th>\n",
       "      <th>lag_5</th>\n",
       "      <th>lag_6</th>\n",
       "      <th>lag_7</th>\n",
       "      <th>lag_8</th>\n",
       "      <th>...</th>\n",
       "      <th>lag_12</th>\n",
       "      <th>lag_13</th>\n",
       "      <th>lag_14</th>\n",
       "      <th>lag_15</th>\n",
       "      <th>lag_16</th>\n",
       "      <th>lag_17</th>\n",
       "      <th>lag_18</th>\n",
       "      <th>lag_19</th>\n",
       "      <th>lag_20</th>\n",
       "      <th>rolling_mean</th>\n",
       "    </tr>\n",
       "    <tr>\n",
       "      <th>datetime</th>\n",
       "      <th></th>\n",
       "      <th></th>\n",
       "      <th></th>\n",
       "      <th></th>\n",
       "      <th></th>\n",
       "      <th></th>\n",
       "      <th></th>\n",
       "      <th></th>\n",
       "      <th></th>\n",
       "      <th></th>\n",
       "      <th></th>\n",
       "      <th></th>\n",
       "      <th></th>\n",
       "      <th></th>\n",
       "      <th></th>\n",
       "      <th></th>\n",
       "      <th></th>\n",
       "      <th></th>\n",
       "      <th></th>\n",
       "      <th></th>\n",
       "      <th></th>\n",
       "    </tr>\n",
       "  </thead>\n",
       "  <tbody>\n",
       "    <tr>\n",
       "      <th>2018-03-01 20:00:00</th>\n",
       "      <td>1</td>\n",
       "      <td>3</td>\n",
       "      <td>45.0</td>\n",
       "      <td>0.167048</td>\n",
       "      <td>0.100686</td>\n",
       "      <td>0.098398</td>\n",
       "      <td>0.151030</td>\n",
       "      <td>0.109840</td>\n",
       "      <td>0.073227</td>\n",
       "      <td>0.068650</td>\n",
       "      <td>...</td>\n",
       "      <td>0.124542</td>\n",
       "      <td>0.059289</td>\n",
       "      <td>0.047431</td>\n",
       "      <td>0.023715</td>\n",
       "      <td>0.169960</td>\n",
       "      <td>0.260870</td>\n",
       "      <td>0.280632</td>\n",
       "      <td>0.335968</td>\n",
       "      <td>0.490119</td>\n",
       "      <td>0.175115</td>\n",
       "    </tr>\n",
       "    <tr>\n",
       "      <th>2018-03-01 21:00:00</th>\n",
       "      <td>1</td>\n",
       "      <td>3</td>\n",
       "      <td>61.0</td>\n",
       "      <td>0.102975</td>\n",
       "      <td>0.167048</td>\n",
       "      <td>0.100686</td>\n",
       "      <td>0.098398</td>\n",
       "      <td>0.151030</td>\n",
       "      <td>0.109840</td>\n",
       "      <td>0.073227</td>\n",
       "      <td>...</td>\n",
       "      <td>0.252747</td>\n",
       "      <td>0.134387</td>\n",
       "      <td>0.059289</td>\n",
       "      <td>0.047431</td>\n",
       "      <td>0.023715</td>\n",
       "      <td>0.169960</td>\n",
       "      <td>0.260870</td>\n",
       "      <td>0.280632</td>\n",
       "      <td>0.335968</td>\n",
       "      <td>0.194700</td>\n",
       "    </tr>\n",
       "    <tr>\n",
       "      <th>2018-03-01 22:00:00</th>\n",
       "      <td>1</td>\n",
       "      <td>3</td>\n",
       "      <td>66.0</td>\n",
       "      <td>0.139588</td>\n",
       "      <td>0.102975</td>\n",
       "      <td>0.167048</td>\n",
       "      <td>0.100686</td>\n",
       "      <td>0.098398</td>\n",
       "      <td>0.151030</td>\n",
       "      <td>0.109840</td>\n",
       "      <td>...</td>\n",
       "      <td>0.234432</td>\n",
       "      <td>0.272727</td>\n",
       "      <td>0.134387</td>\n",
       "      <td>0.059289</td>\n",
       "      <td>0.047431</td>\n",
       "      <td>0.023715</td>\n",
       "      <td>0.169960</td>\n",
       "      <td>0.260870</td>\n",
       "      <td>0.280632</td>\n",
       "      <td>0.186636</td>\n",
       "    </tr>\n",
       "    <tr>\n",
       "      <th>2018-03-01 23:00:00</th>\n",
       "      <td>1</td>\n",
       "      <td>3</td>\n",
       "      <td>113.0</td>\n",
       "      <td>0.151030</td>\n",
       "      <td>0.139588</td>\n",
       "      <td>0.102975</td>\n",
       "      <td>0.167048</td>\n",
       "      <td>0.100686</td>\n",
       "      <td>0.098398</td>\n",
       "      <td>0.151030</td>\n",
       "      <td>...</td>\n",
       "      <td>0.351648</td>\n",
       "      <td>0.252964</td>\n",
       "      <td>0.272727</td>\n",
       "      <td>0.134387</td>\n",
       "      <td>0.059289</td>\n",
       "      <td>0.047431</td>\n",
       "      <td>0.023715</td>\n",
       "      <td>0.169960</td>\n",
       "      <td>0.260870</td>\n",
       "      <td>0.264977</td>\n",
       "    </tr>\n",
       "    <tr>\n",
       "      <th>2018-03-02 00:00:00</th>\n",
       "      <td>2</td>\n",
       "      <td>4</td>\n",
       "      <td>58.0</td>\n",
       "      <td>0.258581</td>\n",
       "      <td>0.151030</td>\n",
       "      <td>0.139588</td>\n",
       "      <td>0.102975</td>\n",
       "      <td>0.167048</td>\n",
       "      <td>0.100686</td>\n",
       "      <td>0.098398</td>\n",
       "      <td>...</td>\n",
       "      <td>0.109890</td>\n",
       "      <td>0.379447</td>\n",
       "      <td>0.252964</td>\n",
       "      <td>0.272727</td>\n",
       "      <td>0.134387</td>\n",
       "      <td>0.059289</td>\n",
       "      <td>0.047431</td>\n",
       "      <td>0.023715</td>\n",
       "      <td>0.169960</td>\n",
       "      <td>0.261521</td>\n",
       "    </tr>\n",
       "  </tbody>\n",
       "</table>\n",
       "<p>5 rows × 23 columns</p>\n",
       "</div>"
      ],
      "text/plain": [
       "                     day  dayofweek  lag_1     lag_2     lag_3     lag_4  \\\n",
       "datetime                                                                   \n",
       "2018-03-01 20:00:00    1          3   45.0  0.167048  0.100686  0.098398   \n",
       "2018-03-01 21:00:00    1          3   61.0  0.102975  0.167048  0.100686   \n",
       "2018-03-01 22:00:00    1          3   66.0  0.139588  0.102975  0.167048   \n",
       "2018-03-01 23:00:00    1          3  113.0  0.151030  0.139588  0.102975   \n",
       "2018-03-02 00:00:00    2          4   58.0  0.258581  0.151030  0.139588   \n",
       "\n",
       "                        lag_5     lag_6     lag_7     lag_8  ...    lag_12  \\\n",
       "datetime                                                     ...             \n",
       "2018-03-01 20:00:00  0.151030  0.109840  0.073227  0.068650  ...  0.124542   \n",
       "2018-03-01 21:00:00  0.098398  0.151030  0.109840  0.073227  ...  0.252747   \n",
       "2018-03-01 22:00:00  0.100686  0.098398  0.151030  0.109840  ...  0.234432   \n",
       "2018-03-01 23:00:00  0.167048  0.100686  0.098398  0.151030  ...  0.351648   \n",
       "2018-03-02 00:00:00  0.102975  0.167048  0.100686  0.098398  ...  0.109890   \n",
       "\n",
       "                       lag_13    lag_14    lag_15    lag_16    lag_17  \\\n",
       "datetime                                                                \n",
       "2018-03-01 20:00:00  0.059289  0.047431  0.023715  0.169960  0.260870   \n",
       "2018-03-01 21:00:00  0.134387  0.059289  0.047431  0.023715  0.169960   \n",
       "2018-03-01 22:00:00  0.272727  0.134387  0.059289  0.047431  0.023715   \n",
       "2018-03-01 23:00:00  0.252964  0.272727  0.134387  0.059289  0.047431   \n",
       "2018-03-02 00:00:00  0.379447  0.252964  0.272727  0.134387  0.059289   \n",
       "\n",
       "                       lag_18    lag_19    lag_20  rolling_mean  \n",
       "datetime                                                         \n",
       "2018-03-01 20:00:00  0.280632  0.335968  0.490119      0.175115  \n",
       "2018-03-01 21:00:00  0.260870  0.280632  0.335968      0.194700  \n",
       "2018-03-01 22:00:00  0.169960  0.260870  0.280632      0.186636  \n",
       "2018-03-01 23:00:00  0.023715  0.169960  0.260870      0.264977  \n",
       "2018-03-02 00:00:00  0.047431  0.023715  0.169960      0.261521  \n",
       "\n",
       "[5 rows x 23 columns]"
      ]
     },
     "execution_count": 20,
     "metadata": {},
     "output_type": "execute_result"
    }
   ],
   "source": [
    "X_train = pd.concat([X_train_ord, df_scaled_train], axis=1)\n",
    "X_test = pd.concat([X_test_ord, df_scaled_test], axis=1)\n",
    "\n",
    "X_train.head()"
   ]
  },
  {
   "cell_type": "markdown",
   "metadata": {},
   "source": [
    "### DecisionTreeRegressor"
   ]
  },
  {
   "cell_type": "code",
   "execution_count": 21,
   "metadata": {},
   "outputs": [],
   "source": [
    "warnings.filterwarnings('ignore')\n",
    "\n",
    "model_dtr = DecisionTreeRegressor(random_state=RANDOM_STATE)\n",
    "\n",
    "max_depth = range(1, 20)\n",
    "min_samples_split = range(1, 10)\n",
    "min_samples_leaf = range(1, 10)\n",
    "\n",
    "tscv = TimeSeriesSplit(n_splits=5)\n",
    "\n",
    "param_grid = dict(max_depth=max_depth, min_samples_split=min_samples_split, min_samples_leaf=min_samples_leaf)\n",
    "\n",
    "randomized_search_dtr = RandomizedSearchCV(\n",
    "    model_dtr,\n",
    "    param_grid,\n",
    "    cv=tscv,\n",
    "    scoring='neg_root_mean_squared_error',\n",
    "    random_state=RANDOM_STATE,\n",
    "    n_jobs=-1\n",
    ")"
   ]
  },
  {
   "cell_type": "code",
   "execution_count": 22,
   "metadata": {
    "scrolled": false
   },
   "outputs": [
    {
     "name": "stdout",
     "output_type": "stream",
     "text": [
      "Лучшая модель и её параметры:\n",
      "\n",
      " DecisionTreeRegressor(max_depth=6, min_samples_leaf=7, min_samples_split=8,\n",
      "                      random_state=42)\n",
      "Метрика лучшей модели на тренировочной выборке: 33.582825969924485\n"
     ]
    }
   ],
   "source": [
    "randomized_search_dtr.fit(X_train, y_train)\n",
    "\n",
    "print('Лучшая модель и её параметры:\\n\\n', randomized_search_dtr.best_estimator_)\n",
    "print('Метрика лучшей модели на тренировочной выборке:', -randomized_search_dtr.best_score_)"
   ]
  },
  {
   "cell_type": "markdown",
   "metadata": {},
   "source": [
    "### LGBMRegressor"
   ]
  },
  {
   "cell_type": "code",
   "execution_count": 23,
   "metadata": {},
   "outputs": [
    {
     "name": "stderr",
     "output_type": "stream",
     "text": [
      "[LightGBM] [Fatal] Check failed: (num_leaves) > (1) at /__w/1/s/python-package/compile/src/io/config_auto.cpp, line 334 .\n",
      "\n",
      "[LightGBM] [Fatal] Check failed: (num_leaves) > (1) at /__w/1/s/python-package/compile/src/io/config_auto.cpp, line 334 .\n",
      "\n",
      "[LightGBM] [Fatal] Check failed: (num_leaves) > (1) at /__w/1/s/python-package/compile/src/io/config_auto.cpp, line 334 .\n",
      "\n",
      "[LightGBM] [Fatal] Check failed: (num_leaves) > (1) at /__w/1/s/python-package/compile/src/io/config_auto.cpp, line 334 .\n",
      "\n",
      "[LightGBM] [Fatal] Check failed: (num_leaves) > (1) at /__w/1/s/python-package/compile/src/io/config_auto.cpp, line 334 .\n",
      "\n"
     ]
    },
    {
     "name": "stdout",
     "output_type": "stream",
     "text": [
      "Лучшая модель и её параметры:\n",
      "\n",
      " LGBMRegressor(max_depth=9, n_estimators=79, num_leaves=25, random_state=42)\n",
      "Метрика лучшей модели на тренировочной выборке: 28.174429829780923\n"
     ]
    }
   ],
   "source": [
    "model_lgbm = LGBMRegressor(random_state=RANDOM_STATE)\n",
    "\n",
    "num_leaves = range(1, 100, 2)\n",
    "max_depth = range(1, 20)\n",
    "n_estimators = range(1, 100, 2)\n",
    "\n",
    "param_grid = dict(num_leaves=num_leaves, max_depth=max_depth, n_estimators=n_estimators)\n",
    "\n",
    "randomized_search_lgbm = RandomizedSearchCV(\n",
    "    model_lgbm,\n",
    "    param_grid,\n",
    "    cv=tscv,\n",
    "    scoring='neg_root_mean_squared_error',\n",
    "    random_state=RANDOM_STATE,\n",
    "    n_jobs=-1\n",
    ")\n",
    "randomized_search_lgbm.fit(X_train, y_train)\n",
    "\n",
    "print('Лучшая модель и её параметры:\\n\\n', randomized_search_lgbm.best_estimator_)\n",
    "print('Метрика лучшей модели на тренировочной выборке:', -randomized_search_lgbm.best_score_)"
   ]
  },
  {
   "cell_type": "markdown",
   "metadata": {},
   "source": [
    "Выберу моедль LGBMRegressor-а с измененными гиперпараметрами, она показала хорошую метрику."
   ]
  },
  {
   "cell_type": "markdown",
   "metadata": {},
   "source": [
    "## Тестирование"
   ]
  },
  {
   "cell_type": "code",
   "execution_count": 24,
   "metadata": {},
   "outputs": [
    {
     "data": {
      "text/plain": [
       "47.27276166541239"
      ]
     },
     "execution_count": 24,
     "metadata": {},
     "output_type": "execute_result"
    }
   ],
   "source": [
    "best_model = randomized_search_lgbm.best_estimator_\n",
    "preds = best_model.predict(X_test)\n",
    "RMSE = (mse(y_test, preds))**0.5\n",
    "RMSE"
   ]
  },
  {
   "cell_type": "markdown",
   "metadata": {},
   "source": [
    "Метрика RMSE меньше 48, что удовлетворяет требованиям заказчика."
   ]
  }
 ],
 "metadata": {
  "ExecuteTimeLog": [
   {
    "duration": 9594,
    "start_time": "2024-06-06T14:39:21.093Z"
   },
   {
    "duration": 49,
    "start_time": "2024-06-06T15:20:31.506Z"
   },
   {
    "duration": 1580,
    "start_time": "2024-06-06T15:20:39.751Z"
   },
   {
    "duration": 4,
    "start_time": "2024-06-06T15:20:41.334Z"
   },
   {
    "duration": 18,
    "start_time": "2024-06-06T15:20:41.340Z"
   },
   {
    "duration": 105,
    "start_time": "2024-06-06T15:20:42.432Z"
   },
   {
    "duration": 103,
    "start_time": "2024-06-06T15:26:08.692Z"
   },
   {
    "duration": 56,
    "start_time": "2024-06-06T15:26:22.785Z"
   },
   {
    "duration": 56,
    "start_time": "2024-06-06T15:27:50.395Z"
   },
   {
    "duration": 71,
    "start_time": "2024-06-06T15:28:09.674Z"
   },
   {
    "duration": 63,
    "start_time": "2024-06-06T15:28:13.400Z"
   },
   {
    "duration": 53,
    "start_time": "2024-06-06T15:28:16.038Z"
   },
   {
    "duration": 51,
    "start_time": "2024-06-06T15:28:50.030Z"
   },
   {
    "duration": 12,
    "start_time": "2024-06-06T15:41:14.379Z"
   },
   {
    "duration": 53,
    "start_time": "2024-06-06T15:44:02.444Z"
   },
   {
    "duration": 19,
    "start_time": "2024-06-06T15:44:06.091Z"
   },
   {
    "duration": 54,
    "start_time": "2024-06-06T15:46:39.610Z"
   },
   {
    "duration": 66,
    "start_time": "2024-06-06T16:15:27.300Z"
   },
   {
    "duration": 57,
    "start_time": "2024-06-06T16:15:39.632Z"
   },
   {
    "duration": 697,
    "start_time": "2024-06-06T16:16:51.882Z"
   },
   {
    "duration": 12,
    "start_time": "2024-06-06T16:17:26.421Z"
   },
   {
    "duration": 56,
    "start_time": "2024-06-06T16:20:20.080Z"
   },
   {
    "duration": 229,
    "start_time": "2024-06-06T16:21:27.450Z"
   },
   {
    "duration": 211,
    "start_time": "2024-06-06T16:22:57.965Z"
   },
   {
    "duration": 5110,
    "start_time": "2024-06-06T16:23:09.141Z"
   },
   {
    "duration": 1413,
    "start_time": "2024-06-06T16:23:14.253Z"
   },
   {
    "duration": 5,
    "start_time": "2024-06-06T16:23:15.668Z"
   },
   {
    "duration": 10,
    "start_time": "2024-06-06T16:23:15.674Z"
   },
   {
    "duration": 66,
    "start_time": "2024-06-06T16:23:15.685Z"
   },
   {
    "duration": 653,
    "start_time": "2024-06-06T16:23:15.753Z"
   },
   {
    "duration": 14,
    "start_time": "2024-06-06T16:23:16.407Z"
   },
   {
    "duration": 221,
    "start_time": "2024-06-06T16:23:16.424Z"
   },
   {
    "duration": 6,
    "start_time": "2024-06-06T16:30:32.345Z"
   },
   {
    "duration": 5243,
    "start_time": "2024-06-06T16:30:45.207Z"
   },
   {
    "duration": 1339,
    "start_time": "2024-06-06T16:30:50.452Z"
   },
   {
    "duration": 5,
    "start_time": "2024-06-06T16:30:51.793Z"
   },
   {
    "duration": 19,
    "start_time": "2024-06-06T16:30:51.799Z"
   },
   {
    "duration": 67,
    "start_time": "2024-06-06T16:30:51.819Z"
   },
   {
    "duration": 9,
    "start_time": "2024-06-06T16:30:51.888Z"
   },
   {
    "duration": 42,
    "start_time": "2024-06-06T16:30:51.898Z"
   },
   {
    "duration": 9,
    "start_time": "2024-06-06T16:30:51.942Z"
   },
   {
    "duration": 11,
    "start_time": "2024-06-06T16:31:27.524Z"
   },
   {
    "duration": 5176,
    "start_time": "2024-06-06T16:31:46.319Z"
   },
   {
    "duration": 1289,
    "start_time": "2024-06-06T16:31:51.498Z"
   },
   {
    "duration": 5,
    "start_time": "2024-06-06T16:31:52.789Z"
   },
   {
    "duration": 48,
    "start_time": "2024-06-06T16:31:52.795Z"
   },
   {
    "duration": 74,
    "start_time": "2024-06-06T16:31:52.845Z"
   },
   {
    "duration": 7,
    "start_time": "2024-06-06T16:31:52.921Z"
   },
   {
    "duration": 46,
    "start_time": "2024-06-06T16:31:52.930Z"
   },
   {
    "duration": 45,
    "start_time": "2024-06-06T16:31:52.977Z"
   },
   {
    "duration": 44,
    "start_time": "2024-06-06T16:31:53.023Z"
   },
   {
    "duration": 5060,
    "start_time": "2024-06-06T16:32:31.018Z"
   },
   {
    "duration": 1322,
    "start_time": "2024-06-06T16:32:36.081Z"
   },
   {
    "duration": 5,
    "start_time": "2024-06-06T16:32:37.404Z"
   },
   {
    "duration": 8,
    "start_time": "2024-06-06T16:32:37.411Z"
   },
   {
    "duration": 66,
    "start_time": "2024-06-06T16:32:37.420Z"
   },
   {
    "duration": 9,
    "start_time": "2024-06-06T16:32:37.488Z"
   },
   {
    "duration": 18,
    "start_time": "2024-06-06T16:32:37.498Z"
   },
   {
    "duration": 28,
    "start_time": "2024-06-06T16:32:37.518Z"
   },
   {
    "duration": 8,
    "start_time": "2024-06-06T16:35:56.119Z"
   },
   {
    "duration": 2798,
    "start_time": "2024-06-06T17:16:29.247Z"
   },
   {
    "duration": 65,
    "start_time": "2024-06-06T17:16:32.048Z"
   },
   {
    "duration": 0,
    "start_time": "2024-06-06T17:16:32.115Z"
   },
   {
    "duration": 0,
    "start_time": "2024-06-06T17:16:32.117Z"
   },
   {
    "duration": 0,
    "start_time": "2024-06-06T17:16:32.118Z"
   },
   {
    "duration": 0,
    "start_time": "2024-06-06T17:16:32.119Z"
   },
   {
    "duration": 0,
    "start_time": "2024-06-06T17:16:32.121Z"
   },
   {
    "duration": 0,
    "start_time": "2024-06-06T17:16:32.122Z"
   },
   {
    "duration": 0,
    "start_time": "2024-06-06T17:16:32.123Z"
   },
   {
    "duration": 0,
    "start_time": "2024-06-06T17:16:32.124Z"
   },
   {
    "duration": 2794,
    "start_time": "2024-06-06T17:16:58.628Z"
   },
   {
    "duration": 1293,
    "start_time": "2024-06-06T17:17:01.424Z"
   },
   {
    "duration": 2,
    "start_time": "2024-06-06T17:17:02.719Z"
   },
   {
    "duration": 64,
    "start_time": "2024-06-06T17:17:02.724Z"
   },
   {
    "duration": 9,
    "start_time": "2024-06-06T17:17:02.789Z"
   },
   {
    "duration": 25,
    "start_time": "2024-06-06T17:17:02.799Z"
   },
   {
    "duration": 15,
    "start_time": "2024-06-06T17:17:02.825Z"
   },
   {
    "duration": 226,
    "start_time": "2024-06-06T17:17:02.842Z"
   },
   {
    "duration": 7,
    "start_time": "2024-06-06T17:17:03.069Z"
   },
   {
    "duration": 313,
    "start_time": "2024-06-06T17:17:03.078Z"
   },
   {
    "duration": 603,
    "start_time": "2024-06-06T17:17:53.502Z"
   },
   {
    "duration": 565,
    "start_time": "2024-06-06T17:18:27.466Z"
   },
   {
    "duration": 284,
    "start_time": "2024-06-06T17:19:33.170Z"
   },
   {
    "duration": 304,
    "start_time": "2024-06-06T17:19:57.712Z"
   },
   {
    "duration": 393,
    "start_time": "2024-06-06T17:34:02.646Z"
   },
   {
    "duration": 302,
    "start_time": "2024-06-06T17:34:11.568Z"
   },
   {
    "duration": 3,
    "start_time": "2024-06-06T17:44:40.688Z"
   },
   {
    "duration": 305,
    "start_time": "2024-06-06T17:45:08.298Z"
   },
   {
    "duration": 3,
    "start_time": "2024-06-06T17:52:03.200Z"
   },
   {
    "duration": 4,
    "start_time": "2024-06-06T19:35:26.229Z"
   },
   {
    "duration": 4,
    "start_time": "2024-06-06T19:35:37.033Z"
   },
   {
    "duration": 11,
    "start_time": "2024-06-06T19:38:15.247Z"
   },
   {
    "duration": 21,
    "start_time": "2024-06-06T19:38:19.797Z"
   },
   {
    "duration": 21,
    "start_time": "2024-06-06T19:42:54.266Z"
   },
   {
    "duration": 4,
    "start_time": "2024-06-06T19:43:05.332Z"
   },
   {
    "duration": 143,
    "start_time": "2024-06-06T19:44:23.399Z"
   },
   {
    "duration": 24,
    "start_time": "2024-06-06T19:44:59.272Z"
   },
   {
    "duration": 9,
    "start_time": "2024-06-06T19:52:15.852Z"
   },
   {
    "duration": 9,
    "start_time": "2024-06-06T19:52:24.346Z"
   },
   {
    "duration": 4,
    "start_time": "2024-06-06T19:53:03.958Z"
   },
   {
    "duration": 5,
    "start_time": "2024-06-06T19:53:09.225Z"
   },
   {
    "duration": 4,
    "start_time": "2024-06-06T19:53:58.304Z"
   },
   {
    "duration": 5,
    "start_time": "2024-06-06T19:54:05.550Z"
   },
   {
    "duration": 4,
    "start_time": "2024-06-06T19:54:17.594Z"
   },
   {
    "duration": 9,
    "start_time": "2024-06-06T19:58:28.677Z"
   },
   {
    "duration": 2880,
    "start_time": "2024-06-06T19:58:35.003Z"
   },
   {
    "duration": 1306,
    "start_time": "2024-06-06T19:58:37.885Z"
   },
   {
    "duration": 4,
    "start_time": "2024-06-06T19:58:39.192Z"
   },
   {
    "duration": 27,
    "start_time": "2024-06-06T19:58:39.198Z"
   },
   {
    "duration": 84,
    "start_time": "2024-06-06T19:58:39.227Z"
   },
   {
    "duration": 10,
    "start_time": "2024-06-06T19:58:39.312Z"
   },
   {
    "duration": 24,
    "start_time": "2024-06-06T19:58:39.323Z"
   },
   {
    "duration": 7,
    "start_time": "2024-06-06T19:58:39.349Z"
   },
   {
    "duration": 326,
    "start_time": "2024-06-06T19:58:39.358Z"
   },
   {
    "duration": 6,
    "start_time": "2024-06-06T19:58:39.687Z"
   },
   {
    "duration": 283,
    "start_time": "2024-06-06T19:58:39.694Z"
   },
   {
    "duration": 5,
    "start_time": "2024-06-06T19:58:39.978Z"
   },
   {
    "duration": 363,
    "start_time": "2024-06-06T19:58:39.984Z"
   },
   {
    "duration": 10,
    "start_time": "2024-06-06T19:58:40.349Z"
   },
   {
    "duration": 18,
    "start_time": "2024-06-06T19:58:40.360Z"
   },
   {
    "duration": 35,
    "start_time": "2024-06-06T19:58:40.379Z"
   },
   {
    "duration": 7,
    "start_time": "2024-06-06T19:58:40.415Z"
   },
   {
    "duration": 17,
    "start_time": "2024-06-06T19:58:40.423Z"
   },
   {
    "duration": 35,
    "start_time": "2024-06-06T19:58:40.441Z"
   },
   {
    "duration": 16,
    "start_time": "2024-06-06T20:00:04.319Z"
   },
   {
    "duration": 10,
    "start_time": "2024-06-06T20:01:14.346Z"
   },
   {
    "duration": 12,
    "start_time": "2024-06-06T20:01:59.976Z"
   },
   {
    "duration": 2845,
    "start_time": "2024-06-06T20:08:13.677Z"
   },
   {
    "duration": 1382,
    "start_time": "2024-06-06T20:08:16.524Z"
   },
   {
    "duration": 4,
    "start_time": "2024-06-06T20:08:17.907Z"
   },
   {
    "duration": 14,
    "start_time": "2024-06-06T20:08:17.912Z"
   },
   {
    "duration": 76,
    "start_time": "2024-06-06T20:08:17.927Z"
   },
   {
    "duration": 8,
    "start_time": "2024-06-06T20:08:18.005Z"
   },
   {
    "duration": 23,
    "start_time": "2024-06-06T20:08:18.015Z"
   },
   {
    "duration": 29,
    "start_time": "2024-06-06T20:08:18.039Z"
   },
   {
    "duration": 305,
    "start_time": "2024-06-06T20:08:18.097Z"
   },
   {
    "duration": 7,
    "start_time": "2024-06-06T20:08:19.009Z"
   },
   {
    "duration": 311,
    "start_time": "2024-06-06T20:08:20.137Z"
   },
   {
    "duration": 4,
    "start_time": "2024-06-06T20:08:21.929Z"
   },
   {
    "duration": 375,
    "start_time": "2024-06-06T20:08:22.697Z"
   },
   {
    "duration": 13,
    "start_time": "2024-06-06T20:08:31.577Z"
   },
   {
    "duration": 18,
    "start_time": "2024-06-06T20:08:35.038Z"
   },
   {
    "duration": 4,
    "start_time": "2024-06-06T20:08:38.718Z"
   },
   {
    "duration": 4,
    "start_time": "2024-06-06T20:08:40.258Z"
   },
   {
    "duration": 9,
    "start_time": "2024-06-06T20:08:41.017Z"
   },
   {
    "duration": 11,
    "start_time": "2024-06-06T20:08:46.576Z"
   },
   {
    "duration": 13,
    "start_time": "2024-06-06T20:08:47.789Z"
   },
   {
    "duration": 4,
    "start_time": "2024-06-06T20:08:53.797Z"
   },
   {
    "duration": 14,
    "start_time": "2024-06-06T20:08:59.617Z"
   },
   {
    "duration": 14,
    "start_time": "2024-06-06T20:10:00.637Z"
   },
   {
    "duration": 868,
    "start_time": "2024-06-06T20:12:16.157Z"
   },
   {
    "duration": 24510,
    "start_time": "2024-06-06T20:13:15.437Z"
   },
   {
    "duration": 9,
    "start_time": "2024-06-06T20:17:04.698Z"
   },
   {
    "duration": 2849,
    "start_time": "2024-06-06T20:17:42.528Z"
   },
   {
    "duration": 1273,
    "start_time": "2024-06-06T20:17:45.379Z"
   },
   {
    "duration": 4,
    "start_time": "2024-06-06T20:17:46.654Z"
   },
   {
    "duration": 11,
    "start_time": "2024-06-06T20:17:46.659Z"
   },
   {
    "duration": 63,
    "start_time": "2024-06-06T20:17:46.672Z"
   },
   {
    "duration": 9,
    "start_time": "2024-06-06T20:17:46.736Z"
   },
   {
    "duration": 25,
    "start_time": "2024-06-06T20:17:46.746Z"
   },
   {
    "duration": 26,
    "start_time": "2024-06-06T20:17:46.773Z"
   },
   {
    "duration": 323,
    "start_time": "2024-06-06T20:17:46.801Z"
   },
   {
    "duration": 6,
    "start_time": "2024-06-06T20:17:47.126Z"
   },
   {
    "duration": 320,
    "start_time": "2024-06-06T20:17:47.133Z"
   },
   {
    "duration": 3,
    "start_time": "2024-06-06T20:17:47.455Z"
   },
   {
    "duration": 422,
    "start_time": "2024-06-06T20:17:47.460Z"
   },
   {
    "duration": 10,
    "start_time": "2024-06-06T20:17:47.884Z"
   },
   {
    "duration": 16,
    "start_time": "2024-06-06T20:17:47.896Z"
   },
   {
    "duration": 3,
    "start_time": "2024-06-06T20:17:47.913Z"
   },
   {
    "duration": 95,
    "start_time": "2024-06-06T20:17:47.918Z"
   },
   {
    "duration": 11,
    "start_time": "2024-06-06T20:17:48.015Z"
   },
   {
    "duration": 25,
    "start_time": "2024-06-06T20:17:48.027Z"
   },
   {
    "duration": 987,
    "start_time": "2024-06-06T20:17:48.054Z"
   },
   {
    "duration": 27108,
    "start_time": "2024-06-06T20:17:49.042Z"
   },
   {
    "duration": 12,
    "start_time": "2024-06-06T20:18:16.151Z"
   },
   {
    "duration": 2944,
    "start_time": "2024-06-06T20:18:43.926Z"
   },
   {
    "duration": 1319,
    "start_time": "2024-06-06T20:18:46.873Z"
   },
   {
    "duration": 4,
    "start_time": "2024-06-06T20:18:48.194Z"
   },
   {
    "duration": 26,
    "start_time": "2024-06-06T20:18:48.199Z"
   },
   {
    "duration": 80,
    "start_time": "2024-06-06T20:18:48.227Z"
   },
   {
    "duration": 9,
    "start_time": "2024-06-06T20:18:48.309Z"
   },
   {
    "duration": 39,
    "start_time": "2024-06-06T20:18:48.320Z"
   },
   {
    "duration": 11,
    "start_time": "2024-06-06T20:18:48.361Z"
   },
   {
    "duration": 332,
    "start_time": "2024-06-06T20:18:48.373Z"
   },
   {
    "duration": 8,
    "start_time": "2024-06-06T20:18:48.707Z"
   },
   {
    "duration": 311,
    "start_time": "2024-06-06T20:18:48.717Z"
   },
   {
    "duration": 3,
    "start_time": "2024-06-06T20:18:49.030Z"
   },
   {
    "duration": 373,
    "start_time": "2024-06-06T20:18:49.034Z"
   },
   {
    "duration": 11,
    "start_time": "2024-06-06T20:18:49.409Z"
   },
   {
    "duration": 32,
    "start_time": "2024-06-06T20:18:49.422Z"
   },
   {
    "duration": 5,
    "start_time": "2024-06-06T20:18:49.455Z"
   },
   {
    "duration": 15,
    "start_time": "2024-06-06T20:18:49.462Z"
   },
   {
    "duration": 12,
    "start_time": "2024-06-06T20:18:49.479Z"
   },
   {
    "duration": 18,
    "start_time": "2024-06-06T20:18:49.493Z"
   },
   {
    "duration": 1189,
    "start_time": "2024-06-06T20:18:49.513Z"
   },
   {
    "duration": 27344,
    "start_time": "2024-06-06T20:18:50.703Z"
   },
   {
    "duration": 10,
    "start_time": "2024-06-06T20:19:18.048Z"
   },
   {
    "duration": 41077,
    "start_time": "2024-06-06T20:19:48.578Z"
   },
   {
    "duration": 9,
    "start_time": "2024-06-06T20:20:33.098Z"
   },
   {
    "duration": 10,
    "start_time": "2024-06-06T20:21:13.018Z"
   },
   {
    "duration": 21,
    "start_time": "2024-06-06T20:21:13.958Z"
   },
   {
    "duration": 5,
    "start_time": "2024-06-06T20:21:19.206Z"
   },
   {
    "duration": 5,
    "start_time": "2024-06-06T20:21:35.857Z"
   },
   {
    "duration": 12,
    "start_time": "2024-06-06T20:21:36.258Z"
   },
   {
    "duration": 19,
    "start_time": "2024-06-06T20:21:36.626Z"
   },
   {
    "duration": 1174,
    "start_time": "2024-06-06T20:21:37.686Z"
   },
   {
    "duration": 45197,
    "start_time": "2024-06-06T20:21:40.858Z"
   },
   {
    "duration": 7,
    "start_time": "2024-06-06T20:23:00.278Z"
   },
   {
    "duration": 21,
    "start_time": "2024-06-06T20:23:00.760Z"
   },
   {
    "duration": 4,
    "start_time": "2024-06-06T20:23:00.977Z"
   },
   {
    "duration": 4,
    "start_time": "2024-06-06T20:23:01.280Z"
   },
   {
    "duration": 11,
    "start_time": "2024-06-06T20:23:01.519Z"
   },
   {
    "duration": 18,
    "start_time": "2024-06-06T20:23:01.770Z"
   },
   {
    "duration": 1164,
    "start_time": "2024-06-06T20:23:05.015Z"
   },
   {
    "duration": 39289,
    "start_time": "2024-06-06T20:23:09.359Z"
   },
   {
    "duration": 12,
    "start_time": "2024-06-06T20:24:05.580Z"
   },
   {
    "duration": 26,
    "start_time": "2024-06-06T20:24:06.291Z"
   },
   {
    "duration": 4,
    "start_time": "2024-06-06T20:24:06.630Z"
   },
   {
    "duration": 4,
    "start_time": "2024-06-06T20:24:19.299Z"
   },
   {
    "duration": 12,
    "start_time": "2024-06-06T20:24:20.167Z"
   },
   {
    "duration": 25,
    "start_time": "2024-06-06T20:24:21.038Z"
   },
   {
    "duration": 2063,
    "start_time": "2024-06-06T20:24:23.979Z"
   },
   {
    "duration": 48872,
    "start_time": "2024-06-06T20:24:28.979Z"
   },
   {
    "duration": 16,
    "start_time": "2024-06-06T20:25:24.359Z"
   },
   {
    "duration": 61172,
    "start_time": "2024-06-06T20:25:38.678Z"
   },
   {
    "duration": 11,
    "start_time": "2024-06-06T20:26:49.818Z"
   },
   {
    "duration": 2819,
    "start_time": "2024-06-06T20:28:08.330Z"
   },
   {
    "duration": 1361,
    "start_time": "2024-06-06T20:28:11.152Z"
   },
   {
    "duration": 5,
    "start_time": "2024-06-06T20:28:12.515Z"
   },
   {
    "duration": 3,
    "start_time": "2024-06-06T20:28:12.522Z"
   },
   {
    "duration": 63,
    "start_time": "2024-06-06T20:28:12.527Z"
   },
   {
    "duration": 10,
    "start_time": "2024-06-06T20:28:12.592Z"
   },
   {
    "duration": 45,
    "start_time": "2024-06-06T20:28:12.603Z"
   },
   {
    "duration": 11,
    "start_time": "2024-06-06T20:28:12.649Z"
   },
   {
    "duration": 319,
    "start_time": "2024-06-06T20:28:12.662Z"
   },
   {
    "duration": 8,
    "start_time": "2024-06-06T20:28:12.983Z"
   },
   {
    "duration": 298,
    "start_time": "2024-06-06T20:28:12.992Z"
   },
   {
    "duration": 4,
    "start_time": "2024-06-06T20:28:13.291Z"
   },
   {
    "duration": 373,
    "start_time": "2024-06-06T20:28:13.296Z"
   },
   {
    "duration": 18,
    "start_time": "2024-06-06T20:28:13.671Z"
   },
   {
    "duration": 27,
    "start_time": "2024-06-06T20:28:13.690Z"
   },
   {
    "duration": 27,
    "start_time": "2024-06-06T20:28:13.719Z"
   },
   {
    "duration": 5,
    "start_time": "2024-06-06T20:28:13.747Z"
   },
   {
    "duration": 13,
    "start_time": "2024-06-06T20:28:13.753Z"
   },
   {
    "duration": 31,
    "start_time": "2024-06-06T20:28:13.767Z"
   },
   {
    "duration": 2081,
    "start_time": "2024-06-06T20:28:13.800Z"
   },
   {
    "duration": 60977,
    "start_time": "2024-06-06T20:28:15.883Z"
   },
   {
    "duration": 88,
    "start_time": "2024-06-06T20:29:16.861Z"
   },
   {
    "duration": 1902,
    "start_time": "2024-06-06T21:37:34.629Z"
   },
   {
    "duration": 2863,
    "start_time": "2024-06-06T21:37:41.994Z"
   },
   {
    "duration": 4,
    "start_time": "2024-06-06T21:37:44.860Z"
   },
   {
    "duration": 8,
    "start_time": "2024-06-06T21:37:44.866Z"
   },
   {
    "duration": 3,
    "start_time": "2024-06-06T21:37:47.639Z"
   },
   {
    "duration": 61,
    "start_time": "2024-06-06T21:37:50.182Z"
   },
   {
    "duration": 9,
    "start_time": "2024-06-06T21:37:54.526Z"
   },
   {
    "duration": 12,
    "start_time": "2024-06-06T21:37:56.331Z"
   },
   {
    "duration": 8,
    "start_time": "2024-06-06T21:37:57.506Z"
   },
   {
    "duration": 1840,
    "start_time": "2024-06-06T21:37:59.180Z"
   },
   {
    "duration": 342,
    "start_time": "2024-06-06T21:41:36.560Z"
   },
   {
    "duration": 432,
    "start_time": "2024-06-06T21:42:18.293Z"
   },
   {
    "duration": 324,
    "start_time": "2024-06-06T21:42:31.421Z"
   },
   {
    "duration": 341,
    "start_time": "2024-06-06T21:42:49.317Z"
   },
   {
    "duration": 170,
    "start_time": "2024-06-06T21:48:55.816Z"
   },
   {
    "duration": 434,
    "start_time": "2024-06-06T21:55:43.667Z"
   },
   {
    "duration": 336,
    "start_time": "2024-06-06T21:56:16.612Z"
   },
   {
    "duration": 2974,
    "start_time": "2024-06-06T22:13:39.526Z"
   },
   {
    "duration": 1448,
    "start_time": "2024-06-06T22:13:42.502Z"
   },
   {
    "duration": 4,
    "start_time": "2024-06-06T22:13:43.952Z"
   },
   {
    "duration": 34,
    "start_time": "2024-06-06T22:13:43.958Z"
   },
   {
    "duration": 86,
    "start_time": "2024-06-06T22:13:43.994Z"
   },
   {
    "duration": 10,
    "start_time": "2024-06-06T22:13:44.082Z"
   },
   {
    "duration": 36,
    "start_time": "2024-06-06T22:13:44.093Z"
   },
   {
    "duration": 30,
    "start_time": "2024-06-06T22:13:44.130Z"
   },
   {
    "duration": 398,
    "start_time": "2024-06-06T22:13:44.162Z"
   },
   {
    "duration": 8,
    "start_time": "2024-06-06T22:13:44.562Z"
   },
   {
    "duration": 327,
    "start_time": "2024-06-06T22:13:44.571Z"
   },
   {
    "duration": 271,
    "start_time": "2024-06-06T22:13:44.900Z"
   },
   {
    "duration": 3,
    "start_time": "2024-06-06T22:13:45.173Z"
   },
   {
    "duration": 21,
    "start_time": "2024-06-06T22:13:45.178Z"
   },
   {
    "duration": 56,
    "start_time": "2024-06-06T22:13:45.201Z"
   },
   {
    "duration": 32,
    "start_time": "2024-06-06T22:13:45.259Z"
   },
   {
    "duration": 6,
    "start_time": "2024-06-06T22:13:45.293Z"
   },
   {
    "duration": 18,
    "start_time": "2024-06-06T22:13:45.301Z"
   },
   {
    "duration": 36,
    "start_time": "2024-06-06T22:13:45.321Z"
   },
   {
    "duration": 57,
    "start_time": "2024-06-06T22:13:45.359Z"
   },
   {
    "duration": 13,
    "start_time": "2024-06-06T22:13:45.418Z"
   },
   {
    "duration": 1392,
    "start_time": "2024-06-06T22:13:45.433Z"
   },
   {
    "duration": 2892,
    "start_time": "2024-06-06T22:22:51.281Z"
   },
   {
    "duration": 1340,
    "start_time": "2024-06-06T22:22:54.175Z"
   },
   {
    "duration": 4,
    "start_time": "2024-06-06T22:22:55.517Z"
   },
   {
    "duration": 5,
    "start_time": "2024-06-06T22:22:55.523Z"
   },
   {
    "duration": 64,
    "start_time": "2024-06-06T22:22:55.529Z"
   },
   {
    "duration": 8,
    "start_time": "2024-06-06T22:22:55.594Z"
   },
   {
    "duration": 11,
    "start_time": "2024-06-06T22:22:55.604Z"
   },
   {
    "duration": 8,
    "start_time": "2024-06-06T22:22:55.617Z"
   },
   {
    "duration": 376,
    "start_time": "2024-06-06T22:22:55.644Z"
   },
   {
    "duration": 9,
    "start_time": "2024-06-06T22:22:56.023Z"
   },
   {
    "duration": 316,
    "start_time": "2024-06-06T22:22:56.033Z"
   },
   {
    "duration": 271,
    "start_time": "2024-06-06T22:22:56.351Z"
   },
   {
    "duration": 3,
    "start_time": "2024-06-06T22:22:56.624Z"
   },
   {
    "duration": 28,
    "start_time": "2024-06-06T22:22:56.628Z"
   },
   {
    "duration": 20,
    "start_time": "2024-06-06T22:22:56.658Z"
   },
   {
    "duration": 31,
    "start_time": "2024-06-06T22:22:56.679Z"
   },
   {
    "duration": 4,
    "start_time": "2024-06-06T22:22:56.712Z"
   },
   {
    "duration": 7,
    "start_time": "2024-06-06T22:22:56.717Z"
   },
   {
    "duration": 20,
    "start_time": "2024-06-06T22:22:56.725Z"
   },
   {
    "duration": 22,
    "start_time": "2024-06-06T22:22:56.746Z"
   },
   {
    "duration": 16,
    "start_time": "2024-06-06T22:22:56.769Z"
   },
   {
    "duration": 1426,
    "start_time": "2024-06-06T22:22:56.786Z"
   },
   {
    "duration": 42538,
    "start_time": "2024-06-06T22:22:58.214Z"
   },
   {
    "duration": 96,
    "start_time": "2024-06-06T22:23:40.753Z"
   }
  ],
  "kernelspec": {
   "display_name": "Python 3 (ipykernel)",
   "language": "python",
   "name": "python3"
  },
  "language_info": {
   "codemirror_mode": {
    "name": "ipython",
    "version": 3
   },
   "file_extension": ".py",
   "mimetype": "text/x-python",
   "name": "python",
   "nbconvert_exporter": "python",
   "pygments_lexer": "ipython3",
   "version": "3.9.5"
  },
  "toc": {
   "base_numbering": 1,
   "nav_menu": {},
   "number_sections": true,
   "sideBar": true,
   "skip_h1_title": true,
   "title_cell": "Содержание",
   "title_sidebar": "Contents",
   "toc_cell": true,
   "toc_position": {
    "height": "calc(100% - 180px)",
    "left": "10px",
    "top": "150px",
    "width": "342px"
   },
   "toc_section_display": true,
   "toc_window_display": true
  }
 },
 "nbformat": 4,
 "nbformat_minor": 2
}
