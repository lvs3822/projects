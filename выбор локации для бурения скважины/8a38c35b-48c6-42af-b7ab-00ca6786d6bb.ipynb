{
 "cells": [
  {
   "cell_type": "markdown",
   "metadata": {},
   "source": [
    "# Выбор локации для скважины"
   ]
  },
  {
   "cell_type": "markdown",
   "metadata": {},
   "source": [
    "Добывающей компании нужно решить, где бурить новую скважину.\n",
    "\n",
    "Предоставлены пробы нефти в трёх регионах: в каждом 10 000 месторождений, где измерили качество нефти и объём её запасов. Построить модель машинного обучения, которая поможет определить регион, где добыча принесёт наибольшую прибыль. Проанализировать возможную прибыль и риски техникой *Bootstrap.*\n",
    "\n",
    "Шаги для выбора локации:\n",
    "\n",
    "- В избранном регионе ищут месторождения, для каждого определяют значения признаков;\n",
    "- Строят модель и оценивают объём запасов;\n",
    "- Выбирают месторождения с самым высокими оценками значений. Количество месторождений зависит от бюджета компании и стоимости разработки одной скважины;\n",
    "- Прибыль равна суммарной прибыли отобранных месторождений."
   ]
  },
  {
   "cell_type": "markdown",
   "metadata": {},
   "source": [
    "## Загрузка и подготовка данных"
   ]
  },
  {
   "cell_type": "code",
   "execution_count": 1,
   "metadata": {},
   "outputs": [],
   "source": [
    "import pandas as pd\n",
    "import numpy as np\n",
    "import math\n",
    "import scipy.stats as st\n",
    "import matplotlib.pyplot as plt\n",
    "import seaborn as sns\n",
    "import warnings\n",
    " \n",
    "from sklearn.model_selection import train_test_split\n",
    "from sklearn.preprocessing import OneHotEncoder, OrdinalEncoder\n",
    "from sklearn.preprocessing import StandardScaler, MinMaxScaler\n",
    "from sklearn.impute import SimpleImputer\n",
    "from sklearn.linear_model import LinearRegression\n",
    "from sklearn.metrics import mean_squared_error as mse"
   ]
  },
  {
   "cell_type": "code",
   "execution_count": 2,
   "metadata": {},
   "outputs": [],
   "source": [
    "#ячейка для функций\n",
    "def revenue(pred, y_valid, k, income, cost):\n",
    "    _ = pred.sort_values(ascending=False)[:k]\n",
    "    __ = y_valid[_.index]\n",
    "    return __.sum() * income - cost\n",
    "\n",
    "def rev_risk(pred, y_valid):\n",
    "    revs = []\n",
    "    for i in range(1000):\n",
    "        product_subsample = pred.sample(n=N, replace=True, random_state=RANDOM_STATE) # replace=False,\n",
    "                                                                    # так как нельзя исследовать одну скважину дважды\n",
    "        rev = revenue(product_subsample, y_valid[product_subsample.index], K, INCOME, COST)\n",
    "        revs.append(rev)\n",
    "\n",
    "    revs = pd.Series(revs)\n",
    "    lower = revs.quantile(0.025)\n",
    "    higher = revs.quantile(0.975)\n",
    "\n",
    "    display('Средняя прибыль в регионе в млн рублей:', revs.mean())\n",
    "    display('95% доверительный интервал:', (lower, higher))\n",
    "    display('Процент возможных убытков в регионе:', (revs < 0).mean() * 100)\n",
    "    \n",
    "def mod(df):\n",
    "    X = df.drop(['id', 'product'], axis=1)\n",
    "    y = df['product']\n",
    "    X_train, X_valid, y_train, y_valid = train_test_split(\n",
    "    X,\n",
    "    y,\n",
    "    test_size = TEST_SIZE, \n",
    "    random_state = RANDOM_STATE)\n",
    "    # данные хорошие: их не надо кодить, применять скалер и заполнять пропуски, только обучить модель\n",
    "    model = LinearRegression()\n",
    "    model.fit(X_train, y_train)\n",
    "    pred = model.predict(X_valid)\n",
    "    display('Средние предсказанные запасы сырья в регионе:', pred.mean())\n",
    "    display('RMSE модели:', math.sqrt(mse(y_valid, pred)))\n",
    "    pred = pd.Series(pred, name='pred')\n",
    "    y_valid = y_valid.reset_index(drop=True) # сбросил индекс, так как в конечном итоге важно выбрать регион, а не\n",
    "                                             # конкретные скважины\n",
    "    return pred, y_valid\n",
    "\n",
    "def graf(df):\n",
    "    plt.rcParams['figure.figsize'] = [15, 4]\n",
    "    sns.set(style='whitegrid')\n",
    "    plt.subplot(1, 2, 1)\n",
    "    sns.histplot(data = df, x = df['product'], kde=True, bins=10)\n",
    "    plt.subplot(1, 2, 2)\n",
    "    sns.boxplot(data = df, x = df['product'], palette='pastel')\n",
    "    plt.show()"
   ]
  },
  {
   "cell_type": "code",
   "execution_count": 3,
   "metadata": {},
   "outputs": [],
   "source": [
    "#ячейка для объявления констант\n",
    "RANDOM_STATE = np.random.RandomState(12345)\n",
    "TEST_SIZE = 0.25\n",
    "\n",
    "COST = 10 * 10**3 # затраты в млн рублей\n",
    "INCOME = 0.45     # доход с единицы продукты в млн рублей\n",
    "N = 500           # кол-во скважин для исследования\n",
    "K = 200           # кол-во скважин для разработки"
   ]
  },
  {
   "cell_type": "code",
   "execution_count": 4,
   "metadata": {},
   "outputs": [
    {
     "data": {
      "text/html": [
       "<div>\n",
       "<style scoped>\n",
       "    .dataframe tbody tr th:only-of-type {\n",
       "        vertical-align: middle;\n",
       "    }\n",
       "\n",
       "    .dataframe tbody tr th {\n",
       "        vertical-align: top;\n",
       "    }\n",
       "\n",
       "    .dataframe thead th {\n",
       "        text-align: right;\n",
       "    }\n",
       "</style>\n",
       "<table border=\"1\" class=\"dataframe\">\n",
       "  <thead>\n",
       "    <tr style=\"text-align: right;\">\n",
       "      <th></th>\n",
       "      <th>id</th>\n",
       "      <th>f0</th>\n",
       "      <th>f1</th>\n",
       "      <th>f2</th>\n",
       "      <th>product</th>\n",
       "    </tr>\n",
       "  </thead>\n",
       "  <tbody>\n",
       "    <tr>\n",
       "      <th>0</th>\n",
       "      <td>txEyH</td>\n",
       "      <td>0.705745</td>\n",
       "      <td>-0.497823</td>\n",
       "      <td>1.221170</td>\n",
       "      <td>105.280062</td>\n",
       "    </tr>\n",
       "    <tr>\n",
       "      <th>1</th>\n",
       "      <td>2acmU</td>\n",
       "      <td>1.334711</td>\n",
       "      <td>-0.340164</td>\n",
       "      <td>4.365080</td>\n",
       "      <td>73.037750</td>\n",
       "    </tr>\n",
       "    <tr>\n",
       "      <th>2</th>\n",
       "      <td>409Wp</td>\n",
       "      <td>1.022732</td>\n",
       "      <td>0.151990</td>\n",
       "      <td>1.419926</td>\n",
       "      <td>85.265647</td>\n",
       "    </tr>\n",
       "    <tr>\n",
       "      <th>3</th>\n",
       "      <td>iJLyR</td>\n",
       "      <td>-0.032172</td>\n",
       "      <td>0.139033</td>\n",
       "      <td>2.978566</td>\n",
       "      <td>168.620776</td>\n",
       "    </tr>\n",
       "    <tr>\n",
       "      <th>4</th>\n",
       "      <td>Xdl7t</td>\n",
       "      <td>1.988431</td>\n",
       "      <td>0.155413</td>\n",
       "      <td>4.751769</td>\n",
       "      <td>154.036647</td>\n",
       "    </tr>\n",
       "  </tbody>\n",
       "</table>\n",
       "</div>"
      ],
      "text/plain": [
       "      id        f0        f1        f2     product\n",
       "0  txEyH  0.705745 -0.497823  1.221170  105.280062\n",
       "1  2acmU  1.334711 -0.340164  4.365080   73.037750\n",
       "2  409Wp  1.022732  0.151990  1.419926   85.265647\n",
       "3  iJLyR -0.032172  0.139033  2.978566  168.620776\n",
       "4  Xdl7t  1.988431  0.155413  4.751769  154.036647"
      ]
     },
     "metadata": {},
     "output_type": "display_data"
    },
    {
     "name": "stdout",
     "output_type": "stream",
     "text": [
      "<class 'pandas.core.frame.DataFrame'>\n",
      "RangeIndex: 100000 entries, 0 to 99999\n",
      "Data columns (total 5 columns):\n",
      " #   Column   Non-Null Count   Dtype  \n",
      "---  ------   --------------   -----  \n",
      " 0   id       100000 non-null  object \n",
      " 1   f0       100000 non-null  float64\n",
      " 2   f1       100000 non-null  float64\n",
      " 3   f2       100000 non-null  float64\n",
      " 4   product  100000 non-null  float64\n",
      "dtypes: float64(4), object(1)\n",
      "memory usage: 3.8+ MB\n"
     ]
    }
   ],
   "source": [
    "df1 = pd.read_csv('/datasets/geo_data_0.csv')\n",
    "display(df1.head())\n",
    "df1.info()"
   ]
  },
  {
   "cell_type": "code",
   "execution_count": 5,
   "metadata": {},
   "outputs": [
    {
     "data": {
      "text/html": [
       "<div>\n",
       "<style scoped>\n",
       "    .dataframe tbody tr th:only-of-type {\n",
       "        vertical-align: middle;\n",
       "    }\n",
       "\n",
       "    .dataframe tbody tr th {\n",
       "        vertical-align: top;\n",
       "    }\n",
       "\n",
       "    .dataframe thead th {\n",
       "        text-align: right;\n",
       "    }\n",
       "</style>\n",
       "<table border=\"1\" class=\"dataframe\">\n",
       "  <thead>\n",
       "    <tr style=\"text-align: right;\">\n",
       "      <th></th>\n",
       "      <th>id</th>\n",
       "      <th>f0</th>\n",
       "      <th>f1</th>\n",
       "      <th>f2</th>\n",
       "      <th>product</th>\n",
       "    </tr>\n",
       "  </thead>\n",
       "  <tbody>\n",
       "    <tr>\n",
       "      <th>0</th>\n",
       "      <td>kBEdx</td>\n",
       "      <td>-15.001348</td>\n",
       "      <td>-8.276000</td>\n",
       "      <td>-0.005876</td>\n",
       "      <td>3.179103</td>\n",
       "    </tr>\n",
       "    <tr>\n",
       "      <th>1</th>\n",
       "      <td>62mP7</td>\n",
       "      <td>14.272088</td>\n",
       "      <td>-3.475083</td>\n",
       "      <td>0.999183</td>\n",
       "      <td>26.953261</td>\n",
       "    </tr>\n",
       "    <tr>\n",
       "      <th>2</th>\n",
       "      <td>vyE1P</td>\n",
       "      <td>6.263187</td>\n",
       "      <td>-5.948386</td>\n",
       "      <td>5.001160</td>\n",
       "      <td>134.766305</td>\n",
       "    </tr>\n",
       "    <tr>\n",
       "      <th>3</th>\n",
       "      <td>KcrkZ</td>\n",
       "      <td>-13.081196</td>\n",
       "      <td>-11.506057</td>\n",
       "      <td>4.999415</td>\n",
       "      <td>137.945408</td>\n",
       "    </tr>\n",
       "    <tr>\n",
       "      <th>4</th>\n",
       "      <td>AHL4O</td>\n",
       "      <td>12.702195</td>\n",
       "      <td>-8.147433</td>\n",
       "      <td>5.004363</td>\n",
       "      <td>134.766305</td>\n",
       "    </tr>\n",
       "  </tbody>\n",
       "</table>\n",
       "</div>"
      ],
      "text/plain": [
       "      id         f0         f1        f2     product\n",
       "0  kBEdx -15.001348  -8.276000 -0.005876    3.179103\n",
       "1  62mP7  14.272088  -3.475083  0.999183   26.953261\n",
       "2  vyE1P   6.263187  -5.948386  5.001160  134.766305\n",
       "3  KcrkZ -13.081196 -11.506057  4.999415  137.945408\n",
       "4  AHL4O  12.702195  -8.147433  5.004363  134.766305"
      ]
     },
     "metadata": {},
     "output_type": "display_data"
    },
    {
     "name": "stdout",
     "output_type": "stream",
     "text": [
      "<class 'pandas.core.frame.DataFrame'>\n",
      "RangeIndex: 100000 entries, 0 to 99999\n",
      "Data columns (total 5 columns):\n",
      " #   Column   Non-Null Count   Dtype  \n",
      "---  ------   --------------   -----  \n",
      " 0   id       100000 non-null  object \n",
      " 1   f0       100000 non-null  float64\n",
      " 2   f1       100000 non-null  float64\n",
      " 3   f2       100000 non-null  float64\n",
      " 4   product  100000 non-null  float64\n",
      "dtypes: float64(4), object(1)\n",
      "memory usage: 3.8+ MB\n"
     ]
    }
   ],
   "source": [
    "df2 = pd.read_csv('/datasets/geo_data_1.csv')\n",
    "display(df2.head())\n",
    "df2.info()"
   ]
  },
  {
   "cell_type": "code",
   "execution_count": 6,
   "metadata": {},
   "outputs": [
    {
     "data": {
      "text/html": [
       "<div>\n",
       "<style scoped>\n",
       "    .dataframe tbody tr th:only-of-type {\n",
       "        vertical-align: middle;\n",
       "    }\n",
       "\n",
       "    .dataframe tbody tr th {\n",
       "        vertical-align: top;\n",
       "    }\n",
       "\n",
       "    .dataframe thead th {\n",
       "        text-align: right;\n",
       "    }\n",
       "</style>\n",
       "<table border=\"1\" class=\"dataframe\">\n",
       "  <thead>\n",
       "    <tr style=\"text-align: right;\">\n",
       "      <th></th>\n",
       "      <th>id</th>\n",
       "      <th>f0</th>\n",
       "      <th>f1</th>\n",
       "      <th>f2</th>\n",
       "      <th>product</th>\n",
       "    </tr>\n",
       "  </thead>\n",
       "  <tbody>\n",
       "    <tr>\n",
       "      <th>0</th>\n",
       "      <td>fwXo0</td>\n",
       "      <td>-1.146987</td>\n",
       "      <td>0.963328</td>\n",
       "      <td>-0.828965</td>\n",
       "      <td>27.758673</td>\n",
       "    </tr>\n",
       "    <tr>\n",
       "      <th>1</th>\n",
       "      <td>WJtFt</td>\n",
       "      <td>0.262778</td>\n",
       "      <td>0.269839</td>\n",
       "      <td>-2.530187</td>\n",
       "      <td>56.069697</td>\n",
       "    </tr>\n",
       "    <tr>\n",
       "      <th>2</th>\n",
       "      <td>ovLUW</td>\n",
       "      <td>0.194587</td>\n",
       "      <td>0.289035</td>\n",
       "      <td>-5.586433</td>\n",
       "      <td>62.871910</td>\n",
       "    </tr>\n",
       "    <tr>\n",
       "      <th>3</th>\n",
       "      <td>q6cA6</td>\n",
       "      <td>2.236060</td>\n",
       "      <td>-0.553760</td>\n",
       "      <td>0.930038</td>\n",
       "      <td>114.572842</td>\n",
       "    </tr>\n",
       "    <tr>\n",
       "      <th>4</th>\n",
       "      <td>WPMUX</td>\n",
       "      <td>-0.515993</td>\n",
       "      <td>1.716266</td>\n",
       "      <td>5.899011</td>\n",
       "      <td>149.600746</td>\n",
       "    </tr>\n",
       "  </tbody>\n",
       "</table>\n",
       "</div>"
      ],
      "text/plain": [
       "      id        f0        f1        f2     product\n",
       "0  fwXo0 -1.146987  0.963328 -0.828965   27.758673\n",
       "1  WJtFt  0.262778  0.269839 -2.530187   56.069697\n",
       "2  ovLUW  0.194587  0.289035 -5.586433   62.871910\n",
       "3  q6cA6  2.236060 -0.553760  0.930038  114.572842\n",
       "4  WPMUX -0.515993  1.716266  5.899011  149.600746"
      ]
     },
     "metadata": {},
     "output_type": "display_data"
    },
    {
     "name": "stdout",
     "output_type": "stream",
     "text": [
      "<class 'pandas.core.frame.DataFrame'>\n",
      "RangeIndex: 100000 entries, 0 to 99999\n",
      "Data columns (total 5 columns):\n",
      " #   Column   Non-Null Count   Dtype  \n",
      "---  ------   --------------   -----  \n",
      " 0   id       100000 non-null  object \n",
      " 1   f0       100000 non-null  float64\n",
      " 2   f1       100000 non-null  float64\n",
      " 3   f2       100000 non-null  float64\n",
      " 4   product  100000 non-null  float64\n",
      "dtypes: float64(4), object(1)\n",
      "memory usage: 3.8+ MB\n"
     ]
    }
   ],
   "source": [
    "df3 = pd.read_csv('/datasets/geo_data_2.csv')\n",
    "display(df3.head())\n",
    "df3.info()"
   ]
  },
  {
   "cell_type": "markdown",
   "metadata": {},
   "source": [
    "Все датасеты загружены верно. В них нет пропусков, типы данных в колонках тоже верные. Надо проверить на дубликаты. В этих датасетах могут быть только явные дубликаты. Неявных быть не может, так как в _id_ различаются заглавные и строчные буквы."
   ]
  },
  {
   "cell_type": "code",
   "execution_count": 7,
   "metadata": {
    "scrolled": false
   },
   "outputs": [
    {
     "name": "stdout",
     "output_type": "stream",
     "text": [
      "<class 'pandas.core.frame.DataFrame'>\n",
      "Int64Index: 100000 entries, 0 to 99999\n",
      "Data columns (total 5 columns):\n",
      " #   Column   Non-Null Count   Dtype  \n",
      "---  ------   --------------   -----  \n",
      " 0   id       100000 non-null  object \n",
      " 1   f0       100000 non-null  float64\n",
      " 2   f1       100000 non-null  float64\n",
      " 3   f2       100000 non-null  float64\n",
      " 4   product  100000 non-null  float64\n",
      "dtypes: float64(4), object(1)\n",
      "memory usage: 4.6+ MB\n",
      "\n",
      "<class 'pandas.core.frame.DataFrame'>\n",
      "Int64Index: 100000 entries, 0 to 99999\n",
      "Data columns (total 5 columns):\n",
      " #   Column   Non-Null Count   Dtype  \n",
      "---  ------   --------------   -----  \n",
      " 0   id       100000 non-null  object \n",
      " 1   f0       100000 non-null  float64\n",
      " 2   f1       100000 non-null  float64\n",
      " 3   f2       100000 non-null  float64\n",
      " 4   product  100000 non-null  float64\n",
      "dtypes: float64(4), object(1)\n",
      "memory usage: 4.6+ MB\n",
      "\n",
      "<class 'pandas.core.frame.DataFrame'>\n",
      "Int64Index: 100000 entries, 0 to 99999\n",
      "Data columns (total 5 columns):\n",
      " #   Column   Non-Null Count   Dtype  \n",
      "---  ------   --------------   -----  \n",
      " 0   id       100000 non-null  object \n",
      " 1   f0       100000 non-null  float64\n",
      " 2   f1       100000 non-null  float64\n",
      " 3   f2       100000 non-null  float64\n",
      " 4   product  100000 non-null  float64\n",
      "dtypes: float64(4), object(1)\n",
      "memory usage: 4.6+ MB\n"
     ]
    }
   ],
   "source": [
    "df1 = df1.drop_duplicates()\n",
    "df2 = df2.drop_duplicates()\n",
    "df3 = df3.drop_duplicates()\n",
    "df1.info()\n",
    "print()\n",
    "df2.info()\n",
    "print()\n",
    "df3.info()"
   ]
  },
  {
   "cell_type": "markdown",
   "metadata": {},
   "source": [
    "Полных дубликатов нет. Но нужно еще посмотреть дубликаты по _id_."
   ]
  },
  {
   "cell_type": "code",
   "execution_count": 8,
   "metadata": {},
   "outputs": [
    {
     "data": {
      "text/html": [
       "<div>\n",
       "<style scoped>\n",
       "    .dataframe tbody tr th:only-of-type {\n",
       "        vertical-align: middle;\n",
       "    }\n",
       "\n",
       "    .dataframe tbody tr th {\n",
       "        vertical-align: top;\n",
       "    }\n",
       "\n",
       "    .dataframe thead th {\n",
       "        text-align: right;\n",
       "    }\n",
       "</style>\n",
       "<table border=\"1\" class=\"dataframe\">\n",
       "  <thead>\n",
       "    <tr style=\"text-align: right;\">\n",
       "      <th></th>\n",
       "      <th>id</th>\n",
       "      <th>f0</th>\n",
       "      <th>f1</th>\n",
       "      <th>f2</th>\n",
       "      <th>product</th>\n",
       "    </tr>\n",
       "  </thead>\n",
       "  <tbody>\n",
       "    <tr>\n",
       "      <th>931</th>\n",
       "      <td>HZww2</td>\n",
       "      <td>0.755284</td>\n",
       "      <td>0.368511</td>\n",
       "      <td>1.863211</td>\n",
       "      <td>30.681774</td>\n",
       "    </tr>\n",
       "    <tr>\n",
       "      <th>1364</th>\n",
       "      <td>bxg6G</td>\n",
       "      <td>0.411645</td>\n",
       "      <td>0.856830</td>\n",
       "      <td>-3.653440</td>\n",
       "      <td>73.604260</td>\n",
       "    </tr>\n",
       "    <tr>\n",
       "      <th>1949</th>\n",
       "      <td>QcMuo</td>\n",
       "      <td>0.506563</td>\n",
       "      <td>-0.323775</td>\n",
       "      <td>-2.215583</td>\n",
       "      <td>75.496502</td>\n",
       "    </tr>\n",
       "    <tr>\n",
       "      <th>3389</th>\n",
       "      <td>A5aEY</td>\n",
       "      <td>-0.039949</td>\n",
       "      <td>0.156872</td>\n",
       "      <td>0.209861</td>\n",
       "      <td>89.249364</td>\n",
       "    </tr>\n",
       "    <tr>\n",
       "      <th>7530</th>\n",
       "      <td>HZww2</td>\n",
       "      <td>1.061194</td>\n",
       "      <td>-0.373969</td>\n",
       "      <td>10.430210</td>\n",
       "      <td>158.828695</td>\n",
       "    </tr>\n",
       "    <tr>\n",
       "      <th>16633</th>\n",
       "      <td>fiKDv</td>\n",
       "      <td>0.157341</td>\n",
       "      <td>1.028359</td>\n",
       "      <td>5.585586</td>\n",
       "      <td>95.817889</td>\n",
       "    </tr>\n",
       "    <tr>\n",
       "      <th>21426</th>\n",
       "      <td>Tdehs</td>\n",
       "      <td>0.829407</td>\n",
       "      <td>0.298807</td>\n",
       "      <td>-0.049563</td>\n",
       "      <td>96.035308</td>\n",
       "    </tr>\n",
       "    <tr>\n",
       "      <th>41724</th>\n",
       "      <td>bxg6G</td>\n",
       "      <td>-0.823752</td>\n",
       "      <td>0.546319</td>\n",
       "      <td>3.630479</td>\n",
       "      <td>93.007798</td>\n",
       "    </tr>\n",
       "    <tr>\n",
       "      <th>42529</th>\n",
       "      <td>AGS9W</td>\n",
       "      <td>1.454747</td>\n",
       "      <td>-0.479651</td>\n",
       "      <td>0.683380</td>\n",
       "      <td>126.370504</td>\n",
       "    </tr>\n",
       "    <tr>\n",
       "      <th>51970</th>\n",
       "      <td>A5aEY</td>\n",
       "      <td>-0.180335</td>\n",
       "      <td>0.935548</td>\n",
       "      <td>-2.094773</td>\n",
       "      <td>33.020205</td>\n",
       "    </tr>\n",
       "    <tr>\n",
       "      <th>60140</th>\n",
       "      <td>TtcGQ</td>\n",
       "      <td>0.569276</td>\n",
       "      <td>-0.104876</td>\n",
       "      <td>6.440215</td>\n",
       "      <td>85.350186</td>\n",
       "    </tr>\n",
       "    <tr>\n",
       "      <th>63593</th>\n",
       "      <td>QcMuo</td>\n",
       "      <td>0.635635</td>\n",
       "      <td>-0.473422</td>\n",
       "      <td>0.862670</td>\n",
       "      <td>64.578675</td>\n",
       "    </tr>\n",
       "    <tr>\n",
       "      <th>64022</th>\n",
       "      <td>74z30</td>\n",
       "      <td>0.741456</td>\n",
       "      <td>0.459229</td>\n",
       "      <td>5.153109</td>\n",
       "      <td>140.771492</td>\n",
       "    </tr>\n",
       "    <tr>\n",
       "      <th>66136</th>\n",
       "      <td>74z30</td>\n",
       "      <td>1.084962</td>\n",
       "      <td>-0.312358</td>\n",
       "      <td>6.990771</td>\n",
       "      <td>127.643327</td>\n",
       "    </tr>\n",
       "    <tr>\n",
       "      <th>69163</th>\n",
       "      <td>AGS9W</td>\n",
       "      <td>-0.933795</td>\n",
       "      <td>0.116194</td>\n",
       "      <td>-3.655896</td>\n",
       "      <td>19.230453</td>\n",
       "    </tr>\n",
       "    <tr>\n",
       "      <th>75715</th>\n",
       "      <td>Tdehs</td>\n",
       "      <td>0.112079</td>\n",
       "      <td>0.430296</td>\n",
       "      <td>3.218993</td>\n",
       "      <td>60.964018</td>\n",
       "    </tr>\n",
       "    <tr>\n",
       "      <th>89582</th>\n",
       "      <td>bsk9y</td>\n",
       "      <td>0.398908</td>\n",
       "      <td>-0.400253</td>\n",
       "      <td>10.122376</td>\n",
       "      <td>163.433078</td>\n",
       "    </tr>\n",
       "    <tr>\n",
       "      <th>90815</th>\n",
       "      <td>fiKDv</td>\n",
       "      <td>0.049883</td>\n",
       "      <td>0.841313</td>\n",
       "      <td>6.394613</td>\n",
       "      <td>137.346586</td>\n",
       "    </tr>\n",
       "    <tr>\n",
       "      <th>92341</th>\n",
       "      <td>TtcGQ</td>\n",
       "      <td>0.110711</td>\n",
       "      <td>1.022689</td>\n",
       "      <td>0.911381</td>\n",
       "      <td>101.318008</td>\n",
       "    </tr>\n",
       "    <tr>\n",
       "      <th>97785</th>\n",
       "      <td>bsk9y</td>\n",
       "      <td>0.378429</td>\n",
       "      <td>0.005837</td>\n",
       "      <td>0.160827</td>\n",
       "      <td>160.637302</td>\n",
       "    </tr>\n",
       "  </tbody>\n",
       "</table>\n",
       "</div>"
      ],
      "text/plain": [
       "          id        f0        f1         f2     product\n",
       "931    HZww2  0.755284  0.368511   1.863211   30.681774\n",
       "1364   bxg6G  0.411645  0.856830  -3.653440   73.604260\n",
       "1949   QcMuo  0.506563 -0.323775  -2.215583   75.496502\n",
       "3389   A5aEY -0.039949  0.156872   0.209861   89.249364\n",
       "7530   HZww2  1.061194 -0.373969  10.430210  158.828695\n",
       "16633  fiKDv  0.157341  1.028359   5.585586   95.817889\n",
       "21426  Tdehs  0.829407  0.298807  -0.049563   96.035308\n",
       "41724  bxg6G -0.823752  0.546319   3.630479   93.007798\n",
       "42529  AGS9W  1.454747 -0.479651   0.683380  126.370504\n",
       "51970  A5aEY -0.180335  0.935548  -2.094773   33.020205\n",
       "60140  TtcGQ  0.569276 -0.104876   6.440215   85.350186\n",
       "63593  QcMuo  0.635635 -0.473422   0.862670   64.578675\n",
       "64022  74z30  0.741456  0.459229   5.153109  140.771492\n",
       "66136  74z30  1.084962 -0.312358   6.990771  127.643327\n",
       "69163  AGS9W -0.933795  0.116194  -3.655896   19.230453\n",
       "75715  Tdehs  0.112079  0.430296   3.218993   60.964018\n",
       "89582  bsk9y  0.398908 -0.400253  10.122376  163.433078\n",
       "90815  fiKDv  0.049883  0.841313   6.394613  137.346586\n",
       "92341  TtcGQ  0.110711  1.022689   0.911381  101.318008\n",
       "97785  bsk9y  0.378429  0.005837   0.160827  160.637302"
      ]
     },
     "execution_count": 8,
     "metadata": {},
     "output_type": "execute_result"
    }
   ],
   "source": [
    "df1[df1['id'].isin(df1[df1.duplicated(subset=['id'])]['id'])]"
   ]
  },
  {
   "cell_type": "markdown",
   "metadata": {},
   "source": [
    "Думаю, что лучше будет удалить все строки с дублированными _id_. Потому что в данных есть различия в колонке _product_, а эта информация влияет на принятие решения бурить или не бурить."
   ]
  },
  {
   "cell_type": "code",
   "execution_count": 9,
   "metadata": {},
   "outputs": [
    {
     "data": {
      "text/plain": [
       "0"
      ]
     },
     "execution_count": 9,
     "metadata": {},
     "output_type": "execute_result"
    }
   ],
   "source": [
    "df1 = df1.drop(df1[df1['id'].isin(df1[df1.duplicated(subset=['id'])]['id'])].index)\n",
    "df1[df1['id'].isin(df1[df1.duplicated(subset=['id'])]['id'])]['id'].count()"
   ]
  },
  {
   "cell_type": "code",
   "execution_count": 10,
   "metadata": {},
   "outputs": [],
   "source": [
    "df2 = df2.drop(df2[df2['id'].isin(df2[df2.duplicated(subset=['id'])]['id'])].index)\n",
    "df3 = df3.drop(df3[df3['id'].isin(df3[df3.duplicated(subset=['id'])]['id'])].index)"
   ]
  },
  {
   "cell_type": "code",
   "execution_count": 11,
   "metadata": {},
   "outputs": [],
   "source": [
    "df1 = df1.reset_index(drop=True)\n",
    "df2 = df2.reset_index(drop=True)\n",
    "df3 = df3.reset_index(drop=True)"
   ]
  },
  {
   "cell_type": "code",
   "execution_count": 12,
   "metadata": {
    "scrolled": false
   },
   "outputs": [
    {
     "name": "stdout",
     "output_type": "stream",
     "text": [
      "<class 'pandas.core.frame.DataFrame'>\n",
      "RangeIndex: 99980 entries, 0 to 99979\n",
      "Data columns (total 5 columns):\n",
      " #   Column   Non-Null Count  Dtype  \n",
      "---  ------   --------------  -----  \n",
      " 0   id       99980 non-null  object \n",
      " 1   f0       99980 non-null  float64\n",
      " 2   f1       99980 non-null  float64\n",
      " 3   f2       99980 non-null  float64\n",
      " 4   product  99980 non-null  float64\n",
      "dtypes: float64(4), object(1)\n",
      "memory usage: 3.8+ MB\n",
      "\n",
      "<class 'pandas.core.frame.DataFrame'>\n",
      "RangeIndex: 99992 entries, 0 to 99991\n",
      "Data columns (total 5 columns):\n",
      " #   Column   Non-Null Count  Dtype  \n",
      "---  ------   --------------  -----  \n",
      " 0   id       99992 non-null  object \n",
      " 1   f0       99992 non-null  float64\n",
      " 2   f1       99992 non-null  float64\n",
      " 3   f2       99992 non-null  float64\n",
      " 4   product  99992 non-null  float64\n",
      "dtypes: float64(4), object(1)\n",
      "memory usage: 3.8+ MB\n",
      "\n",
      "<class 'pandas.core.frame.DataFrame'>\n",
      "RangeIndex: 99992 entries, 0 to 99991\n",
      "Data columns (total 5 columns):\n",
      " #   Column   Non-Null Count  Dtype  \n",
      "---  ------   --------------  -----  \n",
      " 0   id       99992 non-null  object \n",
      " 1   f0       99992 non-null  float64\n",
      " 2   f1       99992 non-null  float64\n",
      " 3   f2       99992 non-null  float64\n",
      " 4   product  99992 non-null  float64\n",
      "dtypes: float64(4), object(1)\n",
      "memory usage: 3.8+ MB\n"
     ]
    }
   ],
   "source": [
    "df1.info()\n",
    "print()\n",
    "df2.info()\n",
    "print()\n",
    "df3.info()"
   ]
  },
  {
   "cell_type": "markdown",
   "metadata": {},
   "source": [
    "Во всех датасетах удалил строки с дублированными _id_. Из первого датасета ушло 20 строк, из второго и из третьего &mdash; по 8. На этом заканчиваю предобработку."
   ]
  },
  {
   "cell_type": "markdown",
   "metadata": {},
   "source": [
    "## Обучение и проверка модели"
   ]
  },
  {
   "cell_type": "markdown",
   "metadata": {},
   "source": [
    "### Первый регион"
   ]
  },
  {
   "cell_type": "code",
   "execution_count": 13,
   "metadata": {},
   "outputs": [
    {
     "data": {
      "text/plain": [
       "'Средние предсказанные запасы сырья в регионе:'"
      ]
     },
     "metadata": {},
     "output_type": "display_data"
    },
    {
     "data": {
      "text/plain": [
       "92.42384109947359"
      ]
     },
     "metadata": {},
     "output_type": "display_data"
    },
    {
     "data": {
      "text/plain": [
       "'RMSE модели:'"
      ]
     },
     "metadata": {},
     "output_type": "display_data"
    },
    {
     "data": {
      "text/plain": [
       "37.716904960382735"
      ]
     },
     "metadata": {},
     "output_type": "display_data"
    }
   ],
   "source": [
    "pred1, y_valid_1 = mod(df1)"
   ]
  },
  {
   "cell_type": "markdown",
   "metadata": {},
   "source": [
    "RMSE высокое. Предполагаю, что есть выбросы в целевом признаке."
   ]
  },
  {
   "cell_type": "code",
   "execution_count": 14,
   "metadata": {},
   "outputs": [
    {
     "data": {
      "image/png": "[encoded data removed]",
      "text/plain": [
       "<Figure size 1080x288 with 2 Axes>"
      ]
     },
     "metadata": {},
     "output_type": "display_data"
    }
   ],
   "source": [
    "graf(df1)"
   ]
  },
  {
   "cell_type": "markdown",
   "metadata": {},
   "source": [
    "Но на боксплоте выбросов не видно."
   ]
  },
  {
   "cell_type": "markdown",
   "metadata": {},
   "source": [
    "### Второй регион"
   ]
  },
  {
   "cell_type": "code",
   "execution_count": 15,
   "metadata": {},
   "outputs": [
    {
     "data": {
      "text/plain": [
       "'Средние предсказанные запасы сырья в регионе:'"
      ]
     },
     "metadata": {},
     "output_type": "display_data"
    },
    {
     "data": {
      "text/plain": [
       "68.79207009357762"
      ]
     },
     "metadata": {},
     "output_type": "display_data"
    },
    {
     "data": {
      "text/plain": [
       "'RMSE модели:'"
      ]
     },
     "metadata": {},
     "output_type": "display_data"
    },
    {
     "data": {
      "text/plain": [
       "0.8899728648236697"
      ]
     },
     "metadata": {},
     "output_type": "display_data"
    }
   ],
   "source": [
    "pred2, y_valid_2 = mod(df2)"
   ]
  },
  {
   "cell_type": "markdown",
   "metadata": {},
   "source": [
    "Во втором регионе RMSE меньше 1, что говорит о хорошей работе модели. Но среднее значение запасов ниже, чем в первом регионе."
   ]
  },
  {
   "cell_type": "code",
   "execution_count": 16,
   "metadata": {},
   "outputs": [
    {
     "data": {
      "image/png": "[encoded data removed]",
      "text/plain": [
       "<Figure size 1080x288 with 2 Axes>"
      ]
     },
     "metadata": {},
     "output_type": "display_data"
    }
   ],
   "source": [
    "graf(df2)"
   ]
  },
  {
   "cell_type": "markdown",
   "metadata": {},
   "source": [
    "А здесь медианное значение примерно на 10 пунктов ниже предсказанного среднего."
   ]
  },
  {
   "cell_type": "markdown",
   "metadata": {},
   "source": [
    "### Третий регион"
   ]
  },
  {
   "cell_type": "code",
   "execution_count": 17,
   "metadata": {},
   "outputs": [
    {
     "data": {
      "text/plain": [
       "'Средние предсказанные запасы сырья в регионе:'"
      ]
     },
     "metadata": {},
     "output_type": "display_data"
    },
    {
     "data": {
      "text/plain": [
       "95.25725596652306"
      ]
     },
     "metadata": {},
     "output_type": "display_data"
    },
    {
     "data": {
      "text/plain": [
       "'RMSE модели:'"
      ]
     },
     "metadata": {},
     "output_type": "display_data"
    },
    {
     "data": {
      "text/plain": [
       "40.077773873280115"
      ]
     },
     "metadata": {},
     "output_type": "display_data"
    }
   ],
   "source": [
    "pred3, y_valid_3 = mod(df3)"
   ]
  },
  {
   "cell_type": "markdown",
   "metadata": {},
   "source": [
    "Средние запасы сырья выше, чем во втором регионе, ошибка тоже выше. Характеристики этого региона похожи на характеристики первого."
   ]
  },
  {
   "cell_type": "code",
   "execution_count": 18,
   "metadata": {},
   "outputs": [
    {
     "data": {
      "image/png": "[encoded data removed]",
      "text/plain": [
       "<Figure size 1080x288 with 2 Axes>"
      ]
     },
     "metadata": {},
     "output_type": "display_data"
    }
   ],
   "source": [
    "graf(df3)"
   ]
  },
  {
   "cell_type": "markdown",
   "metadata": {},
   "source": [
    "## Подготовка к расчёту прибыли"
   ]
  },
  {
   "cell_type": "markdown",
   "metadata": {},
   "source": [
    "Функция расчета прибыли, а также все константы объявлены перед загрузкой и подготовкой данных."
   ]
  },
  {
   "cell_type": "code",
   "execution_count": 19,
   "metadata": {},
   "outputs": [
    {
     "data": {
      "text/plain": [
       "111.11111111111111"
      ]
     },
     "execution_count": 19,
     "metadata": {},
     "output_type": "execute_result"
    }
   ],
   "source": [
    "# k*income*x >= cost, где k -- кол-во исследуемых скважин, income -- доход с единицы продукции, x -- кол-во единиц\n",
    "# продукции в каждой скважине, cost -- бюджет на разработку скважин в регионе\n",
    "# x = cost / (k*income)\n",
    "x = COST / (K * INCOME)\n",
    "x"
   ]
  },
  {
   "cell_type": "markdown",
   "metadata": {},
   "source": [
    "Минимальное количество единиц сырья в скважине должно быть не меньше 111,12. Средние значения по каждому региону ниже, но в этих регионах около 100000 возможных скважин, из которых примерно по 25000 в валидационной выборке. Думаю, что найдутся с необходимым количеством сырья."
   ]
  },
  {
   "cell_type": "markdown",
   "metadata": {},
   "source": [
    "## Расчёт прибыли и рисков "
   ]
  },
  {
   "cell_type": "code",
   "execution_count": 20,
   "metadata": {},
   "outputs": [
    {
     "data": {
      "text/plain": [
       "'Средняя прибыль в регионе в млн рублей:'"
      ]
     },
     "metadata": {},
     "output_type": "display_data"
    },
    {
     "data": {
      "text/plain": [
       "646.4555985929501"
      ]
     },
     "metadata": {},
     "output_type": "display_data"
    },
    {
     "data": {
      "text/plain": [
       "'95% доверительный интервал:'"
      ]
     },
     "metadata": {},
     "output_type": "display_data"
    },
    {
     "data": {
      "text/plain": [
       "(70.48844164854228, 1328.2874564228414)"
      ]
     },
     "metadata": {},
     "output_type": "display_data"
    },
    {
     "data": {
      "text/plain": [
       "'Процент возможных убытков в регионе:'"
      ]
     },
     "metadata": {},
     "output_type": "display_data"
    },
    {
     "data": {
      "text/plain": [
       "1.5"
      ]
     },
     "metadata": {},
     "output_type": "display_data"
    }
   ],
   "source": [
    "rev_risk(pred1, y_valid_1)"
   ]
  },
  {
   "cell_type": "code",
   "execution_count": 21,
   "metadata": {
    "scrolled": true
   },
   "outputs": [
    {
     "data": {
      "text/plain": [
       "'Средняя прибыль в регионе в млн рублей:'"
      ]
     },
     "metadata": {},
     "output_type": "display_data"
    },
    {
     "data": {
      "text/plain": [
       "652.661888364542"
      ]
     },
     "metadata": {},
     "output_type": "display_data"
    },
    {
     "data": {
      "text/plain": [
       "'95% доверительный интервал:'"
      ]
     },
     "metadata": {},
     "output_type": "display_data"
    },
    {
     "data": {
      "text/plain": [
       "(159.47972231968052, 1150.579638706255)"
      ]
     },
     "metadata": {},
     "output_type": "display_data"
    },
    {
     "data": {
      "text/plain": [
       "'Процент возможных убытков в регионе:'"
      ]
     },
     "metadata": {},
     "output_type": "display_data"
    },
    {
     "data": {
      "text/plain": [
       "0.5"
      ]
     },
     "metadata": {},
     "output_type": "display_data"
    }
   ],
   "source": [
    "rev_risk(pred2, y_valid_2)"
   ]
  },
  {
   "cell_type": "code",
   "execution_count": 22,
   "metadata": {},
   "outputs": [
    {
     "data": {
      "text/plain": [
       "'Средняя прибыль в регионе в млн рублей:'"
      ]
     },
     "metadata": {},
     "output_type": "display_data"
    },
    {
     "data": {
      "text/plain": [
       "557.7968095482773"
      ]
     },
     "metadata": {},
     "output_type": "display_data"
    },
    {
     "data": {
      "text/plain": [
       "'95% доверительный интервал:'"
      ]
     },
     "metadata": {},
     "output_type": "display_data"
    },
    {
     "data": {
      "text/plain": [
       "(-53.41531086409776, 1201.8846445387958)"
      ]
     },
     "metadata": {},
     "output_type": "display_data"
    },
    {
     "data": {
      "text/plain": [
       "'Процент возможных убытков в регионе:'"
      ]
     },
     "metadata": {},
     "output_type": "display_data"
    },
    {
     "data": {
      "text/plain": [
       "3.4000000000000004"
      ]
     },
     "metadata": {},
     "output_type": "display_data"
    }
   ],
   "source": [
    "rev_risk(pred3, y_valid_3)"
   ]
  },
  {
   "cell_type": "markdown",
   "metadata": {},
   "source": [
    "## Вывод"
   ]
  },
  {
   "cell_type": "markdown",
   "metadata": {},
   "source": [
    "По всем параметрам лучший регион &mdash; второй. Процент возможных убытков меньше 2.5%, только этот регион удовлетворяет требованиям заказчика. Более того, в этом регионе прибыль самая высокая."
   ]
  },
  {
   "cell_type": "code",
   "execution_count": null,
   "metadata": {},
   "outputs": [],
   "source": []
  }
 ],
 "metadata": {
  "ExecuteTimeLog": [
   {
    "duration": 1661,
    "start_time": "2024-04-16T18:35:17.541Z"
   },
   {
    "duration": 2,
    "start_time": "2024-04-16T18:35:56.339Z"
   },
   {
    "duration": 3,
    "start_time": "2024-04-16T18:36:17.962Z"
   },
   {
    "duration": 602,
    "start_time": "2024-04-16T18:37:27.224Z"
   },
   {
    "duration": 586,
    "start_time": "2024-04-16T18:38:04.417Z"
   },
   {
    "duration": 593,
    "start_time": "2024-04-16T18:38:07.896Z"
   },
   {
    "duration": 179,
    "start_time": "2024-04-16T18:49:32.483Z"
   },
   {
    "duration": 159,
    "start_time": "2024-04-16T18:49:35.545Z"
   },
   {
    "duration": 167,
    "start_time": "2024-04-16T18:49:52.643Z"
   },
   {
    "duration": 168,
    "start_time": "2024-04-16T18:50:19.312Z"
   },
   {
    "duration": 168,
    "start_time": "2024-04-16T18:52:01.610Z"
   },
   {
    "duration": 171,
    "start_time": "2024-04-16T18:52:14.061Z"
   },
   {
    "duration": 201,
    "start_time": "2024-04-16T18:52:16.430Z"
   },
   {
    "duration": 175,
    "start_time": "2024-04-16T18:56:24.062Z"
   },
   {
    "duration": 103,
    "start_time": "2024-04-16T18:57:51.572Z"
   },
   {
    "duration": 1535,
    "start_time": "2024-04-16T19:01:19.182Z"
   },
   {
    "duration": 2,
    "start_time": "2024-04-16T19:01:20.720Z"
   },
   {
    "duration": 16,
    "start_time": "2024-04-16T19:01:20.724Z"
   },
   {
    "duration": 187,
    "start_time": "2024-04-16T19:01:20.742Z"
   },
   {
    "duration": 168,
    "start_time": "2024-04-16T19:01:20.931Z"
   },
   {
    "duration": 177,
    "start_time": "2024-04-16T19:01:21.101Z"
   },
   {
    "duration": 194,
    "start_time": "2024-04-16T19:01:21.280Z"
   },
   {
    "duration": 35,
    "start_time": "2024-04-16T19:01:21.475Z"
   },
   {
    "duration": 27,
    "start_time": "2024-04-16T19:01:21.511Z"
   },
   {
    "duration": 26,
    "start_time": "2024-04-16T19:01:21.539Z"
   },
   {
    "duration": 27,
    "start_time": "2024-04-16T19:02:09.626Z"
   },
   {
    "duration": 46,
    "start_time": "2024-04-16T19:03:21.736Z"
   },
   {
    "duration": 51,
    "start_time": "2024-04-16T19:29:51.913Z"
   },
   {
    "duration": 46,
    "start_time": "2024-04-16T19:30:02.668Z"
   },
   {
    "duration": 64,
    "start_time": "2024-04-16T19:30:20.192Z"
   },
   {
    "duration": 60,
    "start_time": "2024-04-16T19:31:11.628Z"
   },
   {
    "duration": 155,
    "start_time": "2024-04-16T19:31:46.585Z"
   },
   {
    "duration": 59,
    "start_time": "2024-04-16T19:31:56.333Z"
   },
   {
    "duration": 44,
    "start_time": "2024-04-17T12:11:05.793Z"
   },
   {
    "duration": 1563,
    "start_time": "2024-04-17T12:11:19.685Z"
   },
   {
    "duration": 4,
    "start_time": "2024-04-17T12:11:21.249Z"
   },
   {
    "duration": 23,
    "start_time": "2024-04-17T12:11:21.255Z"
   },
   {
    "duration": 178,
    "start_time": "2024-04-17T12:11:21.280Z"
   },
   {
    "duration": 175,
    "start_time": "2024-04-17T12:11:21.460Z"
   },
   {
    "duration": 165,
    "start_time": "2024-04-17T12:11:21.637Z"
   },
   {
    "duration": 194,
    "start_time": "2024-04-17T12:11:21.804Z"
   },
   {
    "duration": 40,
    "start_time": "2024-04-17T12:11:22.000Z"
   },
   {
    "duration": 98,
    "start_time": "2024-04-17T12:11:22.042Z"
   },
   {
    "duration": 71,
    "start_time": "2024-04-17T12:11:22.142Z"
   },
   {
    "duration": 58,
    "start_time": "2024-04-17T12:11:22.215Z"
   },
   {
    "duration": 52,
    "start_time": "2024-04-17T12:11:22.274Z"
   },
   {
    "duration": 1513,
    "start_time": "2024-04-17T12:55:35.426Z"
   },
   {
    "duration": 3,
    "start_time": "2024-04-17T12:55:36.941Z"
   },
   {
    "duration": 26,
    "start_time": "2024-04-17T12:55:36.945Z"
   },
   {
    "duration": 208,
    "start_time": "2024-04-17T12:55:36.973Z"
   },
   {
    "duration": 164,
    "start_time": "2024-04-17T12:55:37.191Z"
   },
   {
    "duration": 152,
    "start_time": "2024-04-17T12:55:37.357Z"
   },
   {
    "duration": 200,
    "start_time": "2024-04-17T12:55:37.511Z"
   },
   {
    "duration": 38,
    "start_time": "2024-04-17T12:55:37.713Z"
   },
   {
    "duration": 181,
    "start_time": "2024-04-17T12:55:37.752Z"
   },
   {
    "duration": 0,
    "start_time": "2024-04-17T12:55:37.934Z"
   },
   {
    "duration": 0,
    "start_time": "2024-04-17T12:55:37.935Z"
   },
   {
    "duration": 0,
    "start_time": "2024-04-17T12:55:37.936Z"
   },
   {
    "duration": 0,
    "start_time": "2024-04-17T12:55:37.938Z"
   },
   {
    "duration": 10,
    "start_time": "2024-04-17T12:56:19.323Z"
   },
   {
    "duration": 1576,
    "start_time": "2024-04-17T12:57:06.342Z"
   },
   {
    "duration": 3,
    "start_time": "2024-04-17T12:57:07.920Z"
   },
   {
    "duration": 16,
    "start_time": "2024-04-17T12:57:07.925Z"
   },
   {
    "duration": 215,
    "start_time": "2024-04-17T12:57:07.943Z"
   },
   {
    "duration": 163,
    "start_time": "2024-04-17T12:57:08.160Z"
   },
   {
    "duration": 158,
    "start_time": "2024-04-17T12:57:08.325Z"
   },
   {
    "duration": 203,
    "start_time": "2024-04-17T12:57:08.485Z"
   },
   {
    "duration": 46,
    "start_time": "2024-04-17T12:57:08.691Z"
   },
   {
    "duration": 85,
    "start_time": "2024-04-17T12:57:08.738Z"
   },
   {
    "duration": 4,
    "start_time": "2024-04-17T12:57:08.825Z"
   },
   {
    "duration": 215,
    "start_time": "2024-04-17T12:57:08.830Z"
   },
   {
    "duration": 0,
    "start_time": "2024-04-17T12:57:09.046Z"
   },
   {
    "duration": 0,
    "start_time": "2024-04-17T12:57:09.047Z"
   },
   {
    "duration": 1492,
    "start_time": "2024-04-17T12:57:34.147Z"
   },
   {
    "duration": 3,
    "start_time": "2024-04-17T12:57:35.642Z"
   },
   {
    "duration": 26,
    "start_time": "2024-04-17T12:57:35.647Z"
   },
   {
    "duration": 191,
    "start_time": "2024-04-17T12:57:35.675Z"
   },
   {
    "duration": 167,
    "start_time": "2024-04-17T12:57:35.869Z"
   },
   {
    "duration": 171,
    "start_time": "2024-04-17T12:57:36.038Z"
   },
   {
    "duration": 202,
    "start_time": "2024-04-17T12:57:36.211Z"
   },
   {
    "duration": 42,
    "start_time": "2024-04-17T12:57:36.415Z"
   },
   {
    "duration": 80,
    "start_time": "2024-04-17T12:57:36.459Z"
   },
   {
    "duration": 14,
    "start_time": "2024-04-17T12:57:36.541Z"
   },
   {
    "duration": 81,
    "start_time": "2024-04-17T12:57:36.557Z"
   },
   {
    "duration": 61,
    "start_time": "2024-04-17T12:57:36.640Z"
   },
   {
    "duration": 36,
    "start_time": "2024-04-17T12:57:36.703Z"
   },
   {
    "duration": 15,
    "start_time": "2024-04-17T12:57:54.990Z"
   },
   {
    "duration": 1635,
    "start_time": "2024-04-17T12:58:00.965Z"
   },
   {
    "duration": 3,
    "start_time": "2024-04-17T12:58:02.602Z"
   },
   {
    "duration": 86,
    "start_time": "2024-04-17T12:58:02.607Z"
   },
   {
    "duration": 190,
    "start_time": "2024-04-17T12:58:02.694Z"
   },
   {
    "duration": 164,
    "start_time": "2024-04-17T12:58:02.886Z"
   },
   {
    "duration": 159,
    "start_time": "2024-04-17T12:58:03.052Z"
   },
   {
    "duration": 244,
    "start_time": "2024-04-17T12:58:03.213Z"
   },
   {
    "duration": 50,
    "start_time": "2024-04-17T12:58:03.459Z"
   },
   {
    "duration": 62,
    "start_time": "2024-04-17T12:58:03.511Z"
   },
   {
    "duration": 30,
    "start_time": "2024-04-17T12:58:03.575Z"
   },
   {
    "duration": 58,
    "start_time": "2024-04-17T12:58:03.607Z"
   },
   {
    "duration": 83,
    "start_time": "2024-04-17T12:58:03.667Z"
   },
   {
    "duration": 56,
    "start_time": "2024-04-17T12:58:03.752Z"
   },
   {
    "duration": 1535,
    "start_time": "2024-04-17T12:59:16.753Z"
   },
   {
    "duration": 3,
    "start_time": "2024-04-17T12:59:18.290Z"
   },
   {
    "duration": 21,
    "start_time": "2024-04-17T12:59:18.295Z"
   },
   {
    "duration": 219,
    "start_time": "2024-04-17T12:59:18.318Z"
   },
   {
    "duration": 221,
    "start_time": "2024-04-17T12:59:18.541Z"
   },
   {
    "duration": 163,
    "start_time": "2024-04-17T12:59:18.770Z"
   },
   {
    "duration": 196,
    "start_time": "2024-04-17T12:59:18.935Z"
   },
   {
    "duration": 40,
    "start_time": "2024-04-17T12:59:19.133Z"
   },
   {
    "duration": 73,
    "start_time": "2024-04-17T12:59:19.175Z"
   },
   {
    "duration": 20,
    "start_time": "2024-04-17T12:59:19.251Z"
   },
   {
    "duration": 85,
    "start_time": "2024-04-17T12:59:19.292Z"
   },
   {
    "duration": 78,
    "start_time": "2024-04-17T12:59:19.379Z"
   },
   {
    "duration": 52,
    "start_time": "2024-04-17T12:59:19.458Z"
   },
   {
    "duration": 14,
    "start_time": "2024-04-17T12:59:44.771Z"
   },
   {
    "duration": 1500,
    "start_time": "2024-04-17T13:02:14.013Z"
   },
   {
    "duration": 3,
    "start_time": "2024-04-17T13:02:15.515Z"
   },
   {
    "duration": 157,
    "start_time": "2024-04-17T13:02:15.520Z"
   },
   {
    "duration": 214,
    "start_time": "2024-04-17T13:02:15.679Z"
   },
   {
    "duration": 171,
    "start_time": "2024-04-17T13:02:15.896Z"
   },
   {
    "duration": 159,
    "start_time": "2024-04-17T13:02:16.069Z"
   },
   {
    "duration": 215,
    "start_time": "2024-04-17T13:02:16.230Z"
   },
   {
    "duration": 55,
    "start_time": "2024-04-17T13:02:16.447Z"
   },
   {
    "duration": 63,
    "start_time": "2024-04-17T13:02:16.503Z"
   },
   {
    "duration": 116,
    "start_time": "2024-04-17T13:02:16.569Z"
   },
   {
    "duration": 11,
    "start_time": "2024-04-17T13:02:16.692Z"
   },
   {
    "duration": 50,
    "start_time": "2024-04-17T13:02:16.706Z"
   },
   {
    "duration": 128,
    "start_time": "2024-04-17T13:24:32.280Z"
   },
   {
    "duration": 24,
    "start_time": "2024-04-17T13:24:46.414Z"
   },
   {
    "duration": 14,
    "start_time": "2024-04-17T13:25:23.463Z"
   },
   {
    "duration": 6,
    "start_time": "2024-04-17T13:25:47.041Z"
   },
   {
    "duration": 1473,
    "start_time": "2024-04-17T14:52:24.631Z"
   },
   {
    "duration": 3,
    "start_time": "2024-04-17T14:52:26.105Z"
   },
   {
    "duration": 18,
    "start_time": "2024-04-17T14:52:26.109Z"
   },
   {
    "duration": 186,
    "start_time": "2024-04-17T14:52:26.129Z"
   },
   {
    "duration": 150,
    "start_time": "2024-04-17T14:52:26.316Z"
   },
   {
    "duration": 156,
    "start_time": "2024-04-17T14:52:26.468Z"
   },
   {
    "duration": 184,
    "start_time": "2024-04-17T14:52:26.625Z"
   },
   {
    "duration": 38,
    "start_time": "2024-04-17T14:52:26.811Z"
   },
   {
    "duration": 80,
    "start_time": "2024-04-17T14:52:26.850Z"
   },
   {
    "duration": 85,
    "start_time": "2024-04-17T14:52:26.933Z"
   },
   {
    "duration": 10,
    "start_time": "2024-04-17T14:52:27.020Z"
   },
   {
    "duration": 52,
    "start_time": "2024-04-17T14:52:27.031Z"
   },
   {
    "duration": 20,
    "start_time": "2024-04-17T14:52:27.085Z"
   },
   {
    "duration": 6,
    "start_time": "2024-04-17T14:52:27.107Z"
   },
   {
    "duration": 148,
    "start_time": "2024-04-17T14:52:27.115Z"
   },
   {
    "duration": 159,
    "start_time": "2024-04-17T14:53:03.034Z"
   },
   {
    "duration": 1555,
    "start_time": "2024-04-17T14:53:45.547Z"
   },
   {
    "duration": 3,
    "start_time": "2024-04-17T14:53:47.104Z"
   },
   {
    "duration": 35,
    "start_time": "2024-04-17T14:53:47.109Z"
   },
   {
    "duration": 192,
    "start_time": "2024-04-17T14:53:47.146Z"
   },
   {
    "duration": 156,
    "start_time": "2024-04-17T14:53:47.341Z"
   },
   {
    "duration": 214,
    "start_time": "2024-04-17T14:53:47.499Z"
   },
   {
    "duration": 208,
    "start_time": "2024-04-17T14:53:47.715Z"
   },
   {
    "duration": 43,
    "start_time": "2024-04-17T14:53:47.925Z"
   },
   {
    "duration": 80,
    "start_time": "2024-04-17T14:53:47.970Z"
   },
   {
    "duration": 157,
    "start_time": "2024-04-17T14:53:48.052Z"
   },
   {
    "duration": 10,
    "start_time": "2024-04-17T14:53:48.211Z"
   },
   {
    "duration": 97,
    "start_time": "2024-04-17T14:53:48.223Z"
   },
   {
    "duration": 12,
    "start_time": "2024-04-17T14:53:48.321Z"
   },
   {
    "duration": 61,
    "start_time": "2024-04-17T14:53:48.335Z"
   },
   {
    "duration": 424,
    "start_time": "2024-04-17T14:53:48.398Z"
   },
   {
    "duration": 1521,
    "start_time": "2024-04-17T14:54:04.155Z"
   },
   {
    "duration": 3,
    "start_time": "2024-04-17T14:54:05.678Z"
   },
   {
    "duration": 29,
    "start_time": "2024-04-17T14:54:05.690Z"
   },
   {
    "duration": 223,
    "start_time": "2024-04-17T14:54:05.720Z"
   },
   {
    "duration": 163,
    "start_time": "2024-04-17T14:54:05.945Z"
   },
   {
    "duration": 157,
    "start_time": "2024-04-17T14:54:06.109Z"
   },
   {
    "duration": 191,
    "start_time": "2024-04-17T14:54:06.267Z"
   },
   {
    "duration": 73,
    "start_time": "2024-04-17T14:54:06.460Z"
   },
   {
    "duration": 79,
    "start_time": "2024-04-17T14:54:06.536Z"
   },
   {
    "duration": 74,
    "start_time": "2024-04-17T14:54:06.617Z"
   },
   {
    "duration": 10,
    "start_time": "2024-04-17T14:54:06.693Z"
   },
   {
    "duration": 63,
    "start_time": "2024-04-17T14:54:06.706Z"
   },
   {
    "duration": 12,
    "start_time": "2024-04-17T14:54:06.771Z"
   },
   {
    "duration": 46,
    "start_time": "2024-04-17T14:54:06.784Z"
   },
   {
    "duration": 64,
    "start_time": "2024-04-17T14:54:06.832Z"
   },
   {
    "duration": 1486,
    "start_time": "2024-04-17T14:55:06.734Z"
   },
   {
    "duration": 3,
    "start_time": "2024-04-17T14:55:08.222Z"
   },
   {
    "duration": 31,
    "start_time": "2024-04-17T14:55:08.227Z"
   },
   {
    "duration": 224,
    "start_time": "2024-04-17T14:55:08.261Z"
   },
   {
    "duration": 152,
    "start_time": "2024-04-17T14:55:08.486Z"
   },
   {
    "duration": 158,
    "start_time": "2024-04-17T14:55:08.639Z"
   },
   {
    "duration": 195,
    "start_time": "2024-04-17T14:55:08.799Z"
   },
   {
    "duration": 42,
    "start_time": "2024-04-17T14:55:08.996Z"
   },
   {
    "duration": 87,
    "start_time": "2024-04-17T14:55:09.039Z"
   },
   {
    "duration": 71,
    "start_time": "2024-04-17T14:55:09.128Z"
   },
   {
    "duration": 10,
    "start_time": "2024-04-17T14:55:09.201Z"
   },
   {
    "duration": 42,
    "start_time": "2024-04-17T14:55:09.213Z"
   },
   {
    "duration": 39,
    "start_time": "2024-04-17T14:55:09.257Z"
   },
   {
    "duration": 53,
    "start_time": "2024-04-17T14:55:09.297Z"
   },
   {
    "duration": 32,
    "start_time": "2024-04-17T14:55:09.352Z"
   },
   {
    "duration": 5,
    "start_time": "2024-04-17T14:58:36.232Z"
   },
   {
    "duration": 30,
    "start_time": "2024-04-17T14:58:36.886Z"
   },
   {
    "duration": 4,
    "start_time": "2024-04-17T15:01:06.336Z"
   },
   {
    "duration": 39,
    "start_time": "2024-04-17T15:01:06.854Z"
   },
   {
    "duration": 1534,
    "start_time": "2024-04-17T15:19:06.547Z"
   },
   {
    "duration": 3,
    "start_time": "2024-04-17T15:19:08.084Z"
   },
   {
    "duration": 4,
    "start_time": "2024-04-17T15:19:08.091Z"
   },
   {
    "duration": 184,
    "start_time": "2024-04-17T15:19:08.097Z"
   },
   {
    "duration": 148,
    "start_time": "2024-04-17T15:19:08.282Z"
   },
   {
    "duration": 152,
    "start_time": "2024-04-17T15:19:08.431Z"
   },
   {
    "duration": 182,
    "start_time": "2024-04-17T15:19:08.585Z"
   },
   {
    "duration": 45,
    "start_time": "2024-04-17T15:19:08.768Z"
   },
   {
    "duration": 56,
    "start_time": "2024-04-17T15:19:08.815Z"
   },
   {
    "duration": 72,
    "start_time": "2024-04-17T15:19:08.873Z"
   },
   {
    "duration": 10,
    "start_time": "2024-04-17T15:19:08.946Z"
   },
   {
    "duration": 53,
    "start_time": "2024-04-17T15:19:08.958Z"
   },
   {
    "duration": 12,
    "start_time": "2024-04-17T15:19:09.012Z"
   },
   {
    "duration": 7,
    "start_time": "2024-04-17T15:19:09.025Z"
   },
   {
    "duration": 159,
    "start_time": "2024-04-17T15:19:09.033Z"
   },
   {
    "duration": 5,
    "start_time": "2024-04-17T15:19:09.193Z"
   },
   {
    "duration": 98,
    "start_time": "2024-04-17T15:19:09.200Z"
   },
   {
    "duration": 92,
    "start_time": "2024-04-17T15:19:09.300Z"
   },
   {
    "duration": 198,
    "start_time": "2024-04-17T15:19:09.394Z"
   },
   {
    "duration": 1447,
    "start_time": "2024-04-17T15:33:55.447Z"
   },
   {
    "duration": 3,
    "start_time": "2024-04-17T15:33:56.896Z"
   },
   {
    "duration": 32,
    "start_time": "2024-04-17T15:33:56.900Z"
   },
   {
    "duration": 196,
    "start_time": "2024-04-17T15:33:56.934Z"
   },
   {
    "duration": 156,
    "start_time": "2024-04-17T15:33:57.132Z"
   },
   {
    "duration": 162,
    "start_time": "2024-04-17T15:33:57.289Z"
   },
   {
    "duration": 219,
    "start_time": "2024-04-17T15:33:57.453Z"
   },
   {
    "duration": 49,
    "start_time": "2024-04-17T15:33:57.674Z"
   },
   {
    "duration": 68,
    "start_time": "2024-04-17T15:33:57.725Z"
   },
   {
    "duration": 71,
    "start_time": "2024-04-17T15:33:57.794Z"
   },
   {
    "duration": 24,
    "start_time": "2024-04-17T15:33:57.867Z"
   },
   {
    "duration": 40,
    "start_time": "2024-04-17T15:33:57.893Z"
   },
   {
    "duration": 12,
    "start_time": "2024-04-17T15:33:57.935Z"
   },
   {
    "duration": 10,
    "start_time": "2024-04-17T15:33:57.950Z"
   },
   {
    "duration": 138,
    "start_time": "2024-04-17T15:33:57.961Z"
   },
   {
    "duration": 93,
    "start_time": "2024-04-17T15:33:58.102Z"
   },
   {
    "duration": 95,
    "start_time": "2024-04-17T15:33:58.197Z"
   },
   {
    "duration": 94,
    "start_time": "2024-04-17T15:33:58.299Z"
   },
   {
    "duration": 99,
    "start_time": "2024-04-17T15:33:58.395Z"
   },
   {
    "duration": 96,
    "start_time": "2024-04-17T15:33:58.496Z"
   },
   {
    "duration": 1553,
    "start_time": "2024-04-17T15:54:29.028Z"
   },
   {
    "duration": 3,
    "start_time": "2024-04-17T15:54:30.584Z"
   },
   {
    "duration": 164,
    "start_time": "2024-04-17T15:54:30.588Z"
   },
   {
    "duration": 258,
    "start_time": "2024-04-17T15:54:30.754Z"
   },
   {
    "duration": 159,
    "start_time": "2024-04-17T15:54:31.015Z"
   },
   {
    "duration": 179,
    "start_time": "2024-04-17T15:54:31.176Z"
   },
   {
    "duration": 415,
    "start_time": "2024-04-17T15:54:31.356Z"
   },
   {
    "duration": 528,
    "start_time": "2024-04-17T15:54:31.773Z"
   },
   {
    "duration": 743,
    "start_time": "2024-04-17T15:54:32.303Z"
   },
   {
    "duration": 313,
    "start_time": "2024-04-17T15:54:33.047Z"
   },
   {
    "duration": 37,
    "start_time": "2024-04-17T15:54:33.362Z"
   },
   {
    "duration": 137,
    "start_time": "2024-04-17T15:54:33.400Z"
   },
   {
    "duration": 14,
    "start_time": "2024-04-17T15:54:33.539Z"
   },
   {
    "duration": 40,
    "start_time": "2024-04-17T15:54:33.556Z"
   },
   {
    "duration": 102,
    "start_time": "2024-04-17T15:54:33.598Z"
   },
   {
    "duration": 905,
    "start_time": "2024-04-17T15:54:33.791Z"
   },
   {
    "duration": 5,
    "start_time": "2024-04-17T15:54:34.698Z"
   },
   {
    "duration": 96,
    "start_time": "2024-04-17T15:54:34.705Z"
   },
   {
    "duration": 893,
    "start_time": "2024-04-17T15:54:34.804Z"
   },
   {
    "duration": 5,
    "start_time": "2024-04-17T15:54:35.699Z"
   },
   {
    "duration": 87,
    "start_time": "2024-04-17T15:54:35.705Z"
   },
   {
    "duration": 1032,
    "start_time": "2024-04-17T15:54:35.794Z"
   },
   {
    "duration": 4,
    "start_time": "2024-04-17T15:54:36.828Z"
   },
   {
    "duration": 1455,
    "start_time": "2024-04-17T15:56:07.503Z"
   },
   {
    "duration": 3,
    "start_time": "2024-04-17T15:56:08.960Z"
   },
   {
    "duration": 6,
    "start_time": "2024-04-17T15:56:08.964Z"
   },
   {
    "duration": 193,
    "start_time": "2024-04-17T15:56:08.972Z"
   },
   {
    "duration": 150,
    "start_time": "2024-04-17T15:56:09.167Z"
   },
   {
    "duration": 153,
    "start_time": "2024-04-17T15:56:09.318Z"
   },
   {
    "duration": 188,
    "start_time": "2024-04-17T15:56:09.473Z"
   },
   {
    "duration": 45,
    "start_time": "2024-04-17T15:56:09.663Z"
   },
   {
    "duration": 58,
    "start_time": "2024-04-17T15:56:09.709Z"
   },
   {
    "duration": 95,
    "start_time": "2024-04-17T15:56:09.769Z"
   },
   {
    "duration": 10,
    "start_time": "2024-04-17T15:56:09.866Z"
   },
   {
    "duration": 43,
    "start_time": "2024-04-17T15:56:09.878Z"
   },
   {
    "duration": 11,
    "start_time": "2024-04-17T15:56:09.923Z"
   },
   {
    "duration": 28,
    "start_time": "2024-04-17T15:56:09.937Z"
   },
   {
    "duration": 128,
    "start_time": "2024-04-17T15:56:09.967Z"
   },
   {
    "duration": 1615,
    "start_time": "2024-04-17T15:56:10.097Z"
   },
   {
    "duration": 6,
    "start_time": "2024-04-17T15:56:11.714Z"
   },
   {
    "duration": 85,
    "start_time": "2024-04-17T15:56:11.722Z"
   },
   {
    "duration": 977,
    "start_time": "2024-04-17T15:56:11.809Z"
   },
   {
    "duration": 6,
    "start_time": "2024-04-17T15:56:12.788Z"
   },
   {
    "duration": 100,
    "start_time": "2024-04-17T15:56:12.796Z"
   },
   {
    "duration": 999,
    "start_time": "2024-04-17T15:56:12.898Z"
   },
   {
    "duration": 4,
    "start_time": "2024-04-17T15:56:13.898Z"
   },
   {
    "duration": 1653,
    "start_time": "2024-04-18T07:27:31.152Z"
   },
   {
    "duration": 2,
    "start_time": "2024-04-18T07:27:32.807Z"
   },
   {
    "duration": 9,
    "start_time": "2024-04-18T07:27:32.811Z"
   },
   {
    "duration": 639,
    "start_time": "2024-04-18T07:27:32.821Z"
   },
   {
    "duration": 566,
    "start_time": "2024-04-18T07:27:33.462Z"
   },
   {
    "duration": 576,
    "start_time": "2024-04-18T07:27:34.029Z"
   },
   {
    "duration": 190,
    "start_time": "2024-04-18T07:27:34.606Z"
   },
   {
    "duration": 40,
    "start_time": "2024-04-18T07:27:34.797Z"
   },
   {
    "duration": 64,
    "start_time": "2024-04-18T07:27:34.838Z"
   },
   {
    "duration": 76,
    "start_time": "2024-04-18T07:27:34.903Z"
   },
   {
    "duration": 9,
    "start_time": "2024-04-18T07:27:34.980Z"
   },
   {
    "duration": 38,
    "start_time": "2024-04-18T07:27:34.991Z"
   },
   {
    "duration": 29,
    "start_time": "2024-04-18T07:27:35.031Z"
   },
   {
    "duration": 35,
    "start_time": "2024-04-18T07:27:35.063Z"
   },
   {
    "duration": 161,
    "start_time": "2024-04-18T07:27:35.101Z"
   },
   {
    "duration": 873,
    "start_time": "2024-04-18T07:27:35.267Z"
   },
   {
    "duration": 5,
    "start_time": "2024-04-18T07:27:36.141Z"
   },
   {
    "duration": 102,
    "start_time": "2024-04-18T07:27:36.155Z"
   },
   {
    "duration": 850,
    "start_time": "2024-04-18T07:27:36.259Z"
   },
   {
    "duration": 4,
    "start_time": "2024-04-18T07:27:37.111Z"
   },
   {
    "duration": 51,
    "start_time": "2024-04-18T07:27:37.117Z"
   },
   {
    "duration": 1110,
    "start_time": "2024-04-18T07:27:37.170Z"
   },
   {
    "duration": 3,
    "start_time": "2024-04-18T07:27:38.282Z"
   },
   {
    "duration": 1397,
    "start_time": "2024-04-18T07:28:17.694Z"
   },
   {
    "duration": 2,
    "start_time": "2024-04-18T07:28:19.093Z"
   },
   {
    "duration": 23,
    "start_time": "2024-04-18T07:28:19.097Z"
   },
   {
    "duration": 196,
    "start_time": "2024-04-18T07:28:19.121Z"
   },
   {
    "duration": 154,
    "start_time": "2024-04-18T07:28:19.320Z"
   },
   {
    "duration": 151,
    "start_time": "2024-04-18T07:28:19.476Z"
   },
   {
    "duration": 182,
    "start_time": "2024-04-18T07:28:19.628Z"
   },
   {
    "duration": 46,
    "start_time": "2024-04-18T07:28:19.811Z"
   },
   {
    "duration": 52,
    "start_time": "2024-04-18T07:28:19.858Z"
   },
   {
    "duration": 80,
    "start_time": "2024-04-18T07:28:19.912Z"
   },
   {
    "duration": 10,
    "start_time": "2024-04-18T07:28:19.993Z"
   },
   {
    "duration": 87,
    "start_time": "2024-04-18T07:28:20.005Z"
   },
   {
    "duration": 14,
    "start_time": "2024-04-18T07:28:20.094Z"
   },
   {
    "duration": 31,
    "start_time": "2024-04-18T07:28:20.111Z"
   },
   {
    "duration": 113,
    "start_time": "2024-04-18T07:28:20.144Z"
   },
   {
    "duration": 440,
    "start_time": "2024-04-18T07:28:20.260Z"
   },
   {
    "duration": 4,
    "start_time": "2024-04-18T07:28:20.702Z"
   },
   {
    "duration": 53,
    "start_time": "2024-04-18T07:28:20.707Z"
   },
   {
    "duration": 559,
    "start_time": "2024-04-18T07:28:20.763Z"
   },
   {
    "duration": 4,
    "start_time": "2024-04-18T07:28:21.324Z"
   },
   {
    "duration": 131,
    "start_time": "2024-04-18T07:28:21.330Z"
   },
   {
    "duration": 439,
    "start_time": "2024-04-18T07:28:21.463Z"
   },
   {
    "duration": 4,
    "start_time": "2024-04-18T07:28:21.903Z"
   },
   {
    "duration": 1824,
    "start_time": "2024-04-18T13:40:42.847Z"
   },
   {
    "duration": 6,
    "start_time": "2024-04-18T13:40:44.673Z"
   },
   {
    "duration": 19,
    "start_time": "2024-04-18T13:40:44.681Z"
   },
   {
    "duration": 651,
    "start_time": "2024-04-18T13:40:44.702Z"
   },
   {
    "duration": 562,
    "start_time": "2024-04-18T13:40:45.356Z"
   },
   {
    "duration": 563,
    "start_time": "2024-04-18T13:40:45.920Z"
   },
   {
    "duration": 179,
    "start_time": "2024-04-18T13:40:46.485Z"
   },
   {
    "duration": 44,
    "start_time": "2024-04-18T13:40:46.665Z"
   },
   {
    "duration": 74,
    "start_time": "2024-04-18T13:40:46.711Z"
   },
   {
    "duration": 72,
    "start_time": "2024-04-18T13:40:46.786Z"
   },
   {
    "duration": 10,
    "start_time": "2024-04-18T13:40:46.859Z"
   },
   {
    "duration": 38,
    "start_time": "2024-04-18T13:40:46.870Z"
   },
   {
    "duration": 12,
    "start_time": "2024-04-18T13:40:46.909Z"
   },
   {
    "duration": 7,
    "start_time": "2024-04-18T13:40:46.923Z"
   },
   {
    "duration": 210,
    "start_time": "2024-04-18T13:40:46.956Z"
   },
   {
    "duration": 976,
    "start_time": "2024-04-18T13:40:47.168Z"
   },
   {
    "duration": 4,
    "start_time": "2024-04-18T13:40:48.145Z"
   },
   {
    "duration": 110,
    "start_time": "2024-04-18T13:40:48.156Z"
   },
   {
    "duration": 1069,
    "start_time": "2024-04-18T13:40:48.268Z"
   },
   {
    "duration": 4,
    "start_time": "2024-04-18T13:40:49.338Z"
   },
   {
    "duration": 35,
    "start_time": "2024-04-18T13:40:49.344Z"
   },
   {
    "duration": 983,
    "start_time": "2024-04-18T13:40:49.381Z"
   },
   {
    "duration": 4,
    "start_time": "2024-04-18T13:40:50.366Z"
   },
   {
    "duration": 2373,
    "start_time": "2024-04-18T13:40:50.371Z"
   },
   {
    "duration": 2471,
    "start_time": "2024-04-18T13:41:48.039Z"
   },
   {
    "duration": 2338,
    "start_time": "2024-04-18T13:41:59.765Z"
   },
   {
    "duration": 80,
    "start_time": "2024-04-18T13:42:23.307Z"
   },
   {
    "duration": 2332,
    "start_time": "2024-04-18T13:42:32.075Z"
   },
   {
    "duration": 695,
    "start_time": "2024-04-18T13:45:24.091Z"
   },
   {
    "duration": 4,
    "start_time": "2024-04-18T13:46:40.407Z"
   },
   {
    "duration": 2164,
    "start_time": "2024-04-18T13:46:45.417Z"
   },
   {
    "duration": 10,
    "start_time": "2024-04-18T13:48:16.141Z"
   },
   {
    "duration": 11,
    "start_time": "2024-04-18T13:48:23.514Z"
   },
   {
    "duration": 1545,
    "start_time": "2024-04-18T13:49:03.651Z"
   },
   {
    "duration": 3,
    "start_time": "2024-04-18T13:49:05.198Z"
   },
   {
    "duration": 34,
    "start_time": "2024-04-18T13:49:05.203Z"
   },
   {
    "duration": 191,
    "start_time": "2024-04-18T13:49:05.239Z"
   },
   {
    "duration": 151,
    "start_time": "2024-04-18T13:49:05.432Z"
   },
   {
    "duration": 157,
    "start_time": "2024-04-18T13:49:05.585Z"
   },
   {
    "duration": 198,
    "start_time": "2024-04-18T13:49:05.744Z"
   },
   {
    "duration": 44,
    "start_time": "2024-04-18T13:49:05.943Z"
   },
   {
    "duration": 68,
    "start_time": "2024-04-18T13:49:05.989Z"
   },
   {
    "duration": 66,
    "start_time": "2024-04-18T13:49:06.059Z"
   },
   {
    "duration": 9,
    "start_time": "2024-04-18T13:49:06.127Z"
   },
   {
    "duration": 52,
    "start_time": "2024-04-18T13:49:06.137Z"
   },
   {
    "duration": 12,
    "start_time": "2024-04-18T13:49:06.191Z"
   },
   {
    "duration": 33,
    "start_time": "2024-04-18T13:49:06.205Z"
   },
   {
    "duration": 118,
    "start_time": "2024-04-18T13:49:06.240Z"
   },
   {
    "duration": 857,
    "start_time": "2024-04-18T13:49:06.360Z"
   },
   {
    "duration": 4,
    "start_time": "2024-04-18T13:49:07.219Z"
   },
   {
    "duration": 38,
    "start_time": "2024-04-18T13:49:07.224Z"
   },
   {
    "duration": 958,
    "start_time": "2024-04-18T13:49:07.264Z"
   },
   {
    "duration": 4,
    "start_time": "2024-04-18T13:49:08.224Z"
   },
   {
    "duration": 132,
    "start_time": "2024-04-18T13:49:08.230Z"
   },
   {
    "duration": 869,
    "start_time": "2024-04-18T13:49:08.364Z"
   },
   {
    "duration": 4,
    "start_time": "2024-04-18T13:49:09.235Z"
   },
   {
    "duration": 122,
    "start_time": "2024-04-18T13:49:09.241Z"
   },
   {
    "duration": 6,
    "start_time": "2024-04-18T13:50:53.638Z"
   },
   {
    "duration": 2452,
    "start_time": "2024-04-18T13:53:53.715Z"
   },
   {
    "duration": 4,
    "start_time": "2024-04-18T13:53:56.168Z"
   },
   {
    "duration": 13,
    "start_time": "2024-04-18T13:53:56.173Z"
   },
   {
    "duration": 309,
    "start_time": "2024-04-18T13:53:56.188Z"
   },
   {
    "duration": 240,
    "start_time": "2024-04-18T13:53:56.555Z"
   },
   {
    "duration": 238,
    "start_time": "2024-04-18T13:53:56.797Z"
   },
   {
    "duration": 200,
    "start_time": "2024-04-18T13:53:57.036Z"
   },
   {
    "duration": 48,
    "start_time": "2024-04-18T13:53:57.238Z"
   },
   {
    "duration": 68,
    "start_time": "2024-04-18T13:53:57.288Z"
   },
   {
    "duration": 68,
    "start_time": "2024-04-18T13:53:57.357Z"
   },
   {
    "duration": 10,
    "start_time": "2024-04-18T13:53:57.427Z"
   },
   {
    "duration": 37,
    "start_time": "2024-04-18T13:53:57.457Z"
   },
   {
    "duration": 12,
    "start_time": "2024-04-18T13:53:57.496Z"
   },
   {
    "duration": 13,
    "start_time": "2024-04-18T13:53:57.510Z"
   },
   {
    "duration": 130,
    "start_time": "2024-04-18T13:53:57.525Z"
   },
   {
    "duration": 6,
    "start_time": "2024-04-18T13:53:57.657Z"
   },
   {
    "duration": 914,
    "start_time": "2024-04-18T13:53:57.665Z"
   },
   {
    "duration": 3,
    "start_time": "2024-04-18T13:53:58.581Z"
   },
   {
    "duration": 75,
    "start_time": "2024-04-18T13:53:58.586Z"
   },
   {
    "duration": 853,
    "start_time": "2024-04-18T13:53:58.663Z"
   },
   {
    "duration": 4,
    "start_time": "2024-04-18T13:53:59.518Z"
   },
   {
    "duration": 42,
    "start_time": "2024-04-18T13:53:59.524Z"
   },
   {
    "duration": 952,
    "start_time": "2024-04-18T13:53:59.569Z"
   },
   {
    "duration": 4,
    "start_time": "2024-04-18T13:54:00.522Z"
   },
   {
    "duration": 289,
    "start_time": "2024-04-18T13:54:00.528Z"
   },
   {
    "duration": 11,
    "start_time": "2024-04-18T13:54:34.285Z"
   },
   {
    "duration": 2203,
    "start_time": "2024-04-18T13:56:09.033Z"
   },
   {
    "duration": 3,
    "start_time": "2024-04-18T13:56:11.238Z"
   },
   {
    "duration": 12,
    "start_time": "2024-04-18T13:56:11.243Z"
   },
   {
    "duration": 186,
    "start_time": "2024-04-18T13:56:11.257Z"
   },
   {
    "duration": 149,
    "start_time": "2024-04-18T13:56:11.445Z"
   },
   {
    "duration": 153,
    "start_time": "2024-04-18T13:56:11.596Z"
   },
   {
    "duration": 183,
    "start_time": "2024-04-18T13:56:11.755Z"
   },
   {
    "duration": 43,
    "start_time": "2024-04-18T13:56:11.940Z"
   },
   {
    "duration": 55,
    "start_time": "2024-04-18T13:56:11.985Z"
   },
   {
    "duration": 64,
    "start_time": "2024-04-18T13:56:12.055Z"
   },
   {
    "duration": 9,
    "start_time": "2024-04-18T13:56:12.120Z"
   },
   {
    "duration": 55,
    "start_time": "2024-04-18T13:56:12.131Z"
   },
   {
    "duration": 14,
    "start_time": "2024-04-18T13:56:12.189Z"
   },
   {
    "duration": 12,
    "start_time": "2024-04-18T13:56:12.206Z"
   },
   {
    "duration": 43,
    "start_time": "2024-04-18T13:56:12.220Z"
   },
   {
    "duration": 295,
    "start_time": "2024-04-18T13:56:12.265Z"
   },
   {
    "duration": 0,
    "start_time": "2024-04-18T13:56:12.562Z"
   },
   {
    "duration": 0,
    "start_time": "2024-04-18T13:56:12.563Z"
   },
   {
    "duration": 0,
    "start_time": "2024-04-18T13:56:12.564Z"
   },
   {
    "duration": 0,
    "start_time": "2024-04-18T13:56:12.565Z"
   },
   {
    "duration": 0,
    "start_time": "2024-04-18T13:56:12.566Z"
   },
   {
    "duration": 0,
    "start_time": "2024-04-18T13:56:12.567Z"
   },
   {
    "duration": 0,
    "start_time": "2024-04-18T13:56:12.568Z"
   },
   {
    "duration": 0,
    "start_time": "2024-04-18T13:56:12.569Z"
   },
   {
    "duration": 0,
    "start_time": "2024-04-18T13:56:12.571Z"
   },
   {
    "duration": 0,
    "start_time": "2024-04-18T13:56:12.572Z"
   },
   {
    "duration": 10,
    "start_time": "2024-04-18T13:57:05.964Z"
   },
   {
    "duration": 12,
    "start_time": "2024-04-18T13:57:35.501Z"
   },
   {
    "duration": 11,
    "start_time": "2024-04-18T13:57:36.655Z"
   },
   {
    "duration": 1389,
    "start_time": "2024-04-18T13:58:11.213Z"
   },
   {
    "duration": 3,
    "start_time": "2024-04-18T13:58:12.604Z"
   },
   {
    "duration": 5,
    "start_time": "2024-04-18T13:58:12.609Z"
   },
   {
    "duration": 175,
    "start_time": "2024-04-18T13:58:12.616Z"
   },
   {
    "duration": 150,
    "start_time": "2024-04-18T13:58:12.793Z"
   },
   {
    "duration": 154,
    "start_time": "2024-04-18T13:58:12.944Z"
   },
   {
    "duration": 196,
    "start_time": "2024-04-18T13:58:13.100Z"
   },
   {
    "duration": 38,
    "start_time": "2024-04-18T13:58:13.298Z"
   },
   {
    "duration": 65,
    "start_time": "2024-04-18T13:58:13.337Z"
   },
   {
    "duration": 82,
    "start_time": "2024-04-18T13:58:13.404Z"
   },
   {
    "duration": 9,
    "start_time": "2024-04-18T13:58:13.487Z"
   },
   {
    "duration": 36,
    "start_time": "2024-04-18T13:58:13.498Z"
   },
   {
    "duration": 27,
    "start_time": "2024-04-18T13:58:13.536Z"
   },
   {
    "duration": 31,
    "start_time": "2024-04-18T13:58:13.565Z"
   },
   {
    "duration": 63,
    "start_time": "2024-04-18T13:58:13.597Z"
   },
   {
    "duration": 96,
    "start_time": "2024-04-18T13:58:13.662Z"
   },
   {
    "duration": 15,
    "start_time": "2024-04-18T13:58:13.760Z"
   },
   {
    "duration": 889,
    "start_time": "2024-04-18T13:58:13.776Z"
   },
   {
    "duration": 4,
    "start_time": "2024-04-18T13:58:14.667Z"
   },
   {
    "duration": 83,
    "start_time": "2024-04-18T13:58:14.673Z"
   },
   {
    "duration": 844,
    "start_time": "2024-04-18T13:58:14.759Z"
   },
   {
    "duration": 3,
    "start_time": "2024-04-18T13:58:15.605Z"
   },
   {
    "duration": 52,
    "start_time": "2024-04-18T13:58:15.609Z"
   },
   {
    "duration": 1522,
    "start_time": "2024-04-18T13:58:15.663Z"
   },
   {
    "duration": 4,
    "start_time": "2024-04-18T13:58:17.187Z"
   },
   {
    "duration": 281,
    "start_time": "2024-04-18T13:58:17.192Z"
   },
   {
    "duration": 1454,
    "start_time": "2024-04-18T14:00:02.372Z"
   },
   {
    "duration": 3,
    "start_time": "2024-04-18T14:00:03.827Z"
   },
   {
    "duration": 21,
    "start_time": "2024-04-18T14:00:03.832Z"
   },
   {
    "duration": 185,
    "start_time": "2024-04-18T14:00:03.855Z"
   },
   {
    "duration": 153,
    "start_time": "2024-04-18T14:00:04.042Z"
   },
   {
    "duration": 160,
    "start_time": "2024-04-18T14:00:04.196Z"
   },
   {
    "duration": 213,
    "start_time": "2024-04-18T14:00:04.357Z"
   },
   {
    "duration": 42,
    "start_time": "2024-04-18T14:00:04.572Z"
   },
   {
    "duration": 98,
    "start_time": "2024-04-18T14:00:04.616Z"
   },
   {
    "duration": 74,
    "start_time": "2024-04-18T14:00:04.717Z"
   },
   {
    "duration": 10,
    "start_time": "2024-04-18T14:00:04.793Z"
   },
   {
    "duration": 52,
    "start_time": "2024-04-18T14:00:04.804Z"
   },
   {
    "duration": 12,
    "start_time": "2024-04-18T14:00:04.857Z"
   },
   {
    "duration": 19,
    "start_time": "2024-04-18T14:00:04.871Z"
   },
   {
    "duration": 69,
    "start_time": "2024-04-18T14:00:04.892Z"
   },
   {
    "duration": 95,
    "start_time": "2024-04-18T14:00:04.963Z"
   },
   {
    "duration": 1135,
    "start_time": "2024-04-18T14:00:05.060Z"
   },
   {
    "duration": 4,
    "start_time": "2024-04-18T14:00:06.197Z"
   },
   {
    "duration": 154,
    "start_time": "2024-04-18T14:00:06.202Z"
   },
   {
    "duration": 6,
    "start_time": "2024-04-18T14:00:06.358Z"
   },
   {
    "duration": 1251,
    "start_time": "2024-04-18T14:00:06.366Z"
   },
   {
    "duration": 4,
    "start_time": "2024-04-18T14:00:07.619Z"
   },
   {
    "duration": 41,
    "start_time": "2024-04-18T14:00:07.625Z"
   },
   {
    "duration": 90,
    "start_time": "2024-04-18T14:00:07.669Z"
   },
   {
    "duration": 866,
    "start_time": "2024-04-18T14:00:07.767Z"
   },
   {
    "duration": 4,
    "start_time": "2024-04-18T14:00:08.634Z"
   },
   {
    "duration": 877,
    "start_time": "2024-04-18T14:00:08.639Z"
   },
   {
    "duration": 829,
    "start_time": "2024-04-18T14:00:45.933Z"
   },
   {
    "duration": 123,
    "start_time": "2024-04-18T14:02:06.950Z"
   },
   {
    "duration": 1477,
    "start_time": "2024-04-18T14:02:42.261Z"
   },
   {
    "duration": 3,
    "start_time": "2024-04-18T14:02:43.740Z"
   },
   {
    "duration": 41,
    "start_time": "2024-04-18T14:02:43.744Z"
   },
   {
    "duration": 271,
    "start_time": "2024-04-18T14:02:43.787Z"
   },
   {
    "duration": 156,
    "start_time": "2024-04-18T14:02:44.060Z"
   },
   {
    "duration": 169,
    "start_time": "2024-04-18T14:02:44.218Z"
   },
   {
    "duration": 218,
    "start_time": "2024-04-18T14:02:44.390Z"
   },
   {
    "duration": 56,
    "start_time": "2024-04-18T14:02:44.610Z"
   },
   {
    "duration": 58,
    "start_time": "2024-04-18T14:02:44.668Z"
   },
   {
    "duration": 79,
    "start_time": "2024-04-18T14:02:44.728Z"
   },
   {
    "duration": 19,
    "start_time": "2024-04-18T14:02:44.809Z"
   },
   {
    "duration": 99,
    "start_time": "2024-04-18T14:02:44.830Z"
   },
   {
    "duration": 12,
    "start_time": "2024-04-18T14:02:44.932Z"
   },
   {
    "duration": 6,
    "start_time": "2024-04-18T14:02:44.947Z"
   },
   {
    "duration": 100,
    "start_time": "2024-04-18T14:02:44.955Z"
   },
   {
    "duration": 5,
    "start_time": "2024-04-18T14:02:45.058Z"
   },
   {
    "duration": 982,
    "start_time": "2024-04-18T14:02:45.155Z"
   },
   {
    "duration": 5,
    "start_time": "2024-04-18T14:02:46.138Z"
   },
   {
    "duration": 111,
    "start_time": "2024-04-18T14:02:46.144Z"
   },
   {
    "duration": 6,
    "start_time": "2024-04-18T14:02:46.258Z"
   },
   {
    "duration": 760,
    "start_time": "2024-04-18T14:02:46.355Z"
   },
   {
    "duration": 5,
    "start_time": "2024-04-18T14:02:47.116Z"
   },
   {
    "duration": 134,
    "start_time": "2024-04-18T14:02:47.123Z"
   },
   {
    "duration": 5,
    "start_time": "2024-04-18T14:02:47.261Z"
   },
   {
    "duration": 772,
    "start_time": "2024-04-18T14:02:47.357Z"
   },
   {
    "duration": 3,
    "start_time": "2024-04-18T14:02:48.131Z"
   },
   {
    "duration": 901,
    "start_time": "2024-04-18T14:02:48.136Z"
   },
   {
    "duration": 977,
    "start_time": "2024-04-18T14:02:49.039Z"
   },
   {
    "duration": 871,
    "start_time": "2024-04-18T14:03:59.344Z"
   },
   {
    "duration": 1607,
    "start_time": "2024-04-18T19:03:58.150Z"
   },
   {
    "duration": 3,
    "start_time": "2024-04-18T19:03:59.759Z"
   },
   {
    "duration": 21,
    "start_time": "2024-04-18T19:03:59.763Z"
   },
   {
    "duration": 276,
    "start_time": "2024-04-18T19:03:59.786Z"
   },
   {
    "duration": 230,
    "start_time": "2024-04-18T19:04:00.064Z"
   },
   {
    "duration": 233,
    "start_time": "2024-04-18T19:04:00.295Z"
   },
   {
    "duration": 198,
    "start_time": "2024-04-18T19:04:00.529Z"
   },
   {
    "duration": 38,
    "start_time": "2024-04-18T19:04:00.729Z"
   },
   {
    "duration": 76,
    "start_time": "2024-04-18T19:04:00.769Z"
   },
   {
    "duration": 81,
    "start_time": "2024-04-18T19:04:00.848Z"
   },
   {
    "duration": 26,
    "start_time": "2024-04-18T19:04:00.931Z"
   },
   {
    "duration": 66,
    "start_time": "2024-04-18T19:04:00.959Z"
   },
   {
    "duration": 27,
    "start_time": "2024-04-18T19:04:01.027Z"
   },
   {
    "duration": 72,
    "start_time": "2024-04-18T19:04:01.056Z"
   },
   {
    "duration": 200,
    "start_time": "2024-04-18T19:04:01.129Z"
   },
   {
    "duration": 5,
    "start_time": "2024-04-18T19:04:01.416Z"
   },
   {
    "duration": 854,
    "start_time": "2024-04-18T19:04:01.422Z"
   },
   {
    "duration": 4,
    "start_time": "2024-04-18T19:04:02.278Z"
   },
   {
    "duration": 39,
    "start_time": "2024-04-18T19:04:02.284Z"
   },
   {
    "duration": 91,
    "start_time": "2024-04-18T19:04:02.325Z"
   },
   {
    "duration": 835,
    "start_time": "2024-04-18T19:04:02.419Z"
   },
   {
    "duration": 4,
    "start_time": "2024-04-18T19:04:03.256Z"
   },
   {
    "duration": 62,
    "start_time": "2024-04-18T19:04:03.262Z"
   },
   {
    "duration": 91,
    "start_time": "2024-04-18T19:04:03.326Z"
   },
   {
    "duration": 823,
    "start_time": "2024-04-18T19:04:03.419Z"
   },
   {
    "duration": 4,
    "start_time": "2024-04-18T19:04:04.244Z"
   },
   {
    "duration": 991,
    "start_time": "2024-04-18T19:04:04.250Z"
   },
   {
    "duration": 837,
    "start_time": "2024-04-18T19:04:05.244Z"
   },
   {
    "duration": 857,
    "start_time": "2024-04-18T19:04:06.082Z"
   },
   {
    "duration": 1425,
    "start_time": "2024-04-18T19:11:00.855Z"
   },
   {
    "duration": 3,
    "start_time": "2024-04-18T19:11:02.282Z"
   },
   {
    "duration": 59,
    "start_time": "2024-04-18T19:11:02.287Z"
   },
   {
    "duration": 179,
    "start_time": "2024-04-18T19:11:02.348Z"
   },
   {
    "duration": 154,
    "start_time": "2024-04-18T19:11:02.529Z"
   },
   {
    "duration": 150,
    "start_time": "2024-04-18T19:11:02.685Z"
   },
   {
    "duration": 197,
    "start_time": "2024-04-18T19:11:02.836Z"
   },
   {
    "duration": 36,
    "start_time": "2024-04-18T19:11:03.034Z"
   },
   {
    "duration": 69,
    "start_time": "2024-04-18T19:11:03.072Z"
   },
   {
    "duration": 61,
    "start_time": "2024-04-18T19:11:03.143Z"
   },
   {
    "duration": 17,
    "start_time": "2024-04-18T19:11:03.205Z"
   },
   {
    "duration": 52,
    "start_time": "2024-04-18T19:11:03.223Z"
   },
   {
    "duration": 12,
    "start_time": "2024-04-18T19:11:03.276Z"
   },
   {
    "duration": 6,
    "start_time": "2024-04-18T19:11:03.290Z"
   },
   {
    "duration": 37,
    "start_time": "2024-04-18T19:11:03.297Z"
   },
   {
    "duration": 86,
    "start_time": "2024-04-18T19:11:03.335Z"
   },
   {
    "duration": 850,
    "start_time": "2024-04-18T19:11:03.422Z"
   },
   {
    "duration": 4,
    "start_time": "2024-04-18T19:11:04.274Z"
   },
   {
    "duration": 41,
    "start_time": "2024-04-18T19:11:04.279Z"
   },
   {
    "duration": 102,
    "start_time": "2024-04-18T19:11:04.322Z"
   },
   {
    "duration": 771,
    "start_time": "2024-04-18T19:11:04.515Z"
   },
   {
    "duration": 5,
    "start_time": "2024-04-18T19:11:05.287Z"
   },
   {
    "duration": 40,
    "start_time": "2024-04-18T19:11:05.293Z"
   },
   {
    "duration": 4,
    "start_time": "2024-04-18T19:11:05.415Z"
   },
   {
    "duration": 852,
    "start_time": "2024-04-18T19:11:05.421Z"
   },
   {
    "duration": 4,
    "start_time": "2024-04-18T19:11:06.274Z"
   },
   {
    "duration": 941,
    "start_time": "2024-04-18T19:11:06.279Z"
   },
   {
    "duration": 839,
    "start_time": "2024-04-18T19:11:07.223Z"
   },
   {
    "duration": 864,
    "start_time": "2024-04-18T19:11:08.064Z"
   },
   {
    "duration": 1607,
    "start_time": "2024-04-19T08:45:06.846Z"
   },
   {
    "duration": 3,
    "start_time": "2024-04-19T08:45:08.455Z"
   },
   {
    "duration": 37,
    "start_time": "2024-04-19T08:45:08.460Z"
   },
   {
    "duration": 278,
    "start_time": "2024-04-19T08:45:08.498Z"
   },
   {
    "duration": 226,
    "start_time": "2024-04-19T08:45:08.779Z"
   },
   {
    "duration": 232,
    "start_time": "2024-04-19T08:45:09.006Z"
   },
   {
    "duration": 179,
    "start_time": "2024-04-19T08:45:09.239Z"
   },
   {
    "duration": 42,
    "start_time": "2024-04-19T08:45:09.419Z"
   },
   {
    "duration": 55,
    "start_time": "2024-04-19T08:45:09.463Z"
   },
   {
    "duration": 72,
    "start_time": "2024-04-19T08:45:09.520Z"
   },
   {
    "duration": 9,
    "start_time": "2024-04-19T08:45:09.594Z"
   },
   {
    "duration": 42,
    "start_time": "2024-04-19T08:45:09.605Z"
   },
   {
    "duration": 20,
    "start_time": "2024-04-19T08:45:09.648Z"
   },
   {
    "duration": 21,
    "start_time": "2024-04-19T08:45:09.671Z"
   },
   {
    "duration": 173,
    "start_time": "2024-04-19T08:45:09.693Z"
   },
   {
    "duration": 3,
    "start_time": "2024-04-19T08:45:09.868Z"
   },
   {
    "duration": 981,
    "start_time": "2024-04-19T08:45:09.872Z"
   },
   {
    "duration": 8,
    "start_time": "2024-04-19T08:45:10.855Z"
   },
   {
    "duration": 98,
    "start_time": "2024-04-19T08:45:10.865Z"
   },
   {
    "duration": 4,
    "start_time": "2024-04-19T08:45:10.965Z"
   },
   {
    "duration": 830,
    "start_time": "2024-04-19T08:45:10.971Z"
   },
   {
    "duration": 4,
    "start_time": "2024-04-19T08:45:11.803Z"
   },
   {
    "duration": 58,
    "start_time": "2024-04-19T08:45:11.809Z"
   },
   {
    "duration": 94,
    "start_time": "2024-04-19T08:45:11.869Z"
   },
   {
    "duration": 817,
    "start_time": "2024-04-19T08:45:11.965Z"
   },
   {
    "duration": 4,
    "start_time": "2024-04-19T08:45:12.783Z"
   },
   {
    "duration": 36,
    "start_time": "2024-04-19T08:45:12.788Z"
   },
   {
    "duration": 1056,
    "start_time": "2024-04-19T08:45:12.825Z"
   },
   {
    "duration": 0,
    "start_time": "2024-04-19T08:45:13.883Z"
   },
   {
    "duration": 0,
    "start_time": "2024-04-19T08:45:13.884Z"
   },
   {
    "duration": 818,
    "start_time": "2024-04-19T08:45:34.817Z"
   },
   {
    "duration": 834,
    "start_time": "2024-04-19T08:46:14.203Z"
   },
   {
    "duration": 788,
    "start_time": "2024-04-19T08:46:30.444Z"
   },
   {
    "duration": 847,
    "start_time": "2024-04-19T08:46:43.316Z"
   },
   {
    "duration": 11,
    "start_time": "2024-04-19T08:46:52.275Z"
   },
   {
    "duration": 833,
    "start_time": "2024-04-19T08:47:21.214Z"
   },
   {
    "duration": 852,
    "start_time": "2024-04-19T09:08:28.550Z"
   },
   {
    "duration": 1504,
    "start_time": "2024-04-19T09:12:06.633Z"
   },
   {
    "duration": 3,
    "start_time": "2024-04-19T09:12:08.139Z"
   },
   {
    "duration": 16,
    "start_time": "2024-04-19T09:12:08.143Z"
   },
   {
    "duration": 173,
    "start_time": "2024-04-19T09:12:08.161Z"
   },
   {
    "duration": 148,
    "start_time": "2024-04-19T09:12:08.336Z"
   },
   {
    "duration": 155,
    "start_time": "2024-04-19T09:12:08.486Z"
   },
   {
    "duration": 196,
    "start_time": "2024-04-19T09:12:08.643Z"
   },
   {
    "duration": 53,
    "start_time": "2024-04-19T09:12:08.841Z"
   },
   {
    "duration": 73,
    "start_time": "2024-04-19T09:12:08.896Z"
   },
   {
    "duration": 65,
    "start_time": "2024-04-19T09:12:08.971Z"
   },
   {
    "duration": 25,
    "start_time": "2024-04-19T09:12:09.037Z"
   },
   {
    "duration": 35,
    "start_time": "2024-04-19T09:12:09.064Z"
   },
   {
    "duration": 11,
    "start_time": "2024-04-19T09:12:09.100Z"
   },
   {
    "duration": 28,
    "start_time": "2024-04-19T09:12:09.113Z"
   },
   {
    "duration": 36,
    "start_time": "2024-04-19T09:12:09.143Z"
   },
   {
    "duration": 82,
    "start_time": "2024-04-19T09:12:09.181Z"
   },
   {
    "duration": 824,
    "start_time": "2024-04-19T09:12:09.265Z"
   },
   {
    "duration": 4,
    "start_time": "2024-04-19T09:12:10.091Z"
   },
   {
    "duration": 71,
    "start_time": "2024-04-19T09:12:10.097Z"
   },
   {
    "duration": 4,
    "start_time": "2024-04-19T09:12:10.170Z"
   },
   {
    "duration": 713,
    "start_time": "2024-04-19T09:12:10.261Z"
   },
   {
    "duration": 4,
    "start_time": "2024-04-19T09:12:10.976Z"
   },
   {
    "duration": 80,
    "start_time": "2024-04-19T09:12:10.981Z"
   },
   {
    "duration": 4,
    "start_time": "2024-04-19T09:12:11.064Z"
   },
   {
    "duration": 821,
    "start_time": "2024-04-19T09:12:11.070Z"
   },
   {
    "duration": 4,
    "start_time": "2024-04-19T09:12:11.893Z"
   },
   {
    "duration": 17,
    "start_time": "2024-04-19T09:12:11.899Z"
   },
   {
    "duration": 971,
    "start_time": "2024-04-19T09:12:11.919Z"
   },
   {
    "duration": 0,
    "start_time": "2024-04-19T09:12:12.892Z"
   },
   {
    "duration": 0,
    "start_time": "2024-04-19T09:12:12.893Z"
   },
   {
    "duration": 793,
    "start_time": "2024-04-19T09:12:24.209Z"
   },
   {
    "duration": 4,
    "start_time": "2024-04-19T09:12:30.164Z"
   },
   {
    "duration": 800,
    "start_time": "2024-04-19T09:12:30.676Z"
   },
   {
    "duration": 829,
    "start_time": "2024-04-19T09:13:51.878Z"
   },
   {
    "duration": 812,
    "start_time": "2024-04-19T09:14:11.648Z"
   },
   {
    "duration": 5,
    "start_time": "2024-04-19T09:19:58.992Z"
   },
   {
    "duration": 12,
    "start_time": "2024-04-19T09:21:45.434Z"
   },
   {
    "duration": 1420,
    "start_time": "2024-04-19T09:23:22.615Z"
   },
   {
    "duration": 4,
    "start_time": "2024-04-19T09:23:24.037Z"
   },
   {
    "duration": 20,
    "start_time": "2024-04-19T09:23:24.043Z"
   },
   {
    "duration": 177,
    "start_time": "2024-04-19T09:23:25.145Z"
   },
   {
    "duration": 146,
    "start_time": "2024-04-19T09:23:25.410Z"
   },
   {
    "duration": 162,
    "start_time": "2024-04-19T09:23:25.882Z"
   },
   {
    "duration": 200,
    "start_time": "2024-04-19T09:23:26.447Z"
   },
   {
    "duration": 40,
    "start_time": "2024-04-19T09:23:26.987Z"
   },
   {
    "duration": 60,
    "start_time": "2024-04-19T09:23:27.469Z"
   },
   {
    "duration": 64,
    "start_time": "2024-04-19T09:23:27.682Z"
   },
   {
    "duration": 10,
    "start_time": "2024-04-19T09:23:28.194Z"
   },
   {
    "duration": 37,
    "start_time": "2024-04-19T09:23:29.191Z"
   },
   {
    "duration": 12,
    "start_time": "2024-04-19T09:23:31.005Z"
   },
   {
    "duration": 5,
    "start_time": "2024-04-19T09:23:31.420Z"
   },
   {
    "duration": 34,
    "start_time": "2024-04-19T09:23:31.938Z"
   },
   {
    "duration": 4,
    "start_time": "2024-04-19T09:23:32.493Z"
   },
   {
    "duration": 118,
    "start_time": "2024-04-19T09:23:33.727Z"
   },
   {
    "duration": 11,
    "start_time": "2024-04-19T09:23:50.477Z"
   },
   {
    "duration": 3,
    "start_time": "2024-04-19T09:24:07.070Z"
   },
   {
    "duration": 15,
    "start_time": "2024-04-19T09:24:08.259Z"
   },
   {
    "duration": 7,
    "start_time": "2024-04-19T09:24:31.135Z"
   },
   {
    "duration": 17,
    "start_time": "2024-04-19T09:24:44.158Z"
   },
   {
    "duration": 6,
    "start_time": "2024-04-19T09:24:50.719Z"
   },
   {
    "duration": 5,
    "start_time": "2024-04-19T09:25:08.095Z"
   },
   {
    "duration": 10,
    "start_time": "2024-04-19T09:27:16.957Z"
   },
   {
    "duration": 12,
    "start_time": "2024-04-19T09:27:24.197Z"
   },
   {
    "duration": 14,
    "start_time": "2024-04-19T10:35:00.121Z"
   },
   {
    "duration": 10,
    "start_time": "2024-04-19T10:35:09.695Z"
   },
   {
    "duration": 1403,
    "start_time": "2024-04-19T10:35:46.754Z"
   },
   {
    "duration": 3,
    "start_time": "2024-04-19T10:35:48.159Z"
   },
   {
    "duration": 26,
    "start_time": "2024-04-19T10:35:48.163Z"
   },
   {
    "duration": 237,
    "start_time": "2024-04-19T10:35:48.190Z"
   },
   {
    "duration": 144,
    "start_time": "2024-04-19T10:35:48.428Z"
   },
   {
    "duration": 149,
    "start_time": "2024-04-19T10:35:48.573Z"
   },
   {
    "duration": 182,
    "start_time": "2024-04-19T10:35:48.723Z"
   },
   {
    "duration": 36,
    "start_time": "2024-04-19T10:35:48.906Z"
   },
   {
    "duration": 61,
    "start_time": "2024-04-19T10:35:48.943Z"
   },
   {
    "duration": 72,
    "start_time": "2024-04-19T10:35:49.252Z"
   },
   {
    "duration": 10,
    "start_time": "2024-04-19T10:35:49.684Z"
   },
   {
    "duration": 43,
    "start_time": "2024-04-19T10:35:49.935Z"
   },
   {
    "duration": 14,
    "start_time": "2024-04-19T10:35:51.074Z"
   },
   {
    "duration": 6,
    "start_time": "2024-04-19T10:35:51.280Z"
   },
   {
    "duration": 48,
    "start_time": "2024-04-19T10:35:51.514Z"
   },
   {
    "duration": 6,
    "start_time": "2024-04-19T10:35:51.779Z"
   },
   {
    "duration": 5,
    "start_time": "2024-04-19T10:35:53.248Z"
   },
   {
    "duration": 10,
    "start_time": "2024-04-19T10:36:06.812Z"
   },
   {
    "duration": 5,
    "start_time": "2024-04-19T10:37:10.802Z"
   },
   {
    "duration": 6,
    "start_time": "2024-04-19T10:37:12.475Z"
   },
   {
    "duration": 9,
    "start_time": "2024-04-19T10:37:13.157Z"
   },
   {
    "duration": 124,
    "start_time": "2024-04-19T10:37:58.426Z"
   },
   {
    "duration": 803,
    "start_time": "2024-04-19T10:38:01.464Z"
   },
   {
    "duration": 463,
    "start_time": "2024-04-19T10:38:09.826Z"
   },
   {
    "duration": 49,
    "start_time": "2024-04-19T10:38:29.887Z"
   },
   {
    "duration": 836,
    "start_time": "2024-04-19T10:38:34.070Z"
   },
   {
    "duration": 431,
    "start_time": "2024-04-19T10:39:47.548Z"
   },
   {
    "duration": 10,
    "start_time": "2024-04-19T10:39:56.620Z"
   },
   {
    "duration": 6,
    "start_time": "2024-04-19T10:40:03.617Z"
   },
   {
    "duration": 4,
    "start_time": "2024-04-19T10:42:05.039Z"
   },
   {
    "duration": 16,
    "start_time": "2024-04-19T10:42:05.274Z"
   },
   {
    "duration": 10,
    "start_time": "2024-04-19T11:05:10.273Z"
   },
   {
    "duration": 5,
    "start_time": "2024-04-19T11:05:13.993Z"
   },
   {
    "duration": 1059,
    "start_time": "2024-04-19T11:05:14.628Z"
   },
   {
    "duration": 5,
    "start_time": "2024-04-19T11:12:32.396Z"
   },
   {
    "duration": 38,
    "start_time": "2024-04-19T11:13:03.348Z"
   },
   {
    "duration": 6,
    "start_time": "2024-04-19T11:14:47.409Z"
   },
   {
    "duration": 5,
    "start_time": "2024-04-19T11:15:40.221Z"
   },
   {
    "duration": 1443,
    "start_time": "2024-04-19T11:38:56.449Z"
   },
   {
    "duration": 9,
    "start_time": "2024-04-19T11:38:57.894Z"
   },
   {
    "duration": 18,
    "start_time": "2024-04-19T11:38:57.904Z"
   },
   {
    "duration": 185,
    "start_time": "2024-04-19T11:38:57.924Z"
   },
   {
    "duration": 151,
    "start_time": "2024-04-19T11:38:58.111Z"
   },
   {
    "duration": 155,
    "start_time": "2024-04-19T11:38:58.264Z"
   },
   {
    "duration": 209,
    "start_time": "2024-04-19T11:38:58.420Z"
   },
   {
    "duration": 48,
    "start_time": "2024-04-19T11:38:58.630Z"
   },
   {
    "duration": 57,
    "start_time": "2024-04-19T11:38:58.679Z"
   },
   {
    "duration": 81,
    "start_time": "2024-04-19T11:38:58.738Z"
   },
   {
    "duration": 10,
    "start_time": "2024-04-19T11:38:58.820Z"
   },
   {
    "duration": 55,
    "start_time": "2024-04-19T11:38:58.832Z"
   },
   {
    "duration": 174,
    "start_time": "2024-04-19T11:38:58.889Z"
   },
   {
    "duration": 832,
    "start_time": "2024-04-19T11:38:59.065Z"
   },
   {
    "duration": 73,
    "start_time": "2024-04-19T11:38:59.899Z"
   },
   {
    "duration": 810,
    "start_time": "2024-04-19T11:39:00.061Z"
   },
   {
    "duration": 98,
    "start_time": "2024-04-19T11:39:00.872Z"
   },
   {
    "duration": 868,
    "start_time": "2024-04-19T11:39:01.061Z"
   },
   {
    "duration": 5,
    "start_time": "2024-04-19T11:39:01.930Z"
   },
   {
    "duration": 1138,
    "start_time": "2024-04-19T11:39:01.936Z"
   },
   {
    "duration": 1115,
    "start_time": "2024-04-19T11:39:03.075Z"
   },
   {
    "duration": 1179,
    "start_time": "2024-04-19T11:39:04.192Z"
   },
   {
    "duration": 1329,
    "start_time": "2024-04-19T11:47:38.821Z"
   },
   {
    "duration": 9,
    "start_time": "2024-04-19T11:47:40.151Z"
   },
   {
    "duration": 47,
    "start_time": "2024-04-19T11:47:40.161Z"
   },
   {
    "duration": 206,
    "start_time": "2024-04-19T11:47:40.210Z"
   },
   {
    "duration": 150,
    "start_time": "2024-04-19T11:47:40.418Z"
   },
   {
    "duration": 149,
    "start_time": "2024-04-19T11:47:40.570Z"
   },
   {
    "duration": 193,
    "start_time": "2024-04-19T11:47:40.721Z"
   },
   {
    "duration": 37,
    "start_time": "2024-04-19T11:47:40.915Z"
   },
   {
    "duration": 54,
    "start_time": "2024-04-19T11:47:40.961Z"
   },
   {
    "duration": 73,
    "start_time": "2024-04-19T11:47:41.017Z"
   },
   {
    "duration": 9,
    "start_time": "2024-04-19T11:47:41.092Z"
   },
   {
    "duration": 67,
    "start_time": "2024-04-19T11:47:41.102Z"
   },
   {
    "duration": 96,
    "start_time": "2024-04-19T11:47:41.170Z"
   },
   {
    "duration": 874,
    "start_time": "2024-04-19T11:47:41.268Z"
   },
   {
    "duration": 35,
    "start_time": "2024-04-19T11:47:42.143Z"
   },
   {
    "duration": 895,
    "start_time": "2024-04-19T11:47:42.180Z"
   },
   {
    "duration": 88,
    "start_time": "2024-04-19T11:47:43.076Z"
   },
   {
    "duration": 844,
    "start_time": "2024-04-19T11:47:43.167Z"
   },
   {
    "duration": 4,
    "start_time": "2024-04-19T11:47:44.013Z"
   },
   {
    "duration": 1145,
    "start_time": "2024-04-19T11:47:44.018Z"
   },
   {
    "duration": 1155,
    "start_time": "2024-04-19T11:47:45.165Z"
   },
   {
    "duration": 1148,
    "start_time": "2024-04-19T11:47:46.322Z"
   },
   {
    "duration": 1385,
    "start_time": "2024-04-19T11:48:11.718Z"
   },
   {
    "duration": 9,
    "start_time": "2024-04-19T11:48:13.105Z"
   },
   {
    "duration": 20,
    "start_time": "2024-04-19T11:48:13.115Z"
   },
   {
    "duration": 193,
    "start_time": "2024-04-19T11:48:13.137Z"
   },
   {
    "duration": 142,
    "start_time": "2024-04-19T11:48:13.332Z"
   },
   {
    "duration": 159,
    "start_time": "2024-04-19T11:48:13.476Z"
   },
   {
    "duration": 180,
    "start_time": "2024-04-19T11:48:13.637Z"
   },
   {
    "duration": 55,
    "start_time": "2024-04-19T11:48:13.819Z"
   },
   {
    "duration": 54,
    "start_time": "2024-04-19T11:48:13.876Z"
   },
   {
    "duration": 94,
    "start_time": "2024-04-19T11:48:13.933Z"
   },
   {
    "duration": 11,
    "start_time": "2024-04-19T11:48:14.030Z"
   },
   {
    "duration": 66,
    "start_time": "2024-04-19T11:48:14.042Z"
   },
   {
    "duration": 153,
    "start_time": "2024-04-19T11:48:14.110Z"
   },
   {
    "duration": 842,
    "start_time": "2024-04-19T11:48:14.264Z"
   },
   {
    "duration": 62,
    "start_time": "2024-04-19T11:48:15.108Z"
   },
   {
    "duration": 831,
    "start_time": "2024-04-19T11:48:15.261Z"
   },
   {
    "duration": 72,
    "start_time": "2024-04-19T11:48:16.094Z"
   },
   {
    "duration": 831,
    "start_time": "2024-04-19T11:48:16.168Z"
   },
   {
    "duration": 4,
    "start_time": "2024-04-19T11:48:17.000Z"
   },
   {
    "duration": 1207,
    "start_time": "2024-04-19T11:48:17.006Z"
   },
   {
    "duration": 1109,
    "start_time": "2024-04-19T11:48:18.214Z"
   },
   {
    "duration": 1110,
    "start_time": "2024-04-19T11:48:19.325Z"
   },
   {
    "duration": 1381,
    "start_time": "2024-04-19T11:49:25.078Z"
   },
   {
    "duration": 9,
    "start_time": "2024-04-19T11:49:26.462Z"
   },
   {
    "duration": 27,
    "start_time": "2024-04-19T11:49:26.472Z"
   },
   {
    "duration": 179,
    "start_time": "2024-04-19T11:49:26.501Z"
   },
   {
    "duration": 151,
    "start_time": "2024-04-19T11:49:26.682Z"
   },
   {
    "duration": 152,
    "start_time": "2024-04-19T11:49:26.835Z"
   },
   {
    "duration": 206,
    "start_time": "2024-04-19T11:49:26.988Z"
   },
   {
    "duration": 39,
    "start_time": "2024-04-19T11:49:27.196Z"
   },
   {
    "duration": 67,
    "start_time": "2024-04-19T11:49:27.237Z"
   },
   {
    "duration": 76,
    "start_time": "2024-04-19T11:49:27.307Z"
   },
   {
    "duration": 11,
    "start_time": "2024-04-19T11:49:27.385Z"
   },
   {
    "duration": 74,
    "start_time": "2024-04-19T11:49:27.398Z"
   },
   {
    "duration": 189,
    "start_time": "2024-04-19T11:49:27.474Z"
   },
   {
    "duration": 748,
    "start_time": "2024-04-19T11:49:27.664Z"
   },
   {
    "duration": 55,
    "start_time": "2024-04-19T11:49:28.414Z"
   },
   {
    "duration": 798,
    "start_time": "2024-04-19T11:49:28.472Z"
   },
   {
    "duration": 93,
    "start_time": "2024-04-19T11:49:29.271Z"
   },
   {
    "duration": 866,
    "start_time": "2024-04-19T11:49:29.366Z"
   },
   {
    "duration": 4,
    "start_time": "2024-04-19T11:49:30.234Z"
   },
   {
    "duration": 1236,
    "start_time": "2024-04-19T11:49:30.240Z"
   },
   {
    "duration": 1119,
    "start_time": "2024-04-19T11:49:31.477Z"
   },
   {
    "duration": 1121,
    "start_time": "2024-04-19T11:49:32.598Z"
   },
   {
    "duration": 1545,
    "start_time": "2024-04-20T13:05:25.194Z"
   },
   {
    "duration": 9,
    "start_time": "2024-04-20T13:05:26.741Z"
   },
   {
    "duration": 27,
    "start_time": "2024-04-20T13:05:26.751Z"
   },
   {
    "duration": 252,
    "start_time": "2024-04-20T13:05:26.780Z"
   },
   {
    "duration": 228,
    "start_time": "2024-04-20T13:05:27.034Z"
   },
   {
    "duration": 225,
    "start_time": "2024-04-20T13:05:27.264Z"
   },
   {
    "duration": 170,
    "start_time": "2024-04-20T13:05:27.491Z"
   },
   {
    "duration": 35,
    "start_time": "2024-04-20T13:05:27.663Z"
   },
   {
    "duration": 64,
    "start_time": "2024-04-20T13:05:27.700Z"
   },
   {
    "duration": 57,
    "start_time": "2024-04-20T13:05:27.766Z"
   },
   {
    "duration": 9,
    "start_time": "2024-04-20T13:05:27.825Z"
   },
   {
    "duration": 67,
    "start_time": "2024-04-20T13:05:27.835Z"
   },
   {
    "duration": 165,
    "start_time": "2024-04-20T13:05:27.904Z"
   },
   {
    "duration": 1496,
    "start_time": "2024-04-20T13:05:28.071Z"
   },
   {
    "duration": 197,
    "start_time": "2024-04-20T13:05:29.568Z"
   },
   {
    "duration": 891,
    "start_time": "2024-04-20T13:05:29.766Z"
   },
   {
    "duration": 100,
    "start_time": "2024-04-20T13:05:30.661Z"
   },
   {
    "duration": 1429,
    "start_time": "2024-04-20T13:05:30.764Z"
   },
   {
    "duration": 4,
    "start_time": "2024-04-20T13:05:32.194Z"
   },
   {
    "duration": 269,
    "start_time": "2024-04-20T13:05:32.199Z"
   },
   {
    "duration": 0,
    "start_time": "2024-04-20T13:05:32.469Z"
   },
   {
    "duration": 0,
    "start_time": "2024-04-20T13:05:32.470Z"
   },
   {
    "duration": 1396,
    "start_time": "2024-04-20T13:09:10.379Z"
   },
   {
    "duration": 10,
    "start_time": "2024-04-20T13:09:11.777Z"
   },
   {
    "duration": 38,
    "start_time": "2024-04-20T13:09:11.788Z"
   },
   {
    "duration": 177,
    "start_time": "2024-04-20T13:09:11.827Z"
   },
   {
    "duration": 142,
    "start_time": "2024-04-20T13:09:12.006Z"
   },
   {
    "duration": 147,
    "start_time": "2024-04-20T13:09:12.150Z"
   },
   {
    "duration": 183,
    "start_time": "2024-04-20T13:09:12.299Z"
   },
   {
    "duration": 38,
    "start_time": "2024-04-20T13:09:12.483Z"
   },
   {
    "duration": 81,
    "start_time": "2024-04-20T13:09:12.523Z"
   },
   {
    "duration": 78,
    "start_time": "2024-04-20T13:09:12.605Z"
   },
   {
    "duration": 9,
    "start_time": "2024-04-20T13:09:12.685Z"
   },
   {
    "duration": 38,
    "start_time": "2024-04-20T13:09:12.696Z"
   },
   {
    "duration": 124,
    "start_time": "2024-04-20T13:09:12.736Z"
   },
   {
    "duration": 796,
    "start_time": "2024-04-20T13:09:12.869Z"
   },
   {
    "duration": 98,
    "start_time": "2024-04-20T13:09:13.667Z"
   },
   {
    "duration": 808,
    "start_time": "2024-04-20T13:09:13.767Z"
   },
   {
    "duration": 91,
    "start_time": "2024-04-20T13:09:14.576Z"
   },
   {
    "duration": 807,
    "start_time": "2024-04-20T13:09:14.669Z"
   },
   {
    "duration": 5,
    "start_time": "2024-04-20T13:09:15.478Z"
   },
   {
    "duration": 1339,
    "start_time": "2024-04-20T13:09:15.485Z"
   },
   {
    "duration": 1339,
    "start_time": "2024-04-20T13:09:16.826Z"
   },
   {
    "duration": 1270,
    "start_time": "2024-04-20T13:09:18.167Z"
   },
   {
    "duration": 7345,
    "start_time": "2024-04-21T11:31:58.377Z"
   },
   {
    "duration": 10,
    "start_time": "2024-04-21T11:32:05.724Z"
   },
   {
    "duration": 11,
    "start_time": "2024-04-21T11:32:05.735Z"
   },
   {
    "duration": 286,
    "start_time": "2024-04-21T11:32:05.748Z"
   },
   {
    "duration": 245,
    "start_time": "2024-04-21T11:32:06.036Z"
   },
   {
    "duration": 226,
    "start_time": "2024-04-21T11:32:06.282Z"
   },
   {
    "duration": 162,
    "start_time": "2024-04-21T11:32:06.510Z"
   },
   {
    "duration": 35,
    "start_time": "2024-04-21T11:32:06.674Z"
   },
   {
    "duration": 48,
    "start_time": "2024-04-21T11:32:06.710Z"
   },
   {
    "duration": 72,
    "start_time": "2024-04-21T11:32:06.760Z"
   },
   {
    "duration": 9,
    "start_time": "2024-04-21T11:32:06.833Z"
   },
   {
    "duration": 48,
    "start_time": "2024-04-21T11:32:06.844Z"
   },
   {
    "duration": 196,
    "start_time": "2024-04-21T11:32:06.893Z"
   },
   {
    "duration": 855,
    "start_time": "2024-04-21T11:32:07.091Z"
   },
   {
    "duration": 135,
    "start_time": "2024-04-21T11:32:07.947Z"
   },
   {
    "duration": 817,
    "start_time": "2024-04-21T11:32:08.085Z"
   },
   {
    "duration": 82,
    "start_time": "2024-04-21T11:32:08.904Z"
   },
   {
    "duration": 822,
    "start_time": "2024-04-21T11:32:08.988Z"
   },
   {
    "duration": 4,
    "start_time": "2024-04-21T11:32:09.811Z"
   },
   {
    "duration": 1326,
    "start_time": "2024-04-21T11:32:09.816Z"
   },
   {
    "duration": 1339,
    "start_time": "2024-04-21T11:32:11.144Z"
   },
   {
    "duration": 1349,
    "start_time": "2024-04-21T11:32:12.485Z"
   },
   {
    "duration": 7,
    "start_time": "2024-04-21T11:32:14.401Z"
   },
   {
    "duration": 6,
    "start_time": "2024-04-21T11:32:25.620Z"
   },
   {
    "duration": 5,
    "start_time": "2024-04-21T11:32:38.271Z"
   },
   {
    "duration": 6,
    "start_time": "2024-04-21T11:32:50.647Z"
   },
   {
    "duration": 16,
    "start_time": "2024-04-21T11:32:51.013Z"
   },
   {
    "duration": 5,
    "start_time": "2024-04-21T11:33:07.778Z"
   },
   {
    "duration": 17,
    "start_time": "2024-04-21T11:33:08.000Z"
   },
   {
    "duration": 5,
    "start_time": "2024-04-21T11:33:18.705Z"
   },
   {
    "duration": 41,
    "start_time": "2024-04-21T11:33:18.712Z"
   },
   {
    "duration": 6,
    "start_time": "2024-04-21T11:33:28.532Z"
   },
   {
    "duration": 1327,
    "start_time": "2024-04-21T11:33:29.774Z"
   },
   {
    "duration": 2,
    "start_time": "2024-04-21T11:33:35.626Z"
   },
   {
    "duration": 1648,
    "start_time": "2024-04-21T22:15:41.584Z"
   },
   {
    "duration": 9,
    "start_time": "2024-04-21T22:15:43.234Z"
   },
   {
    "duration": 7,
    "start_time": "2024-04-21T22:15:43.244Z"
   },
   {
    "duration": 263,
    "start_time": "2024-04-21T22:15:43.253Z"
   },
   {
    "duration": 226,
    "start_time": "2024-04-21T22:15:43.518Z"
   },
   {
    "duration": 249,
    "start_time": "2024-04-21T22:15:43.746Z"
   },
   {
    "duration": 181,
    "start_time": "2024-04-21T22:15:43.997Z"
   },
   {
    "duration": 38,
    "start_time": "2024-04-21T22:15:44.182Z"
   },
   {
    "duration": 76,
    "start_time": "2024-04-21T22:15:44.222Z"
   },
   {
    "duration": 67,
    "start_time": "2024-04-21T22:15:44.301Z"
   },
   {
    "duration": 21,
    "start_time": "2024-04-21T22:15:44.369Z"
   },
   {
    "duration": 39,
    "start_time": "2024-04-21T22:15:44.391Z"
   },
   {
    "duration": 153,
    "start_time": "2024-04-21T22:15:44.432Z"
   },
   {
    "duration": 847,
    "start_time": "2024-04-21T22:15:44.587Z"
   },
   {
    "duration": 54,
    "start_time": "2024-04-21T22:15:45.435Z"
   },
   {
    "duration": 908,
    "start_time": "2024-04-21T22:15:45.491Z"
   },
   {
    "duration": 96,
    "start_time": "2024-04-21T22:15:46.401Z"
   },
   {
    "duration": 831,
    "start_time": "2024-04-21T22:15:46.582Z"
   },
   {
    "duration": 4,
    "start_time": "2024-04-21T22:15:47.414Z"
   },
   {
    "duration": 1461,
    "start_time": "2024-04-21T22:15:47.420Z"
   },
   {
    "duration": 1403,
    "start_time": "2024-04-21T22:15:48.884Z"
   },
   {
    "duration": 1358,
    "start_time": "2024-04-21T22:15:50.289Z"
   },
   {
    "duration": 1631,
    "start_time": "2024-04-22T12:15:54.407Z"
   },
   {
    "duration": 10,
    "start_time": "2024-04-22T12:15:56.039Z"
   },
   {
    "duration": 7,
    "start_time": "2024-04-22T12:15:56.050Z"
   },
   {
    "duration": 632,
    "start_time": "2024-04-22T12:15:56.059Z"
   },
   {
    "duration": 561,
    "start_time": "2024-04-22T12:15:56.693Z"
   },
   {
    "duration": 578,
    "start_time": "2024-04-22T12:15:57.255Z"
   },
   {
    "duration": 172,
    "start_time": "2024-04-22T12:15:57.834Z"
   },
   {
    "duration": 39,
    "start_time": "2024-04-22T12:15:58.007Z"
   },
   {
    "duration": 69,
    "start_time": "2024-04-22T12:15:58.047Z"
   },
   {
    "duration": 64,
    "start_time": "2024-04-22T12:15:58.117Z"
   },
   {
    "duration": 10,
    "start_time": "2024-04-22T12:15:58.183Z"
   },
   {
    "duration": 52,
    "start_time": "2024-04-22T12:15:58.198Z"
   },
   {
    "duration": 172,
    "start_time": "2024-04-22T12:15:58.251Z"
   },
   {
    "duration": 729,
    "start_time": "2024-04-22T12:15:58.516Z"
   },
   {
    "duration": 73,
    "start_time": "2024-04-22T12:15:59.246Z"
   },
   {
    "duration": 909,
    "start_time": "2024-04-22T12:15:59.321Z"
   },
   {
    "duration": 87,
    "start_time": "2024-04-22T12:16:00.231Z"
   },
   {
    "duration": 741,
    "start_time": "2024-04-22T12:16:00.414Z"
   },
   {
    "duration": 3,
    "start_time": "2024-04-22T12:16:01.157Z"
   },
   {
    "duration": 1294,
    "start_time": "2024-04-22T12:16:01.162Z"
   },
   {
    "duration": 1108,
    "start_time": "2024-04-22T12:16:02.457Z"
   },
   {
    "duration": 1092,
    "start_time": "2024-04-22T12:16:03.566Z"
   }
  ],
  "kernelspec": {
   "display_name": "Python 3 (ipykernel)",
   "language": "python",
   "name": "python3"
  },
  "language_info": {
   "codemirror_mode": {
    "name": "ipython",
    "version": 3
   },
   "file_extension": ".py",
   "mimetype": "text/x-python",
   "name": "python",
   "nbconvert_exporter": "python",
   "pygments_lexer": "ipython3",
   "version": "3.9.5"
  },
  "toc": {
   "base_numbering": 1,
   "nav_menu": {},
   "number_sections": true,
   "sideBar": true,
   "skip_h1_title": true,
   "title_cell": "Table of Contents",
   "title_sidebar": "Contents",
   "toc_cell": false,
   "toc_position": {
    "height": "calc(100% - 180px)",
    "left": "10px",
    "top": "150px",
    "width": "342px"
   },
   "toc_section_display": true,
   "toc_window_display": true
  }
 },
 "nbformat": 4,
 "nbformat_minor": 2
}
