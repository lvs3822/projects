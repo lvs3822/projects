{
 "cells": [
  {
   "cell_type": "markdown",
   "metadata": {},
   "source": [
    "# Определение стоимости автомобилей"
   ]
  },
  {
   "cell_type": "markdown",
   "metadata": {},
   "source": [
    "Сервис по продаже автомобилей с пробегом разрабатывает приложение для привлечения новых клиентов. В нём можно быстро узнать рыночную стоимость своего автомобиля. В моем распоряжении исторические данные: технические характеристики, комплектации и цены автомобилей. Нужно построить модель для определения стоимости. \n",
    "\n",
    "Заказчику важны:\n",
    "\n",
    "- качество предсказания;\n",
    "- скорость предсказания;\n",
    "- время обучения."
   ]
  },
  {
   "cell_type": "code",
   "execution_count": 1,
   "metadata": {},
   "outputs": [
    {
     "name": "stdout",
     "output_type": "stream",
     "text": [
      "Collecting phik\n",
      "  Downloading phik-0.12.4-cp39-cp39-manylinux_2_17_x86_64.manylinux2014_x86_64.whl (686 kB)\n",
      "\u001b[K     |████████████████████████████████| 686 kB 1.3 MB/s eta 0:00:01\n",
      "\u001b[?25hRequirement already satisfied: pandas>=0.25.1 in /opt/conda/lib/python3.9/site-packages (from phik) (1.2.4)\n",
      "Requirement already satisfied: numpy>=1.18.0 in /opt/conda/lib/python3.9/site-packages (from phik) (1.21.1)\n",
      "Requirement already satisfied: scipy>=1.5.2 in /opt/conda/lib/python3.9/site-packages (from phik) (1.9.1)\n",
      "Requirement already satisfied: joblib>=0.14.1 in /opt/conda/lib/python3.9/site-packages (from phik) (1.1.0)\n",
      "Requirement already satisfied: matplotlib>=2.2.3 in /opt/conda/lib/python3.9/site-packages (from phik) (3.3.4)\n",
      "Requirement already satisfied: kiwisolver>=1.0.1 in /opt/conda/lib/python3.9/site-packages (from matplotlib>=2.2.3->phik) (1.4.4)\n",
      "Requirement already satisfied: cycler>=0.10 in /opt/conda/lib/python3.9/site-packages (from matplotlib>=2.2.3->phik) (0.11.0)\n",
      "Requirement already satisfied: pillow>=6.2.0 in /opt/conda/lib/python3.9/site-packages (from matplotlib>=2.2.3->phik) (8.4.0)\n",
      "Requirement already satisfied: python-dateutil>=2.1 in /opt/conda/lib/python3.9/site-packages (from matplotlib>=2.2.3->phik) (2.8.1)\n",
      "Requirement already satisfied: pyparsing!=2.0.4,!=2.1.2,!=2.1.6,>=2.0.3 in /opt/conda/lib/python3.9/site-packages (from matplotlib>=2.2.3->phik) (2.4.7)\n",
      "Requirement already satisfied: pytz>=2017.3 in /opt/conda/lib/python3.9/site-packages (from pandas>=0.25.1->phik) (2021.1)\n",
      "Requirement already satisfied: six>=1.5 in /opt/conda/lib/python3.9/site-packages (from python-dateutil>=2.1->matplotlib>=2.2.3->phik) (1.16.0)\n",
      "Installing collected packages: phik\n",
      "Successfully installed phik-0.12.4\n",
      "Requirement already satisfied: scikit-learn in /opt/conda/lib/python3.9/site-packages (0.24.1)\n",
      "Collecting scikit-learn\n",
      "  Downloading scikit_learn-1.5.2-cp39-cp39-manylinux_2_17_x86_64.manylinux2014_x86_64.whl (13.4 MB)\n",
      "\u001b[K     |████████████████████████████████| 13.4 MB 2.6 MB/s eta 0:00:01\n",
      "\u001b[?25hCollecting joblib>=1.2.0\n",
      "  Downloading joblib-1.4.2-py3-none-any.whl (301 kB)\n",
      "\u001b[K     |████████████████████████████████| 301 kB 76.1 MB/s eta 0:00:01\n",
      "\u001b[?25hRequirement already satisfied: numpy>=1.19.5 in /opt/conda/lib/python3.9/site-packages (from scikit-learn) (1.21.1)\n",
      "Requirement already satisfied: scipy>=1.6.0 in /opt/conda/lib/python3.9/site-packages (from scikit-learn) (1.9.1)\n",
      "Requirement already satisfied: threadpoolctl>=3.1.0 in /opt/conda/lib/python3.9/site-packages (from scikit-learn) (3.1.0)\n",
      "Installing collected packages: joblib, scikit-learn\n",
      "  Attempting uninstall: joblib\n",
      "    Found existing installation: joblib 1.1.0\n",
      "    Uninstalling joblib-1.1.0:\n",
      "      Successfully uninstalled joblib-1.1.0\n",
      "  Attempting uninstall: scikit-learn\n",
      "    Found existing installation: scikit-learn 0.24.1\n",
      "    Uninstalling scikit-learn-0.24.1:\n",
      "      Successfully uninstalled scikit-learn-0.24.1\n",
      "Successfully installed joblib-1.4.2 scikit-learn-1.5.2\n"
     ]
    }
   ],
   "source": [
    "!pip install phik\n",
    "!pip install -U scikit-learn"
   ]
  },
  {
   "cell_type": "code",
   "execution_count": 2,
   "metadata": {},
   "outputs": [],
   "source": [
    "import pandas as pd\n",
    "import numpy as np\n",
    "import math\n",
    "import scipy.stats as st\n",
    "import matplotlib.pyplot as plt\n",
    "import seaborn as sns\n",
    "import warnings\n",
    "import random\n",
    "\n",
    "from sklearn.model_selection import train_test_split\n",
    "from sklearn.preprocessing import OneHotEncoder, OrdinalEncoder\n",
    "from sklearn.preprocessing import MinMaxScaler\n",
    "from sklearn.tree import DecisionTreeRegressor\n",
    "from lightgbm import LGBMRegressor\n",
    "from sklearn.model_selection import RandomizedSearchCV\n",
    "from sklearn.metrics import mean_squared_error as mse\n",
    "from statistics import mode\n",
    "from statsmodels.stats.outliers_influence import variance_inflation_factor \n",
    "\n",
    "import phik"
   ]
  },
  {
   "cell_type": "code",
   "execution_count": 3,
   "metadata": {},
   "outputs": [],
   "source": [
    "def pie_diag(df, i):\n",
    "    plt.figure\n",
    "    df1 = df.groupby(i)[i].count().sort_values(ascending=False)\n",
    "    labels = df1.index\n",
    "    n = len(labels)\n",
    "    colors = sns.color_palette('pastel')[0:n]\n",
    "    plt.pie(df1, labels=labels, colors = colors, autopct='%1.1f%%')\n",
    "    \n",
    "def graf(df, i):\n",
    "    plt.rcParams['figure.figsize'] = [15, 4]\n",
    "    sns.set(style='whitegrid')\n",
    "    plt.subplot(1, 2, 1)\n",
    "    sns.histplot(data = df, x = df[i], kde=True, bins=10)\n",
    "    plt.subplot(1, 2, 2)\n",
    "    sns.boxplot(data = df, x = df[i], palette='pastel')"
   ]
  },
  {
   "cell_type": "code",
   "execution_count": 4,
   "metadata": {},
   "outputs": [],
   "source": [
    "RANDOM_STATE = 42\n",
    "TEST_SIZE = 0.25"
   ]
  },
  {
   "cell_type": "markdown",
   "metadata": {},
   "source": [
    "## Подготовка данных"
   ]
  },
  {
   "cell_type": "markdown",
   "metadata": {},
   "source": [
    "### Загрузка и проверка типов данных"
   ]
  },
  {
   "cell_type": "code",
   "execution_count": 5,
   "metadata": {
    "scrolled": false
   },
   "outputs": [
    {
     "name": "stdout",
     "output_type": "stream",
     "text": [
      "<class 'pandas.core.frame.DataFrame'>\n",
      "RangeIndex: 354369 entries, 0 to 354368\n",
      "Data columns (total 16 columns):\n",
      " #   Column             Non-Null Count   Dtype \n",
      "---  ------             --------------   ----- \n",
      " 0   DateCrawled        354369 non-null  object\n",
      " 1   Price              354369 non-null  int64 \n",
      " 2   VehicleType        316879 non-null  object\n",
      " 3   RegistrationYear   354369 non-null  int64 \n",
      " 4   Gearbox            334536 non-null  object\n",
      " 5   Power              354369 non-null  int64 \n",
      " 6   Model              334664 non-null  object\n",
      " 7   Kilometer          354369 non-null  int64 \n",
      " 8   RegistrationMonth  354369 non-null  int64 \n",
      " 9   FuelType           321474 non-null  object\n",
      " 10  Brand              354369 non-null  object\n",
      " 11  Repaired           283215 non-null  object\n",
      " 12  DateCreated        354369 non-null  object\n",
      " 13  NumberOfPictures   354369 non-null  int64 \n",
      " 14  PostalCode         354369 non-null  int64 \n",
      " 15  LastSeen           354369 non-null  object\n",
      "dtypes: int64(7), object(9)\n",
      "memory usage: 43.3+ MB\n"
     ]
    },
    {
     "data": {
      "text/plain": [
       "None"
      ]
     },
     "metadata": {},
     "output_type": "display_data"
    },
    {
     "data": {
      "text/html": [
       "<div>\n",
       "<style scoped>\n",
       "    .dataframe tbody tr th:only-of-type {\n",
       "        vertical-align: middle;\n",
       "    }\n",
       "\n",
       "    .dataframe tbody tr th {\n",
       "        vertical-align: top;\n",
       "    }\n",
       "\n",
       "    .dataframe thead th {\n",
       "        text-align: right;\n",
       "    }\n",
       "</style>\n",
       "<table border=\"1\" class=\"dataframe\">\n",
       "  <thead>\n",
       "    <tr style=\"text-align: right;\">\n",
       "      <th></th>\n",
       "      <th>DateCrawled</th>\n",
       "      <th>Price</th>\n",
       "      <th>VehicleType</th>\n",
       "      <th>RegistrationYear</th>\n",
       "      <th>Gearbox</th>\n",
       "      <th>Power</th>\n",
       "      <th>Model</th>\n",
       "      <th>Kilometer</th>\n",
       "      <th>RegistrationMonth</th>\n",
       "      <th>FuelType</th>\n",
       "      <th>Brand</th>\n",
       "      <th>Repaired</th>\n",
       "      <th>DateCreated</th>\n",
       "      <th>NumberOfPictures</th>\n",
       "      <th>PostalCode</th>\n",
       "      <th>LastSeen</th>\n",
       "    </tr>\n",
       "  </thead>\n",
       "  <tbody>\n",
       "    <tr>\n",
       "      <th>0</th>\n",
       "      <td>2016-03-24 11:52:17</td>\n",
       "      <td>480</td>\n",
       "      <td>NaN</td>\n",
       "      <td>1993</td>\n",
       "      <td>manual</td>\n",
       "      <td>0</td>\n",
       "      <td>golf</td>\n",
       "      <td>150000</td>\n",
       "      <td>0</td>\n",
       "      <td>petrol</td>\n",
       "      <td>volkswagen</td>\n",
       "      <td>NaN</td>\n",
       "      <td>2016-03-24 00:00:00</td>\n",
       "      <td>0</td>\n",
       "      <td>70435</td>\n",
       "      <td>2016-04-07 03:16:57</td>\n",
       "    </tr>\n",
       "    <tr>\n",
       "      <th>1</th>\n",
       "      <td>2016-03-24 10:58:45</td>\n",
       "      <td>18300</td>\n",
       "      <td>coupe</td>\n",
       "      <td>2011</td>\n",
       "      <td>manual</td>\n",
       "      <td>190</td>\n",
       "      <td>NaN</td>\n",
       "      <td>125000</td>\n",
       "      <td>5</td>\n",
       "      <td>gasoline</td>\n",
       "      <td>audi</td>\n",
       "      <td>yes</td>\n",
       "      <td>2016-03-24 00:00:00</td>\n",
       "      <td>0</td>\n",
       "      <td>66954</td>\n",
       "      <td>2016-04-07 01:46:50</td>\n",
       "    </tr>\n",
       "    <tr>\n",
       "      <th>2</th>\n",
       "      <td>2016-03-14 12:52:21</td>\n",
       "      <td>9800</td>\n",
       "      <td>suv</td>\n",
       "      <td>2004</td>\n",
       "      <td>auto</td>\n",
       "      <td>163</td>\n",
       "      <td>grand</td>\n",
       "      <td>125000</td>\n",
       "      <td>8</td>\n",
       "      <td>gasoline</td>\n",
       "      <td>jeep</td>\n",
       "      <td>NaN</td>\n",
       "      <td>2016-03-14 00:00:00</td>\n",
       "      <td>0</td>\n",
       "      <td>90480</td>\n",
       "      <td>2016-04-05 12:47:46</td>\n",
       "    </tr>\n",
       "    <tr>\n",
       "      <th>3</th>\n",
       "      <td>2016-03-17 16:54:04</td>\n",
       "      <td>1500</td>\n",
       "      <td>small</td>\n",
       "      <td>2001</td>\n",
       "      <td>manual</td>\n",
       "      <td>75</td>\n",
       "      <td>golf</td>\n",
       "      <td>150000</td>\n",
       "      <td>6</td>\n",
       "      <td>petrol</td>\n",
       "      <td>volkswagen</td>\n",
       "      <td>no</td>\n",
       "      <td>2016-03-17 00:00:00</td>\n",
       "      <td>0</td>\n",
       "      <td>91074</td>\n",
       "      <td>2016-03-17 17:40:17</td>\n",
       "    </tr>\n",
       "    <tr>\n",
       "      <th>4</th>\n",
       "      <td>2016-03-31 17:25:20</td>\n",
       "      <td>3600</td>\n",
       "      <td>small</td>\n",
       "      <td>2008</td>\n",
       "      <td>manual</td>\n",
       "      <td>69</td>\n",
       "      <td>fabia</td>\n",
       "      <td>90000</td>\n",
       "      <td>7</td>\n",
       "      <td>gasoline</td>\n",
       "      <td>skoda</td>\n",
       "      <td>no</td>\n",
       "      <td>2016-03-31 00:00:00</td>\n",
       "      <td>0</td>\n",
       "      <td>60437</td>\n",
       "      <td>2016-04-06 10:17:21</td>\n",
       "    </tr>\n",
       "  </tbody>\n",
       "</table>\n",
       "</div>"
      ],
      "text/plain": [
       "           DateCrawled  Price VehicleType  RegistrationYear Gearbox  Power  \\\n",
       "0  2016-03-24 11:52:17    480         NaN              1993  manual      0   \n",
       "1  2016-03-24 10:58:45  18300       coupe              2011  manual    190   \n",
       "2  2016-03-14 12:52:21   9800         suv              2004    auto    163   \n",
       "3  2016-03-17 16:54:04   1500       small              2001  manual     75   \n",
       "4  2016-03-31 17:25:20   3600       small              2008  manual     69   \n",
       "\n",
       "   Model  Kilometer  RegistrationMonth  FuelType       Brand Repaired  \\\n",
       "0   golf     150000                  0    petrol  volkswagen      NaN   \n",
       "1    NaN     125000                  5  gasoline        audi      yes   \n",
       "2  grand     125000                  8  gasoline        jeep      NaN   \n",
       "3   golf     150000                  6    petrol  volkswagen       no   \n",
       "4  fabia      90000                  7  gasoline       skoda       no   \n",
       "\n",
       "           DateCreated  NumberOfPictures  PostalCode             LastSeen  \n",
       "0  2016-03-24 00:00:00                 0       70435  2016-04-07 03:16:57  \n",
       "1  2016-03-24 00:00:00                 0       66954  2016-04-07 01:46:50  \n",
       "2  2016-03-14 00:00:00                 0       90480  2016-04-05 12:47:46  \n",
       "3  2016-03-17 00:00:00                 0       91074  2016-03-17 17:40:17  \n",
       "4  2016-03-31 00:00:00                 0       60437  2016-04-06 10:17:21  "
      ]
     },
     "execution_count": 5,
     "metadata": {},
     "output_type": "execute_result"
    }
   ],
   "source": [
    "df = pd.read_csv('/datasets/autos.csv')\n",
    "display(df.info())\n",
    "df.head()"
   ]
  },
  {
   "cell_type": "code",
   "execution_count": 6,
   "metadata": {
    "scrolled": false
   },
   "outputs": [
    {
     "name": "stdout",
     "output_type": "stream",
     "text": [
      "<class 'pandas.core.frame.DataFrame'>\n",
      "RangeIndex: 354369 entries, 0 to 354368\n",
      "Data columns (total 16 columns):\n",
      " #   Column             Non-Null Count   Dtype         \n",
      "---  ------             --------------   -----         \n",
      " 0   DateCrawled        354369 non-null  datetime64[ns]\n",
      " 1   Price              354369 non-null  int64         \n",
      " 2   VehicleType        316879 non-null  object        \n",
      " 3   RegistrationYear   354369 non-null  int64         \n",
      " 4   Gearbox            334536 non-null  object        \n",
      " 5   Power              354369 non-null  int64         \n",
      " 6   Model              334664 non-null  object        \n",
      " 7   Kilometer          354369 non-null  int64         \n",
      " 8   RegistrationMonth  354369 non-null  int64         \n",
      " 9   FuelType           321474 non-null  object        \n",
      " 10  Brand              354369 non-null  object        \n",
      " 11  Repaired           283215 non-null  object        \n",
      " 12  DateCreated        354369 non-null  datetime64[ns]\n",
      " 13  NumberOfPictures   354369 non-null  int64         \n",
      " 14  PostalCode         354369 non-null  int64         \n",
      " 15  LastSeen           354369 non-null  datetime64[ns]\n",
      "dtypes: datetime64[ns](3), int64(7), object(6)\n",
      "memory usage: 43.3+ MB\n"
     ]
    }
   ],
   "source": [
    "df['DateCrawled'] = pd.to_datetime(df['DateCrawled'])\n",
    "df['DateCreated'] = pd.to_datetime(df['DateCreated'])\n",
    "df['LastSeen'] = pd.to_datetime(df['LastSeen'])\n",
    "df.info()"
   ]
  },
  {
   "cell_type": "code",
   "execution_count": 7,
   "metadata": {},
   "outputs": [
    {
     "data": {
      "text/plain": [
       "Timestamp('2016-04-07 03:16:57')"
      ]
     },
     "execution_count": 7,
     "metadata": {},
     "output_type": "execute_result"
    }
   ],
   "source": [
    "df['LastSeen'].sort_values(ascending=False)[0] #дата последней активности"
   ]
  },
  {
   "cell_type": "markdown",
   "metadata": {},
   "source": [
    "Данные загружены корректно. Названия столбцов написаны в верблюжьем стиле, менять не буду. Есть признаки, которые требуют детального рассмотрения. "
   ]
  },
  {
   "cell_type": "markdown",
   "metadata": {},
   "source": [
    "### Поиск и удаление дубликатов"
   ]
  },
  {
   "cell_type": "code",
   "execution_count": 8,
   "metadata": {},
   "outputs": [
    {
     "data": {
      "text/plain": [
       "['VehicleType', 'Gearbox', 'Model', 'FuelType', 'Brand', 'Repaired']"
      ]
     },
     "execution_count": 8,
     "metadata": {},
     "output_type": "execute_result"
    }
   ],
   "source": [
    "object_columns = df.select_dtypes(include=['object']).columns.to_list()\n",
    "object_columns #если есть неявные дубликаты, то их можно будет найти в столбцах со строковым типом данных"
   ]
  },
  {
   "cell_type": "code",
   "execution_count": 9,
   "metadata": {},
   "outputs": [
    {
     "name": "stdout",
     "output_type": "stream",
     "text": [
      "VehicleType\n",
      "[nan 'coupe' 'suv' 'small' 'sedan' 'convertible' 'bus' 'wagon' 'other']\n",
      "\n",
      "Gearbox\n",
      "['manual' 'auto' nan]\n",
      "\n",
      "FuelType\n",
      "['petrol' 'gasoline' nan 'lpg' 'other' 'hybrid' 'cng' 'electric']\n",
      "\n",
      "Brand\n",
      "['volkswagen' 'audi' 'jeep' 'skoda' 'bmw' 'peugeot' 'ford' 'mazda'\n",
      " 'nissan' 'renault' 'mercedes_benz' 'opel' 'seat' 'citroen' 'honda' 'fiat'\n",
      " 'mini' 'smart' 'hyundai' 'sonstige_autos' 'alfa_romeo' 'subaru' 'volvo'\n",
      " 'mitsubishi' 'kia' 'suzuki' 'lancia' 'toyota' 'chevrolet' 'dacia'\n",
      " 'daihatsu' 'trabant' 'saab' 'chrysler' 'jaguar' 'daewoo' 'porsche'\n",
      " 'rover' 'land_rover' 'lada']\n",
      "\n",
      "Repaired\n",
      "[nan 'yes' 'no']\n",
      "\n"
     ]
    }
   ],
   "source": [
    "object_columns.remove('Model') #даже если будет ошибка в написании, это понять будет нельзя, так как это могут быть два\n",
    "                               #похожих названия моделей разных марок машин\n",
    "for i in object_columns:\n",
    "    print(i)\n",
    "    print(df[i].unique())\n",
    "    print()"
   ]
  },
  {
   "cell_type": "markdown",
   "metadata": {},
   "source": [
    "Повторов с ошибками в столбцах со строковым типом данных нет."
   ]
  },
  {
   "cell_type": "markdown",
   "metadata": {},
   "source": [
    "Неявных дубликатов тоже нет."
   ]
  },
  {
   "cell_type": "code",
   "execution_count": 10,
   "metadata": {
    "scrolled": false
   },
   "outputs": [
    {
     "name": "stdout",
     "output_type": "stream",
     "text": [
      "<class 'pandas.core.frame.DataFrame'>\n",
      "Int64Index: 354365 entries, 0 to 354368\n",
      "Data columns (total 16 columns):\n",
      " #   Column             Non-Null Count   Dtype         \n",
      "---  ------             --------------   -----         \n",
      " 0   DateCrawled        354365 non-null  datetime64[ns]\n",
      " 1   Price              354365 non-null  int64         \n",
      " 2   VehicleType        316875 non-null  object        \n",
      " 3   RegistrationYear   354365 non-null  int64         \n",
      " 4   Gearbox            334532 non-null  object        \n",
      " 5   Power              354365 non-null  int64         \n",
      " 6   Model              334660 non-null  object        \n",
      " 7   Kilometer          354365 non-null  int64         \n",
      " 8   RegistrationMonth  354365 non-null  int64         \n",
      " 9   FuelType           321470 non-null  object        \n",
      " 10  Brand              354365 non-null  object        \n",
      " 11  Repaired           283211 non-null  object        \n",
      " 12  DateCreated        354365 non-null  datetime64[ns]\n",
      " 13  NumberOfPictures   354365 non-null  int64         \n",
      " 14  PostalCode         354365 non-null  int64         \n",
      " 15  LastSeen           354365 non-null  datetime64[ns]\n",
      "dtypes: datetime64[ns](3), int64(7), object(6)\n",
      "memory usage: 46.0+ MB\n"
     ]
    }
   ],
   "source": [
    "df = df.drop_duplicates()\n",
    "df.info()"
   ]
  },
  {
   "cell_type": "markdown",
   "metadata": {},
   "source": [
    "Удалил явные дубликаты."
   ]
  },
  {
   "cell_type": "markdown",
   "metadata": {},
   "source": [
    "### Анализ пропущенных значений"
   ]
  },
  {
   "cell_type": "code",
   "execution_count": 11,
   "metadata": {},
   "outputs": [
    {
     "data": {
      "text/plain": [
       "DateCrawled              0\n",
       "Price                    0\n",
       "VehicleType          37490\n",
       "RegistrationYear         0\n",
       "Gearbox              19833\n",
       "Power                    0\n",
       "Model                19705\n",
       "Kilometer                0\n",
       "RegistrationMonth        0\n",
       "FuelType             32895\n",
       "Brand                    0\n",
       "Repaired             71154\n",
       "DateCreated              0\n",
       "NumberOfPictures         0\n",
       "PostalCode               0\n",
       "LastSeen                 0\n",
       "dtype: int64"
      ]
     },
     "execution_count": 11,
     "metadata": {},
     "output_type": "execute_result"
    }
   ],
   "source": [
    "df.isna().sum()"
   ]
  },
  {
   "cell_type": "markdown",
   "metadata": {},
   "source": [
    "Пропусков много, самое важное &mdash; понять, как заполнить модель машины. Создам копию датасета, удалю из него все пропуски и посмотрю корреляцию признаков с таргетом, может быть, некоторые признаки никак не влияют на цену и их можно удалить."
   ]
  },
  {
   "cell_type": "code",
   "execution_count": 12,
   "metadata": {},
   "outputs": [],
   "source": [
    "#очевидно, что представленые даты не влияют на цену, как и индекс\n",
    "df = df.drop(['DateCrawled', 'DateCreated', 'LastSeen', 'PostalCode'], axis=1)"
   ]
  },
  {
   "cell_type": "markdown",
   "metadata": {},
   "source": [
    "Сначала заполню пропуски в столбце с названиями моделей. Пропущенные значения буду заполнять модой по типу кузова этой марки автомобиля."
   ]
  },
  {
   "cell_type": "code",
   "execution_count": 13,
   "metadata": {},
   "outputs": [],
   "source": [
    "brands = df['Brand'].unique()\n",
    "vehicle_types = df['VehicleType'].unique()\n",
    "\n",
    "for i in brands:\n",
    "    for j in vehicle_types:\n",
    "        if not df[(df['Brand'] == i) & (df['VehicleType'] == j)& (df['Model'].isna() == False)].empty:\n",
    "            mode_value = mode(df[(df['Brand'] == i) & (df['VehicleType'] == j) & (df['Model'].isna() == False)]['Model'])\n",
    "            df.loc[(df['Brand'] == i) & (df['VehicleType'] == j), 'Model'] = (\n",
    "                df[(df['Brand'] == i) & (df['VehicleType'] == j)]['Model'].fillna(mode_value))"
   ]
  },
  {
   "cell_type": "code",
   "execution_count": 14,
   "metadata": {},
   "outputs": [
    {
     "data": {
      "text/plain": [
       "Price                    0\n",
       "VehicleType          37490\n",
       "RegistrationYear         0\n",
       "Gearbox              19833\n",
       "Power                    0\n",
       "Model                 9163\n",
       "Kilometer                0\n",
       "RegistrationMonth        0\n",
       "FuelType             32895\n",
       "Brand                    0\n",
       "Repaired             71154\n",
       "NumberOfPictures         0\n",
       "dtype: int64"
      ]
     },
     "execution_count": 14,
     "metadata": {},
     "output_type": "execute_result"
    }
   ],
   "source": [
    "df.isna().sum()"
   ]
  },
  {
   "cell_type": "markdown",
   "metadata": {},
   "source": [
    "Получилось заполнить больше половины пропусков. Оставшиеся пропуски заполню просто модой по марке."
   ]
  },
  {
   "cell_type": "code",
   "execution_count": 15,
   "metadata": {},
   "outputs": [],
   "source": [
    "for i in brands:\n",
    "    if not df[(df['Brand'] == i) & (df['Model'].isna() == False)].empty:\n",
    "        mode_value = mode(df[(df['Brand'] == i) & (df['Model'].isna() == False)]['Model'])\n",
    "        df.loc[df['Brand'] == i, 'Model'] = df[df['Brand'] == i]['Model'].fillna(mode_value)"
   ]
  },
  {
   "cell_type": "code",
   "execution_count": 16,
   "metadata": {},
   "outputs": [
    {
     "data": {
      "text/plain": [
       "Price                    0\n",
       "VehicleType          37490\n",
       "RegistrationYear         0\n",
       "Gearbox              19833\n",
       "Power                    0\n",
       "Model                 3374\n",
       "Kilometer                0\n",
       "RegistrationMonth        0\n",
       "FuelType             32895\n",
       "Brand                    0\n",
       "Repaired             71154\n",
       "NumberOfPictures         0\n",
       "dtype: int64"
      ]
     },
     "execution_count": 16,
     "metadata": {},
     "output_type": "execute_result"
    }
   ],
   "source": [
    "df.isna().sum()"
   ]
  },
  {
   "cell_type": "markdown",
   "metadata": {},
   "source": [
    "Все равно остались пропуски, надо посмотреть на марки автомобилей."
   ]
  },
  {
   "cell_type": "code",
   "execution_count": 17,
   "metadata": {},
   "outputs": [
    {
     "data": {
      "text/plain": [
       "array(['sonstige_autos'], dtype=object)"
      ]
     },
     "metadata": {},
     "output_type": "display_data"
    },
    {
     "data": {
      "text/html": [
       "<div>\n",
       "<style scoped>\n",
       "    .dataframe tbody tr th:only-of-type {\n",
       "        vertical-align: middle;\n",
       "    }\n",
       "\n",
       "    .dataframe tbody tr th {\n",
       "        vertical-align: top;\n",
       "    }\n",
       "\n",
       "    .dataframe thead th {\n",
       "        text-align: right;\n",
       "    }\n",
       "</style>\n",
       "<table border=\"1\" class=\"dataframe\">\n",
       "  <thead>\n",
       "    <tr style=\"text-align: right;\">\n",
       "      <th></th>\n",
       "      <th>Price</th>\n",
       "      <th>VehicleType</th>\n",
       "      <th>RegistrationYear</th>\n",
       "      <th>Gearbox</th>\n",
       "      <th>Power</th>\n",
       "      <th>Model</th>\n",
       "      <th>Kilometer</th>\n",
       "      <th>RegistrationMonth</th>\n",
       "      <th>FuelType</th>\n",
       "      <th>Brand</th>\n",
       "      <th>Repaired</th>\n",
       "      <th>NumberOfPictures</th>\n",
       "    </tr>\n",
       "  </thead>\n",
       "  <tbody>\n",
       "    <tr>\n",
       "      <th>59</th>\n",
       "      <td>1</td>\n",
       "      <td>suv</td>\n",
       "      <td>1994</td>\n",
       "      <td>manual</td>\n",
       "      <td>286</td>\n",
       "      <td>NaN</td>\n",
       "      <td>150000</td>\n",
       "      <td>11</td>\n",
       "      <td>NaN</td>\n",
       "      <td>sonstige_autos</td>\n",
       "      <td>NaN</td>\n",
       "      <td>0</td>\n",
       "    </tr>\n",
       "    <tr>\n",
       "      <th>306</th>\n",
       "      <td>200</td>\n",
       "      <td>NaN</td>\n",
       "      <td>2009</td>\n",
       "      <td>NaN</td>\n",
       "      <td>0</td>\n",
       "      <td>NaN</td>\n",
       "      <td>10000</td>\n",
       "      <td>0</td>\n",
       "      <td>NaN</td>\n",
       "      <td>sonstige_autos</td>\n",
       "      <td>NaN</td>\n",
       "      <td>0</td>\n",
       "    </tr>\n",
       "    <tr>\n",
       "      <th>431</th>\n",
       "      <td>3950</td>\n",
       "      <td>small</td>\n",
       "      <td>2004</td>\n",
       "      <td>auto</td>\n",
       "      <td>5</td>\n",
       "      <td>NaN</td>\n",
       "      <td>70000</td>\n",
       "      <td>5</td>\n",
       "      <td>gasoline</td>\n",
       "      <td>sonstige_autos</td>\n",
       "      <td>no</td>\n",
       "      <td>0</td>\n",
       "    </tr>\n",
       "    <tr>\n",
       "      <th>650</th>\n",
       "      <td>15000</td>\n",
       "      <td>coupe</td>\n",
       "      <td>1971</td>\n",
       "      <td>NaN</td>\n",
       "      <td>0</td>\n",
       "      <td>NaN</td>\n",
       "      <td>5000</td>\n",
       "      <td>4</td>\n",
       "      <td>NaN</td>\n",
       "      <td>sonstige_autos</td>\n",
       "      <td>no</td>\n",
       "      <td>0</td>\n",
       "    </tr>\n",
       "    <tr>\n",
       "      <th>661</th>\n",
       "      <td>9900</td>\n",
       "      <td>suv</td>\n",
       "      <td>2000</td>\n",
       "      <td>auto</td>\n",
       "      <td>250</td>\n",
       "      <td>NaN</td>\n",
       "      <td>150000</td>\n",
       "      <td>4</td>\n",
       "      <td>lpg</td>\n",
       "      <td>sonstige_autos</td>\n",
       "      <td>no</td>\n",
       "      <td>0</td>\n",
       "    </tr>\n",
       "  </tbody>\n",
       "</table>\n",
       "</div>"
      ],
      "text/plain": [
       "     Price VehicleType  RegistrationYear Gearbox  Power Model  Kilometer  \\\n",
       "59       1         suv              1994  manual    286   NaN     150000   \n",
       "306    200         NaN              2009     NaN      0   NaN      10000   \n",
       "431   3950       small              2004    auto      5   NaN      70000   \n",
       "650  15000       coupe              1971     NaN      0   NaN       5000   \n",
       "661   9900         suv              2000    auto    250   NaN     150000   \n",
       "\n",
       "     RegistrationMonth  FuelType           Brand Repaired  NumberOfPictures  \n",
       "59                  11       NaN  sonstige_autos      NaN                 0  \n",
       "306                  0       NaN  sonstige_autos      NaN                 0  \n",
       "431                  5  gasoline  sonstige_autos       no                 0  \n",
       "650                  4       NaN  sonstige_autos       no                 0  \n",
       "661                  4       lpg  sonstige_autos       no                 0  "
      ]
     },
     "execution_count": 17,
     "metadata": {},
     "output_type": "execute_result"
    }
   ],
   "source": [
    "display(df[df['Model'].isna()]['Brand'].unique())\n",
    "df[df['Model'].isna()].head()"
   ]
  },
  {
   "cell_type": "code",
   "execution_count": 18,
   "metadata": {},
   "outputs": [
    {
     "data": {
      "text/plain": [
       "Price                   0\n",
       "VehicleType          1041\n",
       "RegistrationYear        0\n",
       "Gearbox              1103\n",
       "Power                   0\n",
       "Model                3374\n",
       "Kilometer               0\n",
       "RegistrationMonth       0\n",
       "FuelType             1104\n",
       "Brand                   0\n",
       "Repaired             1323\n",
       "NumberOfPictures        0\n",
       "dtype: int64"
      ]
     },
     "execution_count": 18,
     "metadata": {},
     "output_type": "execute_result"
    }
   ],
   "source": [
    "df[df['Brand'] == 'sonstige_autos'].isna().sum()"
   ]
  },
  {
   "cell_type": "markdown",
   "metadata": {},
   "source": [
    "Автомобили марки 'sonstige_autos' не имеют деления на модели. Их можно было бы разделить на модели по типу кузова, но примерно у трети тип кузова отсутствует. Автомобили этой марки составляют примерно 1% от всего датасета, думаю, что их удаление не повлияет на анализ."
   ]
  },
  {
   "cell_type": "code",
   "execution_count": 19,
   "metadata": {},
   "outputs": [],
   "source": [
    "df = df.drop(df[df['Brand'] == 'sonstige_autos'].index)"
   ]
  },
  {
   "cell_type": "markdown",
   "metadata": {},
   "source": [
    "Далее займусь заполнением всех остальных пропусков."
   ]
  },
  {
   "cell_type": "code",
   "execution_count": 20,
   "metadata": {},
   "outputs": [],
   "source": [
    "models = df['Model'].unique()\n",
    "for i in models:\n",
    "    mode_value = mode(df[(df['Model'] == i) & (df['VehicleType'].isna() == False)]['VehicleType'])\n",
    "    df.loc[df['Model'] == i, 'VehicleType'] = df[df['Model'] == i]['VehicleType'].fillna(mode_value)\n",
    "    mode_value = mode(df[(df['Model'] == i) & (df['Gearbox'].isna() == False)]['Gearbox'])\n",
    "    df.loc[df['Model'] == i, 'Gearbox'] = df[df['Model'] == i]['Gearbox'].fillna(mode_value)\n",
    "    mode_value = mode(df[(df['Model'] == i) & (df['FuelType'].isna() == False)]['FuelType'])\n",
    "    df.loc[df['Model'] == i, 'FuelType'] = df[df['Model'] == i]['FuelType'].fillna(mode_value)"
   ]
  },
  {
   "cell_type": "code",
   "execution_count": 21,
   "metadata": {},
   "outputs": [
    {
     "data": {
      "text/plain": [
       "Price                    0\n",
       "VehicleType              0\n",
       "RegistrationYear         0\n",
       "Gearbox                  0\n",
       "Power                    0\n",
       "Model                    0\n",
       "Kilometer                0\n",
       "RegistrationMonth        0\n",
       "FuelType                 0\n",
       "Brand                    0\n",
       "Repaired             69831\n",
       "NumberOfPictures         0\n",
       "dtype: int64"
      ]
     },
     "execution_count": 21,
     "metadata": {},
     "output_type": "execute_result"
    }
   ],
   "source": [
    "df.isna().sum()"
   ]
  },
  {
   "cell_type": "markdown",
   "metadata": {},
   "source": [
    "Заполнил все пропуски, кроме информации о ремонте. Её заполню случайным образом нулями и единицами."
   ]
  },
  {
   "cell_type": "code",
   "execution_count": 22,
   "metadata": {
    "scrolled": true
   },
   "outputs": [
    {
     "data": {
      "text/plain": [
       "no     13712\n",
       "yes     4714\n",
       "Name: Repaired, dtype: int64"
      ]
     },
     "execution_count": 22,
     "metadata": {},
     "output_type": "execute_result"
    }
   ],
   "source": [
    "df[df['Power'] == 0]['Repaired'].value_counts()"
   ]
  },
  {
   "cell_type": "code",
   "execution_count": 23,
   "metadata": {},
   "outputs": [
    {
     "data": {
      "text/plain": [
       "Price                0\n",
       "VehicleType          0\n",
       "RegistrationYear     0\n",
       "Gearbox              0\n",
       "Power                0\n",
       "Model                0\n",
       "Kilometer            0\n",
       "RegistrationMonth    0\n",
       "FuelType             0\n",
       "Brand                0\n",
       "Repaired             0\n",
       "NumberOfPictures     0\n",
       "dtype: int64"
      ]
     },
     "execution_count": 23,
     "metadata": {},
     "output_type": "execute_result"
    }
   ],
   "source": [
    "df['Repaired'] = df['Repaired'].fillna(np.random.choice(['no', 'yes']))\n",
    "df['Repaired'] = df['Repaired'].replace(['no', 'yes'], [0, 1])\n",
    "\n",
    "df.isna().sum()"
   ]
  },
  {
   "cell_type": "markdown",
   "metadata": {},
   "source": [
    "Пропуски заполнил."
   ]
  },
  {
   "cell_type": "code",
   "execution_count": 24,
   "metadata": {},
   "outputs": [],
   "source": [
    "df['FuelType'] = df['FuelType'].replace('gasoline', 'petrol')"
   ]
  },
  {
   "cell_type": "code",
   "execution_count": 25,
   "metadata": {},
   "outputs": [
    {
     "data": {
      "text/plain": [
       "array([0])"
      ]
     },
     "execution_count": 25,
     "metadata": {},
     "output_type": "execute_result"
    }
   ],
   "source": [
    "df['NumberOfPictures'].unique()"
   ]
  },
  {
   "cell_type": "code",
   "execution_count": 26,
   "metadata": {},
   "outputs": [
    {
     "data": {
      "text/html": [
       "<div>\n",
       "<style scoped>\n",
       "    .dataframe tbody tr th:only-of-type {\n",
       "        vertical-align: middle;\n",
       "    }\n",
       "\n",
       "    .dataframe tbody tr th {\n",
       "        vertical-align: top;\n",
       "    }\n",
       "\n",
       "    .dataframe thead th {\n",
       "        text-align: right;\n",
       "    }\n",
       "</style>\n",
       "<table border=\"1\" class=\"dataframe\">\n",
       "  <thead>\n",
       "    <tr style=\"text-align: right;\">\n",
       "      <th></th>\n",
       "      <th>Price</th>\n",
       "      <th>VehicleType</th>\n",
       "      <th>RegistrationYear</th>\n",
       "      <th>Gearbox</th>\n",
       "      <th>Power</th>\n",
       "      <th>Model</th>\n",
       "      <th>Kilometer</th>\n",
       "      <th>FuelType</th>\n",
       "      <th>Brand</th>\n",
       "      <th>Repaired</th>\n",
       "    </tr>\n",
       "  </thead>\n",
       "  <tbody>\n",
       "    <tr>\n",
       "      <th>0</th>\n",
       "      <td>480</td>\n",
       "      <td>sedan</td>\n",
       "      <td>1993</td>\n",
       "      <td>manual</td>\n",
       "      <td>0</td>\n",
       "      <td>golf</td>\n",
       "      <td>150000</td>\n",
       "      <td>petrol</td>\n",
       "      <td>volkswagen</td>\n",
       "      <td>1</td>\n",
       "    </tr>\n",
       "    <tr>\n",
       "      <th>1</th>\n",
       "      <td>18300</td>\n",
       "      <td>coupe</td>\n",
       "      <td>2011</td>\n",
       "      <td>manual</td>\n",
       "      <td>190</td>\n",
       "      <td>tt</td>\n",
       "      <td>125000</td>\n",
       "      <td>petrol</td>\n",
       "      <td>audi</td>\n",
       "      <td>1</td>\n",
       "    </tr>\n",
       "    <tr>\n",
       "      <th>2</th>\n",
       "      <td>9800</td>\n",
       "      <td>suv</td>\n",
       "      <td>2004</td>\n",
       "      <td>auto</td>\n",
       "      <td>163</td>\n",
       "      <td>grand</td>\n",
       "      <td>125000</td>\n",
       "      <td>petrol</td>\n",
       "      <td>jeep</td>\n",
       "      <td>1</td>\n",
       "    </tr>\n",
       "    <tr>\n",
       "      <th>3</th>\n",
       "      <td>1500</td>\n",
       "      <td>small</td>\n",
       "      <td>2001</td>\n",
       "      <td>manual</td>\n",
       "      <td>75</td>\n",
       "      <td>golf</td>\n",
       "      <td>150000</td>\n",
       "      <td>petrol</td>\n",
       "      <td>volkswagen</td>\n",
       "      <td>0</td>\n",
       "    </tr>\n",
       "    <tr>\n",
       "      <th>4</th>\n",
       "      <td>3600</td>\n",
       "      <td>small</td>\n",
       "      <td>2008</td>\n",
       "      <td>manual</td>\n",
       "      <td>69</td>\n",
       "      <td>fabia</td>\n",
       "      <td>90000</td>\n",
       "      <td>petrol</td>\n",
       "      <td>skoda</td>\n",
       "      <td>0</td>\n",
       "    </tr>\n",
       "    <tr>\n",
       "      <th>...</th>\n",
       "      <td>...</td>\n",
       "      <td>...</td>\n",
       "      <td>...</td>\n",
       "      <td>...</td>\n",
       "      <td>...</td>\n",
       "      <td>...</td>\n",
       "      <td>...</td>\n",
       "      <td>...</td>\n",
       "      <td>...</td>\n",
       "      <td>...</td>\n",
       "    </tr>\n",
       "    <tr>\n",
       "      <th>354363</th>\n",
       "      <td>1150</td>\n",
       "      <td>bus</td>\n",
       "      <td>2000</td>\n",
       "      <td>manual</td>\n",
       "      <td>0</td>\n",
       "      <td>zafira</td>\n",
       "      <td>150000</td>\n",
       "      <td>petrol</td>\n",
       "      <td>opel</td>\n",
       "      <td>0</td>\n",
       "    </tr>\n",
       "    <tr>\n",
       "      <th>354364</th>\n",
       "      <td>0</td>\n",
       "      <td>small</td>\n",
       "      <td>2005</td>\n",
       "      <td>manual</td>\n",
       "      <td>0</td>\n",
       "      <td>colt</td>\n",
       "      <td>150000</td>\n",
       "      <td>petrol</td>\n",
       "      <td>mitsubishi</td>\n",
       "      <td>1</td>\n",
       "    </tr>\n",
       "    <tr>\n",
       "      <th>354366</th>\n",
       "      <td>1199</td>\n",
       "      <td>convertible</td>\n",
       "      <td>2000</td>\n",
       "      <td>auto</td>\n",
       "      <td>101</td>\n",
       "      <td>fortwo</td>\n",
       "      <td>125000</td>\n",
       "      <td>petrol</td>\n",
       "      <td>smart</td>\n",
       "      <td>0</td>\n",
       "    </tr>\n",
       "    <tr>\n",
       "      <th>354367</th>\n",
       "      <td>9200</td>\n",
       "      <td>bus</td>\n",
       "      <td>1996</td>\n",
       "      <td>manual</td>\n",
       "      <td>102</td>\n",
       "      <td>transporter</td>\n",
       "      <td>150000</td>\n",
       "      <td>petrol</td>\n",
       "      <td>volkswagen</td>\n",
       "      <td>0</td>\n",
       "    </tr>\n",
       "    <tr>\n",
       "      <th>354368</th>\n",
       "      <td>3400</td>\n",
       "      <td>wagon</td>\n",
       "      <td>2002</td>\n",
       "      <td>manual</td>\n",
       "      <td>100</td>\n",
       "      <td>golf</td>\n",
       "      <td>150000</td>\n",
       "      <td>petrol</td>\n",
       "      <td>volkswagen</td>\n",
       "      <td>1</td>\n",
       "    </tr>\n",
       "  </tbody>\n",
       "</table>\n",
       "<p>350991 rows × 10 columns</p>\n",
       "</div>"
      ],
      "text/plain": [
       "        Price  VehicleType  RegistrationYear Gearbox  Power        Model  \\\n",
       "0         480        sedan              1993  manual      0         golf   \n",
       "1       18300        coupe              2011  manual    190           tt   \n",
       "2        9800          suv              2004    auto    163        grand   \n",
       "3        1500        small              2001  manual     75         golf   \n",
       "4        3600        small              2008  manual     69        fabia   \n",
       "...       ...          ...               ...     ...    ...          ...   \n",
       "354363   1150          bus              2000  manual      0       zafira   \n",
       "354364      0        small              2005  manual      0         colt   \n",
       "354366   1199  convertible              2000    auto    101       fortwo   \n",
       "354367   9200          bus              1996  manual    102  transporter   \n",
       "354368   3400        wagon              2002  manual    100         golf   \n",
       "\n",
       "        Kilometer FuelType       Brand  Repaired  \n",
       "0          150000   petrol  volkswagen         1  \n",
       "1          125000   petrol        audi         1  \n",
       "2          125000   petrol        jeep         1  \n",
       "3          150000   petrol  volkswagen         0  \n",
       "4           90000   petrol       skoda         0  \n",
       "...           ...      ...         ...       ...  \n",
       "354363     150000   petrol        opel         0  \n",
       "354364     150000   petrol  mitsubishi         1  \n",
       "354366     125000   petrol       smart         0  \n",
       "354367     150000   petrol  volkswagen         0  \n",
       "354368     150000   petrol  volkswagen         1  \n",
       "\n",
       "[350991 rows x 10 columns]"
      ]
     },
     "execution_count": 26,
     "metadata": {},
     "output_type": "execute_result"
    }
   ],
   "source": [
    "df = df.drop(columns=['NumberOfPictures', 'RegistrationMonth']) #эти признаки не влияют на цену\n",
    "df"
   ]
  },
  {
   "cell_type": "markdown",
   "metadata": {},
   "source": [
    "### Исследовательский анализ"
   ]
  },
  {
   "cell_type": "code",
   "execution_count": 27,
   "metadata": {
    "scrolled": true
   },
   "outputs": [
    {
     "data": {
      "text/html": [
       "<div>\n",
       "<style scoped>\n",
       "    .dataframe tbody tr th:only-of-type {\n",
       "        vertical-align: middle;\n",
       "    }\n",
       "\n",
       "    .dataframe tbody tr th {\n",
       "        vertical-align: top;\n",
       "    }\n",
       "\n",
       "    .dataframe thead th {\n",
       "        text-align: right;\n",
       "    }\n",
       "</style>\n",
       "<table border=\"1\" class=\"dataframe\">\n",
       "  <thead>\n",
       "    <tr style=\"text-align: right;\">\n",
       "      <th></th>\n",
       "      <th>Price</th>\n",
       "      <th>VehicleType</th>\n",
       "      <th>RegistrationYear</th>\n",
       "      <th>Gearbox</th>\n",
       "      <th>Power</th>\n",
       "      <th>Model</th>\n",
       "      <th>Kilometer</th>\n",
       "      <th>FuelType</th>\n",
       "      <th>Brand</th>\n",
       "      <th>Repaired</th>\n",
       "    </tr>\n",
       "  </thead>\n",
       "  <tbody>\n",
       "    <tr>\n",
       "      <th>0</th>\n",
       "      <td>480</td>\n",
       "      <td>sedan</td>\n",
       "      <td>1993</td>\n",
       "      <td>manual</td>\n",
       "      <td>0</td>\n",
       "      <td>golf</td>\n",
       "      <td>150000</td>\n",
       "      <td>petrol</td>\n",
       "      <td>volkswagen</td>\n",
       "      <td>1</td>\n",
       "    </tr>\n",
       "    <tr>\n",
       "      <th>1</th>\n",
       "      <td>18300</td>\n",
       "      <td>coupe</td>\n",
       "      <td>2011</td>\n",
       "      <td>manual</td>\n",
       "      <td>190</td>\n",
       "      <td>tt</td>\n",
       "      <td>125000</td>\n",
       "      <td>petrol</td>\n",
       "      <td>audi</td>\n",
       "      <td>1</td>\n",
       "    </tr>\n",
       "    <tr>\n",
       "      <th>2</th>\n",
       "      <td>9800</td>\n",
       "      <td>suv</td>\n",
       "      <td>2004</td>\n",
       "      <td>auto</td>\n",
       "      <td>163</td>\n",
       "      <td>grand</td>\n",
       "      <td>125000</td>\n",
       "      <td>petrol</td>\n",
       "      <td>jeep</td>\n",
       "      <td>1</td>\n",
       "    </tr>\n",
       "    <tr>\n",
       "      <th>3</th>\n",
       "      <td>1500</td>\n",
       "      <td>small</td>\n",
       "      <td>2001</td>\n",
       "      <td>manual</td>\n",
       "      <td>75</td>\n",
       "      <td>golf</td>\n",
       "      <td>150000</td>\n",
       "      <td>petrol</td>\n",
       "      <td>volkswagen</td>\n",
       "      <td>0</td>\n",
       "    </tr>\n",
       "    <tr>\n",
       "      <th>4</th>\n",
       "      <td>3600</td>\n",
       "      <td>small</td>\n",
       "      <td>2008</td>\n",
       "      <td>manual</td>\n",
       "      <td>69</td>\n",
       "      <td>fabia</td>\n",
       "      <td>90000</td>\n",
       "      <td>petrol</td>\n",
       "      <td>skoda</td>\n",
       "      <td>0</td>\n",
       "    </tr>\n",
       "  </tbody>\n",
       "</table>\n",
       "</div>"
      ],
      "text/plain": [
       "   Price VehicleType  RegistrationYear Gearbox  Power  Model  Kilometer  \\\n",
       "0    480       sedan              1993  manual      0   golf     150000   \n",
       "1  18300       coupe              2011  manual    190     tt     125000   \n",
       "2   9800         suv              2004    auto    163  grand     125000   \n",
       "3   1500       small              2001  manual     75   golf     150000   \n",
       "4   3600       small              2008  manual     69  fabia      90000   \n",
       "\n",
       "  FuelType       Brand  Repaired  \n",
       "0   petrol  volkswagen         1  \n",
       "1   petrol        audi         1  \n",
       "2   petrol        jeep         1  \n",
       "3   petrol  volkswagen         0  \n",
       "4   petrol       skoda         0  "
      ]
     },
     "execution_count": 27,
     "metadata": {},
     "output_type": "execute_result"
    }
   ],
   "source": [
    "df.head()"
   ]
  },
  {
   "cell_type": "code",
   "execution_count": 28,
   "metadata": {},
   "outputs": [
    {
     "data": {
      "text/html": [
       "<div>\n",
       "<style scoped>\n",
       "    .dataframe tbody tr th:only-of-type {\n",
       "        vertical-align: middle;\n",
       "    }\n",
       "\n",
       "    .dataframe tbody tr th {\n",
       "        vertical-align: top;\n",
       "    }\n",
       "\n",
       "    .dataframe thead th {\n",
       "        text-align: right;\n",
       "    }\n",
       "</style>\n",
       "<table border=\"1\" class=\"dataframe\">\n",
       "  <thead>\n",
       "    <tr style=\"text-align: right;\">\n",
       "      <th></th>\n",
       "      <th>Price</th>\n",
       "      <th>RegistrationYear</th>\n",
       "      <th>Power</th>\n",
       "      <th>Kilometer</th>\n",
       "      <th>Repaired</th>\n",
       "    </tr>\n",
       "  </thead>\n",
       "  <tbody>\n",
       "    <tr>\n",
       "      <th>count</th>\n",
       "      <td>350991.000000</td>\n",
       "      <td>350991.000000</td>\n",
       "      <td>350991.000000</td>\n",
       "      <td>350991.000000</td>\n",
       "      <td>350991.000000</td>\n",
       "    </tr>\n",
       "    <tr>\n",
       "      <th>mean</th>\n",
       "      <td>4410.822004</td>\n",
       "      <td>2004.067070</td>\n",
       "      <td>110.267061</td>\n",
       "      <td>128574.507608</td>\n",
       "      <td>0.300999</td>\n",
       "    </tr>\n",
       "    <tr>\n",
       "      <th>std</th>\n",
       "      <td>4503.363915</td>\n",
       "      <td>79.123471</td>\n",
       "      <td>189.081382</td>\n",
       "      <td>37470.166343</td>\n",
       "      <td>0.458693</td>\n",
       "    </tr>\n",
       "    <tr>\n",
       "      <th>min</th>\n",
       "      <td>0.000000</td>\n",
       "      <td>1000.000000</td>\n",
       "      <td>0.000000</td>\n",
       "      <td>5000.000000</td>\n",
       "      <td>0.000000</td>\n",
       "    </tr>\n",
       "    <tr>\n",
       "      <th>25%</th>\n",
       "      <td>1099.000000</td>\n",
       "      <td>1999.000000</td>\n",
       "      <td>69.000000</td>\n",
       "      <td>125000.000000</td>\n",
       "      <td>0.000000</td>\n",
       "    </tr>\n",
       "    <tr>\n",
       "      <th>50%</th>\n",
       "      <td>2700.000000</td>\n",
       "      <td>2003.000000</td>\n",
       "      <td>105.000000</td>\n",
       "      <td>150000.000000</td>\n",
       "      <td>0.000000</td>\n",
       "    </tr>\n",
       "    <tr>\n",
       "      <th>75%</th>\n",
       "      <td>6399.000000</td>\n",
       "      <td>2008.000000</td>\n",
       "      <td>142.000000</td>\n",
       "      <td>150000.000000</td>\n",
       "      <td>1.000000</td>\n",
       "    </tr>\n",
       "    <tr>\n",
       "      <th>max</th>\n",
       "      <td>20000.000000</td>\n",
       "      <td>9999.000000</td>\n",
       "      <td>20000.000000</td>\n",
       "      <td>150000.000000</td>\n",
       "      <td>1.000000</td>\n",
       "    </tr>\n",
       "  </tbody>\n",
       "</table>\n",
       "</div>"
      ],
      "text/plain": [
       "               Price  RegistrationYear          Power      Kilometer  \\\n",
       "count  350991.000000     350991.000000  350991.000000  350991.000000   \n",
       "mean     4410.822004       2004.067070     110.267061  128574.507608   \n",
       "std      4503.363915         79.123471     189.081382   37470.166343   \n",
       "min         0.000000       1000.000000       0.000000    5000.000000   \n",
       "25%      1099.000000       1999.000000      69.000000  125000.000000   \n",
       "50%      2700.000000       2003.000000     105.000000  150000.000000   \n",
       "75%      6399.000000       2008.000000     142.000000  150000.000000   \n",
       "max     20000.000000       9999.000000   20000.000000  150000.000000   \n",
       "\n",
       "            Repaired  \n",
       "count  350991.000000  \n",
       "mean        0.300999  \n",
       "std         0.458693  \n",
       "min         0.000000  \n",
       "25%         0.000000  \n",
       "50%         0.000000  \n",
       "75%         1.000000  \n",
       "max         1.000000  "
      ]
     },
     "execution_count": 28,
     "metadata": {},
     "output_type": "execute_result"
    }
   ],
   "source": [
    "df.describe()"
   ]
  },
  {
   "cell_type": "markdown",
   "metadata": {},
   "source": [
    "Вижу, что цена некоторых машин равна нулю, как и мощность. Это ошибки, которые нужно обработать."
   ]
  },
  {
   "cell_type": "markdown",
   "metadata": {},
   "source": [
    "Также есть ошибки в столбце с годом регистрации."
   ]
  },
  {
   "cell_type": "code",
   "execution_count": 29,
   "metadata": {},
   "outputs": [],
   "source": [
    "df = df[(df['RegistrationYear'] >= 1980) & (df['RegistrationYear'] < 2017)] #последняя активность была в 2016 "
   ]
  },
  {
   "cell_type": "code",
   "execution_count": 30,
   "metadata": {},
   "outputs": [
    {
     "data": {
      "text/html": [
       "<div>\n",
       "<style scoped>\n",
       "    .dataframe tbody tr th:only-of-type {\n",
       "        vertical-align: middle;\n",
       "    }\n",
       "\n",
       "    .dataframe tbody tr th {\n",
       "        vertical-align: top;\n",
       "    }\n",
       "\n",
       "    .dataframe thead th {\n",
       "        text-align: right;\n",
       "    }\n",
       "</style>\n",
       "<table border=\"1\" class=\"dataframe\">\n",
       "  <thead>\n",
       "    <tr style=\"text-align: right;\">\n",
       "      <th></th>\n",
       "      <th>Price</th>\n",
       "      <th>VehicleType</th>\n",
       "      <th>RegistrationYear</th>\n",
       "      <th>Gearbox</th>\n",
       "      <th>Power</th>\n",
       "      <th>Model</th>\n",
       "      <th>Kilometer</th>\n",
       "      <th>FuelType</th>\n",
       "      <th>Brand</th>\n",
       "      <th>Repaired</th>\n",
       "    </tr>\n",
       "  </thead>\n",
       "  <tbody>\n",
       "    <tr>\n",
       "      <th>7</th>\n",
       "      <td>0</td>\n",
       "      <td>sedan</td>\n",
       "      <td>1980</td>\n",
       "      <td>manual</td>\n",
       "      <td>50</td>\n",
       "      <td>other</td>\n",
       "      <td>40000</td>\n",
       "      <td>petrol</td>\n",
       "      <td>volkswagen</td>\n",
       "      <td>0</td>\n",
       "    </tr>\n",
       "    <tr>\n",
       "      <th>40</th>\n",
       "      <td>0</td>\n",
       "      <td>small</td>\n",
       "      <td>1990</td>\n",
       "      <td>manual</td>\n",
       "      <td>0</td>\n",
       "      <td>corsa</td>\n",
       "      <td>150000</td>\n",
       "      <td>petrol</td>\n",
       "      <td>opel</td>\n",
       "      <td>1</td>\n",
       "    </tr>\n",
       "    <tr>\n",
       "      <th>115</th>\n",
       "      <td>0</td>\n",
       "      <td>small</td>\n",
       "      <td>1999</td>\n",
       "      <td>manual</td>\n",
       "      <td>0</td>\n",
       "      <td>polo</td>\n",
       "      <td>5000</td>\n",
       "      <td>petrol</td>\n",
       "      <td>volkswagen</td>\n",
       "      <td>1</td>\n",
       "    </tr>\n",
       "    <tr>\n",
       "      <th>152</th>\n",
       "      <td>0</td>\n",
       "      <td>bus</td>\n",
       "      <td>2004</td>\n",
       "      <td>manual</td>\n",
       "      <td>101</td>\n",
       "      <td>meriva</td>\n",
       "      <td>150000</td>\n",
       "      <td>lpg</td>\n",
       "      <td>opel</td>\n",
       "      <td>1</td>\n",
       "    </tr>\n",
       "    <tr>\n",
       "      <th>154</th>\n",
       "      <td>0</td>\n",
       "      <td>sedan</td>\n",
       "      <td>2006</td>\n",
       "      <td>manual</td>\n",
       "      <td>0</td>\n",
       "      <td>other</td>\n",
       "      <td>5000</td>\n",
       "      <td>petrol</td>\n",
       "      <td>fiat</td>\n",
       "      <td>1</td>\n",
       "    </tr>\n",
       "    <tr>\n",
       "      <th>...</th>\n",
       "      <td>...</td>\n",
       "      <td>...</td>\n",
       "      <td>...</td>\n",
       "      <td>...</td>\n",
       "      <td>...</td>\n",
       "      <td>...</td>\n",
       "      <td>...</td>\n",
       "      <td>...</td>\n",
       "      <td>...</td>\n",
       "      <td>...</td>\n",
       "    </tr>\n",
       "    <tr>\n",
       "      <th>354205</th>\n",
       "      <td>0</td>\n",
       "      <td>small</td>\n",
       "      <td>2000</td>\n",
       "      <td>manual</td>\n",
       "      <td>65</td>\n",
       "      <td>corsa</td>\n",
       "      <td>150000</td>\n",
       "      <td>petrol</td>\n",
       "      <td>opel</td>\n",
       "      <td>1</td>\n",
       "    </tr>\n",
       "    <tr>\n",
       "      <th>354238</th>\n",
       "      <td>0</td>\n",
       "      <td>small</td>\n",
       "      <td>2002</td>\n",
       "      <td>manual</td>\n",
       "      <td>60</td>\n",
       "      <td>fiesta</td>\n",
       "      <td>150000</td>\n",
       "      <td>petrol</td>\n",
       "      <td>ford</td>\n",
       "      <td>1</td>\n",
       "    </tr>\n",
       "    <tr>\n",
       "      <th>354248</th>\n",
       "      <td>0</td>\n",
       "      <td>small</td>\n",
       "      <td>1999</td>\n",
       "      <td>manual</td>\n",
       "      <td>53</td>\n",
       "      <td>swift</td>\n",
       "      <td>150000</td>\n",
       "      <td>petrol</td>\n",
       "      <td>suzuki</td>\n",
       "      <td>1</td>\n",
       "    </tr>\n",
       "    <tr>\n",
       "      <th>354277</th>\n",
       "      <td>0</td>\n",
       "      <td>small</td>\n",
       "      <td>1999</td>\n",
       "      <td>manual</td>\n",
       "      <td>37</td>\n",
       "      <td>arosa</td>\n",
       "      <td>150000</td>\n",
       "      <td>petrol</td>\n",
       "      <td>seat</td>\n",
       "      <td>1</td>\n",
       "    </tr>\n",
       "    <tr>\n",
       "      <th>354364</th>\n",
       "      <td>0</td>\n",
       "      <td>small</td>\n",
       "      <td>2005</td>\n",
       "      <td>manual</td>\n",
       "      <td>0</td>\n",
       "      <td>colt</td>\n",
       "      <td>150000</td>\n",
       "      <td>petrol</td>\n",
       "      <td>mitsubishi</td>\n",
       "      <td>1</td>\n",
       "    </tr>\n",
       "  </tbody>\n",
       "</table>\n",
       "<p>9324 rows × 10 columns</p>\n",
       "</div>"
      ],
      "text/plain": [
       "        Price VehicleType  RegistrationYear Gearbox  Power   Model  Kilometer  \\\n",
       "7           0       sedan              1980  manual     50   other      40000   \n",
       "40          0       small              1990  manual      0   corsa     150000   \n",
       "115         0       small              1999  manual      0    polo       5000   \n",
       "152         0         bus              2004  manual    101  meriva     150000   \n",
       "154         0       sedan              2006  manual      0   other       5000   \n",
       "...       ...         ...               ...     ...    ...     ...        ...   \n",
       "354205      0       small              2000  manual     65   corsa     150000   \n",
       "354238      0       small              2002  manual     60  fiesta     150000   \n",
       "354248      0       small              1999  manual     53   swift     150000   \n",
       "354277      0       small              1999  manual     37   arosa     150000   \n",
       "354364      0       small              2005  manual      0    colt     150000   \n",
       "\n",
       "       FuelType       Brand  Repaired  \n",
       "7        petrol  volkswagen         0  \n",
       "40       petrol        opel         1  \n",
       "115      petrol  volkswagen         1  \n",
       "152         lpg        opel         1  \n",
       "154      petrol        fiat         1  \n",
       "...         ...         ...       ...  \n",
       "354205   petrol        opel         1  \n",
       "354238   petrol        ford         1  \n",
       "354248   petrol      suzuki         1  \n",
       "354277   petrol        seat         1  \n",
       "354364   petrol  mitsubishi         1  \n",
       "\n",
       "[9324 rows x 10 columns]"
      ]
     },
     "execution_count": 30,
     "metadata": {},
     "output_type": "execute_result"
    }
   ],
   "source": [
    "df[df['Price'] == 0]"
   ]
  },
  {
   "cell_type": "markdown",
   "metadata": {},
   "source": [
    "Количество строк с ценой, равной 0, составляет 3%. Удалю эти значения."
   ]
  },
  {
   "cell_type": "code",
   "execution_count": 31,
   "metadata": {},
   "outputs": [],
   "source": [
    "df = df[df['Price'] > 0]"
   ]
  },
  {
   "cell_type": "code",
   "execution_count": 32,
   "metadata": {},
   "outputs": [
    {
     "data": {
      "image/png": "[encoded data removed]",
      "text/plain": [
       "<Figure size 1080x288 with 2 Axes>"
      ]
     },
     "metadata": {},
     "output_type": "display_data"
    }
   ],
   "source": [
    "graf(df, 'Price')"
   ]
  },
  {
   "cell_type": "code",
   "execution_count": 33,
   "metadata": {},
   "outputs": [
    {
     "data": {
      "text/html": [
       "<div>\n",
       "<style scoped>\n",
       "    .dataframe tbody tr th:only-of-type {\n",
       "        vertical-align: middle;\n",
       "    }\n",
       "\n",
       "    .dataframe tbody tr th {\n",
       "        vertical-align: top;\n",
       "    }\n",
       "\n",
       "    .dataframe thead th {\n",
       "        text-align: right;\n",
       "    }\n",
       "</style>\n",
       "<table border=\"1\" class=\"dataframe\">\n",
       "  <thead>\n",
       "    <tr style=\"text-align: right;\">\n",
       "      <th></th>\n",
       "      <th>Price</th>\n",
       "      <th>RegistrationYear</th>\n",
       "      <th>Power</th>\n",
       "      <th>Kilometer</th>\n",
       "      <th>Repaired</th>\n",
       "    </tr>\n",
       "  </thead>\n",
       "  <tbody>\n",
       "    <tr>\n",
       "      <th>count</th>\n",
       "      <td>324508.000000</td>\n",
       "      <td>324508.000000</td>\n",
       "      <td>324508.000000</td>\n",
       "      <td>324508.000000</td>\n",
       "      <td>324508.000000</td>\n",
       "    </tr>\n",
       "    <tr>\n",
       "      <th>mean</th>\n",
       "      <td>4574.007575</td>\n",
       "      <td>2002.928177</td>\n",
       "      <td>112.222118</td>\n",
       "      <td>128809.644138</td>\n",
       "      <td>0.279962</td>\n",
       "    </tr>\n",
       "    <tr>\n",
       "      <th>std</th>\n",
       "      <td>4521.625414</td>\n",
       "      <td>6.005811</td>\n",
       "      <td>182.412988</td>\n",
       "      <td>36885.652460</td>\n",
       "      <td>0.448981</td>\n",
       "    </tr>\n",
       "    <tr>\n",
       "      <th>min</th>\n",
       "      <td>1.000000</td>\n",
       "      <td>1980.000000</td>\n",
       "      <td>0.000000</td>\n",
       "      <td>5000.000000</td>\n",
       "      <td>0.000000</td>\n",
       "    </tr>\n",
       "    <tr>\n",
       "      <th>25%</th>\n",
       "      <td>1200.000000</td>\n",
       "      <td>1999.000000</td>\n",
       "      <td>72.000000</td>\n",
       "      <td>125000.000000</td>\n",
       "      <td>0.000000</td>\n",
       "    </tr>\n",
       "    <tr>\n",
       "      <th>50%</th>\n",
       "      <td>2900.000000</td>\n",
       "      <td>2003.000000</td>\n",
       "      <td>105.000000</td>\n",
       "      <td>150000.000000</td>\n",
       "      <td>0.000000</td>\n",
       "    </tr>\n",
       "    <tr>\n",
       "      <th>75%</th>\n",
       "      <td>6500.000000</td>\n",
       "      <td>2007.000000</td>\n",
       "      <td>143.000000</td>\n",
       "      <td>150000.000000</td>\n",
       "      <td>1.000000</td>\n",
       "    </tr>\n",
       "    <tr>\n",
       "      <th>max</th>\n",
       "      <td>20000.000000</td>\n",
       "      <td>2016.000000</td>\n",
       "      <td>20000.000000</td>\n",
       "      <td>150000.000000</td>\n",
       "      <td>1.000000</td>\n",
       "    </tr>\n",
       "  </tbody>\n",
       "</table>\n",
       "</div>"
      ],
      "text/plain": [
       "               Price  RegistrationYear          Power      Kilometer  \\\n",
       "count  324508.000000     324508.000000  324508.000000  324508.000000   \n",
       "mean     4574.007575       2002.928177     112.222118  128809.644138   \n",
       "std      4521.625414          6.005811     182.412988   36885.652460   \n",
       "min         1.000000       1980.000000       0.000000    5000.000000   \n",
       "25%      1200.000000       1999.000000      72.000000  125000.000000   \n",
       "50%      2900.000000       2003.000000     105.000000  150000.000000   \n",
       "75%      6500.000000       2007.000000     143.000000  150000.000000   \n",
       "max     20000.000000       2016.000000   20000.000000  150000.000000   \n",
       "\n",
       "            Repaired  \n",
       "count  324508.000000  \n",
       "mean        0.279962  \n",
       "std         0.448981  \n",
       "min         0.000000  \n",
       "25%         0.000000  \n",
       "50%         0.000000  \n",
       "75%         1.000000  \n",
       "max         1.000000  "
      ]
     },
     "execution_count": 33,
     "metadata": {},
     "output_type": "execute_result"
    }
   ],
   "source": [
    "df.describe()"
   ]
  },
  {
   "cell_type": "code",
   "execution_count": 34,
   "metadata": {},
   "outputs": [
    {
     "data": {
      "image/png": "[encoded data removed]",
      "text/plain": [
       "<Figure size 1080x288 with 2 Axes>"
      ]
     },
     "metadata": {},
     "output_type": "display_data"
    }
   ],
   "source": [
    "graf(df[df['Price'] < 1200], 'Price') #посмотрю на данные по 25% квартилю"
   ]
  },
  {
   "cell_type": "code",
   "execution_count": 35,
   "metadata": {
    "scrolled": false
   },
   "outputs": [
    {
     "data": {
      "image/png": "[encoded data removed]",
      "text/plain": [
       "<Figure size 1080x288 with 2 Axes>"
      ]
     },
     "metadata": {},
     "output_type": "display_data"
    }
   ],
   "source": [
    "graf(df[df['Price'] < 400], 'Price') #настораживает большое количество авто с ценой до 50 евро"
   ]
  },
  {
   "cell_type": "code",
   "execution_count": 36,
   "metadata": {},
   "outputs": [
    {
     "data": {
      "text/plain": [
       "1     1000\n",
       "10      74\n",
       "30      47\n",
       "40      43\n",
       "20      39\n",
       "25      26\n",
       "5       23\n",
       "15      22\n",
       "35      18\n",
       "45      13\n",
       "49      11\n",
       "2        9\n",
       "8        9\n",
       "9        8\n",
       "12       6\n",
       "13       6\n",
       "3        6\n",
       "39       6\n",
       "17       5\n",
       "14       4\n",
       "7        3\n",
       "11       3\n",
       "29       2\n",
       "18       2\n",
       "16       2\n",
       "26       1\n",
       "27       1\n",
       "4        1\n",
       "32       1\n",
       "33       1\n",
       "21       1\n",
       "38       1\n",
       "47       1\n",
       "24       1\n",
       "Name: Price, dtype: int64"
      ]
     },
     "execution_count": 36,
     "metadata": {},
     "output_type": "execute_result"
    }
   ],
   "source": [
    "df[df['Price'] < 50]['Price'].value_counts()"
   ]
  },
  {
   "cell_type": "markdown",
   "metadata": {},
   "source": [
    "Из общей массы выделяются значения с ценой равной 1 доллару. Считаю такие строки аномалией, удалю их."
   ]
  },
  {
   "cell_type": "code",
   "execution_count": 37,
   "metadata": {},
   "outputs": [],
   "source": [
    "df = df[df['Price'] > 1]"
   ]
  },
  {
   "cell_type": "code",
   "execution_count": 38,
   "metadata": {},
   "outputs": [
    {
     "data": {
      "text/html": [
       "<div>\n",
       "<style scoped>\n",
       "    .dataframe tbody tr th:only-of-type {\n",
       "        vertical-align: middle;\n",
       "    }\n",
       "\n",
       "    .dataframe tbody tr th {\n",
       "        vertical-align: top;\n",
       "    }\n",
       "\n",
       "    .dataframe thead th {\n",
       "        text-align: right;\n",
       "    }\n",
       "</style>\n",
       "<table border=\"1\" class=\"dataframe\">\n",
       "  <thead>\n",
       "    <tr style=\"text-align: right;\">\n",
       "      <th></th>\n",
       "      <th>Price</th>\n",
       "      <th>VehicleType</th>\n",
       "      <th>RegistrationYear</th>\n",
       "      <th>Gearbox</th>\n",
       "      <th>Power</th>\n",
       "      <th>Model</th>\n",
       "      <th>Kilometer</th>\n",
       "      <th>FuelType</th>\n",
       "      <th>Brand</th>\n",
       "      <th>Repaired</th>\n",
       "    </tr>\n",
       "  </thead>\n",
       "  <tbody>\n",
       "    <tr>\n",
       "      <th>0</th>\n",
       "      <td>480</td>\n",
       "      <td>sedan</td>\n",
       "      <td>1993</td>\n",
       "      <td>manual</td>\n",
       "      <td>0</td>\n",
       "      <td>golf</td>\n",
       "      <td>150000</td>\n",
       "      <td>petrol</td>\n",
       "      <td>volkswagen</td>\n",
       "      <td>1</td>\n",
       "    </tr>\n",
       "    <tr>\n",
       "      <th>32</th>\n",
       "      <td>245</td>\n",
       "      <td>sedan</td>\n",
       "      <td>1994</td>\n",
       "      <td>manual</td>\n",
       "      <td>0</td>\n",
       "      <td>golf</td>\n",
       "      <td>150000</td>\n",
       "      <td>petrol</td>\n",
       "      <td>volkswagen</td>\n",
       "      <td>0</td>\n",
       "    </tr>\n",
       "    <tr>\n",
       "      <th>37</th>\n",
       "      <td>1500</td>\n",
       "      <td>bus</td>\n",
       "      <td>2016</td>\n",
       "      <td>manual</td>\n",
       "      <td>0</td>\n",
       "      <td>kangoo</td>\n",
       "      <td>150000</td>\n",
       "      <td>petrol</td>\n",
       "      <td>renault</td>\n",
       "      <td>0</td>\n",
       "    </tr>\n",
       "    <tr>\n",
       "      <th>54</th>\n",
       "      <td>4700</td>\n",
       "      <td>wagon</td>\n",
       "      <td>2005</td>\n",
       "      <td>manual</td>\n",
       "      <td>0</td>\n",
       "      <td>signum</td>\n",
       "      <td>150000</td>\n",
       "      <td>petrol</td>\n",
       "      <td>opel</td>\n",
       "      <td>0</td>\n",
       "    </tr>\n",
       "    <tr>\n",
       "      <th>55</th>\n",
       "      <td>550</td>\n",
       "      <td>wagon</td>\n",
       "      <td>1999</td>\n",
       "      <td>manual</td>\n",
       "      <td>0</td>\n",
       "      <td>astra</td>\n",
       "      <td>150000</td>\n",
       "      <td>petrol</td>\n",
       "      <td>opel</td>\n",
       "      <td>1</td>\n",
       "    </tr>\n",
       "    <tr>\n",
       "      <th>...</th>\n",
       "      <td>...</td>\n",
       "      <td>...</td>\n",
       "      <td>...</td>\n",
       "      <td>...</td>\n",
       "      <td>...</td>\n",
       "      <td>...</td>\n",
       "      <td>...</td>\n",
       "      <td>...</td>\n",
       "      <td>...</td>\n",
       "      <td>...</td>\n",
       "    </tr>\n",
       "    <tr>\n",
       "      <th>354335</th>\n",
       "      <td>390</td>\n",
       "      <td>small</td>\n",
       "      <td>1997</td>\n",
       "      <td>auto</td>\n",
       "      <td>0</td>\n",
       "      <td>corsa</td>\n",
       "      <td>100000</td>\n",
       "      <td>petrol</td>\n",
       "      <td>opel</td>\n",
       "      <td>1</td>\n",
       "    </tr>\n",
       "    <tr>\n",
       "      <th>354336</th>\n",
       "      <td>3299</td>\n",
       "      <td>suv</td>\n",
       "      <td>2005</td>\n",
       "      <td>auto</td>\n",
       "      <td>0</td>\n",
       "      <td>outlander</td>\n",
       "      <td>150000</td>\n",
       "      <td>petrol</td>\n",
       "      <td>mitsubishi</td>\n",
       "      <td>1</td>\n",
       "    </tr>\n",
       "    <tr>\n",
       "      <th>354338</th>\n",
       "      <td>180</td>\n",
       "      <td>small</td>\n",
       "      <td>1995</td>\n",
       "      <td>manual</td>\n",
       "      <td>0</td>\n",
       "      <td>corsa</td>\n",
       "      <td>125000</td>\n",
       "      <td>petrol</td>\n",
       "      <td>opel</td>\n",
       "      <td>1</td>\n",
       "    </tr>\n",
       "    <tr>\n",
       "      <th>354346</th>\n",
       "      <td>2600</td>\n",
       "      <td>sedan</td>\n",
       "      <td>2005</td>\n",
       "      <td>auto</td>\n",
       "      <td>0</td>\n",
       "      <td>c_klasse</td>\n",
       "      <td>150000</td>\n",
       "      <td>petrol</td>\n",
       "      <td>mercedes_benz</td>\n",
       "      <td>1</td>\n",
       "    </tr>\n",
       "    <tr>\n",
       "      <th>354363</th>\n",
       "      <td>1150</td>\n",
       "      <td>bus</td>\n",
       "      <td>2000</td>\n",
       "      <td>manual</td>\n",
       "      <td>0</td>\n",
       "      <td>zafira</td>\n",
       "      <td>150000</td>\n",
       "      <td>petrol</td>\n",
       "      <td>opel</td>\n",
       "      <td>0</td>\n",
       "    </tr>\n",
       "  </tbody>\n",
       "</table>\n",
       "<p>30940 rows × 10 columns</p>\n",
       "</div>"
      ],
      "text/plain": [
       "        Price VehicleType  RegistrationYear Gearbox  Power      Model  \\\n",
       "0         480       sedan              1993  manual      0       golf   \n",
       "32        245       sedan              1994  manual      0       golf   \n",
       "37       1500         bus              2016  manual      0     kangoo   \n",
       "54       4700       wagon              2005  manual      0     signum   \n",
       "55        550       wagon              1999  manual      0      astra   \n",
       "...       ...         ...               ...     ...    ...        ...   \n",
       "354335    390       small              1997    auto      0      corsa   \n",
       "354336   3299         suv              2005    auto      0  outlander   \n",
       "354338    180       small              1995  manual      0      corsa   \n",
       "354346   2600       sedan              2005    auto      0   c_klasse   \n",
       "354363   1150         bus              2000  manual      0     zafira   \n",
       "\n",
       "        Kilometer FuelType          Brand  Repaired  \n",
       "0          150000   petrol     volkswagen         1  \n",
       "32         150000   petrol     volkswagen         0  \n",
       "37         150000   petrol        renault         0  \n",
       "54         150000   petrol           opel         0  \n",
       "55         150000   petrol           opel         1  \n",
       "...           ...      ...            ...       ...  \n",
       "354335     100000   petrol           opel         1  \n",
       "354336     150000   petrol     mitsubishi         1  \n",
       "354338     125000   petrol           opel         1  \n",
       "354346     150000   petrol  mercedes_benz         1  \n",
       "354363     150000   petrol           opel         0  \n",
       "\n",
       "[30940 rows x 10 columns]"
      ]
     },
     "execution_count": 38,
     "metadata": {},
     "output_type": "execute_result"
    }
   ],
   "source": [
    "df[df['Power'] == 0]"
   ]
  },
  {
   "cell_type": "markdown",
   "metadata": {},
   "source": [
    "10% строк с аномалией, надо изменить значения на моду по модели."
   ]
  },
  {
   "cell_type": "code",
   "execution_count": 39,
   "metadata": {
    "scrolled": true
   },
   "outputs": [
    {
     "data": {
      "text/plain": [
       "1    19406\n",
       "0    11534\n",
       "Name: Repaired, dtype: int64"
      ]
     },
     "execution_count": 39,
     "metadata": {},
     "output_type": "execute_result"
    }
   ],
   "source": [
    "df[df['Power'] == 0]['Repaired'].value_counts()"
   ]
  },
  {
   "cell_type": "code",
   "execution_count": 40,
   "metadata": {},
   "outputs": [],
   "source": [
    "for i in models:\n",
    "    if not df[(df['Model'] == i) & (df['Power'] > 0)].empty:\n",
    "        mode_value = mode(df[(df['Model'] == i) & (df['Power'] > 0)]['Power'])\n",
    "        df.loc[(df['Model'] == i) & (df['Power'] == 0) & (df['Repaired'] == 0), 'Power'] = mode_value"
   ]
  },
  {
   "cell_type": "code",
   "execution_count": 41,
   "metadata": {},
   "outputs": [
    {
     "data": {
      "text/plain": [
       "True"
      ]
     },
     "execution_count": 41,
     "metadata": {},
     "output_type": "execute_result"
    }
   ],
   "source": [
    "df[df['Power'] == 0]['Repaired'].count() == df[df['Power'] == 0]['Repaired'].sum()"
   ]
  },
  {
   "cell_type": "code",
   "execution_count": 42,
   "metadata": {},
   "outputs": [
    {
     "data": {
      "text/html": [
       "<div>\n",
       "<style scoped>\n",
       "    .dataframe tbody tr th:only-of-type {\n",
       "        vertical-align: middle;\n",
       "    }\n",
       "\n",
       "    .dataframe tbody tr th {\n",
       "        vertical-align: top;\n",
       "    }\n",
       "\n",
       "    .dataframe thead th {\n",
       "        text-align: right;\n",
       "    }\n",
       "</style>\n",
       "<table border=\"1\" class=\"dataframe\">\n",
       "  <thead>\n",
       "    <tr style=\"text-align: right;\">\n",
       "      <th></th>\n",
       "      <th>Price</th>\n",
       "      <th>VehicleType</th>\n",
       "      <th>RegistrationYear</th>\n",
       "      <th>Gearbox</th>\n",
       "      <th>Power</th>\n",
       "      <th>Model</th>\n",
       "      <th>Kilometer</th>\n",
       "      <th>FuelType</th>\n",
       "      <th>Brand</th>\n",
       "      <th>Repaired</th>\n",
       "    </tr>\n",
       "  </thead>\n",
       "  <tbody>\n",
       "    <tr>\n",
       "      <th>0</th>\n",
       "      <td>480</td>\n",
       "      <td>sedan</td>\n",
       "      <td>1993</td>\n",
       "      <td>manual</td>\n",
       "      <td>0</td>\n",
       "      <td>golf</td>\n",
       "      <td>150000</td>\n",
       "      <td>petrol</td>\n",
       "      <td>volkswagen</td>\n",
       "      <td>1</td>\n",
       "    </tr>\n",
       "    <tr>\n",
       "      <th>1</th>\n",
       "      <td>18300</td>\n",
       "      <td>coupe</td>\n",
       "      <td>2011</td>\n",
       "      <td>manual</td>\n",
       "      <td>190</td>\n",
       "      <td>tt</td>\n",
       "      <td>125000</td>\n",
       "      <td>petrol</td>\n",
       "      <td>audi</td>\n",
       "      <td>1</td>\n",
       "    </tr>\n",
       "    <tr>\n",
       "      <th>2</th>\n",
       "      <td>9800</td>\n",
       "      <td>suv</td>\n",
       "      <td>2004</td>\n",
       "      <td>auto</td>\n",
       "      <td>163</td>\n",
       "      <td>grand</td>\n",
       "      <td>125000</td>\n",
       "      <td>petrol</td>\n",
       "      <td>jeep</td>\n",
       "      <td>1</td>\n",
       "    </tr>\n",
       "    <tr>\n",
       "      <th>3</th>\n",
       "      <td>1500</td>\n",
       "      <td>small</td>\n",
       "      <td>2001</td>\n",
       "      <td>manual</td>\n",
       "      <td>75</td>\n",
       "      <td>golf</td>\n",
       "      <td>150000</td>\n",
       "      <td>petrol</td>\n",
       "      <td>volkswagen</td>\n",
       "      <td>0</td>\n",
       "    </tr>\n",
       "    <tr>\n",
       "      <th>4</th>\n",
       "      <td>3600</td>\n",
       "      <td>small</td>\n",
       "      <td>2008</td>\n",
       "      <td>manual</td>\n",
       "      <td>69</td>\n",
       "      <td>fabia</td>\n",
       "      <td>90000</td>\n",
       "      <td>petrol</td>\n",
       "      <td>skoda</td>\n",
       "      <td>0</td>\n",
       "    </tr>\n",
       "  </tbody>\n",
       "</table>\n",
       "</div>"
      ],
      "text/plain": [
       "   Price VehicleType  RegistrationYear Gearbox  Power  Model  Kilometer  \\\n",
       "0    480       sedan              1993  manual      0   golf     150000   \n",
       "1  18300       coupe              2011  manual    190     tt     125000   \n",
       "2   9800         suv              2004    auto    163  grand     125000   \n",
       "3   1500       small              2001  manual     75   golf     150000   \n",
       "4   3600       small              2008  manual     69  fabia      90000   \n",
       "\n",
       "  FuelType       Brand  Repaired  \n",
       "0   petrol  volkswagen         1  \n",
       "1   petrol        audi         1  \n",
       "2   petrol        jeep         1  \n",
       "3   petrol  volkswagen         0  \n",
       "4   petrol       skoda         0  "
      ]
     },
     "execution_count": 42,
     "metadata": {},
     "output_type": "execute_result"
    }
   ],
   "source": [
    "df.head()"
   ]
  },
  {
   "cell_type": "code",
   "execution_count": 43,
   "metadata": {},
   "outputs": [],
   "source": [
    "num_columns = ['Price', 'RegistrationYear', 'Power', 'Kilometer']"
   ]
  },
  {
   "cell_type": "code",
   "execution_count": 44,
   "metadata": {},
   "outputs": [
    {
     "data": {
      "image/png": "[encoded data removed]",
      "text/plain": [
       "<Figure size 1080x288 with 2 Axes>"
      ]
     },
     "metadata": {},
     "output_type": "display_data"
    },
    {
     "data": {
      "image/png": "[encoded data removed]",
      "text/plain": [
       "<Figure size 1080x288 with 2 Axes>"
      ]
     },
     "metadata": {},
     "output_type": "display_data"
    },
    {
     "data": {
      "image/png": "[encoded data removed]",
      "text/plain": [
       "<Figure size 1080x288 with 2 Axes>"
      ]
     },
     "metadata": {},
     "output_type": "display_data"
    },
    {
     "data": {
      "image/png": "[encoded data removed]",
      "text/plain": [
       "<Figure size 1080x288 with 2 Axes>"
      ]
     },
     "metadata": {},
     "output_type": "display_data"
    }
   ],
   "source": [
    "for i in num_columns:\n",
    "    graf(df, i)\n",
    "    plt.show()"
   ]
  },
  {
   "cell_type": "code",
   "execution_count": 45,
   "metadata": {},
   "outputs": [
    {
     "data": {
      "text/html": [
       "<div>\n",
       "<style scoped>\n",
       "    .dataframe tbody tr th:only-of-type {\n",
       "        vertical-align: middle;\n",
       "    }\n",
       "\n",
       "    .dataframe tbody tr th {\n",
       "        vertical-align: top;\n",
       "    }\n",
       "\n",
       "    .dataframe thead th {\n",
       "        text-align: right;\n",
       "    }\n",
       "</style>\n",
       "<table border=\"1\" class=\"dataframe\">\n",
       "  <thead>\n",
       "    <tr style=\"text-align: right;\">\n",
       "      <th></th>\n",
       "      <th>Price</th>\n",
       "      <th>VehicleType</th>\n",
       "      <th>RegistrationYear</th>\n",
       "      <th>Gearbox</th>\n",
       "      <th>Power</th>\n",
       "      <th>Model</th>\n",
       "      <th>Kilometer</th>\n",
       "      <th>FuelType</th>\n",
       "      <th>Brand</th>\n",
       "      <th>Repaired</th>\n",
       "    </tr>\n",
       "  </thead>\n",
       "  <tbody>\n",
       "    <tr>\n",
       "      <th>1816</th>\n",
       "      <td>3200</td>\n",
       "      <td>small</td>\n",
       "      <td>2004</td>\n",
       "      <td>manual</td>\n",
       "      <td>1398</td>\n",
       "      <td>corolla</td>\n",
       "      <td>5000</td>\n",
       "      <td>petrol</td>\n",
       "      <td>toyota</td>\n",
       "      <td>0</td>\n",
       "    </tr>\n",
       "    <tr>\n",
       "      <th>4060</th>\n",
       "      <td>3100</td>\n",
       "      <td>sedan</td>\n",
       "      <td>2005</td>\n",
       "      <td>manual</td>\n",
       "      <td>953</td>\n",
       "      <td>colt</td>\n",
       "      <td>150000</td>\n",
       "      <td>petrol</td>\n",
       "      <td>mitsubishi</td>\n",
       "      <td>0</td>\n",
       "    </tr>\n",
       "    <tr>\n",
       "      <th>5328</th>\n",
       "      <td>500</td>\n",
       "      <td>wagon</td>\n",
       "      <td>1999</td>\n",
       "      <td>manual</td>\n",
       "      <td>1001</td>\n",
       "      <td>astra</td>\n",
       "      <td>150000</td>\n",
       "      <td>petrol</td>\n",
       "      <td>opel</td>\n",
       "      <td>1</td>\n",
       "    </tr>\n",
       "    <tr>\n",
       "      <th>6504</th>\n",
       "      <td>3000</td>\n",
       "      <td>small</td>\n",
       "      <td>2009</td>\n",
       "      <td>manual</td>\n",
       "      <td>771</td>\n",
       "      <td>punto</td>\n",
       "      <td>125000</td>\n",
       "      <td>petrol</td>\n",
       "      <td>fiat</td>\n",
       "      <td>1</td>\n",
       "    </tr>\n",
       "    <tr>\n",
       "      <th>7661</th>\n",
       "      <td>1499</td>\n",
       "      <td>small</td>\n",
       "      <td>1999</td>\n",
       "      <td>manual</td>\n",
       "      <td>7515</td>\n",
       "      <td>lupo</td>\n",
       "      <td>150000</td>\n",
       "      <td>petrol</td>\n",
       "      <td>volkswagen</td>\n",
       "      <td>1</td>\n",
       "    </tr>\n",
       "    <tr>\n",
       "      <th>...</th>\n",
       "      <td>...</td>\n",
       "      <td>...</td>\n",
       "      <td>...</td>\n",
       "      <td>...</td>\n",
       "      <td>...</td>\n",
       "      <td>...</td>\n",
       "      <td>...</td>\n",
       "      <td>...</td>\n",
       "      <td>...</td>\n",
       "      <td>...</td>\n",
       "    </tr>\n",
       "    <tr>\n",
       "      <th>348668</th>\n",
       "      <td>1000</td>\n",
       "      <td>wagon</td>\n",
       "      <td>1996</td>\n",
       "      <td>manual</td>\n",
       "      <td>2598</td>\n",
       "      <td>a6</td>\n",
       "      <td>150000</td>\n",
       "      <td>petrol</td>\n",
       "      <td>audi</td>\n",
       "      <td>1</td>\n",
       "    </tr>\n",
       "    <tr>\n",
       "      <th>348883</th>\n",
       "      <td>7500</td>\n",
       "      <td>sedan</td>\n",
       "      <td>2011</td>\n",
       "      <td>manual</td>\n",
       "      <td>1548</td>\n",
       "      <td>scenic</td>\n",
       "      <td>90000</td>\n",
       "      <td>petrol</td>\n",
       "      <td>renault</td>\n",
       "      <td>1</td>\n",
       "    </tr>\n",
       "    <tr>\n",
       "      <th>348968</th>\n",
       "      <td>250</td>\n",
       "      <td>small</td>\n",
       "      <td>1999</td>\n",
       "      <td>manual</td>\n",
       "      <td>1241</td>\n",
       "      <td>ypsilon</td>\n",
       "      <td>150000</td>\n",
       "      <td>petrol</td>\n",
       "      <td>lancia</td>\n",
       "      <td>1</td>\n",
       "    </tr>\n",
       "    <tr>\n",
       "      <th>351947</th>\n",
       "      <td>1500</td>\n",
       "      <td>bus</td>\n",
       "      <td>2001</td>\n",
       "      <td>manual</td>\n",
       "      <td>1001</td>\n",
       "      <td>zafira</td>\n",
       "      <td>5000</td>\n",
       "      <td>petrol</td>\n",
       "      <td>opel</td>\n",
       "      <td>0</td>\n",
       "    </tr>\n",
       "    <tr>\n",
       "      <th>354260</th>\n",
       "      <td>399</td>\n",
       "      <td>other</td>\n",
       "      <td>1994</td>\n",
       "      <td>manual</td>\n",
       "      <td>1103</td>\n",
       "      <td>3er</td>\n",
       "      <td>150000</td>\n",
       "      <td>petrol</td>\n",
       "      <td>bmw</td>\n",
       "      <td>1</td>\n",
       "    </tr>\n",
       "  </tbody>\n",
       "</table>\n",
       "<p>292 rows × 10 columns</p>\n",
       "</div>"
      ],
      "text/plain": [
       "        Price VehicleType  RegistrationYear Gearbox  Power    Model  \\\n",
       "1816     3200       small              2004  manual   1398  corolla   \n",
       "4060     3100       sedan              2005  manual    953     colt   \n",
       "5328      500       wagon              1999  manual   1001    astra   \n",
       "6504     3000       small              2009  manual    771    punto   \n",
       "7661     1499       small              1999  manual   7515     lupo   \n",
       "...       ...         ...               ...     ...    ...      ...   \n",
       "348668   1000       wagon              1996  manual   2598       a6   \n",
       "348883   7500       sedan              2011  manual   1548   scenic   \n",
       "348968    250       small              1999  manual   1241  ypsilon   \n",
       "351947   1500         bus              2001  manual   1001   zafira   \n",
       "354260    399       other              1994  manual   1103      3er   \n",
       "\n",
       "        Kilometer FuelType       Brand  Repaired  \n",
       "1816         5000   petrol      toyota         0  \n",
       "4060       150000   petrol  mitsubishi         0  \n",
       "5328       150000   petrol        opel         1  \n",
       "6504       125000   petrol        fiat         1  \n",
       "7661       150000   petrol  volkswagen         1  \n",
       "...           ...      ...         ...       ...  \n",
       "348668     150000   petrol        audi         1  \n",
       "348883      90000   petrol     renault         1  \n",
       "348968     150000   petrol      lancia         1  \n",
       "351947       5000   petrol        opel         0  \n",
       "354260     150000   petrol         bmw         1  \n",
       "\n",
       "[292 rows x 10 columns]"
      ]
     },
     "execution_count": 45,
     "metadata": {},
     "output_type": "execute_result"
    }
   ],
   "source": [
    "df[df['Power'] > 700] #в датасете представлены авто среднего сегмента, поэтому предполагаю макс. мощность равной 700"
   ]
  },
  {
   "cell_type": "markdown",
   "metadata": {},
   "source": [
    "Удалю представленные машины."
   ]
  },
  {
   "cell_type": "code",
   "execution_count": 46,
   "metadata": {},
   "outputs": [],
   "source": [
    "df = df[df['Power'] < 700]"
   ]
  },
  {
   "cell_type": "code",
   "execution_count": 47,
   "metadata": {},
   "outputs": [
    {
     "data": {
      "text/plain": [
       "<AxesSubplot:>"
      ]
     },
     "execution_count": 47,
     "metadata": {},
     "output_type": "execute_result"
    },
    {
     "data": {
      "image/png": "[encoded data removed]",
      "text/plain": [
       "<Figure size 1080x288 with 1 Axes>"
      ]
     },
     "metadata": {},
     "output_type": "display_data"
    }
   ],
   "source": [
    "df[df['Price'] > 15000]['Price'].hist()"
   ]
  },
  {
   "cell_type": "markdown",
   "metadata": {},
   "source": [
    "Распределение данных выше границы верхнего уса по цене равномерно с убыванием. Считаю, что эти данные не имеют аномальный характер."
   ]
  },
  {
   "cell_type": "markdown",
   "metadata": {},
   "source": [
    "Остальные данные оставлю, может быть, графики отображают тенденции, которые пока не очевидны."
   ]
  },
  {
   "cell_type": "markdown",
   "metadata": {},
   "source": [
    "### Корреляционный анализ"
   ]
  },
  {
   "cell_type": "code",
   "execution_count": 48,
   "metadata": {},
   "outputs": [
    {
     "data": {
      "image/png": "[encoded data removed]",
      "text/plain": [
       "<Figure size 1080x720 with 2 Axes>"
      ]
     },
     "metadata": {},
     "output_type": "display_data"
    }
   ],
   "source": [
    "plt.figure(figsize=(15, 10))\n",
    "sns.heatmap(df.phik_matrix(interval_cols=num_columns), annot=True, cmap='coolwarm')\n",
    "plt.show()"
   ]
  },
  {
   "cell_type": "markdown",
   "metadata": {},
   "source": [
    "Есть подозрение на мультиколлинеарность. После кодирования проверю VIF-ом."
   ]
  },
  {
   "cell_type": "markdown",
   "metadata": {},
   "source": [
    "## Обучение моделей"
   ]
  },
  {
   "cell_type": "code",
   "execution_count": 49,
   "metadata": {},
   "outputs": [
    {
     "data": {
      "text/html": [
       "<div>\n",
       "<style scoped>\n",
       "    .dataframe tbody tr th:only-of-type {\n",
       "        vertical-align: middle;\n",
       "    }\n",
       "\n",
       "    .dataframe tbody tr th {\n",
       "        vertical-align: top;\n",
       "    }\n",
       "\n",
       "    .dataframe thead th {\n",
       "        text-align: right;\n",
       "    }\n",
       "</style>\n",
       "<table border=\"1\" class=\"dataframe\">\n",
       "  <thead>\n",
       "    <tr style=\"text-align: right;\">\n",
       "      <th></th>\n",
       "      <th>Price</th>\n",
       "      <th>VehicleType</th>\n",
       "      <th>RegistrationYear</th>\n",
       "      <th>Gearbox</th>\n",
       "      <th>Power</th>\n",
       "      <th>Model</th>\n",
       "      <th>Kilometer</th>\n",
       "      <th>FuelType</th>\n",
       "      <th>Brand</th>\n",
       "      <th>Repaired</th>\n",
       "    </tr>\n",
       "  </thead>\n",
       "  <tbody>\n",
       "    <tr>\n",
       "      <th>0</th>\n",
       "      <td>480</td>\n",
       "      <td>sedan</td>\n",
       "      <td>1993</td>\n",
       "      <td>manual</td>\n",
       "      <td>0</td>\n",
       "      <td>golf</td>\n",
       "      <td>150000</td>\n",
       "      <td>petrol</td>\n",
       "      <td>volkswagen</td>\n",
       "      <td>1</td>\n",
       "    </tr>\n",
       "    <tr>\n",
       "      <th>1</th>\n",
       "      <td>18300</td>\n",
       "      <td>coupe</td>\n",
       "      <td>2011</td>\n",
       "      <td>manual</td>\n",
       "      <td>190</td>\n",
       "      <td>tt</td>\n",
       "      <td>125000</td>\n",
       "      <td>petrol</td>\n",
       "      <td>audi</td>\n",
       "      <td>1</td>\n",
       "    </tr>\n",
       "    <tr>\n",
       "      <th>2</th>\n",
       "      <td>9800</td>\n",
       "      <td>suv</td>\n",
       "      <td>2004</td>\n",
       "      <td>auto</td>\n",
       "      <td>163</td>\n",
       "      <td>grand</td>\n",
       "      <td>125000</td>\n",
       "      <td>petrol</td>\n",
       "      <td>jeep</td>\n",
       "      <td>1</td>\n",
       "    </tr>\n",
       "    <tr>\n",
       "      <th>3</th>\n",
       "      <td>1500</td>\n",
       "      <td>small</td>\n",
       "      <td>2001</td>\n",
       "      <td>manual</td>\n",
       "      <td>75</td>\n",
       "      <td>golf</td>\n",
       "      <td>150000</td>\n",
       "      <td>petrol</td>\n",
       "      <td>volkswagen</td>\n",
       "      <td>0</td>\n",
       "    </tr>\n",
       "    <tr>\n",
       "      <th>4</th>\n",
       "      <td>3600</td>\n",
       "      <td>small</td>\n",
       "      <td>2008</td>\n",
       "      <td>manual</td>\n",
       "      <td>69</td>\n",
       "      <td>fabia</td>\n",
       "      <td>90000</td>\n",
       "      <td>petrol</td>\n",
       "      <td>skoda</td>\n",
       "      <td>0</td>\n",
       "    </tr>\n",
       "  </tbody>\n",
       "</table>\n",
       "</div>"
      ],
      "text/plain": [
       "   Price VehicleType  RegistrationYear Gearbox  Power  Model  Kilometer  \\\n",
       "0    480       sedan              1993  manual      0   golf     150000   \n",
       "1  18300       coupe              2011  manual    190     tt     125000   \n",
       "2   9800         suv              2004    auto    163  grand     125000   \n",
       "3   1500       small              2001  manual     75   golf     150000   \n",
       "4   3600       small              2008  manual     69  fabia      90000   \n",
       "\n",
       "  FuelType       Brand  Repaired  \n",
       "0   petrol  volkswagen         1  \n",
       "1   petrol        audi         1  \n",
       "2   petrol        jeep         1  \n",
       "3   petrol  volkswagen         0  \n",
       "4   petrol       skoda         0  "
      ]
     },
     "execution_count": 49,
     "metadata": {},
     "output_type": "execute_result"
    }
   ],
   "source": [
    "df = df.reset_index(drop=True)\n",
    "df.head()"
   ]
  },
  {
   "cell_type": "code",
   "execution_count": 50,
   "metadata": {},
   "outputs": [],
   "source": [
    "num_columns.remove('Price')\n",
    "ohe_columns = ['Gearbox', 'Repaired']\n",
    "ord_columns = ['Model', 'FuelType', 'Brand', 'VehicleType']"
   ]
  },
  {
   "cell_type": "code",
   "execution_count": 51,
   "metadata": {},
   "outputs": [],
   "source": [
    "X = df.drop(columns=['Price'])\n",
    "y = df['Price']\n",
    "\n",
    "X_train, X_test, y_train, y_test = train_test_split(\n",
    "    X,\n",
    "    y,\n",
    "    test_size = TEST_SIZE, \n",
    "    random_state = RANDOM_STATE)"
   ]
  },
  {
   "cell_type": "code",
   "execution_count": 52,
   "metadata": {},
   "outputs": [],
   "source": [
    "X_train, X_valid, y_train, y_valid = train_test_split(\n",
    "    X_train,\n",
    "    y_train,\n",
    "    test_size = TEST_SIZE, \n",
    "    random_state = RANDOM_STATE)"
   ]
  },
  {
   "cell_type": "code",
   "execution_count": 53,
   "metadata": {
    "scrolled": false
   },
   "outputs": [],
   "source": [
    "ohe_encoder = OneHotEncoder(sparse_output=False, drop='first', handle_unknown='ignore')\n",
    "ord_encoder = OrdinalEncoder(handle_unknown='use_encoded_value', unknown_value = np.nan)\n",
    "\n",
    "X_train_ohe = ohe_encoder.fit_transform(X_train[ohe_columns])\n",
    "X_valid_ohe = ohe_encoder.transform(X_valid[ohe_columns])\n",
    "X_test_ohe = ohe_encoder.transform(X_test[ohe_columns])\n",
    "encoder_ohe_names = ohe_encoder.get_feature_names_out()\n",
    "\n",
    "df_ohe_train = pd.DataFrame(X_train_ohe, columns=encoder_ohe_names)\n",
    "df_ohe_valid = pd.DataFrame(X_valid_ohe, columns=encoder_ohe_names)\n",
    "df_ohe_test = pd.DataFrame(X_test_ohe, columns=encoder_ohe_names)"
   ]
  },
  {
   "cell_type": "code",
   "execution_count": 54,
   "metadata": {},
   "outputs": [],
   "source": [
    "X_train_ord = ord_encoder.fit_transform(X_train[ord_columns])\n",
    "X_valid_ord = ord_encoder.transform(X_valid[ord_columns])\n",
    "X_test_ord = ord_encoder.transform(X_test[ord_columns])\n",
    "encoder_ord_names = ord_encoder.get_feature_names_out()\n",
    "\n",
    "df_ord_train = pd.DataFrame(X_train_ord, columns=encoder_ord_names)\n",
    "df_ord_valid = pd.DataFrame(X_valid_ord, columns=encoder_ord_names)\n",
    "df_ord_test = pd.DataFrame(X_test_ord, columns=encoder_ord_names)"
   ]
  },
  {
   "cell_type": "code",
   "execution_count": 55,
   "metadata": {},
   "outputs": [],
   "source": [
    "scaler = MinMaxScaler()\n",
    "scaler.fit(X_train[num_columns])\n",
    "X_train_scaled = scaler.transform(X_train[num_columns])\n",
    "X_valid_scaled = scaler.transform(X_valid[num_columns])\n",
    "X_test_scaled = scaler.transform(X_test[num_columns])\n",
    "\n",
    "df_scaled_train = pd.DataFrame(X_train_scaled, columns=num_columns)\n",
    "df_scaled_valid = pd.DataFrame(X_valid_scaled, columns=num_columns)\n",
    "df_scaled_test = pd.DataFrame(X_test_scaled, columns=num_columns)"
   ]
  },
  {
   "cell_type": "code",
   "execution_count": 56,
   "metadata": {},
   "outputs": [],
   "source": [
    "X_train = pd.concat([df_scaled_train, df_ohe_train, df_ord_train], axis=1)\n",
    "X_valid = pd.concat([df_scaled_valid, df_ohe_valid, df_ord_valid], axis=1)\n",
    "X_test = pd.concat([df_scaled_test, df_ohe_test, df_ord_test], axis=1)"
   ]
  },
  {
   "cell_type": "markdown",
   "metadata": {},
   "source": [
    "Сейчас можно проверить признаки 'Model', 'VehicleType', 'Brand' на мультиколлинеарность."
   ]
  },
  {
   "cell_type": "code",
   "execution_count": 57,
   "metadata": {},
   "outputs": [
    {
     "data": {
      "text/html": [
       "<div>\n",
       "<style scoped>\n",
       "    .dataframe tbody tr th:only-of-type {\n",
       "        vertical-align: middle;\n",
       "    }\n",
       "\n",
       "    .dataframe tbody tr th {\n",
       "        vertical-align: top;\n",
       "    }\n",
       "\n",
       "    .dataframe thead th {\n",
       "        text-align: right;\n",
       "    }\n",
       "</style>\n",
       "<table border=\"1\" class=\"dataframe\">\n",
       "  <thead>\n",
       "    <tr style=\"text-align: right;\">\n",
       "      <th></th>\n",
       "      <th>feature</th>\n",
       "      <th>VIF</th>\n",
       "    </tr>\n",
       "  </thead>\n",
       "  <tbody>\n",
       "    <tr>\n",
       "      <th>0</th>\n",
       "      <td>Model</td>\n",
       "      <td>3.706813</td>\n",
       "    </tr>\n",
       "    <tr>\n",
       "      <th>1</th>\n",
       "      <td>Brand</td>\n",
       "      <td>4.059232</td>\n",
       "    </tr>\n",
       "    <tr>\n",
       "      <th>2</th>\n",
       "      <td>VehicleType</td>\n",
       "      <td>2.422552</td>\n",
       "    </tr>\n",
       "  </tbody>\n",
       "</table>\n",
       "</div>"
      ],
      "text/plain": [
       "       feature       VIF\n",
       "0        Model  3.706813\n",
       "1        Brand  4.059232\n",
       "2  VehicleType  2.422552"
      ]
     },
     "execution_count": 57,
     "metadata": {},
     "output_type": "execute_result"
    }
   ],
   "source": [
    "df_ = X_train[['Model', 'Brand', 'VehicleType']]\n",
    "\n",
    "vif_df = pd.DataFrame() \n",
    "vif_df['feature'] = df_.columns\n",
    "\n",
    "vif_df['VIF'] = [variance_inflation_factor(df_.values, i) \n",
    "                          for i in range(len(df_.columns))]\n",
    "vif_df"
   ]
  },
  {
   "cell_type": "markdown",
   "metadata": {},
   "source": [
    "Значения ниже 5, значит, мультиколлинеарности не обнаружено."
   ]
  },
  {
   "cell_type": "markdown",
   "metadata": {},
   "source": [
    "### DecisionTreeRegressor"
   ]
  },
  {
   "cell_type": "code",
   "execution_count": 58,
   "metadata": {},
   "outputs": [
    {
     "name": "stdout",
     "output_type": "stream",
     "text": [
      "Лучшая модель и её параметры:\n",
      "\n",
      " DecisionTreeRegressor(max_depth=16, min_samples_leaf=9, min_samples_split=8,\n",
      "                      random_state=42)\n",
      "Метрика лучшей модели на тренировочной выборке: -1802.4457274293534\n",
      "CPU times: user 13.7 s, sys: 35.4 ms, total: 13.7 s\n",
      "Wall time: 13.8 s\n"
     ]
    }
   ],
   "source": [
    "%%time\n",
    "\n",
    "warnings.filterwarnings('ignore')\n",
    "\n",
    "model_dtr = DecisionTreeRegressor(random_state=RANDOM_STATE)\n",
    "\n",
    "max_depth = range(1, 20)\n",
    "min_samples_split = range(1, 10)\n",
    "min_samples_leaf = range(1, 10)\n",
    "\n",
    "param_grid = dict(max_depth=max_depth, min_samples_split=min_samples_split, min_samples_leaf=min_samples_leaf)\n",
    "\n",
    "randomized_search_dtr = RandomizedSearchCV(\n",
    "    model_dtr,\n",
    "    param_grid,\n",
    "    cv=5,\n",
    "    scoring='neg_root_mean_squared_error',\n",
    "    random_state=RANDOM_STATE,\n",
    "    n_jobs=-1\n",
    ")\n",
    "randomized_search_dtr.fit(X_train, y_train)\n",
    "\n",
    "print('Лучшая модель и её параметры:\\n\\n', randomized_search_dtr.best_estimator_)\n",
    "print ('Метрика лучшей модели на тренировочной выборке:', randomized_search_dtr.best_score_)"
   ]
  },
  {
   "cell_type": "markdown",
   "metadata": {},
   "source": [
    "### LGBMRegressor"
   ]
  },
  {
   "cell_type": "markdown",
   "metadata": {},
   "source": [
    "Ниже в анализе рассмотрю дефолтную модель LGMBRegressor."
   ]
  },
  {
   "cell_type": "code",
   "execution_count": 59,
   "metadata": {},
   "outputs": [
    {
     "name": "stdout",
     "output_type": "stream",
     "text": [
      "Лучшая модель и её параметры:\n",
      "\n",
      " LGBMRegressor(max_depth=12, n_estimators=61, num_leaves=81, random_state=42)\n",
      "Метрика лучшей модели на тренировочной выборке: -1664.5620159337413\n",
      "CPU times: user 1min 57s, sys: 458 ms, total: 1min 57s\n",
      "Wall time: 1min 59s\n"
     ]
    }
   ],
   "source": [
    "%%time\n",
    "\n",
    "model_lgbm = LGBMRegressor(random_state=RANDOM_STATE)\n",
    "\n",
    "num_leaves = range(1, 100, 4)\n",
    "max_depth = range(1, 20)\n",
    "n_estimators = range(1, 100, 4)\n",
    "\n",
    "param_grid = dict(num_leaves=num_leaves, max_depth=max_depth, n_estimators=n_estimators)\n",
    "\n",
    "randomized_search_lgbm = RandomizedSearchCV(\n",
    "    model_lgbm,\n",
    "    param_grid,\n",
    "    cv=5,\n",
    "    scoring='neg_root_mean_squared_error',\n",
    "    random_state=RANDOM_STATE,\n",
    "    n_jobs=-1\n",
    ")\n",
    "randomized_search_lgbm.fit(X_train, y_train)\n",
    "\n",
    "print('Лучшая модель и её параметры:\\n\\n', randomized_search_lgbm.best_estimator_)\n",
    "print ('Метрика лучшей модели на тренировочной выборке:', randomized_search_lgbm.best_score_)"
   ]
  },
  {
   "cell_type": "markdown",
   "metadata": {},
   "source": [
    "## Анализ моделей"
   ]
  },
  {
   "cell_type": "markdown",
   "metadata": {},
   "source": [
    "### Модель DecisionTreeRegressor"
   ]
  },
  {
   "cell_type": "code",
   "execution_count": 60,
   "metadata": {},
   "outputs": [
    {
     "name": "stdout",
     "output_type": "stream",
     "text": [
      "CPU times: user 469 ms, sys: 0 ns, total: 469 ms\n",
      "Wall time: 504 ms\n"
     ]
    },
    {
     "data": {
      "text/html": [
       "<style>#sk-container-id-1 {\n",
       "  /* Definition of color scheme common for light and dark mode */\n",
       "  --sklearn-color-text: black;\n",
       "  --sklearn-color-line: gray;\n",
       "  /* Definition of color scheme for unfitted estimators */\n",
       "  --sklearn-color-unfitted-level-0: #fff5e6;\n",
       "  --sklearn-color-unfitted-level-1: #f6e4d2;\n",
       "  --sklearn-color-unfitted-level-2: #ffe0b3;\n",
       "  --sklearn-color-unfitted-level-3: chocolate;\n",
       "  /* Definition of color scheme for fitted estimators */\n",
       "  --sklearn-color-fitted-level-0: #f0f8ff;\n",
       "  --sklearn-color-fitted-level-1: #d4ebff;\n",
       "  --sklearn-color-fitted-level-2: #b3dbfd;\n",
       "  --sklearn-color-fitted-level-3: cornflowerblue;\n",
       "\n",
       "  /* Specific color for light theme */\n",
       "  --sklearn-color-text-on-default-background: var(--sg-text-color, var(--theme-code-foreground, var(--jp-content-font-color1, black)));\n",
       "  --sklearn-color-background: var(--sg-background-color, var(--theme-background, var(--jp-layout-color0, white)));\n",
       "  --sklearn-color-border-box: var(--sg-text-color, var(--theme-code-foreground, var(--jp-content-font-color1, black)));\n",
       "  --sklearn-color-icon: #696969;\n",
       "\n",
       "  @media (prefers-color-scheme: dark) {\n",
       "    /* Redefinition of color scheme for dark theme */\n",
       "    --sklearn-color-text-on-default-background: var(--sg-text-color, var(--theme-code-foreground, var(--jp-content-font-color1, white)));\n",
       "    --sklearn-color-background: var(--sg-background-color, var(--theme-background, var(--jp-layout-color0, #111)));\n",
       "    --sklearn-color-border-box: var(--sg-text-color, var(--theme-code-foreground, var(--jp-content-font-color1, white)));\n",
       "    --sklearn-color-icon: #878787;\n",
       "  }\n",
       "}\n",
       "\n",
       "#sk-container-id-1 {\n",
       "  color: var(--sklearn-color-text);\n",
       "}\n",
       "\n",
       "#sk-container-id-1 pre {\n",
       "  padding: 0;\n",
       "}\n",
       "\n",
       "#sk-container-id-1 input.sk-hidden--visually {\n",
       "  border: 0;\n",
       "  clip: rect(1px 1px 1px 1px);\n",
       "  clip: rect(1px, 1px, 1px, 1px);\n",
       "  height: 1px;\n",
       "  margin: -1px;\n",
       "  overflow: hidden;\n",
       "  padding: 0;\n",
       "  position: absolute;\n",
       "  width: 1px;\n",
       "}\n",
       "\n",
       "#sk-container-id-1 div.sk-dashed-wrapped {\n",
       "  border: 1px dashed var(--sklearn-color-line);\n",
       "  margin: 0 0.4em 0.5em 0.4em;\n",
       "  box-sizing: border-box;\n",
       "  padding-bottom: 0.4em;\n",
       "  background-color: var(--sklearn-color-background);\n",
       "}\n",
       "\n",
       "#sk-container-id-1 div.sk-container {\n",
       "  /* jupyter's `normalize.less` sets `[hidden] { display: none; }`\n",
       "     but bootstrap.min.css set `[hidden] { display: none !important; }`\n",
       "     so we also need the `!important` here to be able to override the\n",
       "     default hidden behavior on the sphinx rendered scikit-learn.org.\n",
       "     See: https://github.com/scikit-learn/scikit-learn/issues/21755 */\n",
       "  display: inline-block !important;\n",
       "  position: relative;\n",
       "}\n",
       "\n",
       "#sk-container-id-1 div.sk-text-repr-fallback {\n",
       "  display: none;\n",
       "}\n",
       "\n",
       "div.sk-parallel-item,\n",
       "div.sk-serial,\n",
       "div.sk-item {\n",
       "  /* draw centered vertical line to link estimators */\n",
       "  background-image: linear-gradient(var(--sklearn-color-text-on-default-background), var(--sklearn-color-text-on-default-background));\n",
       "  background-size: 2px 100%;\n",
       "  background-repeat: no-repeat;\n",
       "  background-position: center center;\n",
       "}\n",
       "\n",
       "/* Parallel-specific style estimator block */\n",
       "\n",
       "#sk-container-id-1 div.sk-parallel-item::after {\n",
       "  content: \"\";\n",
       "  width: 100%;\n",
       "  border-bottom: 2px solid var(--sklearn-color-text-on-default-background);\n",
       "  flex-grow: 1;\n",
       "}\n",
       "\n",
       "#sk-container-id-1 div.sk-parallel {\n",
       "  display: flex;\n",
       "  align-items: stretch;\n",
       "  justify-content: center;\n",
       "  background-color: var(--sklearn-color-background);\n",
       "  position: relative;\n",
       "}\n",
       "\n",
       "#sk-container-id-1 div.sk-parallel-item {\n",
       "  display: flex;\n",
       "  flex-direction: column;\n",
       "}\n",
       "\n",
       "#sk-container-id-1 div.sk-parallel-item:first-child::after {\n",
       "  align-self: flex-end;\n",
       "  width: 50%;\n",
       "}\n",
       "\n",
       "#sk-container-id-1 div.sk-parallel-item:last-child::after {\n",
       "  align-self: flex-start;\n",
       "  width: 50%;\n",
       "}\n",
       "\n",
       "#sk-container-id-1 div.sk-parallel-item:only-child::after {\n",
       "  width: 0;\n",
       "}\n",
       "\n",
       "/* Serial-specific style estimator block */\n",
       "\n",
       "#sk-container-id-1 div.sk-serial {\n",
       "  display: flex;\n",
       "  flex-direction: column;\n",
       "  align-items: center;\n",
       "  background-color: var(--sklearn-color-background);\n",
       "  padding-right: 1em;\n",
       "  padding-left: 1em;\n",
       "}\n",
       "\n",
       "\n",
       "/* Toggleable style: style used for estimator/Pipeline/ColumnTransformer box that is\n",
       "clickable and can be expanded/collapsed.\n",
       "- Pipeline and ColumnTransformer use this feature and define the default style\n",
       "- Estimators will overwrite some part of the style using the `sk-estimator` class\n",
       "*/\n",
       "\n",
       "/* Pipeline and ColumnTransformer style (default) */\n",
       "\n",
       "#sk-container-id-1 div.sk-toggleable {\n",
       "  /* Default theme specific background. It is overwritten whether we have a\n",
       "  specific estimator or a Pipeline/ColumnTransformer */\n",
       "  background-color: var(--sklearn-color-background);\n",
       "}\n",
       "\n",
       "/* Toggleable label */\n",
       "#sk-container-id-1 label.sk-toggleable__label {\n",
       "  cursor: pointer;\n",
       "  display: block;\n",
       "  width: 100%;\n",
       "  margin-bottom: 0;\n",
       "  padding: 0.5em;\n",
       "  box-sizing: border-box;\n",
       "  text-align: center;\n",
       "}\n",
       "\n",
       "#sk-container-id-1 label.sk-toggleable__label-arrow:before {\n",
       "  /* Arrow on the left of the label */\n",
       "  content: \"▸\";\n",
       "  float: left;\n",
       "  margin-right: 0.25em;\n",
       "  color: var(--sklearn-color-icon);\n",
       "}\n",
       "\n",
       "#sk-container-id-1 label.sk-toggleable__label-arrow:hover:before {\n",
       "  color: var(--sklearn-color-text);\n",
       "}\n",
       "\n",
       "/* Toggleable content - dropdown */\n",
       "\n",
       "#sk-container-id-1 div.sk-toggleable__content {\n",
       "  max-height: 0;\n",
       "  max-width: 0;\n",
       "  overflow: hidden;\n",
       "  text-align: left;\n",
       "  /* unfitted */\n",
       "  background-color: var(--sklearn-color-unfitted-level-0);\n",
       "}\n",
       "\n",
       "#sk-container-id-1 div.sk-toggleable__content.fitted {\n",
       "  /* fitted */\n",
       "  background-color: var(--sklearn-color-fitted-level-0);\n",
       "}\n",
       "\n",
       "#sk-container-id-1 div.sk-toggleable__content pre {\n",
       "  margin: 0.2em;\n",
       "  border-radius: 0.25em;\n",
       "  color: var(--sklearn-color-text);\n",
       "  /* unfitted */\n",
       "  background-color: var(--sklearn-color-unfitted-level-0);\n",
       "}\n",
       "\n",
       "#sk-container-id-1 div.sk-toggleable__content.fitted pre {\n",
       "  /* unfitted */\n",
       "  background-color: var(--sklearn-color-fitted-level-0);\n",
       "}\n",
       "\n",
       "#sk-container-id-1 input.sk-toggleable__control:checked~div.sk-toggleable__content {\n",
       "  /* Expand drop-down */\n",
       "  max-height: 200px;\n",
       "  max-width: 100%;\n",
       "  overflow: auto;\n",
       "}\n",
       "\n",
       "#sk-container-id-1 input.sk-toggleable__control:checked~label.sk-toggleable__label-arrow:before {\n",
       "  content: \"▾\";\n",
       "}\n",
       "\n",
       "/* Pipeline/ColumnTransformer-specific style */\n",
       "\n",
       "#sk-container-id-1 div.sk-label input.sk-toggleable__control:checked~label.sk-toggleable__label {\n",
       "  color: var(--sklearn-color-text);\n",
       "  background-color: var(--sklearn-color-unfitted-level-2);\n",
       "}\n",
       "\n",
       "#sk-container-id-1 div.sk-label.fitted input.sk-toggleable__control:checked~label.sk-toggleable__label {\n",
       "  background-color: var(--sklearn-color-fitted-level-2);\n",
       "}\n",
       "\n",
       "/* Estimator-specific style */\n",
       "\n",
       "/* Colorize estimator box */\n",
       "#sk-container-id-1 div.sk-estimator input.sk-toggleable__control:checked~label.sk-toggleable__label {\n",
       "  /* unfitted */\n",
       "  background-color: var(--sklearn-color-unfitted-level-2);\n",
       "}\n",
       "\n",
       "#sk-container-id-1 div.sk-estimator.fitted input.sk-toggleable__control:checked~label.sk-toggleable__label {\n",
       "  /* fitted */\n",
       "  background-color: var(--sklearn-color-fitted-level-2);\n",
       "}\n",
       "\n",
       "#sk-container-id-1 div.sk-label label.sk-toggleable__label,\n",
       "#sk-container-id-1 div.sk-label label {\n",
       "  /* The background is the default theme color */\n",
       "  color: var(--sklearn-color-text-on-default-background);\n",
       "}\n",
       "\n",
       "/* On hover, darken the color of the background */\n",
       "#sk-container-id-1 div.sk-label:hover label.sk-toggleable__label {\n",
       "  color: var(--sklearn-color-text);\n",
       "  background-color: var(--sklearn-color-unfitted-level-2);\n",
       "}\n",
       "\n",
       "/* Label box, darken color on hover, fitted */\n",
       "#sk-container-id-1 div.sk-label.fitted:hover label.sk-toggleable__label.fitted {\n",
       "  color: var(--sklearn-color-text);\n",
       "  background-color: var(--sklearn-color-fitted-level-2);\n",
       "}\n",
       "\n",
       "/* Estimator label */\n",
       "\n",
       "#sk-container-id-1 div.sk-label label {\n",
       "  font-family: monospace;\n",
       "  font-weight: bold;\n",
       "  display: inline-block;\n",
       "  line-height: 1.2em;\n",
       "}\n",
       "\n",
       "#sk-container-id-1 div.sk-label-container {\n",
       "  text-align: center;\n",
       "}\n",
       "\n",
       "/* Estimator-specific */\n",
       "#sk-container-id-1 div.sk-estimator {\n",
       "  font-family: monospace;\n",
       "  border: 1px dotted var(--sklearn-color-border-box);\n",
       "  border-radius: 0.25em;\n",
       "  box-sizing: border-box;\n",
       "  margin-bottom: 0.5em;\n",
       "  /* unfitted */\n",
       "  background-color: var(--sklearn-color-unfitted-level-0);\n",
       "}\n",
       "\n",
       "#sk-container-id-1 div.sk-estimator.fitted {\n",
       "  /* fitted */\n",
       "  background-color: var(--sklearn-color-fitted-level-0);\n",
       "}\n",
       "\n",
       "/* on hover */\n",
       "#sk-container-id-1 div.sk-estimator:hover {\n",
       "  /* unfitted */\n",
       "  background-color: var(--sklearn-color-unfitted-level-2);\n",
       "}\n",
       "\n",
       "#sk-container-id-1 div.sk-estimator.fitted:hover {\n",
       "  /* fitted */\n",
       "  background-color: var(--sklearn-color-fitted-level-2);\n",
       "}\n",
       "\n",
       "/* Specification for estimator info (e.g. \"i\" and \"?\") */\n",
       "\n",
       "/* Common style for \"i\" and \"?\" */\n",
       "\n",
       ".sk-estimator-doc-link,\n",
       "a:link.sk-estimator-doc-link,\n",
       "a:visited.sk-estimator-doc-link {\n",
       "  float: right;\n",
       "  font-size: smaller;\n",
       "  line-height: 1em;\n",
       "  font-family: monospace;\n",
       "  background-color: var(--sklearn-color-background);\n",
       "  border-radius: 1em;\n",
       "  height: 1em;\n",
       "  width: 1em;\n",
       "  text-decoration: none !important;\n",
       "  margin-left: 1ex;\n",
       "  /* unfitted */\n",
       "  border: var(--sklearn-color-unfitted-level-1) 1pt solid;\n",
       "  color: var(--sklearn-color-unfitted-level-1);\n",
       "}\n",
       "\n",
       ".sk-estimator-doc-link.fitted,\n",
       "a:link.sk-estimator-doc-link.fitted,\n",
       "a:visited.sk-estimator-doc-link.fitted {\n",
       "  /* fitted */\n",
       "  border: var(--sklearn-color-fitted-level-1) 1pt solid;\n",
       "  color: var(--sklearn-color-fitted-level-1);\n",
       "}\n",
       "\n",
       "/* On hover */\n",
       "div.sk-estimator:hover .sk-estimator-doc-link:hover,\n",
       ".sk-estimator-doc-link:hover,\n",
       "div.sk-label-container:hover .sk-estimator-doc-link:hover,\n",
       ".sk-estimator-doc-link:hover {\n",
       "  /* unfitted */\n",
       "  background-color: var(--sklearn-color-unfitted-level-3);\n",
       "  color: var(--sklearn-color-background);\n",
       "  text-decoration: none;\n",
       "}\n",
       "\n",
       "div.sk-estimator.fitted:hover .sk-estimator-doc-link.fitted:hover,\n",
       ".sk-estimator-doc-link.fitted:hover,\n",
       "div.sk-label-container:hover .sk-estimator-doc-link.fitted:hover,\n",
       ".sk-estimator-doc-link.fitted:hover {\n",
       "  /* fitted */\n",
       "  background-color: var(--sklearn-color-fitted-level-3);\n",
       "  color: var(--sklearn-color-background);\n",
       "  text-decoration: none;\n",
       "}\n",
       "\n",
       "/* Span, style for the box shown on hovering the info icon */\n",
       ".sk-estimator-doc-link span {\n",
       "  display: none;\n",
       "  z-index: 9999;\n",
       "  position: relative;\n",
       "  font-weight: normal;\n",
       "  right: .2ex;\n",
       "  padding: .5ex;\n",
       "  margin: .5ex;\n",
       "  width: min-content;\n",
       "  min-width: 20ex;\n",
       "  max-width: 50ex;\n",
       "  color: var(--sklearn-color-text);\n",
       "  box-shadow: 2pt 2pt 4pt #999;\n",
       "  /* unfitted */\n",
       "  background: var(--sklearn-color-unfitted-level-0);\n",
       "  border: .5pt solid var(--sklearn-color-unfitted-level-3);\n",
       "}\n",
       "\n",
       ".sk-estimator-doc-link.fitted span {\n",
       "  /* fitted */\n",
       "  background: var(--sklearn-color-fitted-level-0);\n",
       "  border: var(--sklearn-color-fitted-level-3);\n",
       "}\n",
       "\n",
       ".sk-estimator-doc-link:hover span {\n",
       "  display: block;\n",
       "}\n",
       "\n",
       "/* \"?\"-specific style due to the `<a>` HTML tag */\n",
       "\n",
       "#sk-container-id-1 a.estimator_doc_link {\n",
       "  float: right;\n",
       "  font-size: 1rem;\n",
       "  line-height: 1em;\n",
       "  font-family: monospace;\n",
       "  background-color: var(--sklearn-color-background);\n",
       "  border-radius: 1rem;\n",
       "  height: 1rem;\n",
       "  width: 1rem;\n",
       "  text-decoration: none;\n",
       "  /* unfitted */\n",
       "  color: var(--sklearn-color-unfitted-level-1);\n",
       "  border: var(--sklearn-color-unfitted-level-1) 1pt solid;\n",
       "}\n",
       "\n",
       "#sk-container-id-1 a.estimator_doc_link.fitted {\n",
       "  /* fitted */\n",
       "  border: var(--sklearn-color-fitted-level-1) 1pt solid;\n",
       "  color: var(--sklearn-color-fitted-level-1);\n",
       "}\n",
       "\n",
       "/* On hover */\n",
       "#sk-container-id-1 a.estimator_doc_link:hover {\n",
       "  /* unfitted */\n",
       "  background-color: var(--sklearn-color-unfitted-level-3);\n",
       "  color: var(--sklearn-color-background);\n",
       "  text-decoration: none;\n",
       "}\n",
       "\n",
       "#sk-container-id-1 a.estimator_doc_link.fitted:hover {\n",
       "  /* fitted */\n",
       "  background-color: var(--sklearn-color-fitted-level-3);\n",
       "}\n",
       "</style><div id=\"sk-container-id-1\" class=\"sk-top-container\"><div class=\"sk-text-repr-fallback\"><pre>DecisionTreeRegressor(max_depth=16, min_samples_leaf=9, min_samples_split=8,\n",
       "                      random_state=42)</pre><b>In a Jupyter environment, please rerun this cell to show the HTML representation or trust the notebook. <br />On GitHub, the HTML representation is unable to render, please try loading this page with nbviewer.org.</b></div><div class=\"sk-container\" hidden><div class=\"sk-item\"><div class=\"sk-estimator fitted sk-toggleable\"><input class=\"sk-toggleable__control sk-hidden--visually\" id=\"sk-estimator-id-1\" type=\"checkbox\" checked><label for=\"sk-estimator-id-1\" class=\"sk-toggleable__label fitted sk-toggleable__label-arrow fitted\">&nbsp;&nbsp;DecisionTreeRegressor<a class=\"sk-estimator-doc-link fitted\" rel=\"noreferrer\" target=\"_blank\" href=\"https://scikit-learn.org/1.5/modules/generated/sklearn.tree.DecisionTreeRegressor.html\">?<span>Documentation for DecisionTreeRegressor</span></a><span class=\"sk-estimator-doc-link fitted\">i<span>Fitted</span></span></label><div class=\"sk-toggleable__content fitted\"><pre>DecisionTreeRegressor(max_depth=16, min_samples_leaf=9, min_samples_split=8,\n",
       "                      random_state=42)</pre></div> </div></div></div></div>"
      ],
      "text/plain": [
       "DecisionTreeRegressor(max_depth=16, min_samples_leaf=9, min_samples_split=8,\n",
       "                      random_state=42)"
      ]
     },
     "execution_count": 60,
     "metadata": {},
     "output_type": "execute_result"
    }
   ],
   "source": [
    "%%time\n",
    "\n",
    "model_dtr = randomized_search_dtr.best_estimator_\n",
    "model_dtr.fit(X_train, y_train)"
   ]
  },
  {
   "cell_type": "code",
   "execution_count": 61,
   "metadata": {},
   "outputs": [
    {
     "name": "stdout",
     "output_type": "stream",
     "text": [
      "CPU times: user 18 ms, sys: 0 ns, total: 18 ms\n",
      "Wall time: 16.4 ms\n"
     ]
    }
   ],
   "source": [
    "%%time\n",
    "\n",
    "dtr_pred = model_dtr.predict(X_valid)"
   ]
  },
  {
   "cell_type": "code",
   "execution_count": 62,
   "metadata": {},
   "outputs": [
    {
     "data": {
      "text/plain": [
       "1782.3402215045087"
      ]
     },
     "execution_count": 62,
     "metadata": {},
     "output_type": "execute_result"
    }
   ],
   "source": [
    "RMSE = (mse(y_valid, dtr_pred))**0.5\n",
    "RMSE"
   ]
  },
  {
   "cell_type": "markdown",
   "metadata": {},
   "source": [
    "### Модель LGBMRegressor (1)"
   ]
  },
  {
   "cell_type": "code",
   "execution_count": 63,
   "metadata": {},
   "outputs": [
    {
     "name": "stdout",
     "output_type": "stream",
     "text": [
      "CPU times: user 4.93 s, sys: 24.1 ms, total: 4.96 s\n",
      "Wall time: 5.04 s\n"
     ]
    },
    {
     "data": {
      "text/html": [
       "<style>#sk-container-id-2 {\n",
       "  /* Definition of color scheme common for light and dark mode */\n",
       "  --sklearn-color-text: black;\n",
       "  --sklearn-color-line: gray;\n",
       "  /* Definition of color scheme for unfitted estimators */\n",
       "  --sklearn-color-unfitted-level-0: #fff5e6;\n",
       "  --sklearn-color-unfitted-level-1: #f6e4d2;\n",
       "  --sklearn-color-unfitted-level-2: #ffe0b3;\n",
       "  --sklearn-color-unfitted-level-3: chocolate;\n",
       "  /* Definition of color scheme for fitted estimators */\n",
       "  --sklearn-color-fitted-level-0: #f0f8ff;\n",
       "  --sklearn-color-fitted-level-1: #d4ebff;\n",
       "  --sklearn-color-fitted-level-2: #b3dbfd;\n",
       "  --sklearn-color-fitted-level-3: cornflowerblue;\n",
       "\n",
       "  /* Specific color for light theme */\n",
       "  --sklearn-color-text-on-default-background: var(--sg-text-color, var(--theme-code-foreground, var(--jp-content-font-color1, black)));\n",
       "  --sklearn-color-background: var(--sg-background-color, var(--theme-background, var(--jp-layout-color0, white)));\n",
       "  --sklearn-color-border-box: var(--sg-text-color, var(--theme-code-foreground, var(--jp-content-font-color1, black)));\n",
       "  --sklearn-color-icon: #696969;\n",
       "\n",
       "  @media (prefers-color-scheme: dark) {\n",
       "    /* Redefinition of color scheme for dark theme */\n",
       "    --sklearn-color-text-on-default-background: var(--sg-text-color, var(--theme-code-foreground, var(--jp-content-font-color1, white)));\n",
       "    --sklearn-color-background: var(--sg-background-color, var(--theme-background, var(--jp-layout-color0, #111)));\n",
       "    --sklearn-color-border-box: var(--sg-text-color, var(--theme-code-foreground, var(--jp-content-font-color1, white)));\n",
       "    --sklearn-color-icon: #878787;\n",
       "  }\n",
       "}\n",
       "\n",
       "#sk-container-id-2 {\n",
       "  color: var(--sklearn-color-text);\n",
       "}\n",
       "\n",
       "#sk-container-id-2 pre {\n",
       "  padding: 0;\n",
       "}\n",
       "\n",
       "#sk-container-id-2 input.sk-hidden--visually {\n",
       "  border: 0;\n",
       "  clip: rect(1px 1px 1px 1px);\n",
       "  clip: rect(1px, 1px, 1px, 1px);\n",
       "  height: 1px;\n",
       "  margin: -1px;\n",
       "  overflow: hidden;\n",
       "  padding: 0;\n",
       "  position: absolute;\n",
       "  width: 1px;\n",
       "}\n",
       "\n",
       "#sk-container-id-2 div.sk-dashed-wrapped {\n",
       "  border: 1px dashed var(--sklearn-color-line);\n",
       "  margin: 0 0.4em 0.5em 0.4em;\n",
       "  box-sizing: border-box;\n",
       "  padding-bottom: 0.4em;\n",
       "  background-color: var(--sklearn-color-background);\n",
       "}\n",
       "\n",
       "#sk-container-id-2 div.sk-container {\n",
       "  /* jupyter's `normalize.less` sets `[hidden] { display: none; }`\n",
       "     but bootstrap.min.css set `[hidden] { display: none !important; }`\n",
       "     so we also need the `!important` here to be able to override the\n",
       "     default hidden behavior on the sphinx rendered scikit-learn.org.\n",
       "     See: https://github.com/scikit-learn/scikit-learn/issues/21755 */\n",
       "  display: inline-block !important;\n",
       "  position: relative;\n",
       "}\n",
       "\n",
       "#sk-container-id-2 div.sk-text-repr-fallback {\n",
       "  display: none;\n",
       "}\n",
       "\n",
       "div.sk-parallel-item,\n",
       "div.sk-serial,\n",
       "div.sk-item {\n",
       "  /* draw centered vertical line to link estimators */\n",
       "  background-image: linear-gradient(var(--sklearn-color-text-on-default-background), var(--sklearn-color-text-on-default-background));\n",
       "  background-size: 2px 100%;\n",
       "  background-repeat: no-repeat;\n",
       "  background-position: center center;\n",
       "}\n",
       "\n",
       "/* Parallel-specific style estimator block */\n",
       "\n",
       "#sk-container-id-2 div.sk-parallel-item::after {\n",
       "  content: \"\";\n",
       "  width: 100%;\n",
       "  border-bottom: 2px solid var(--sklearn-color-text-on-default-background);\n",
       "  flex-grow: 1;\n",
       "}\n",
       "\n",
       "#sk-container-id-2 div.sk-parallel {\n",
       "  display: flex;\n",
       "  align-items: stretch;\n",
       "  justify-content: center;\n",
       "  background-color: var(--sklearn-color-background);\n",
       "  position: relative;\n",
       "}\n",
       "\n",
       "#sk-container-id-2 div.sk-parallel-item {\n",
       "  display: flex;\n",
       "  flex-direction: column;\n",
       "}\n",
       "\n",
       "#sk-container-id-2 div.sk-parallel-item:first-child::after {\n",
       "  align-self: flex-end;\n",
       "  width: 50%;\n",
       "}\n",
       "\n",
       "#sk-container-id-2 div.sk-parallel-item:last-child::after {\n",
       "  align-self: flex-start;\n",
       "  width: 50%;\n",
       "}\n",
       "\n",
       "#sk-container-id-2 div.sk-parallel-item:only-child::after {\n",
       "  width: 0;\n",
       "}\n",
       "\n",
       "/* Serial-specific style estimator block */\n",
       "\n",
       "#sk-container-id-2 div.sk-serial {\n",
       "  display: flex;\n",
       "  flex-direction: column;\n",
       "  align-items: center;\n",
       "  background-color: var(--sklearn-color-background);\n",
       "  padding-right: 1em;\n",
       "  padding-left: 1em;\n",
       "}\n",
       "\n",
       "\n",
       "/* Toggleable style: style used for estimator/Pipeline/ColumnTransformer box that is\n",
       "clickable and can be expanded/collapsed.\n",
       "- Pipeline and ColumnTransformer use this feature and define the default style\n",
       "- Estimators will overwrite some part of the style using the `sk-estimator` class\n",
       "*/\n",
       "\n",
       "/* Pipeline and ColumnTransformer style (default) */\n",
       "\n",
       "#sk-container-id-2 div.sk-toggleable {\n",
       "  /* Default theme specific background. It is overwritten whether we have a\n",
       "  specific estimator or a Pipeline/ColumnTransformer */\n",
       "  background-color: var(--sklearn-color-background);\n",
       "}\n",
       "\n",
       "/* Toggleable label */\n",
       "#sk-container-id-2 label.sk-toggleable__label {\n",
       "  cursor: pointer;\n",
       "  display: block;\n",
       "  width: 100%;\n",
       "  margin-bottom: 0;\n",
       "  padding: 0.5em;\n",
       "  box-sizing: border-box;\n",
       "  text-align: center;\n",
       "}\n",
       "\n",
       "#sk-container-id-2 label.sk-toggleable__label-arrow:before {\n",
       "  /* Arrow on the left of the label */\n",
       "  content: \"▸\";\n",
       "  float: left;\n",
       "  margin-right: 0.25em;\n",
       "  color: var(--sklearn-color-icon);\n",
       "}\n",
       "\n",
       "#sk-container-id-2 label.sk-toggleable__label-arrow:hover:before {\n",
       "  color: var(--sklearn-color-text);\n",
       "}\n",
       "\n",
       "/* Toggleable content - dropdown */\n",
       "\n",
       "#sk-container-id-2 div.sk-toggleable__content {\n",
       "  max-height: 0;\n",
       "  max-width: 0;\n",
       "  overflow: hidden;\n",
       "  text-align: left;\n",
       "  /* unfitted */\n",
       "  background-color: var(--sklearn-color-unfitted-level-0);\n",
       "}\n",
       "\n",
       "#sk-container-id-2 div.sk-toggleable__content.fitted {\n",
       "  /* fitted */\n",
       "  background-color: var(--sklearn-color-fitted-level-0);\n",
       "}\n",
       "\n",
       "#sk-container-id-2 div.sk-toggleable__content pre {\n",
       "  margin: 0.2em;\n",
       "  border-radius: 0.25em;\n",
       "  color: var(--sklearn-color-text);\n",
       "  /* unfitted */\n",
       "  background-color: var(--sklearn-color-unfitted-level-0);\n",
       "}\n",
       "\n",
       "#sk-container-id-2 div.sk-toggleable__content.fitted pre {\n",
       "  /* unfitted */\n",
       "  background-color: var(--sklearn-color-fitted-level-0);\n",
       "}\n",
       "\n",
       "#sk-container-id-2 input.sk-toggleable__control:checked~div.sk-toggleable__content {\n",
       "  /* Expand drop-down */\n",
       "  max-height: 200px;\n",
       "  max-width: 100%;\n",
       "  overflow: auto;\n",
       "}\n",
       "\n",
       "#sk-container-id-2 input.sk-toggleable__control:checked~label.sk-toggleable__label-arrow:before {\n",
       "  content: \"▾\";\n",
       "}\n",
       "\n",
       "/* Pipeline/ColumnTransformer-specific style */\n",
       "\n",
       "#sk-container-id-2 div.sk-label input.sk-toggleable__control:checked~label.sk-toggleable__label {\n",
       "  color: var(--sklearn-color-text);\n",
       "  background-color: var(--sklearn-color-unfitted-level-2);\n",
       "}\n",
       "\n",
       "#sk-container-id-2 div.sk-label.fitted input.sk-toggleable__control:checked~label.sk-toggleable__label {\n",
       "  background-color: var(--sklearn-color-fitted-level-2);\n",
       "}\n",
       "\n",
       "/* Estimator-specific style */\n",
       "\n",
       "/* Colorize estimator box */\n",
       "#sk-container-id-2 div.sk-estimator input.sk-toggleable__control:checked~label.sk-toggleable__label {\n",
       "  /* unfitted */\n",
       "  background-color: var(--sklearn-color-unfitted-level-2);\n",
       "}\n",
       "\n",
       "#sk-container-id-2 div.sk-estimator.fitted input.sk-toggleable__control:checked~label.sk-toggleable__label {\n",
       "  /* fitted */\n",
       "  background-color: var(--sklearn-color-fitted-level-2);\n",
       "}\n",
       "\n",
       "#sk-container-id-2 div.sk-label label.sk-toggleable__label,\n",
       "#sk-container-id-2 div.sk-label label {\n",
       "  /* The background is the default theme color */\n",
       "  color: var(--sklearn-color-text-on-default-background);\n",
       "}\n",
       "\n",
       "/* On hover, darken the color of the background */\n",
       "#sk-container-id-2 div.sk-label:hover label.sk-toggleable__label {\n",
       "  color: var(--sklearn-color-text);\n",
       "  background-color: var(--sklearn-color-unfitted-level-2);\n",
       "}\n",
       "\n",
       "/* Label box, darken color on hover, fitted */\n",
       "#sk-container-id-2 div.sk-label.fitted:hover label.sk-toggleable__label.fitted {\n",
       "  color: var(--sklearn-color-text);\n",
       "  background-color: var(--sklearn-color-fitted-level-2);\n",
       "}\n",
       "\n",
       "/* Estimator label */\n",
       "\n",
       "#sk-container-id-2 div.sk-label label {\n",
       "  font-family: monospace;\n",
       "  font-weight: bold;\n",
       "  display: inline-block;\n",
       "  line-height: 1.2em;\n",
       "}\n",
       "\n",
       "#sk-container-id-2 div.sk-label-container {\n",
       "  text-align: center;\n",
       "}\n",
       "\n",
       "/* Estimator-specific */\n",
       "#sk-container-id-2 div.sk-estimator {\n",
       "  font-family: monospace;\n",
       "  border: 1px dotted var(--sklearn-color-border-box);\n",
       "  border-radius: 0.25em;\n",
       "  box-sizing: border-box;\n",
       "  margin-bottom: 0.5em;\n",
       "  /* unfitted */\n",
       "  background-color: var(--sklearn-color-unfitted-level-0);\n",
       "}\n",
       "\n",
       "#sk-container-id-2 div.sk-estimator.fitted {\n",
       "  /* fitted */\n",
       "  background-color: var(--sklearn-color-fitted-level-0);\n",
       "}\n",
       "\n",
       "/* on hover */\n",
       "#sk-container-id-2 div.sk-estimator:hover {\n",
       "  /* unfitted */\n",
       "  background-color: var(--sklearn-color-unfitted-level-2);\n",
       "}\n",
       "\n",
       "#sk-container-id-2 div.sk-estimator.fitted:hover {\n",
       "  /* fitted */\n",
       "  background-color: var(--sklearn-color-fitted-level-2);\n",
       "}\n",
       "\n",
       "/* Specification for estimator info (e.g. \"i\" and \"?\") */\n",
       "\n",
       "/* Common style for \"i\" and \"?\" */\n",
       "\n",
       ".sk-estimator-doc-link,\n",
       "a:link.sk-estimator-doc-link,\n",
       "a:visited.sk-estimator-doc-link {\n",
       "  float: right;\n",
       "  font-size: smaller;\n",
       "  line-height: 1em;\n",
       "  font-family: monospace;\n",
       "  background-color: var(--sklearn-color-background);\n",
       "  border-radius: 1em;\n",
       "  height: 1em;\n",
       "  width: 1em;\n",
       "  text-decoration: none !important;\n",
       "  margin-left: 1ex;\n",
       "  /* unfitted */\n",
       "  border: var(--sklearn-color-unfitted-level-1) 1pt solid;\n",
       "  color: var(--sklearn-color-unfitted-level-1);\n",
       "}\n",
       "\n",
       ".sk-estimator-doc-link.fitted,\n",
       "a:link.sk-estimator-doc-link.fitted,\n",
       "a:visited.sk-estimator-doc-link.fitted {\n",
       "  /* fitted */\n",
       "  border: var(--sklearn-color-fitted-level-1) 1pt solid;\n",
       "  color: var(--sklearn-color-fitted-level-1);\n",
       "}\n",
       "\n",
       "/* On hover */\n",
       "div.sk-estimator:hover .sk-estimator-doc-link:hover,\n",
       ".sk-estimator-doc-link:hover,\n",
       "div.sk-label-container:hover .sk-estimator-doc-link:hover,\n",
       ".sk-estimator-doc-link:hover {\n",
       "  /* unfitted */\n",
       "  background-color: var(--sklearn-color-unfitted-level-3);\n",
       "  color: var(--sklearn-color-background);\n",
       "  text-decoration: none;\n",
       "}\n",
       "\n",
       "div.sk-estimator.fitted:hover .sk-estimator-doc-link.fitted:hover,\n",
       ".sk-estimator-doc-link.fitted:hover,\n",
       "div.sk-label-container:hover .sk-estimator-doc-link.fitted:hover,\n",
       ".sk-estimator-doc-link.fitted:hover {\n",
       "  /* fitted */\n",
       "  background-color: var(--sklearn-color-fitted-level-3);\n",
       "  color: var(--sklearn-color-background);\n",
       "  text-decoration: none;\n",
       "}\n",
       "\n",
       "/* Span, style for the box shown on hovering the info icon */\n",
       ".sk-estimator-doc-link span {\n",
       "  display: none;\n",
       "  z-index: 9999;\n",
       "  position: relative;\n",
       "  font-weight: normal;\n",
       "  right: .2ex;\n",
       "  padding: .5ex;\n",
       "  margin: .5ex;\n",
       "  width: min-content;\n",
       "  min-width: 20ex;\n",
       "  max-width: 50ex;\n",
       "  color: var(--sklearn-color-text);\n",
       "  box-shadow: 2pt 2pt 4pt #999;\n",
       "  /* unfitted */\n",
       "  background: var(--sklearn-color-unfitted-level-0);\n",
       "  border: .5pt solid var(--sklearn-color-unfitted-level-3);\n",
       "}\n",
       "\n",
       ".sk-estimator-doc-link.fitted span {\n",
       "  /* fitted */\n",
       "  background: var(--sklearn-color-fitted-level-0);\n",
       "  border: var(--sklearn-color-fitted-level-3);\n",
       "}\n",
       "\n",
       ".sk-estimator-doc-link:hover span {\n",
       "  display: block;\n",
       "}\n",
       "\n",
       "/* \"?\"-specific style due to the `<a>` HTML tag */\n",
       "\n",
       "#sk-container-id-2 a.estimator_doc_link {\n",
       "  float: right;\n",
       "  font-size: 1rem;\n",
       "  line-height: 1em;\n",
       "  font-family: monospace;\n",
       "  background-color: var(--sklearn-color-background);\n",
       "  border-radius: 1rem;\n",
       "  height: 1rem;\n",
       "  width: 1rem;\n",
       "  text-decoration: none;\n",
       "  /* unfitted */\n",
       "  color: var(--sklearn-color-unfitted-level-1);\n",
       "  border: var(--sklearn-color-unfitted-level-1) 1pt solid;\n",
       "}\n",
       "\n",
       "#sk-container-id-2 a.estimator_doc_link.fitted {\n",
       "  /* fitted */\n",
       "  border: var(--sklearn-color-fitted-level-1) 1pt solid;\n",
       "  color: var(--sklearn-color-fitted-level-1);\n",
       "}\n",
       "\n",
       "/* On hover */\n",
       "#sk-container-id-2 a.estimator_doc_link:hover {\n",
       "  /* unfitted */\n",
       "  background-color: var(--sklearn-color-unfitted-level-3);\n",
       "  color: var(--sklearn-color-background);\n",
       "  text-decoration: none;\n",
       "}\n",
       "\n",
       "#sk-container-id-2 a.estimator_doc_link.fitted:hover {\n",
       "  /* fitted */\n",
       "  background-color: var(--sklearn-color-fitted-level-3);\n",
       "}\n",
       "</style><div id=\"sk-container-id-2\" class=\"sk-top-container\"><div class=\"sk-text-repr-fallback\"><pre>LGBMRegressor(random_state=42)</pre><b>In a Jupyter environment, please rerun this cell to show the HTML representation or trust the notebook. <br />On GitHub, the HTML representation is unable to render, please try loading this page with nbviewer.org.</b></div><div class=\"sk-container\" hidden><div class=\"sk-item\"><div class=\"sk-estimator fitted sk-toggleable\"><input class=\"sk-toggleable__control sk-hidden--visually\" id=\"sk-estimator-id-2\" type=\"checkbox\" checked><label for=\"sk-estimator-id-2\" class=\"sk-toggleable__label fitted sk-toggleable__label-arrow fitted\">&nbsp;LGBMRegressor<span class=\"sk-estimator-doc-link fitted\">i<span>Fitted</span></span></label><div class=\"sk-toggleable__content fitted\"><pre>LGBMRegressor(random_state=42)</pre></div> </div></div></div></div>"
      ],
      "text/plain": [
       "LGBMRegressor(random_state=42)"
      ]
     },
     "execution_count": 63,
     "metadata": {},
     "output_type": "execute_result"
    }
   ],
   "source": [
    "%%time\n",
    "\n",
    "model_lgbm = LGBMRegressor(random_state=RANDOM_STATE) #сначала построю модель без изменения гиперпараметров, должно\n",
    "model_lgbm.fit(X_train, y_train)                      #быть быстрее"
   ]
  },
  {
   "cell_type": "code",
   "execution_count": 64,
   "metadata": {},
   "outputs": [
    {
     "name": "stdout",
     "output_type": "stream",
     "text": [
      "CPU times: user 463 ms, sys: 12 ms, total: 475 ms\n",
      "Wall time: 497 ms\n"
     ]
    }
   ],
   "source": [
    "%%time\n",
    "\n",
    "lgbm_pred = model_lgbm.predict(X_valid)"
   ]
  },
  {
   "cell_type": "code",
   "execution_count": 65,
   "metadata": {},
   "outputs": [
    {
     "data": {
      "text/plain": [
       "1689.8622726752255"
      ]
     },
     "execution_count": 65,
     "metadata": {},
     "output_type": "execute_result"
    }
   ],
   "source": [
    "RMSE = (mse(y_valid, lgbm_pred))**0.5\n",
    "RMSE"
   ]
  },
  {
   "cell_type": "markdown",
   "metadata": {},
   "source": [
    "### Модель LGBMRegressor (2)"
   ]
  },
  {
   "cell_type": "code",
   "execution_count": 66,
   "metadata": {},
   "outputs": [
    {
     "name": "stdout",
     "output_type": "stream",
     "text": [
      "CPU times: user 5.7 s, sys: 37 ms, total: 5.74 s\n",
      "Wall time: 5.89 s\n"
     ]
    },
    {
     "data": {
      "text/html": [
       "<style>#sk-container-id-3 {\n",
       "  /* Definition of color scheme common for light and dark mode */\n",
       "  --sklearn-color-text: black;\n",
       "  --sklearn-color-line: gray;\n",
       "  /* Definition of color scheme for unfitted estimators */\n",
       "  --sklearn-color-unfitted-level-0: #fff5e6;\n",
       "  --sklearn-color-unfitted-level-1: #f6e4d2;\n",
       "  --sklearn-color-unfitted-level-2: #ffe0b3;\n",
       "  --sklearn-color-unfitted-level-3: chocolate;\n",
       "  /* Definition of color scheme for fitted estimators */\n",
       "  --sklearn-color-fitted-level-0: #f0f8ff;\n",
       "  --sklearn-color-fitted-level-1: #d4ebff;\n",
       "  --sklearn-color-fitted-level-2: #b3dbfd;\n",
       "  --sklearn-color-fitted-level-3: cornflowerblue;\n",
       "\n",
       "  /* Specific color for light theme */\n",
       "  --sklearn-color-text-on-default-background: var(--sg-text-color, var(--theme-code-foreground, var(--jp-content-font-color1, black)));\n",
       "  --sklearn-color-background: var(--sg-background-color, var(--theme-background, var(--jp-layout-color0, white)));\n",
       "  --sklearn-color-border-box: var(--sg-text-color, var(--theme-code-foreground, var(--jp-content-font-color1, black)));\n",
       "  --sklearn-color-icon: #696969;\n",
       "\n",
       "  @media (prefers-color-scheme: dark) {\n",
       "    /* Redefinition of color scheme for dark theme */\n",
       "    --sklearn-color-text-on-default-background: var(--sg-text-color, var(--theme-code-foreground, var(--jp-content-font-color1, white)));\n",
       "    --sklearn-color-background: var(--sg-background-color, var(--theme-background, var(--jp-layout-color0, #111)));\n",
       "    --sklearn-color-border-box: var(--sg-text-color, var(--theme-code-foreground, var(--jp-content-font-color1, white)));\n",
       "    --sklearn-color-icon: #878787;\n",
       "  }\n",
       "}\n",
       "\n",
       "#sk-container-id-3 {\n",
       "  color: var(--sklearn-color-text);\n",
       "}\n",
       "\n",
       "#sk-container-id-3 pre {\n",
       "  padding: 0;\n",
       "}\n",
       "\n",
       "#sk-container-id-3 input.sk-hidden--visually {\n",
       "  border: 0;\n",
       "  clip: rect(1px 1px 1px 1px);\n",
       "  clip: rect(1px, 1px, 1px, 1px);\n",
       "  height: 1px;\n",
       "  margin: -1px;\n",
       "  overflow: hidden;\n",
       "  padding: 0;\n",
       "  position: absolute;\n",
       "  width: 1px;\n",
       "}\n",
       "\n",
       "#sk-container-id-3 div.sk-dashed-wrapped {\n",
       "  border: 1px dashed var(--sklearn-color-line);\n",
       "  margin: 0 0.4em 0.5em 0.4em;\n",
       "  box-sizing: border-box;\n",
       "  padding-bottom: 0.4em;\n",
       "  background-color: var(--sklearn-color-background);\n",
       "}\n",
       "\n",
       "#sk-container-id-3 div.sk-container {\n",
       "  /* jupyter's `normalize.less` sets `[hidden] { display: none; }`\n",
       "     but bootstrap.min.css set `[hidden] { display: none !important; }`\n",
       "     so we also need the `!important` here to be able to override the\n",
       "     default hidden behavior on the sphinx rendered scikit-learn.org.\n",
       "     See: https://github.com/scikit-learn/scikit-learn/issues/21755 */\n",
       "  display: inline-block !important;\n",
       "  position: relative;\n",
       "}\n",
       "\n",
       "#sk-container-id-3 div.sk-text-repr-fallback {\n",
       "  display: none;\n",
       "}\n",
       "\n",
       "div.sk-parallel-item,\n",
       "div.sk-serial,\n",
       "div.sk-item {\n",
       "  /* draw centered vertical line to link estimators */\n",
       "  background-image: linear-gradient(var(--sklearn-color-text-on-default-background), var(--sklearn-color-text-on-default-background));\n",
       "  background-size: 2px 100%;\n",
       "  background-repeat: no-repeat;\n",
       "  background-position: center center;\n",
       "}\n",
       "\n",
       "/* Parallel-specific style estimator block */\n",
       "\n",
       "#sk-container-id-3 div.sk-parallel-item::after {\n",
       "  content: \"\";\n",
       "  width: 100%;\n",
       "  border-bottom: 2px solid var(--sklearn-color-text-on-default-background);\n",
       "  flex-grow: 1;\n",
       "}\n",
       "\n",
       "#sk-container-id-3 div.sk-parallel {\n",
       "  display: flex;\n",
       "  align-items: stretch;\n",
       "  justify-content: center;\n",
       "  background-color: var(--sklearn-color-background);\n",
       "  position: relative;\n",
       "}\n",
       "\n",
       "#sk-container-id-3 div.sk-parallel-item {\n",
       "  display: flex;\n",
       "  flex-direction: column;\n",
       "}\n",
       "\n",
       "#sk-container-id-3 div.sk-parallel-item:first-child::after {\n",
       "  align-self: flex-end;\n",
       "  width: 50%;\n",
       "}\n",
       "\n",
       "#sk-container-id-3 div.sk-parallel-item:last-child::after {\n",
       "  align-self: flex-start;\n",
       "  width: 50%;\n",
       "}\n",
       "\n",
       "#sk-container-id-3 div.sk-parallel-item:only-child::after {\n",
       "  width: 0;\n",
       "}\n",
       "\n",
       "/* Serial-specific style estimator block */\n",
       "\n",
       "#sk-container-id-3 div.sk-serial {\n",
       "  display: flex;\n",
       "  flex-direction: column;\n",
       "  align-items: center;\n",
       "  background-color: var(--sklearn-color-background);\n",
       "  padding-right: 1em;\n",
       "  padding-left: 1em;\n",
       "}\n",
       "\n",
       "\n",
       "/* Toggleable style: style used for estimator/Pipeline/ColumnTransformer box that is\n",
       "clickable and can be expanded/collapsed.\n",
       "- Pipeline and ColumnTransformer use this feature and define the default style\n",
       "- Estimators will overwrite some part of the style using the `sk-estimator` class\n",
       "*/\n",
       "\n",
       "/* Pipeline and ColumnTransformer style (default) */\n",
       "\n",
       "#sk-container-id-3 div.sk-toggleable {\n",
       "  /* Default theme specific background. It is overwritten whether we have a\n",
       "  specific estimator or a Pipeline/ColumnTransformer */\n",
       "  background-color: var(--sklearn-color-background);\n",
       "}\n",
       "\n",
       "/* Toggleable label */\n",
       "#sk-container-id-3 label.sk-toggleable__label {\n",
       "  cursor: pointer;\n",
       "  display: block;\n",
       "  width: 100%;\n",
       "  margin-bottom: 0;\n",
       "  padding: 0.5em;\n",
       "  box-sizing: border-box;\n",
       "  text-align: center;\n",
       "}\n",
       "\n",
       "#sk-container-id-3 label.sk-toggleable__label-arrow:before {\n",
       "  /* Arrow on the left of the label */\n",
       "  content: \"▸\";\n",
       "  float: left;\n",
       "  margin-right: 0.25em;\n",
       "  color: var(--sklearn-color-icon);\n",
       "}\n",
       "\n",
       "#sk-container-id-3 label.sk-toggleable__label-arrow:hover:before {\n",
       "  color: var(--sklearn-color-text);\n",
       "}\n",
       "\n",
       "/* Toggleable content - dropdown */\n",
       "\n",
       "#sk-container-id-3 div.sk-toggleable__content {\n",
       "  max-height: 0;\n",
       "  max-width: 0;\n",
       "  overflow: hidden;\n",
       "  text-align: left;\n",
       "  /* unfitted */\n",
       "  background-color: var(--sklearn-color-unfitted-level-0);\n",
       "}\n",
       "\n",
       "#sk-container-id-3 div.sk-toggleable__content.fitted {\n",
       "  /* fitted */\n",
       "  background-color: var(--sklearn-color-fitted-level-0);\n",
       "}\n",
       "\n",
       "#sk-container-id-3 div.sk-toggleable__content pre {\n",
       "  margin: 0.2em;\n",
       "  border-radius: 0.25em;\n",
       "  color: var(--sklearn-color-text);\n",
       "  /* unfitted */\n",
       "  background-color: var(--sklearn-color-unfitted-level-0);\n",
       "}\n",
       "\n",
       "#sk-container-id-3 div.sk-toggleable__content.fitted pre {\n",
       "  /* unfitted */\n",
       "  background-color: var(--sklearn-color-fitted-level-0);\n",
       "}\n",
       "\n",
       "#sk-container-id-3 input.sk-toggleable__control:checked~div.sk-toggleable__content {\n",
       "  /* Expand drop-down */\n",
       "  max-height: 200px;\n",
       "  max-width: 100%;\n",
       "  overflow: auto;\n",
       "}\n",
       "\n",
       "#sk-container-id-3 input.sk-toggleable__control:checked~label.sk-toggleable__label-arrow:before {\n",
       "  content: \"▾\";\n",
       "}\n",
       "\n",
       "/* Pipeline/ColumnTransformer-specific style */\n",
       "\n",
       "#sk-container-id-3 div.sk-label input.sk-toggleable__control:checked~label.sk-toggleable__label {\n",
       "  color: var(--sklearn-color-text);\n",
       "  background-color: var(--sklearn-color-unfitted-level-2);\n",
       "}\n",
       "\n",
       "#sk-container-id-3 div.sk-label.fitted input.sk-toggleable__control:checked~label.sk-toggleable__label {\n",
       "  background-color: var(--sklearn-color-fitted-level-2);\n",
       "}\n",
       "\n",
       "/* Estimator-specific style */\n",
       "\n",
       "/* Colorize estimator box */\n",
       "#sk-container-id-3 div.sk-estimator input.sk-toggleable__control:checked~label.sk-toggleable__label {\n",
       "  /* unfitted */\n",
       "  background-color: var(--sklearn-color-unfitted-level-2);\n",
       "}\n",
       "\n",
       "#sk-container-id-3 div.sk-estimator.fitted input.sk-toggleable__control:checked~label.sk-toggleable__label {\n",
       "  /* fitted */\n",
       "  background-color: var(--sklearn-color-fitted-level-2);\n",
       "}\n",
       "\n",
       "#sk-container-id-3 div.sk-label label.sk-toggleable__label,\n",
       "#sk-container-id-3 div.sk-label label {\n",
       "  /* The background is the default theme color */\n",
       "  color: var(--sklearn-color-text-on-default-background);\n",
       "}\n",
       "\n",
       "/* On hover, darken the color of the background */\n",
       "#sk-container-id-3 div.sk-label:hover label.sk-toggleable__label {\n",
       "  color: var(--sklearn-color-text);\n",
       "  background-color: var(--sklearn-color-unfitted-level-2);\n",
       "}\n",
       "\n",
       "/* Label box, darken color on hover, fitted */\n",
       "#sk-container-id-3 div.sk-label.fitted:hover label.sk-toggleable__label.fitted {\n",
       "  color: var(--sklearn-color-text);\n",
       "  background-color: var(--sklearn-color-fitted-level-2);\n",
       "}\n",
       "\n",
       "/* Estimator label */\n",
       "\n",
       "#sk-container-id-3 div.sk-label label {\n",
       "  font-family: monospace;\n",
       "  font-weight: bold;\n",
       "  display: inline-block;\n",
       "  line-height: 1.2em;\n",
       "}\n",
       "\n",
       "#sk-container-id-3 div.sk-label-container {\n",
       "  text-align: center;\n",
       "}\n",
       "\n",
       "/* Estimator-specific */\n",
       "#sk-container-id-3 div.sk-estimator {\n",
       "  font-family: monospace;\n",
       "  border: 1px dotted var(--sklearn-color-border-box);\n",
       "  border-radius: 0.25em;\n",
       "  box-sizing: border-box;\n",
       "  margin-bottom: 0.5em;\n",
       "  /* unfitted */\n",
       "  background-color: var(--sklearn-color-unfitted-level-0);\n",
       "}\n",
       "\n",
       "#sk-container-id-3 div.sk-estimator.fitted {\n",
       "  /* fitted */\n",
       "  background-color: var(--sklearn-color-fitted-level-0);\n",
       "}\n",
       "\n",
       "/* on hover */\n",
       "#sk-container-id-3 div.sk-estimator:hover {\n",
       "  /* unfitted */\n",
       "  background-color: var(--sklearn-color-unfitted-level-2);\n",
       "}\n",
       "\n",
       "#sk-container-id-3 div.sk-estimator.fitted:hover {\n",
       "  /* fitted */\n",
       "  background-color: var(--sklearn-color-fitted-level-2);\n",
       "}\n",
       "\n",
       "/* Specification for estimator info (e.g. \"i\" and \"?\") */\n",
       "\n",
       "/* Common style for \"i\" and \"?\" */\n",
       "\n",
       ".sk-estimator-doc-link,\n",
       "a:link.sk-estimator-doc-link,\n",
       "a:visited.sk-estimator-doc-link {\n",
       "  float: right;\n",
       "  font-size: smaller;\n",
       "  line-height: 1em;\n",
       "  font-family: monospace;\n",
       "  background-color: var(--sklearn-color-background);\n",
       "  border-radius: 1em;\n",
       "  height: 1em;\n",
       "  width: 1em;\n",
       "  text-decoration: none !important;\n",
       "  margin-left: 1ex;\n",
       "  /* unfitted */\n",
       "  border: var(--sklearn-color-unfitted-level-1) 1pt solid;\n",
       "  color: var(--sklearn-color-unfitted-level-1);\n",
       "}\n",
       "\n",
       ".sk-estimator-doc-link.fitted,\n",
       "a:link.sk-estimator-doc-link.fitted,\n",
       "a:visited.sk-estimator-doc-link.fitted {\n",
       "  /* fitted */\n",
       "  border: var(--sklearn-color-fitted-level-1) 1pt solid;\n",
       "  color: var(--sklearn-color-fitted-level-1);\n",
       "}\n",
       "\n",
       "/* On hover */\n",
       "div.sk-estimator:hover .sk-estimator-doc-link:hover,\n",
       ".sk-estimator-doc-link:hover,\n",
       "div.sk-label-container:hover .sk-estimator-doc-link:hover,\n",
       ".sk-estimator-doc-link:hover {\n",
       "  /* unfitted */\n",
       "  background-color: var(--sklearn-color-unfitted-level-3);\n",
       "  color: var(--sklearn-color-background);\n",
       "  text-decoration: none;\n",
       "}\n",
       "\n",
       "div.sk-estimator.fitted:hover .sk-estimator-doc-link.fitted:hover,\n",
       ".sk-estimator-doc-link.fitted:hover,\n",
       "div.sk-label-container:hover .sk-estimator-doc-link.fitted:hover,\n",
       ".sk-estimator-doc-link.fitted:hover {\n",
       "  /* fitted */\n",
       "  background-color: var(--sklearn-color-fitted-level-3);\n",
       "  color: var(--sklearn-color-background);\n",
       "  text-decoration: none;\n",
       "}\n",
       "\n",
       "/* Span, style for the box shown on hovering the info icon */\n",
       ".sk-estimator-doc-link span {\n",
       "  display: none;\n",
       "  z-index: 9999;\n",
       "  position: relative;\n",
       "  font-weight: normal;\n",
       "  right: .2ex;\n",
       "  padding: .5ex;\n",
       "  margin: .5ex;\n",
       "  width: min-content;\n",
       "  min-width: 20ex;\n",
       "  max-width: 50ex;\n",
       "  color: var(--sklearn-color-text);\n",
       "  box-shadow: 2pt 2pt 4pt #999;\n",
       "  /* unfitted */\n",
       "  background: var(--sklearn-color-unfitted-level-0);\n",
       "  border: .5pt solid var(--sklearn-color-unfitted-level-3);\n",
       "}\n",
       "\n",
       ".sk-estimator-doc-link.fitted span {\n",
       "  /* fitted */\n",
       "  background: var(--sklearn-color-fitted-level-0);\n",
       "  border: var(--sklearn-color-fitted-level-3);\n",
       "}\n",
       "\n",
       ".sk-estimator-doc-link:hover span {\n",
       "  display: block;\n",
       "}\n",
       "\n",
       "/* \"?\"-specific style due to the `<a>` HTML tag */\n",
       "\n",
       "#sk-container-id-3 a.estimator_doc_link {\n",
       "  float: right;\n",
       "  font-size: 1rem;\n",
       "  line-height: 1em;\n",
       "  font-family: monospace;\n",
       "  background-color: var(--sklearn-color-background);\n",
       "  border-radius: 1rem;\n",
       "  height: 1rem;\n",
       "  width: 1rem;\n",
       "  text-decoration: none;\n",
       "  /* unfitted */\n",
       "  color: var(--sklearn-color-unfitted-level-1);\n",
       "  border: var(--sklearn-color-unfitted-level-1) 1pt solid;\n",
       "}\n",
       "\n",
       "#sk-container-id-3 a.estimator_doc_link.fitted {\n",
       "  /* fitted */\n",
       "  border: var(--sklearn-color-fitted-level-1) 1pt solid;\n",
       "  color: var(--sklearn-color-fitted-level-1);\n",
       "}\n",
       "\n",
       "/* On hover */\n",
       "#sk-container-id-3 a.estimator_doc_link:hover {\n",
       "  /* unfitted */\n",
       "  background-color: var(--sklearn-color-unfitted-level-3);\n",
       "  color: var(--sklearn-color-background);\n",
       "  text-decoration: none;\n",
       "}\n",
       "\n",
       "#sk-container-id-3 a.estimator_doc_link.fitted:hover {\n",
       "  /* fitted */\n",
       "  background-color: var(--sklearn-color-fitted-level-3);\n",
       "}\n",
       "</style><div id=\"sk-container-id-3\" class=\"sk-top-container\"><div class=\"sk-text-repr-fallback\"><pre>LGBMRegressor(max_depth=12, n_estimators=61, num_leaves=81, random_state=42)</pre><b>In a Jupyter environment, please rerun this cell to show the HTML representation or trust the notebook. <br />On GitHub, the HTML representation is unable to render, please try loading this page with nbviewer.org.</b></div><div class=\"sk-container\" hidden><div class=\"sk-item\"><div class=\"sk-estimator fitted sk-toggleable\"><input class=\"sk-toggleable__control sk-hidden--visually\" id=\"sk-estimator-id-3\" type=\"checkbox\" checked><label for=\"sk-estimator-id-3\" class=\"sk-toggleable__label fitted sk-toggleable__label-arrow fitted\">&nbsp;LGBMRegressor<span class=\"sk-estimator-doc-link fitted\">i<span>Fitted</span></span></label><div class=\"sk-toggleable__content fitted\"><pre>LGBMRegressor(max_depth=12, n_estimators=61, num_leaves=81, random_state=42)</pre></div> </div></div></div></div>"
      ],
      "text/plain": [
       "LGBMRegressor(max_depth=12, n_estimators=61, num_leaves=81, random_state=42)"
      ]
     },
     "execution_count": 66,
     "metadata": {},
     "output_type": "execute_result"
    }
   ],
   "source": [
    "%%time\n",
    "\n",
    "model_lgbm_rc = randomized_search_lgbm.best_estimator_\n",
    "model_lgbm_rc.fit(X_train, y_train)"
   ]
  },
  {
   "cell_type": "code",
   "execution_count": 67,
   "metadata": {},
   "outputs": [
    {
     "name": "stdout",
     "output_type": "stream",
     "text": [
      "CPU times: user 388 ms, sys: 0 ns, total: 388 ms\n",
      "Wall time: 397 ms\n"
     ]
    }
   ],
   "source": [
    "%%time\n",
    "\n",
    "lgbm_rc_pred = model_lgbm_rc.predict(X_valid)"
   ]
  },
  {
   "cell_type": "code",
   "execution_count": 68,
   "metadata": {},
   "outputs": [
    {
     "data": {
      "text/plain": [
       "1664.495439089687"
      ]
     },
     "execution_count": 68,
     "metadata": {},
     "output_type": "execute_result"
    }
   ],
   "source": [
    "RMSE = (mse(y_valid, lgbm_rc_pred))**0.5\n",
    "RMSE"
   ]
  },
  {
   "cell_type": "markdown",
   "metadata": {},
   "source": [
    "## Вывод"
   ]
  },
  {
   "cell_type": "markdown",
   "metadata": {},
   "source": [
    "Лучшей моделью считаю LGBMRegressor с измененными гиперпараметрами, качество этой модели лучше, чем у всех остальных, в скорости проигрывает DecisionTreeRegressor, но разница в 4-5 секундах, не думаю, что это существенно."
   ]
  },
  {
   "cell_type": "code",
   "execution_count": 69,
   "metadata": {
    "scrolled": true
   },
   "outputs": [
    {
     "data": {
      "text/plain": [
       "1656.8340201323651"
      ]
     },
     "execution_count": 69,
     "metadata": {},
     "output_type": "execute_result"
    }
   ],
   "source": [
    "lgbm_rc_pred = model_lgbm_rc.predict(X_test)\n",
    "RMSE = (mse(y_test, lgbm_rc_pred))**0.5\n",
    "RMSE"
   ]
  }
 ],
 "metadata": {
  "ExecuteTimeLog": [
   {
    "duration": 47,
    "start_time": "2024-05-20T19:07:10.028Z"
   },
   {
    "duration": 13860,
    "start_time": "2024-05-20T19:10:23.743Z"
   },
   {
    "duration": 2157,
    "start_time": "2024-05-20T19:10:42.242Z"
   },
   {
    "duration": 3021,
    "start_time": "2024-05-20T19:10:46.056Z"
   },
   {
    "duration": 1032,
    "start_time": "2024-05-20T19:14:15.326Z"
   },
   {
    "duration": 851,
    "start_time": "2024-05-20T19:14:29.813Z"
   },
   {
    "duration": 507,
    "start_time": "2024-05-20T19:16:15.672Z"
   },
   {
    "duration": 668,
    "start_time": "2024-05-20T19:16:42.359Z"
   },
   {
    "duration": 1010,
    "start_time": "2024-05-20T19:16:50.072Z"
   },
   {
    "duration": 93,
    "start_time": "2024-05-20T19:21:39.361Z"
   },
   {
    "duration": 145,
    "start_time": "2024-05-20T19:21:45.863Z"
   },
   {
    "duration": 27,
    "start_time": "2024-05-20T19:22:39.777Z"
   },
   {
    "duration": 27,
    "start_time": "2024-05-20T19:23:08.792Z"
   },
   {
    "duration": 28,
    "start_time": "2024-05-20T19:24:33.085Z"
   },
   {
    "duration": 198,
    "start_time": "2024-05-20T19:25:04.761Z"
   },
   {
    "duration": 30,
    "start_time": "2024-05-20T19:25:10.349Z"
   },
   {
    "duration": 121,
    "start_time": "2024-05-20T19:26:03.882Z"
   },
   {
    "duration": 1024,
    "start_time": "2024-05-20T19:26:51.207Z"
   },
   {
    "duration": 21,
    "start_time": "2024-05-20T19:27:57.289Z"
   },
   {
    "duration": 212,
    "start_time": "2024-05-20T19:30:02.892Z"
   },
   {
    "duration": 25,
    "start_time": "2024-05-20T19:30:11.099Z"
   },
   {
    "duration": 110,
    "start_time": "2024-05-20T19:35:58.066Z"
   },
   {
    "duration": 130,
    "start_time": "2024-05-20T19:36:06.964Z"
   },
   {
    "duration": 18,
    "start_time": "2024-05-20T19:43:41.934Z"
   },
   {
    "duration": 19,
    "start_time": "2024-05-20T19:44:18.714Z"
   },
   {
    "duration": 129,
    "start_time": "2024-05-20T19:44:19.885Z"
   },
   {
    "duration": 127,
    "start_time": "2024-05-20T20:26:24.710Z"
   },
   {
    "duration": 14900,
    "start_time": "2024-05-21T11:33:35.071Z"
   },
   {
    "duration": 2002,
    "start_time": "2024-05-21T11:33:49.973Z"
   },
   {
    "duration": 1372,
    "start_time": "2024-05-21T11:33:51.977Z"
   },
   {
    "duration": 366,
    "start_time": "2024-05-21T11:33:53.351Z"
   },
   {
    "duration": 30,
    "start_time": "2024-05-21T11:33:53.718Z"
   },
   {
    "duration": 140,
    "start_time": "2024-05-21T11:33:53.750Z"
   },
   {
    "duration": 465,
    "start_time": "2024-05-21T11:33:53.892Z"
   },
   {
    "duration": 106,
    "start_time": "2024-05-21T11:33:54.359Z"
   },
   {
    "duration": 46,
    "start_time": "2024-05-23T14:34:17.853Z"
   },
   {
    "duration": 14715,
    "start_time": "2024-05-23T14:34:23.210Z"
   },
   {
    "duration": 2244,
    "start_time": "2024-05-23T14:34:37.927Z"
   },
   {
    "duration": 3230,
    "start_time": "2024-05-23T14:34:40.173Z"
   },
   {
    "duration": 372,
    "start_time": "2024-05-23T14:34:43.404Z"
   },
   {
    "duration": 31,
    "start_time": "2024-05-23T14:34:43.778Z"
   },
   {
    "duration": 118,
    "start_time": "2024-05-23T14:34:43.811Z"
   },
   {
    "duration": 458,
    "start_time": "2024-05-23T14:34:43.931Z"
   },
   {
    "duration": 107,
    "start_time": "2024-05-23T14:34:44.390Z"
   },
   {
    "duration": 50,
    "start_time": "2024-05-23T14:34:44.499Z"
   },
   {
    "duration": 198,
    "start_time": "2024-05-23T14:36:29.271Z"
   },
   {
    "duration": 183,
    "start_time": "2024-05-23T14:36:32.790Z"
   },
   {
    "duration": 180,
    "start_time": "2024-05-23T14:36:45.152Z"
   },
   {
    "duration": 82572,
    "start_time": "2024-05-23T14:40:40.012Z"
   },
   {
    "duration": 16050,
    "start_time": "2024-05-23T14:42:55.410Z"
   },
   {
    "duration": 27,
    "start_time": "2024-05-23T15:32:01.935Z"
   },
   {
    "duration": 1011,
    "start_time": "2024-05-23T15:34:18.001Z"
   },
   {
    "duration": 991,
    "start_time": "2024-05-23T15:34:34.986Z"
   },
   {
    "duration": 570,
    "start_time": "2024-05-23T15:37:17.554Z"
   },
   {
    "duration": 961,
    "start_time": "2024-05-23T15:37:37.224Z"
   },
   {
    "duration": 970,
    "start_time": "2024-05-23T15:37:51.209Z"
   },
   {
    "duration": 985,
    "start_time": "2024-05-23T15:38:19.872Z"
   },
   {
    "duration": 547,
    "start_time": "2024-05-23T15:39:29.933Z"
   },
   {
    "duration": 1022,
    "start_time": "2024-05-23T15:39:52.402Z"
   },
   {
    "duration": 1015,
    "start_time": "2024-05-23T15:41:38.077Z"
   },
   {
    "duration": 1046,
    "start_time": "2024-05-23T15:42:22.848Z"
   },
   {
    "duration": 70,
    "start_time": "2024-05-23T15:42:29.677Z"
   },
   {
    "duration": 69,
    "start_time": "2024-05-23T15:42:53.852Z"
   },
   {
    "duration": 68,
    "start_time": "2024-05-23T15:43:36.904Z"
   },
   {
    "duration": 1030,
    "start_time": "2024-05-23T15:43:57.208Z"
   },
   {
    "duration": 34,
    "start_time": "2024-05-23T15:45:54.064Z"
   },
   {
    "duration": 11,
    "start_time": "2024-05-23T15:45:58.111Z"
   },
   {
    "duration": 4,
    "start_time": "2024-05-23T15:46:21.138Z"
   },
   {
    "duration": 1060,
    "start_time": "2024-05-23T15:46:22.951Z"
   },
   {
    "duration": 992,
    "start_time": "2024-05-23T15:47:03.610Z"
   },
   {
    "duration": 1021,
    "start_time": "2024-05-23T15:47:13.421Z"
   },
   {
    "duration": 4,
    "start_time": "2024-05-23T15:47:28.769Z"
   },
   {
    "duration": 55,
    "start_time": "2024-05-23T18:54:35.250Z"
   },
   {
    "duration": 61,
    "start_time": "2024-05-23T18:56:37.948Z"
   },
   {
    "duration": 83,
    "start_time": "2024-05-23T18:57:12.213Z"
   },
   {
    "duration": 49,
    "start_time": "2024-05-23T18:58:05.958Z"
   },
   {
    "duration": 49,
    "start_time": "2024-05-23T18:58:15.932Z"
   },
   {
    "duration": 91,
    "start_time": "2024-05-23T19:09:21.133Z"
   },
   {
    "duration": 26,
    "start_time": "2024-05-23T19:09:29.506Z"
   },
   {
    "duration": 44,
    "start_time": "2024-05-23T19:20:50.089Z"
   },
   {
    "duration": 44,
    "start_time": "2024-05-23T19:20:58.673Z"
   },
   {
    "duration": 8648,
    "start_time": "2024-05-23T19:27:20.946Z"
   },
   {
    "duration": 1951,
    "start_time": "2024-05-23T19:27:29.596Z"
   },
   {
    "duration": 1158,
    "start_time": "2024-05-23T19:27:31.552Z"
   },
   {
    "duration": 369,
    "start_time": "2024-05-23T19:27:32.712Z"
   },
   {
    "duration": 24,
    "start_time": "2024-05-23T19:27:33.083Z"
   },
   {
    "duration": 148,
    "start_time": "2024-05-23T19:27:33.108Z"
   },
   {
    "duration": 514,
    "start_time": "2024-05-23T19:27:33.258Z"
   },
   {
    "duration": 104,
    "start_time": "2024-05-23T19:27:33.774Z"
   },
   {
    "duration": 186,
    "start_time": "2024-05-23T19:27:33.880Z"
   },
   {
    "duration": 16369,
    "start_time": "2024-05-23T19:27:34.067Z"
   },
   {
    "duration": 79,
    "start_time": "2024-05-23T19:27:50.438Z"
   },
   {
    "duration": 245,
    "start_time": "2024-05-23T19:28:07.034Z"
   },
   {
    "duration": 75,
    "start_time": "2024-05-23T19:31:31.853Z"
   },
   {
    "duration": 62,
    "start_time": "2024-05-23T19:32:49.780Z"
   },
   {
    "duration": 51502,
    "start_time": "2024-05-23T19:33:03.145Z"
   },
   {
    "duration": 98,
    "start_time": "2024-05-23T19:34:13.405Z"
   },
   {
    "duration": 114,
    "start_time": "2024-05-23T19:34:57.309Z"
   },
   {
    "duration": 50734,
    "start_time": "2024-05-23T19:38:55.182Z"
   },
   {
    "duration": 104,
    "start_time": "2024-05-23T19:39:45.920Z"
   },
   {
    "duration": 26775,
    "start_time": "2024-05-23T19:41:03.560Z"
   },
   {
    "duration": 50418,
    "start_time": "2024-05-23T19:43:36.789Z"
   },
   {
    "duration": 102,
    "start_time": "2024-05-23T19:44:29.524Z"
   },
   {
    "duration": 23422,
    "start_time": "2024-05-23T19:48:07.615Z"
   },
   {
    "duration": 50877,
    "start_time": "2024-05-23T19:49:42.347Z"
   },
   {
    "duration": 106,
    "start_time": "2024-05-23T19:50:33.225Z"
   },
   {
    "duration": 55476,
    "start_time": "2024-05-23T19:57:41.374Z"
   },
   {
    "duration": 108,
    "start_time": "2024-05-23T19:58:36.851Z"
   },
   {
    "duration": 3259,
    "start_time": "2024-05-23T19:59:15.315Z"
   },
   {
    "duration": 103,
    "start_time": "2024-05-23T19:59:31.897Z"
   },
   {
    "duration": 45,
    "start_time": "2024-05-23T20:00:14.088Z"
   },
   {
    "duration": 24,
    "start_time": "2024-05-23T20:00:47.002Z"
   },
   {
    "duration": 64,
    "start_time": "2024-05-23T20:04:10.144Z"
   },
   {
    "duration": 30,
    "start_time": "2024-05-23T20:08:42.861Z"
   },
   {
    "duration": 73,
    "start_time": "2024-05-23T20:13:55.441Z"
   },
   {
    "duration": 109,
    "start_time": "2024-05-23T20:14:03.348Z"
   },
   {
    "duration": 16397,
    "start_time": "2024-05-23T20:19:33.305Z"
   },
   {
    "duration": 101,
    "start_time": "2024-05-23T20:19:54.199Z"
   },
   {
    "duration": 32,
    "start_time": "2024-05-23T20:20:19.124Z"
   },
   {
    "duration": 52,
    "start_time": "2024-05-23T20:20:54.839Z"
   },
   {
    "duration": 115,
    "start_time": "2024-05-23T20:22:41.729Z"
   },
   {
    "duration": 24,
    "start_time": "2024-05-23T20:23:51.215Z"
   },
   {
    "duration": 8408,
    "start_time": "2024-05-23T20:27:01.730Z"
   },
   {
    "duration": 2942,
    "start_time": "2024-05-23T20:27:10.140Z"
   },
   {
    "duration": 3205,
    "start_time": "2024-05-23T20:27:13.083Z"
   },
   {
    "duration": 360,
    "start_time": "2024-05-23T20:27:16.290Z"
   },
   {
    "duration": 32,
    "start_time": "2024-05-23T20:27:16.651Z"
   },
   {
    "duration": 125,
    "start_time": "2024-05-23T20:27:16.684Z"
   },
   {
    "duration": 484,
    "start_time": "2024-05-23T20:27:16.811Z"
   },
   {
    "duration": 106,
    "start_time": "2024-05-23T20:27:17.297Z"
   },
   {
    "duration": 168,
    "start_time": "2024-05-23T20:27:17.404Z"
   },
   {
    "duration": 15850,
    "start_time": "2024-05-23T20:27:17.574Z"
   },
   {
    "duration": 51810,
    "start_time": "2024-05-23T20:27:33.426Z"
   },
   {
    "duration": 101,
    "start_time": "2024-05-23T20:28:25.238Z"
   },
   {
    "duration": 3058,
    "start_time": "2024-05-23T20:28:25.341Z"
   },
   {
    "duration": 102,
    "start_time": "2024-05-23T20:28:28.401Z"
   },
   {
    "duration": 64,
    "start_time": "2024-05-23T20:28:28.505Z"
   },
   {
    "duration": 29,
    "start_time": "2024-05-23T20:28:28.571Z"
   },
   {
    "duration": 84,
    "start_time": "2024-05-23T20:28:28.601Z"
   },
   {
    "duration": 67,
    "start_time": "2024-05-23T20:31:25.515Z"
   },
   {
    "duration": 8263,
    "start_time": "2024-05-23T20:31:40.288Z"
   },
   {
    "duration": 2812,
    "start_time": "2024-05-23T20:31:48.553Z"
   },
   {
    "duration": 3172,
    "start_time": "2024-05-23T20:31:51.367Z"
   },
   {
    "duration": 355,
    "start_time": "2024-05-23T20:31:54.540Z"
   },
   {
    "duration": 41,
    "start_time": "2024-05-23T20:31:54.899Z"
   },
   {
    "duration": 115,
    "start_time": "2024-05-23T20:31:54.942Z"
   },
   {
    "duration": 497,
    "start_time": "2024-05-23T20:31:55.059Z"
   },
   {
    "duration": 104,
    "start_time": "2024-05-23T20:31:55.557Z"
   },
   {
    "duration": 155,
    "start_time": "2024-05-23T20:31:55.663Z"
   },
   {
    "duration": 16189,
    "start_time": "2024-05-23T20:31:55.819Z"
   },
   {
    "duration": 51763,
    "start_time": "2024-05-23T20:32:12.010Z"
   },
   {
    "duration": 100,
    "start_time": "2024-05-23T20:33:03.775Z"
   },
   {
    "duration": 3308,
    "start_time": "2024-05-23T20:33:03.877Z"
   },
   {
    "duration": 121,
    "start_time": "2024-05-23T20:33:07.188Z"
   },
   {
    "duration": 65,
    "start_time": "2024-05-23T20:33:07.311Z"
   },
   {
    "duration": 30,
    "start_time": "2024-05-23T20:33:07.378Z"
   },
   {
    "duration": 71,
    "start_time": "2024-05-23T20:33:07.429Z"
   },
   {
    "duration": 20752,
    "start_time": "2024-05-23T20:33:07.502Z"
   },
   {
    "duration": 101,
    "start_time": "2024-05-23T20:33:28.256Z"
   },
   {
    "duration": 23,
    "start_time": "2024-05-23T20:33:28.359Z"
   },
   {
    "duration": 49,
    "start_time": "2024-05-23T20:33:28.383Z"
   },
   {
    "duration": 24,
    "start_time": "2024-05-23T20:33:28.434Z"
   },
   {
    "duration": 7963,
    "start_time": "2024-05-23T20:35:32.397Z"
   },
   {
    "duration": 1899,
    "start_time": "2024-05-23T20:35:40.362Z"
   },
   {
    "duration": 1101,
    "start_time": "2024-05-23T20:35:42.263Z"
   },
   {
    "duration": 364,
    "start_time": "2024-05-23T20:35:43.366Z"
   },
   {
    "duration": 27,
    "start_time": "2024-05-23T20:35:43.732Z"
   },
   {
    "duration": 125,
    "start_time": "2024-05-23T20:35:43.762Z"
   },
   {
    "duration": 475,
    "start_time": "2024-05-23T20:35:43.889Z"
   },
   {
    "duration": 101,
    "start_time": "2024-05-23T20:35:44.366Z"
   },
   {
    "duration": 178,
    "start_time": "2024-05-23T20:35:44.469Z"
   },
   {
    "duration": 15844,
    "start_time": "2024-05-23T20:35:44.650Z"
   },
   {
    "duration": 25505,
    "start_time": "2024-05-23T20:36:00.496Z"
   },
   {
    "duration": 0,
    "start_time": "2024-05-23T20:36:26.002Z"
   },
   {
    "duration": 59641,
    "start_time": "2024-05-23T20:38:27.417Z"
   },
   {
    "duration": 97,
    "start_time": "2024-05-23T20:39:28.874Z"
   },
   {
    "duration": 1865,
    "start_time": "2024-05-23T20:39:35.589Z"
   },
   {
    "duration": 4823,
    "start_time": "2024-05-23T20:40:23.139Z"
   },
   {
    "duration": 95,
    "start_time": "2024-05-23T20:40:30.520Z"
   },
   {
    "duration": 62,
    "start_time": "2024-05-23T20:40:38.164Z"
   },
   {
    "duration": 30,
    "start_time": "2024-05-23T20:40:47.725Z"
   },
   {
    "duration": 66,
    "start_time": "2024-05-23T20:40:53.308Z"
   },
   {
    "duration": 20449,
    "start_time": "2024-05-23T20:40:59.666Z"
   },
   {
    "duration": 97,
    "start_time": "2024-05-23T20:41:20.855Z"
   },
   {
    "duration": 983,
    "start_time": "2024-05-23T21:41:39.037Z"
   },
   {
    "duration": 58927,
    "start_time": "2024-05-23T21:43:08.178Z"
   },
   {
    "duration": 99,
    "start_time": "2024-05-23T21:44:10.732Z"
   },
   {
    "duration": 125,
    "start_time": "2024-05-23T21:47:29.645Z"
   },
   {
    "duration": 2,
    "start_time": "2024-05-23T21:52:32.632Z"
   },
   {
    "duration": 8,
    "start_time": "2024-05-23T21:53:38.344Z"
   },
   {
    "duration": 30,
    "start_time": "2024-05-23T21:53:50.220Z"
   },
   {
    "duration": 79,
    "start_time": "2024-05-23T21:54:22.235Z"
   },
   {
    "duration": 6,
    "start_time": "2024-05-23T21:54:57.161Z"
   },
   {
    "duration": 60,
    "start_time": "2024-05-23T21:57:10.692Z"
   },
   {
    "duration": 39,
    "start_time": "2024-05-23T21:57:23.386Z"
   },
   {
    "duration": 40,
    "start_time": "2024-05-23T21:57:33.353Z"
   },
   {
    "duration": 15,
    "start_time": "2024-05-23T21:57:56.690Z"
   },
   {
    "duration": 7961,
    "start_time": "2024-05-23T21:59:25.944Z"
   },
   {
    "duration": 1941,
    "start_time": "2024-05-23T21:59:33.907Z"
   },
   {
    "duration": 1097,
    "start_time": "2024-05-23T21:59:35.850Z"
   },
   {
    "duration": 353,
    "start_time": "2024-05-23T21:59:36.949Z"
   },
   {
    "duration": 30,
    "start_time": "2024-05-23T21:59:37.304Z"
   },
   {
    "duration": 117,
    "start_time": "2024-05-23T21:59:37.336Z"
   },
   {
    "duration": 472,
    "start_time": "2024-05-23T21:59:37.455Z"
   },
   {
    "duration": 102,
    "start_time": "2024-05-23T21:59:37.929Z"
   },
   {
    "duration": 169,
    "start_time": "2024-05-23T21:59:38.033Z"
   },
   {
    "duration": 15695,
    "start_time": "2024-05-23T21:59:38.205Z"
   },
   {
    "duration": 59769,
    "start_time": "2024-05-23T21:59:53.902Z"
   },
   {
    "duration": 103,
    "start_time": "2024-05-23T22:00:53.673Z"
   },
   {
    "duration": 4914,
    "start_time": "2024-05-23T22:00:53.780Z"
   },
   {
    "duration": 98,
    "start_time": "2024-05-23T22:00:58.695Z"
   },
   {
    "duration": 61,
    "start_time": "2024-05-23T22:00:58.795Z"
   },
   {
    "duration": 27,
    "start_time": "2024-05-23T22:00:58.858Z"
   },
   {
    "duration": 88,
    "start_time": "2024-05-23T22:00:58.887Z"
   },
   {
    "duration": 60511,
    "start_time": "2024-05-23T22:00:58.977Z"
   },
   {
    "duration": 121,
    "start_time": "2024-05-23T22:01:59.490Z"
   },
   {
    "duration": 199,
    "start_time": "2024-05-23T22:01:59.612Z"
   },
   {
    "duration": 6,
    "start_time": "2024-05-23T22:01:59.812Z"
   },
   {
    "duration": 42,
    "start_time": "2024-05-23T22:01:59.819Z"
   },
   {
    "duration": 5,
    "start_time": "2024-05-23T22:10:29.506Z"
   },
   {
    "duration": 15,
    "start_time": "2024-05-23T22:29:18.117Z"
   },
   {
    "duration": 3,
    "start_time": "2024-05-23T22:46:29.807Z"
   },
   {
    "duration": 3626,
    "start_time": "2024-05-23T22:49:52.628Z"
   },
   {
    "duration": 3909,
    "start_time": "2024-05-23T22:50:31.821Z"
   },
   {
    "duration": 3,
    "start_time": "2024-05-23T22:50:40.910Z"
   },
   {
    "duration": 1163,
    "start_time": "2024-05-23T22:50:43.438Z"
   },
   {
    "duration": 246,
    "start_time": "2024-05-23T22:57:47.000Z"
   },
   {
    "duration": 6,
    "start_time": "2024-05-23T22:57:58.024Z"
   },
   {
    "duration": 6941,
    "start_time": "2024-05-23T22:58:03.654Z"
   },
   {
    "duration": 6940,
    "start_time": "2024-05-23T22:58:32.782Z"
   },
   {
    "duration": 24,
    "start_time": "2024-05-23T23:07:21.496Z"
   },
   {
    "duration": 37,
    "start_time": "2024-05-23T23:10:06.104Z"
   },
   {
    "duration": 98,
    "start_time": "2024-05-23T23:10:25.863Z"
   },
   {
    "duration": 6934,
    "start_time": "2024-05-23T23:10:52.161Z"
   },
   {
    "duration": 23,
    "start_time": "2024-05-23T23:11:36.711Z"
   },
   {
    "duration": 28,
    "start_time": "2024-05-23T23:12:13.963Z"
   },
   {
    "duration": 32,
    "start_time": "2024-05-23T23:12:47.574Z"
   },
   {
    "duration": 53,
    "start_time": "2024-05-23T23:14:52.032Z"
   },
   {
    "duration": 7063,
    "start_time": "2024-05-23T23:14:52.784Z"
   },
   {
    "duration": 26,
    "start_time": "2024-05-23T23:15:50.853Z"
   },
   {
    "duration": 5511,
    "start_time": "2024-05-23T23:19:06.398Z"
   },
   {
    "duration": 15452,
    "start_time": "2024-05-23T23:20:48.889Z"
   },
   {
    "duration": 5561,
    "start_time": "2024-05-23T23:21:52.159Z"
   },
   {
    "duration": 5888,
    "start_time": "2024-05-23T23:26:25.455Z"
   },
   {
    "duration": 8087,
    "start_time": "2024-05-23T23:27:29.759Z"
   },
   {
    "duration": 1923,
    "start_time": "2024-05-23T23:27:37.849Z"
   },
   {
    "duration": 4,
    "start_time": "2024-05-23T23:27:39.774Z"
   },
   {
    "duration": 1073,
    "start_time": "2024-05-23T23:27:39.780Z"
   },
   {
    "duration": 364,
    "start_time": "2024-05-23T23:27:40.855Z"
   },
   {
    "duration": 33,
    "start_time": "2024-05-23T23:27:41.220Z"
   },
   {
    "duration": 110,
    "start_time": "2024-05-23T23:27:41.254Z"
   },
   {
    "duration": 456,
    "start_time": "2024-05-23T23:27:41.366Z"
   },
   {
    "duration": 106,
    "start_time": "2024-05-23T23:27:41.824Z"
   },
   {
    "duration": 175,
    "start_time": "2024-05-23T23:27:41.933Z"
   },
   {
    "duration": 5723,
    "start_time": "2024-05-23T23:27:42.109Z"
   },
   {
    "duration": 60879,
    "start_time": "2024-05-23T23:27:47.834Z"
   },
   {
    "duration": 100,
    "start_time": "2024-05-23T23:28:48.714Z"
   },
   {
    "duration": 4988,
    "start_time": "2024-05-23T23:28:48.816Z"
   },
   {
    "duration": 98,
    "start_time": "2024-05-23T23:28:53.806Z"
   },
   {
    "duration": 65,
    "start_time": "2024-05-23T23:28:53.905Z"
   },
   {
    "duration": 30,
    "start_time": "2024-05-23T23:28:53.971Z"
   },
   {
    "duration": 84,
    "start_time": "2024-05-23T23:28:54.002Z"
   },
   {
    "duration": 61461,
    "start_time": "2024-05-23T23:28:54.087Z"
   },
   {
    "duration": 118,
    "start_time": "2024-05-23T23:29:55.550Z"
   },
   {
    "duration": 200,
    "start_time": "2024-05-23T23:29:55.670Z"
   },
   {
    "duration": 6,
    "start_time": "2024-05-23T23:29:55.871Z"
   },
   {
    "duration": 51,
    "start_time": "2024-05-23T23:29:55.878Z"
   },
   {
    "duration": 21,
    "start_time": "2024-05-23T23:29:55.930Z"
   },
   {
    "duration": 12,
    "start_time": "2024-05-23T23:29:55.953Z"
   },
   {
    "duration": 5340,
    "start_time": "2024-05-23T23:29:55.966Z"
   },
   {
    "duration": 28,
    "start_time": "2024-05-23T23:30:01.307Z"
   },
   {
    "duration": 5546,
    "start_time": "2024-05-23T23:30:01.338Z"
   },
   {
    "duration": 27,
    "start_time": "2024-05-23T23:30:06.886Z"
   },
   {
    "duration": 5010,
    "start_time": "2024-05-23T23:30:06.915Z"
   },
   {
    "duration": 4375,
    "start_time": "2024-05-23T23:33:34.542Z"
   },
   {
    "duration": 4220,
    "start_time": "2024-05-23T23:34:00.282Z"
   },
   {
    "duration": 4,
    "start_time": "2024-05-24T18:19:31.427Z"
   },
   {
    "duration": 189,
    "start_time": "2024-05-24T18:54:21.785Z"
   },
   {
    "duration": 21,
    "start_time": "2024-05-24T18:55:01.466Z"
   },
   {
    "duration": 10311,
    "start_time": "2024-05-25T10:25:26.205Z"
   },
   {
    "duration": 1655,
    "start_time": "2024-05-25T10:25:36.519Z"
   },
   {
    "duration": 8,
    "start_time": "2024-05-25T10:25:38.181Z"
   },
   {
    "duration": 18,
    "start_time": "2024-05-25T10:25:38.191Z"
   },
   {
    "duration": 1534,
    "start_time": "2024-05-25T10:25:38.210Z"
   },
   {
    "duration": 452,
    "start_time": "2024-05-25T10:25:39.745Z"
   },
   {
    "duration": 30,
    "start_time": "2024-05-25T10:25:40.199Z"
   },
   {
    "duration": 125,
    "start_time": "2024-05-25T10:25:40.231Z"
   },
   {
    "duration": 866,
    "start_time": "2024-05-25T10:25:40.359Z"
   },
   {
    "duration": 198,
    "start_time": "2024-05-25T10:25:41.227Z"
   },
   {
    "duration": 372,
    "start_time": "2024-05-25T10:25:41.427Z"
   },
   {
    "duration": 6092,
    "start_time": "2024-05-25T10:25:41.801Z"
   },
   {
    "duration": 62839,
    "start_time": "2024-05-25T10:25:47.895Z"
   },
   {
    "duration": 104,
    "start_time": "2024-05-25T10:26:50.736Z"
   },
   {
    "duration": 5122,
    "start_time": "2024-05-25T10:26:50.841Z"
   },
   {
    "duration": 108,
    "start_time": "2024-05-25T10:26:55.964Z"
   },
   {
    "duration": 58,
    "start_time": "2024-05-25T10:26:56.074Z"
   },
   {
    "duration": 46,
    "start_time": "2024-05-25T10:26:56.134Z"
   },
   {
    "duration": 68,
    "start_time": "2024-05-25T10:26:56.182Z"
   },
   {
    "duration": 63591,
    "start_time": "2024-05-25T10:26:56.251Z"
   },
   {
    "duration": 106,
    "start_time": "2024-05-25T10:27:59.844Z"
   },
   {
    "duration": 210,
    "start_time": "2024-05-25T10:27:59.952Z"
   },
   {
    "duration": 6,
    "start_time": "2024-05-25T10:28:00.163Z"
   },
   {
    "duration": 71,
    "start_time": "2024-05-25T10:28:00.179Z"
   },
   {
    "duration": 73,
    "start_time": "2024-05-25T10:28:00.252Z"
   },
   {
    "duration": 209,
    "start_time": "2024-05-25T10:28:00.327Z"
   },
   {
    "duration": 5836,
    "start_time": "2024-05-25T10:28:00.539Z"
   },
   {
    "duration": 23,
    "start_time": "2024-05-25T10:28:06.379Z"
   },
   {
    "duration": 5835,
    "start_time": "2024-05-25T10:28:06.403Z"
   },
   {
    "duration": 5331,
    "start_time": "2024-05-25T10:28:12.239Z"
   },
   {
    "duration": 4437,
    "start_time": "2024-05-25T10:28:17.580Z"
   },
   {
    "duration": 22,
    "start_time": "2024-05-25T10:33:22.291Z"
   },
   {
    "duration": 4,
    "start_time": "2024-05-25T10:34:34.520Z"
   },
   {
    "duration": 127,
    "start_time": "2024-05-25T10:34:41.540Z"
   },
   {
    "duration": 5835,
    "start_time": "2024-05-25T10:35:54.841Z"
   },
   {
    "duration": 1467,
    "start_time": "2024-05-25T10:36:00.678Z"
   },
   {
    "duration": 6,
    "start_time": "2024-05-25T10:36:02.147Z"
   },
   {
    "duration": 25,
    "start_time": "2024-05-25T10:36:02.155Z"
   },
   {
    "duration": 1160,
    "start_time": "2024-05-25T10:36:02.182Z"
   },
   {
    "duration": 425,
    "start_time": "2024-05-25T10:36:03.343Z"
   },
   {
    "duration": 37,
    "start_time": "2024-05-25T10:36:03.769Z"
   },
   {
    "duration": 111,
    "start_time": "2024-05-25T10:36:03.808Z"
   },
   {
    "duration": 460,
    "start_time": "2024-05-25T10:36:03.921Z"
   },
   {
    "duration": 120,
    "start_time": "2024-05-25T10:36:04.383Z"
   },
   {
    "duration": 208,
    "start_time": "2024-05-25T10:36:04.504Z"
   },
   {
    "duration": 5853,
    "start_time": "2024-05-25T10:36:04.714Z"
   },
   {
    "duration": 63340,
    "start_time": "2024-05-25T10:36:10.569Z"
   },
   {
    "duration": 111,
    "start_time": "2024-05-25T10:37:13.910Z"
   },
   {
    "duration": 5177,
    "start_time": "2024-05-25T10:37:14.023Z"
   },
   {
    "duration": 107,
    "start_time": "2024-05-25T10:37:19.202Z"
   },
   {
    "duration": 54,
    "start_time": "2024-05-25T10:37:19.311Z"
   },
   {
    "duration": 30,
    "start_time": "2024-05-25T10:37:19.381Z"
   },
   {
    "duration": 106,
    "start_time": "2024-05-25T10:37:19.412Z"
   },
   {
    "duration": 64528,
    "start_time": "2024-05-25T10:37:19.519Z"
   },
   {
    "duration": 104,
    "start_time": "2024-05-25T10:38:24.049Z"
   },
   {
    "duration": 206,
    "start_time": "2024-05-25T10:38:24.155Z"
   },
   {
    "duration": 6,
    "start_time": "2024-05-25T10:38:24.362Z"
   },
   {
    "duration": 82,
    "start_time": "2024-05-25T10:38:24.369Z"
   },
   {
    "duration": 13,
    "start_time": "2024-05-25T10:38:24.453Z"
   },
   {
    "duration": 4,
    "start_time": "2024-05-25T10:38:24.467Z"
   },
   {
    "duration": 5580,
    "start_time": "2024-05-25T10:38:24.473Z"
   },
   {
    "duration": 25,
    "start_time": "2024-05-25T10:38:30.057Z"
   },
   {
    "duration": 5728,
    "start_time": "2024-05-25T10:38:30.084Z"
   },
   {
    "duration": 5304,
    "start_time": "2024-05-25T10:38:35.814Z"
   },
   {
    "duration": 4407,
    "start_time": "2024-05-25T10:38:41.120Z"
   },
   {
    "duration": 62,
    "start_time": "2024-05-25T10:38:45.528Z"
   },
   {
    "duration": 21,
    "start_time": "2024-05-25T10:38:45.591Z"
   },
   {
    "duration": 50,
    "start_time": "2024-05-25T10:40:27.158Z"
   },
   {
    "duration": 34,
    "start_time": "2024-05-25T10:40:34.503Z"
   },
   {
    "duration": 22,
    "start_time": "2024-05-25T10:40:40.165Z"
   },
   {
    "duration": 44,
    "start_time": "2024-05-25T10:40:57.377Z"
   },
   {
    "duration": 25,
    "start_time": "2024-05-25T10:48:07.150Z"
   },
   {
    "duration": 31,
    "start_time": "2024-05-25T10:48:15.267Z"
   },
   {
    "duration": 46,
    "start_time": "2024-05-25T10:48:43.278Z"
   },
   {
    "duration": 10074,
    "start_time": "2024-05-25T10:51:55.734Z"
   },
   {
    "duration": 3,
    "start_time": "2024-05-25T10:53:06.466Z"
   },
   {
    "duration": 793,
    "start_time": "2024-05-25T10:53:14.407Z"
   },
   {
    "duration": 6108,
    "start_time": "2024-05-25T10:54:37.191Z"
   },
   {
    "duration": 1489,
    "start_time": "2024-05-25T10:54:43.301Z"
   },
   {
    "duration": 7,
    "start_time": "2024-05-25T10:54:45.756Z"
   },
   {
    "duration": 3,
    "start_time": "2024-05-25T10:54:47.222Z"
   },
   {
    "duration": 1268,
    "start_time": "2024-05-25T10:54:48.462Z"
   },
   {
    "duration": 168,
    "start_time": "2024-05-25T10:54:55.498Z"
   },
   {
    "duration": 294,
    "start_time": "2024-05-25T10:55:13.596Z"
   },
   {
    "duration": 3,
    "start_time": "2024-05-25T10:55:50.813Z"
   },
   {
    "duration": 1164,
    "start_time": "2024-05-25T10:55:56.938Z"
   },
   {
    "duration": 6044,
    "start_time": "2024-05-25T11:49:53.259Z"
   },
   {
    "duration": 1664,
    "start_time": "2024-05-25T11:49:59.305Z"
   },
   {
    "duration": 6,
    "start_time": "2024-05-25T11:50:00.971Z"
   },
   {
    "duration": 58,
    "start_time": "2024-05-25T11:50:00.978Z"
   },
   {
    "duration": 1324,
    "start_time": "2024-05-25T11:50:01.038Z"
   },
   {
    "duration": 444,
    "start_time": "2024-05-25T11:50:02.363Z"
   },
   {
    "duration": 32,
    "start_time": "2024-05-25T11:50:02.809Z"
   },
   {
    "duration": 253,
    "start_time": "2024-05-25T11:50:02.843Z"
   },
   {
    "duration": 503,
    "start_time": "2024-05-25T11:50:03.097Z"
   },
   {
    "duration": 117,
    "start_time": "2024-05-25T11:50:03.602Z"
   },
   {
    "duration": 28,
    "start_time": "2024-05-25T11:50:03.721Z"
   },
   {
    "duration": 173,
    "start_time": "2024-05-25T11:50:03.751Z"
   },
   {
    "duration": 6131,
    "start_time": "2024-05-25T11:50:03.926Z"
   },
   {
    "duration": 68154,
    "start_time": "2024-05-25T11:50:10.060Z"
   },
   {
    "duration": 113,
    "start_time": "2024-05-25T11:51:18.215Z"
   },
   {
    "duration": 5537,
    "start_time": "2024-05-25T11:51:18.330Z"
   },
   {
    "duration": 126,
    "start_time": "2024-05-25T11:51:23.868Z"
   },
   {
    "duration": 51,
    "start_time": "2024-05-25T11:51:23.996Z"
   },
   {
    "duration": 43,
    "start_time": "2024-05-25T11:51:24.049Z"
   },
   {
    "duration": 61,
    "start_time": "2024-05-25T11:51:24.093Z"
   },
   {
    "duration": 69728,
    "start_time": "2024-05-25T11:51:24.156Z"
   },
   {
    "duration": 106,
    "start_time": "2024-05-25T11:52:33.885Z"
   },
   {
    "duration": 244,
    "start_time": "2024-05-25T11:52:33.992Z"
   },
   {
    "duration": 6,
    "start_time": "2024-05-25T11:52:34.238Z"
   },
   {
    "duration": 59,
    "start_time": "2024-05-25T11:52:34.246Z"
   },
   {
    "duration": 11,
    "start_time": "2024-05-25T11:52:34.306Z"
   },
   {
    "duration": 4,
    "start_time": "2024-05-25T11:52:34.318Z"
   },
   {
    "duration": 5873,
    "start_time": "2024-05-25T11:52:34.324Z"
   },
   {
    "duration": 20,
    "start_time": "2024-05-25T11:52:40.200Z"
   },
   {
    "duration": 5894,
    "start_time": "2024-05-25T11:52:40.221Z"
   },
   {
    "duration": 52,
    "start_time": "2024-05-25T11:52:46.117Z"
   },
   {
    "duration": 0,
    "start_time": "2024-05-25T11:52:46.171Z"
   },
   {
    "duration": 0,
    "start_time": "2024-05-25T11:52:46.172Z"
   },
   {
    "duration": 0,
    "start_time": "2024-05-25T11:52:46.173Z"
   },
   {
    "duration": 0,
    "start_time": "2024-05-25T11:52:46.174Z"
   },
   {
    "duration": 0,
    "start_time": "2024-05-25T11:52:46.175Z"
   },
   {
    "duration": 5758,
    "start_time": "2024-05-25T11:55:04.313Z"
   },
   {
    "duration": 4885,
    "start_time": "2024-05-25T11:55:10.081Z"
   },
   {
    "duration": 24,
    "start_time": "2024-05-25T11:55:14.967Z"
   },
   {
    "duration": 18,
    "start_time": "2024-05-25T11:55:14.993Z"
   },
   {
    "duration": 165,
    "start_time": "2024-05-25T11:55:15.013Z"
   },
   {
    "duration": 5,
    "start_time": "2024-05-25T11:55:15.183Z"
   },
   {
    "duration": 4,
    "start_time": "2024-05-25T12:01:22.056Z"
   },
   {
    "duration": 5,
    "start_time": "2024-05-25T12:01:55.473Z"
   },
   {
    "duration": 184,
    "start_time": "2024-05-25T12:03:06.060Z"
   },
   {
    "duration": 140,
    "start_time": "2024-05-25T12:03:17.487Z"
   },
   {
    "duration": 166,
    "start_time": "2024-05-25T12:03:33.077Z"
   },
   {
    "duration": 65,
    "start_time": "2024-05-25T12:13:56.091Z"
   },
   {
    "duration": 27,
    "start_time": "2024-05-25T12:58:04.678Z"
   },
   {
    "duration": 5,
    "start_time": "2024-05-25T13:42:05.429Z"
   },
   {
    "duration": 171,
    "start_time": "2024-05-25T13:42:06.531Z"
   },
   {
    "duration": 143,
    "start_time": "2024-05-25T13:42:08.014Z"
   },
   {
    "duration": 70,
    "start_time": "2024-05-25T13:42:45.789Z"
   },
   {
    "duration": 53,
    "start_time": "2024-05-25T13:43:13.995Z"
   },
   {
    "duration": 53,
    "start_time": "2024-05-25T13:43:23.753Z"
   },
   {
    "duration": 71,
    "start_time": "2024-05-25T13:43:57.121Z"
   },
   {
    "duration": 714,
    "start_time": "2024-05-25T13:44:02.475Z"
   },
   {
    "duration": 93,
    "start_time": "2024-05-25T13:48:45.315Z"
   },
   {
    "duration": 17,
    "start_time": "2024-05-25T13:51:14.832Z"
   },
   {
    "duration": 16,
    "start_time": "2024-05-25T13:53:39.181Z"
   },
   {
    "duration": 8,
    "start_time": "2024-05-25T13:54:21.770Z"
   },
   {
    "duration": 5138,
    "start_time": "2024-05-25T13:54:27.178Z"
   },
   {
    "duration": 15,
    "start_time": "2024-05-25T13:56:01.050Z"
   },
   {
    "duration": 6,
    "start_time": "2024-05-25T13:56:16.563Z"
   },
   {
    "duration": 3,
    "start_time": "2024-05-25T13:58:33.196Z"
   },
   {
    "duration": 67,
    "start_time": "2024-05-25T13:58:41.218Z"
   },
   {
    "duration": 256993,
    "start_time": "2024-05-25T13:58:42.787Z"
   },
   {
    "duration": 5874,
    "start_time": "2024-05-25T14:27:46.305Z"
   },
   {
    "duration": 1535,
    "start_time": "2024-05-25T14:27:52.181Z"
   },
   {
    "duration": 5,
    "start_time": "2024-05-25T14:27:53.718Z"
   },
   {
    "duration": 21,
    "start_time": "2024-05-25T14:27:53.726Z"
   },
   {
    "duration": 1243,
    "start_time": "2024-05-25T14:27:53.749Z"
   },
   {
    "duration": 468,
    "start_time": "2024-05-25T14:27:54.994Z"
   },
   {
    "duration": 41,
    "start_time": "2024-05-25T14:27:55.464Z"
   },
   {
    "duration": 206,
    "start_time": "2024-05-25T14:27:55.506Z"
   },
   {
    "duration": 510,
    "start_time": "2024-05-25T14:27:55.714Z"
   },
   {
    "duration": 121,
    "start_time": "2024-05-25T14:27:56.228Z"
   },
   {
    "duration": 36,
    "start_time": "2024-05-25T14:27:56.350Z"
   },
   {
    "duration": 172,
    "start_time": "2024-05-25T14:27:56.387Z"
   },
   {
    "duration": 6254,
    "start_time": "2024-05-25T14:27:56.561Z"
   },
   {
    "duration": 64307,
    "start_time": "2024-05-25T14:28:02.817Z"
   },
   {
    "duration": 99,
    "start_time": "2024-05-25T14:29:07.125Z"
   },
   {
    "duration": 5163,
    "start_time": "2024-05-25T14:29:07.225Z"
   },
   {
    "duration": 108,
    "start_time": "2024-05-25T14:29:12.389Z"
   },
   {
    "duration": 50,
    "start_time": "2024-05-25T14:29:12.499Z"
   },
   {
    "duration": 42,
    "start_time": "2024-05-25T14:29:12.550Z"
   },
   {
    "duration": 68,
    "start_time": "2024-05-25T14:29:12.593Z"
   },
   {
    "duration": 63434,
    "start_time": "2024-05-25T14:29:12.663Z"
   },
   {
    "duration": 100,
    "start_time": "2024-05-25T14:30:16.099Z"
   },
   {
    "duration": 234,
    "start_time": "2024-05-25T14:30:16.200Z"
   },
   {
    "duration": 6,
    "start_time": "2024-05-25T14:30:16.436Z"
   },
   {
    "duration": 56,
    "start_time": "2024-05-25T14:30:16.443Z"
   },
   {
    "duration": 10,
    "start_time": "2024-05-25T14:30:16.501Z"
   },
   {
    "duration": 46,
    "start_time": "2024-05-25T14:30:16.512Z"
   },
   {
    "duration": 5488,
    "start_time": "2024-05-25T14:30:16.563Z"
   },
   {
    "duration": 27,
    "start_time": "2024-05-25T14:30:22.053Z"
   },
   {
    "duration": 5587,
    "start_time": "2024-05-25T14:30:22.082Z"
   },
   {
    "duration": 5166,
    "start_time": "2024-05-25T14:30:27.670Z"
   },
   {
    "duration": 4540,
    "start_time": "2024-05-25T14:30:32.837Z"
   },
   {
    "duration": 16,
    "start_time": "2024-05-25T14:30:37.379Z"
   },
   {
    "duration": 21,
    "start_time": "2024-05-25T14:30:37.397Z"
   },
   {
    "duration": 3,
    "start_time": "2024-05-25T14:30:37.420Z"
   },
   {
    "duration": 74,
    "start_time": "2024-05-25T14:30:37.424Z"
   },
   {
    "duration": 62229,
    "start_time": "2024-05-25T14:30:37.500Z"
   },
   {
    "duration": 265997,
    "start_time": "2024-05-25T19:12:35.248Z"
   },
   {
    "duration": 235390,
    "start_time": "2024-05-25T19:25:56.651Z"
   },
   {
    "duration": 9731,
    "start_time": "2024-05-26T09:57:00.423Z"
   },
   {
    "duration": 1592,
    "start_time": "2024-05-26T09:57:10.157Z"
   },
   {
    "duration": 5,
    "start_time": "2024-05-26T09:57:11.751Z"
   },
   {
    "duration": 25,
    "start_time": "2024-05-26T09:57:11.759Z"
   },
   {
    "duration": 3068,
    "start_time": "2024-05-26T09:57:11.786Z"
   },
   {
    "duration": 424,
    "start_time": "2024-05-26T09:57:14.855Z"
   },
   {
    "duration": 35,
    "start_time": "2024-05-26T09:57:15.281Z"
   },
   {
    "duration": 189,
    "start_time": "2024-05-26T09:57:15.318Z"
   },
   {
    "duration": 453,
    "start_time": "2024-05-26T09:57:15.509Z"
   },
   {
    "duration": 93,
    "start_time": "2024-05-26T09:57:15.966Z"
   },
   {
    "duration": 36,
    "start_time": "2024-05-26T09:57:16.061Z"
   },
   {
    "duration": 130,
    "start_time": "2024-05-26T09:57:16.099Z"
   },
   {
    "duration": 5353,
    "start_time": "2024-05-26T09:57:16.231Z"
   },
   {
    "duration": 57247,
    "start_time": "2024-05-26T09:57:21.585Z"
   },
   {
    "duration": 114,
    "start_time": "2024-05-26T09:58:18.835Z"
   },
   {
    "duration": 4874,
    "start_time": "2024-05-26T09:58:18.951Z"
   },
   {
    "duration": 114,
    "start_time": "2024-05-26T09:58:23.826Z"
   },
   {
    "duration": 58,
    "start_time": "2024-05-26T09:58:23.941Z"
   },
   {
    "duration": 25,
    "start_time": "2024-05-26T09:58:24.001Z"
   },
   {
    "duration": 64,
    "start_time": "2024-05-26T09:58:24.027Z"
   },
   {
    "duration": 56250,
    "start_time": "2024-05-26T09:58:24.094Z"
   },
   {
    "duration": 86,
    "start_time": "2024-05-26T09:59:20.345Z"
   },
   {
    "duration": 217,
    "start_time": "2024-05-26T09:59:20.433Z"
   },
   {
    "duration": 15,
    "start_time": "2024-05-26T09:59:20.652Z"
   },
   {
    "duration": 33,
    "start_time": "2024-05-26T09:59:20.669Z"
   },
   {
    "duration": 8,
    "start_time": "2024-05-26T09:59:20.704Z"
   },
   {
    "duration": 18,
    "start_time": "2024-05-26T09:59:20.714Z"
   },
   {
    "duration": 5002,
    "start_time": "2024-05-26T09:59:20.736Z"
   },
   {
    "duration": 25,
    "start_time": "2024-05-26T09:59:25.740Z"
   },
   {
    "duration": 5175,
    "start_time": "2024-05-26T09:59:25.767Z"
   },
   {
    "duration": 4617,
    "start_time": "2024-05-26T09:59:30.943Z"
   },
   {
    "duration": 4043,
    "start_time": "2024-05-26T09:59:35.561Z"
   },
   {
    "duration": 11,
    "start_time": "2024-05-26T09:59:39.606Z"
   },
   {
    "duration": 41,
    "start_time": "2024-05-26T09:59:39.619Z"
   },
   {
    "duration": 3,
    "start_time": "2024-05-26T09:59:39.661Z"
   },
   {
    "duration": 52,
    "start_time": "2024-05-26T09:59:39.665Z"
   },
   {
    "duration": 47,
    "start_time": "2024-05-26T10:27:37.201Z"
   },
   {
    "duration": 5056,
    "start_time": "2024-05-26T10:27:42.714Z"
   },
   {
    "duration": 1371,
    "start_time": "2024-05-26T10:27:47.773Z"
   },
   {
    "duration": 5,
    "start_time": "2024-05-26T10:27:49.146Z"
   },
   {
    "duration": 7,
    "start_time": "2024-05-26T10:27:49.153Z"
   },
   {
    "duration": 993,
    "start_time": "2024-05-26T10:27:49.161Z"
   },
   {
    "duration": 368,
    "start_time": "2024-05-26T10:27:50.156Z"
   },
   {
    "duration": 28,
    "start_time": "2024-05-26T10:27:50.526Z"
   },
   {
    "duration": 172,
    "start_time": "2024-05-26T10:27:50.555Z"
   },
   {
    "duration": 416,
    "start_time": "2024-05-26T10:27:50.729Z"
   },
   {
    "duration": 92,
    "start_time": "2024-05-26T10:27:51.146Z"
   },
   {
    "duration": 25,
    "start_time": "2024-05-26T10:27:51.240Z"
   },
   {
    "duration": 149,
    "start_time": "2024-05-26T10:27:51.267Z"
   },
   {
    "duration": 5078,
    "start_time": "2024-05-26T10:27:51.418Z"
   },
   {
    "duration": 54081,
    "start_time": "2024-05-26T10:27:56.498Z"
   },
   {
    "duration": 91,
    "start_time": "2024-05-26T10:28:50.580Z"
   },
   {
    "duration": 4349,
    "start_time": "2024-05-26T10:28:50.673Z"
   },
   {
    "duration": 92,
    "start_time": "2024-05-26T10:28:55.024Z"
   },
   {
    "duration": 52,
    "start_time": "2024-05-26T10:28:55.117Z"
   },
   {
    "duration": 24,
    "start_time": "2024-05-26T10:28:55.170Z"
   },
   {
    "duration": 71,
    "start_time": "2024-05-26T10:28:55.196Z"
   },
   {
    "duration": 55602,
    "start_time": "2024-05-26T10:28:55.269Z"
   },
   {
    "duration": 93,
    "start_time": "2024-05-26T10:29:50.873Z"
   },
   {
    "duration": 211,
    "start_time": "2024-05-26T10:29:50.967Z"
   },
   {
    "duration": 6,
    "start_time": "2024-05-26T10:29:51.180Z"
   },
   {
    "duration": 46,
    "start_time": "2024-05-26T10:29:51.188Z"
   },
   {
    "duration": 8,
    "start_time": "2024-05-26T10:29:51.236Z"
   },
   {
    "duration": 20,
    "start_time": "2024-05-26T10:29:51.245Z"
   },
   {
    "duration": 5107,
    "start_time": "2024-05-26T10:29:51.267Z"
   },
   {
    "duration": 16,
    "start_time": "2024-05-26T10:29:56.376Z"
   },
   {
    "duration": 5118,
    "start_time": "2024-05-26T10:29:56.394Z"
   },
   {
    "duration": 4595,
    "start_time": "2024-05-26T10:30:01.514Z"
   },
   {
    "duration": 3819,
    "start_time": "2024-05-26T10:30:06.110Z"
   },
   {
    "duration": 16,
    "start_time": "2024-05-26T10:30:09.931Z"
   },
   {
    "duration": 33,
    "start_time": "2024-05-26T10:30:09.949Z"
   },
   {
    "duration": 3,
    "start_time": "2024-05-26T10:30:09.983Z"
   },
   {
    "duration": 58,
    "start_time": "2024-05-26T10:30:09.988Z"
   },
   {
    "duration": 104487,
    "start_time": "2024-05-26T10:30:10.047Z"
   },
   {
    "duration": 5087,
    "start_time": "2024-05-26T10:35:18.319Z"
   },
   {
    "duration": 1370,
    "start_time": "2024-05-26T10:35:23.408Z"
   },
   {
    "duration": 5,
    "start_time": "2024-05-26T10:35:24.780Z"
   },
   {
    "duration": 8,
    "start_time": "2024-05-26T10:35:24.787Z"
   },
   {
    "duration": 953,
    "start_time": "2024-05-26T10:35:24.797Z"
   },
   {
    "duration": 386,
    "start_time": "2024-05-26T10:35:25.752Z"
   },
   {
    "duration": 33,
    "start_time": "2024-05-26T10:35:26.140Z"
   },
   {
    "duration": 190,
    "start_time": "2024-05-26T10:35:26.175Z"
   },
   {
    "duration": 385,
    "start_time": "2024-05-26T10:35:26.367Z"
   },
   {
    "duration": 91,
    "start_time": "2024-05-26T10:35:26.755Z"
   },
   {
    "duration": 29,
    "start_time": "2024-05-26T10:35:26.848Z"
   },
   {
    "duration": 124,
    "start_time": "2024-05-26T10:35:26.879Z"
   },
   {
    "duration": 5213,
    "start_time": "2024-05-26T10:35:27.004Z"
   },
   {
    "duration": 54931,
    "start_time": "2024-05-26T10:35:32.219Z"
   },
   {
    "duration": 93,
    "start_time": "2024-05-26T10:36:27.152Z"
   },
   {
    "duration": 4516,
    "start_time": "2024-05-26T10:36:27.246Z"
   },
   {
    "duration": 88,
    "start_time": "2024-05-26T10:36:31.764Z"
   },
   {
    "duration": 56,
    "start_time": "2024-05-26T10:36:31.853Z"
   },
   {
    "duration": 26,
    "start_time": "2024-05-26T10:36:31.911Z"
   },
   {
    "duration": 73,
    "start_time": "2024-05-26T10:36:31.939Z"
   },
   {
    "duration": 55838,
    "start_time": "2024-05-26T10:36:32.014Z"
   },
   {
    "duration": 87,
    "start_time": "2024-05-26T10:37:27.854Z"
   },
   {
    "duration": 199,
    "start_time": "2024-05-26T10:37:27.942Z"
   },
   {
    "duration": 5,
    "start_time": "2024-05-26T10:37:28.142Z"
   },
   {
    "duration": 47,
    "start_time": "2024-05-26T10:37:28.148Z"
   },
   {
    "duration": 9,
    "start_time": "2024-05-26T10:37:28.197Z"
   },
   {
    "duration": 3,
    "start_time": "2024-05-26T10:37:28.208Z"
   },
   {
    "duration": 4921,
    "start_time": "2024-05-26T10:37:28.213Z"
   },
   {
    "duration": 29,
    "start_time": "2024-05-26T10:37:33.136Z"
   },
   {
    "duration": 5062,
    "start_time": "2024-05-26T10:37:33.166Z"
   },
   {
    "duration": 4474,
    "start_time": "2024-05-26T10:37:38.229Z"
   },
   {
    "duration": 3879,
    "start_time": "2024-05-26T10:37:42.705Z"
   },
   {
    "duration": 13,
    "start_time": "2024-05-26T10:37:46.586Z"
   },
   {
    "duration": 26,
    "start_time": "2024-05-26T10:37:46.600Z"
   },
   {
    "duration": 3,
    "start_time": "2024-05-26T10:37:46.627Z"
   },
   {
    "duration": 80,
    "start_time": "2024-05-26T10:37:46.631Z"
   },
   {
    "duration": 1135,
    "start_time": "2024-05-26T10:37:46.713Z"
   },
   {
    "duration": 5078,
    "start_time": "2024-05-26T10:38:36.116Z"
   },
   {
    "duration": 1298,
    "start_time": "2024-05-26T10:38:41.197Z"
   },
   {
    "duration": 5,
    "start_time": "2024-05-26T10:38:42.497Z"
   },
   {
    "duration": 6,
    "start_time": "2024-05-26T10:38:42.504Z"
   },
   {
    "duration": 978,
    "start_time": "2024-05-26T10:38:42.512Z"
   },
   {
    "duration": 387,
    "start_time": "2024-05-26T10:38:43.492Z"
   },
   {
    "duration": 32,
    "start_time": "2024-05-26T10:38:43.881Z"
   },
   {
    "duration": 171,
    "start_time": "2024-05-26T10:38:43.915Z"
   },
   {
    "duration": 423,
    "start_time": "2024-05-26T10:38:44.087Z"
   },
   {
    "duration": 101,
    "start_time": "2024-05-26T10:38:44.512Z"
   },
   {
    "duration": 25,
    "start_time": "2024-05-26T10:38:44.615Z"
   },
   {
    "duration": 136,
    "start_time": "2024-05-26T10:38:44.641Z"
   },
   {
    "duration": 5202,
    "start_time": "2024-05-26T10:38:44.778Z"
   },
   {
    "duration": 53841,
    "start_time": "2024-05-26T10:38:49.982Z"
   },
   {
    "duration": 89,
    "start_time": "2024-05-26T10:39:43.825Z"
   },
   {
    "duration": 4445,
    "start_time": "2024-05-26T10:39:43.916Z"
   },
   {
    "duration": 86,
    "start_time": "2024-05-26T10:39:48.362Z"
   },
   {
    "duration": 59,
    "start_time": "2024-05-26T10:39:48.450Z"
   },
   {
    "duration": 31,
    "start_time": "2024-05-26T10:39:48.511Z"
   },
   {
    "duration": 95,
    "start_time": "2024-05-26T10:39:48.543Z"
   },
   {
    "duration": 55112,
    "start_time": "2024-05-26T10:39:48.640Z"
   },
   {
    "duration": 92,
    "start_time": "2024-05-26T10:40:43.753Z"
   },
   {
    "duration": 208,
    "start_time": "2024-05-26T10:40:43.847Z"
   },
   {
    "duration": 8,
    "start_time": "2024-05-26T10:40:44.057Z"
   },
   {
    "duration": 34,
    "start_time": "2024-05-26T10:40:44.067Z"
   },
   {
    "duration": 8,
    "start_time": "2024-05-26T10:40:44.102Z"
   },
   {
    "duration": 2,
    "start_time": "2024-05-26T10:40:44.112Z"
   },
   {
    "duration": 5110,
    "start_time": "2024-05-26T10:40:44.116Z"
   },
   {
    "duration": 17,
    "start_time": "2024-05-26T10:40:49.228Z"
   },
   {
    "duration": 5137,
    "start_time": "2024-05-26T10:40:49.246Z"
   },
   {
    "duration": 4455,
    "start_time": "2024-05-26T10:40:54.385Z"
   },
   {
    "duration": 4089,
    "start_time": "2024-05-26T10:40:58.842Z"
   },
   {
    "duration": 39,
    "start_time": "2024-05-26T10:41:02.933Z"
   },
   {
    "duration": 24,
    "start_time": "2024-05-26T10:41:02.974Z"
   },
   {
    "duration": 3,
    "start_time": "2024-05-26T10:41:03.000Z"
   },
   {
    "duration": 80,
    "start_time": "2024-05-26T10:41:03.004Z"
   },
   {
    "duration": 2213,
    "start_time": "2024-05-26T10:41:03.085Z"
   },
   {
    "duration": 9,
    "start_time": "2024-05-26T10:46:00.508Z"
   },
   {
    "duration": 3,
    "start_time": "2024-05-26T10:46:11.568Z"
   },
   {
    "duration": 63,
    "start_time": "2024-05-26T10:46:22.107Z"
   },
   {
    "duration": 2237,
    "start_time": "2024-05-26T10:46:48.179Z"
   },
   {
    "duration": 14,
    "start_time": "2024-05-26T10:47:53.435Z"
   },
   {
    "duration": 13,
    "start_time": "2024-05-26T10:48:00.779Z"
   },
   {
    "duration": 3,
    "start_time": "2024-05-26T10:49:35.930Z"
   },
   {
    "duration": 3,
    "start_time": "2024-05-26T10:49:44.406Z"
   },
   {
    "duration": 3,
    "start_time": "2024-05-26T10:49:59.610Z"
   },
   {
    "duration": 2147,
    "start_time": "2024-05-26T10:50:05.973Z"
   },
   {
    "duration": 17,
    "start_time": "2024-05-26T10:50:54.572Z"
   },
   {
    "duration": 5001,
    "start_time": "2024-05-26T10:51:39.689Z"
   },
   {
    "duration": 1344,
    "start_time": "2024-05-26T10:51:44.692Z"
   },
   {
    "duration": 6,
    "start_time": "2024-05-26T10:51:46.038Z"
   },
   {
    "duration": 5,
    "start_time": "2024-05-26T10:51:46.046Z"
   },
   {
    "duration": 1018,
    "start_time": "2024-05-26T10:51:46.052Z"
   },
   {
    "duration": 385,
    "start_time": "2024-05-26T10:51:47.072Z"
   },
   {
    "duration": 32,
    "start_time": "2024-05-26T10:51:47.458Z"
   },
   {
    "duration": 169,
    "start_time": "2024-05-26T10:51:47.492Z"
   },
   {
    "duration": 405,
    "start_time": "2024-05-26T10:51:47.665Z"
   },
   {
    "duration": 102,
    "start_time": "2024-05-26T10:51:48.073Z"
   },
   {
    "duration": 25,
    "start_time": "2024-05-26T10:51:48.176Z"
   },
   {
    "duration": 142,
    "start_time": "2024-05-26T10:51:48.203Z"
   },
   {
    "duration": 5261,
    "start_time": "2024-05-26T10:51:48.347Z"
   },
   {
    "duration": 54958,
    "start_time": "2024-05-26T10:51:53.609Z"
   },
   {
    "duration": 85,
    "start_time": "2024-05-26T10:52:48.569Z"
   },
   {
    "duration": 4495,
    "start_time": "2024-05-26T10:52:48.664Z"
   },
   {
    "duration": 85,
    "start_time": "2024-05-26T10:52:53.161Z"
   },
   {
    "duration": 53,
    "start_time": "2024-05-26T10:52:53.248Z"
   },
   {
    "duration": 26,
    "start_time": "2024-05-26T10:52:53.303Z"
   },
   {
    "duration": 71,
    "start_time": "2024-05-26T10:52:53.330Z"
   },
   {
    "duration": 56099,
    "start_time": "2024-05-26T10:52:53.403Z"
   },
   {
    "duration": 87,
    "start_time": "2024-05-26T10:53:49.503Z"
   },
   {
    "duration": 214,
    "start_time": "2024-05-26T10:53:49.591Z"
   },
   {
    "duration": 7,
    "start_time": "2024-05-26T10:53:49.807Z"
   },
   {
    "duration": 54,
    "start_time": "2024-05-26T10:53:49.816Z"
   },
   {
    "duration": 16,
    "start_time": "2024-05-26T10:53:49.872Z"
   },
   {
    "duration": 3,
    "start_time": "2024-05-26T10:53:49.890Z"
   },
   {
    "duration": 5007,
    "start_time": "2024-05-26T10:53:49.897Z"
   },
   {
    "duration": 18,
    "start_time": "2024-05-26T10:53:54.905Z"
   },
   {
    "duration": 5157,
    "start_time": "2024-05-26T10:53:54.925Z"
   },
   {
    "duration": 4634,
    "start_time": "2024-05-26T10:54:00.084Z"
   },
   {
    "duration": 4014,
    "start_time": "2024-05-26T10:54:04.719Z"
   },
   {
    "duration": 19,
    "start_time": "2024-05-26T10:54:08.735Z"
   },
   {
    "duration": 27,
    "start_time": "2024-05-26T10:54:08.765Z"
   },
   {
    "duration": 3,
    "start_time": "2024-05-26T10:54:08.793Z"
   },
   {
    "duration": 73,
    "start_time": "2024-05-26T10:54:08.798Z"
   },
   {
    "duration": 2176,
    "start_time": "2024-05-26T10:54:08.873Z"
   },
   {
    "duration": 5076,
    "start_time": "2024-05-26T21:42:18.208Z"
   },
   {
    "duration": 1296,
    "start_time": "2024-05-26T21:42:23.287Z"
   },
   {
    "duration": 5,
    "start_time": "2024-05-26T21:42:24.585Z"
   },
   {
    "duration": 3,
    "start_time": "2024-05-26T21:42:24.592Z"
   },
   {
    "duration": 1042,
    "start_time": "2024-05-26T21:42:24.596Z"
   },
   {
    "duration": 392,
    "start_time": "2024-05-26T21:42:25.640Z"
   },
   {
    "duration": 35,
    "start_time": "2024-05-26T21:42:26.033Z"
   },
   {
    "duration": 96,
    "start_time": "2024-05-26T21:42:26.070Z"
   },
   {
    "duration": 401,
    "start_time": "2024-05-26T21:42:26.168Z"
   },
   {
    "duration": 94,
    "start_time": "2024-05-26T21:42:26.572Z"
   },
   {
    "duration": 33,
    "start_time": "2024-05-26T21:42:26.667Z"
   },
   {
    "duration": 135,
    "start_time": "2024-05-26T21:42:26.702Z"
   },
   {
    "duration": 5154,
    "start_time": "2024-05-26T21:42:26.838Z"
   },
   {
    "duration": 55093,
    "start_time": "2024-05-26T21:42:31.993Z"
   },
   {
    "duration": 85,
    "start_time": "2024-05-26T21:43:27.087Z"
   },
   {
    "duration": 4508,
    "start_time": "2024-05-26T21:43:27.174Z"
   },
   {
    "duration": 86,
    "start_time": "2024-05-26T21:43:31.683Z"
   },
   {
    "duration": 50,
    "start_time": "2024-05-26T21:43:31.771Z"
   },
   {
    "duration": 27,
    "start_time": "2024-05-26T21:43:31.823Z"
   },
   {
    "duration": 72,
    "start_time": "2024-05-26T21:43:31.866Z"
   },
   {
    "duration": 55825,
    "start_time": "2024-05-26T21:43:31.940Z"
   },
   {
    "duration": 114,
    "start_time": "2024-05-26T21:44:27.767Z"
   },
   {
    "duration": 205,
    "start_time": "2024-05-26T21:44:27.883Z"
   },
   {
    "duration": 5,
    "start_time": "2024-05-26T21:44:28.090Z"
   },
   {
    "duration": 35,
    "start_time": "2024-05-26T21:44:28.097Z"
   },
   {
    "duration": 9,
    "start_time": "2024-05-26T21:44:28.134Z"
   },
   {
    "duration": 22,
    "start_time": "2024-05-26T21:44:28.144Z"
   },
   {
    "duration": 5022,
    "start_time": "2024-05-26T21:44:28.168Z"
   },
   {
    "duration": 18,
    "start_time": "2024-05-26T21:44:33.191Z"
   },
   {
    "duration": 4969,
    "start_time": "2024-05-26T21:44:33.211Z"
   },
   {
    "duration": 4520,
    "start_time": "2024-05-26T21:44:38.182Z"
   },
   {
    "duration": 3944,
    "start_time": "2024-05-26T21:44:42.704Z"
   },
   {
    "duration": 18,
    "start_time": "2024-05-26T21:44:46.649Z"
   },
   {
    "duration": 16,
    "start_time": "2024-05-26T21:44:46.668Z"
   },
   {
    "duration": 3,
    "start_time": "2024-05-26T21:44:46.685Z"
   },
   {
    "duration": 82,
    "start_time": "2024-05-26T21:44:46.690Z"
   },
   {
    "duration": 2126,
    "start_time": "2024-05-26T21:44:46.774Z"
   },
   {
    "duration": 15,
    "start_time": "2024-05-26T21:57:31.377Z"
   },
   {
    "duration": 4,
    "start_time": "2024-05-26T21:58:38.407Z"
   },
   {
    "duration": 21,
    "start_time": "2024-05-26T22:04:55.385Z"
   },
   {
    "duration": 20,
    "start_time": "2024-05-26T22:05:42.527Z"
   },
   {
    "duration": 2135,
    "start_time": "2024-05-26T22:06:06.194Z"
   },
   {
    "duration": 3,
    "start_time": "2024-05-26T22:08:06.096Z"
   },
   {
    "duration": 5109,
    "start_time": "2024-05-26T22:08:48.726Z"
   },
   {
    "duration": 1351,
    "start_time": "2024-05-26T22:08:53.838Z"
   },
   {
    "duration": 5,
    "start_time": "2024-05-26T22:08:55.191Z"
   },
   {
    "duration": 7,
    "start_time": "2024-05-26T22:08:55.197Z"
   },
   {
    "duration": 1026,
    "start_time": "2024-05-26T22:08:55.206Z"
   },
   {
    "duration": 383,
    "start_time": "2024-05-26T22:08:56.233Z"
   },
   {
    "duration": 30,
    "start_time": "2024-05-26T22:08:56.618Z"
   },
   {
    "duration": 100,
    "start_time": "2024-05-26T22:08:56.649Z"
   },
   {
    "duration": 446,
    "start_time": "2024-05-26T22:08:56.751Z"
   },
   {
    "duration": 104,
    "start_time": "2024-05-26T22:08:57.199Z"
   },
   {
    "duration": 26,
    "start_time": "2024-05-26T22:08:57.304Z"
   },
   {
    "duration": 129,
    "start_time": "2024-05-26T22:08:57.331Z"
   },
   {
    "duration": 5235,
    "start_time": "2024-05-26T22:08:57.461Z"
   },
   {
    "duration": 55147,
    "start_time": "2024-05-26T22:09:02.699Z"
   },
   {
    "duration": 88,
    "start_time": "2024-05-26T22:09:57.847Z"
   },
   {
    "duration": 4652,
    "start_time": "2024-05-26T22:09:57.937Z"
   },
   {
    "duration": 87,
    "start_time": "2024-05-26T22:10:02.591Z"
   },
   {
    "duration": 46,
    "start_time": "2024-05-26T22:10:02.679Z"
   },
   {
    "duration": 45,
    "start_time": "2024-05-26T22:10:02.726Z"
   },
   {
    "duration": 54,
    "start_time": "2024-05-26T22:10:02.773Z"
   },
   {
    "duration": 56132,
    "start_time": "2024-05-26T22:10:02.829Z"
   },
   {
    "duration": 108,
    "start_time": "2024-05-26T22:10:58.964Z"
   },
   {
    "duration": 210,
    "start_time": "2024-05-26T22:10:59.074Z"
   },
   {
    "duration": 5,
    "start_time": "2024-05-26T22:10:59.285Z"
   },
   {
    "duration": 34,
    "start_time": "2024-05-26T22:10:59.291Z"
   },
   {
    "duration": 9,
    "start_time": "2024-05-26T22:10:59.326Z"
   },
   {
    "duration": 2,
    "start_time": "2024-05-26T22:10:59.337Z"
   },
   {
    "duration": 5159,
    "start_time": "2024-05-26T22:10:59.365Z"
   },
   {
    "duration": 19,
    "start_time": "2024-05-26T22:11:04.525Z"
   },
   {
    "duration": 5037,
    "start_time": "2024-05-26T22:11:04.545Z"
   },
   {
    "duration": 4562,
    "start_time": "2024-05-26T22:11:09.584Z"
   },
   {
    "duration": 4036,
    "start_time": "2024-05-26T22:11:14.147Z"
   },
   {
    "duration": 15,
    "start_time": "2024-05-26T22:11:18.185Z"
   },
   {
    "duration": 19,
    "start_time": "2024-05-26T22:11:18.202Z"
   },
   {
    "duration": 15,
    "start_time": "2024-05-26T22:11:18.222Z"
   },
   {
    "duration": 3,
    "start_time": "2024-05-26T22:11:18.238Z"
   },
   {
    "duration": 24,
    "start_time": "2024-05-26T22:11:18.242Z"
   },
   {
    "duration": 66,
    "start_time": "2024-05-26T22:11:18.267Z"
   },
   {
    "duration": 2139,
    "start_time": "2024-05-26T22:11:18.335Z"
   },
   {
    "duration": 3,
    "start_time": "2024-05-26T22:14:44.235Z"
   },
   {
    "duration": 4,
    "start_time": "2024-05-26T22:14:45.930Z"
   },
   {
    "duration": 52,
    "start_time": "2024-05-26T22:14:47.505Z"
   },
   {
    "duration": 124787,
    "start_time": "2024-05-26T22:14:48.207Z"
   },
   {
    "duration": 11983,
    "start_time": "2024-06-03T19:44:52.304Z"
   },
   {
    "duration": 1838,
    "start_time": "2024-06-03T19:45:04.289Z"
   },
   {
    "duration": 6,
    "start_time": "2024-06-03T19:45:06.130Z"
   },
   {
    "duration": 30,
    "start_time": "2024-06-03T19:45:06.138Z"
   },
   {
    "duration": 3280,
    "start_time": "2024-06-03T19:45:06.170Z"
   },
   {
    "duration": 430,
    "start_time": "2024-06-03T19:45:09.452Z"
   },
   {
    "duration": 113,
    "start_time": "2024-06-03T19:45:23.575Z"
   },
   {
    "duration": 5974,
    "start_time": "2024-06-03T19:46:47.091Z"
   },
   {
    "duration": 1389,
    "start_time": "2024-06-03T19:46:53.068Z"
   },
   {
    "duration": 5,
    "start_time": "2024-06-03T19:46:54.459Z"
   },
   {
    "duration": 9,
    "start_time": "2024-06-03T19:46:54.466Z"
   },
   {
    "duration": 1176,
    "start_time": "2024-06-03T19:46:54.477Z"
   },
   {
    "duration": 118,
    "start_time": "2024-06-03T19:47:01.085Z"
   },
   {
    "duration": 408,
    "start_time": "2024-06-03T19:47:06.621Z"
   },
   {
    "duration": 150,
    "start_time": "2024-06-03T19:48:49.712Z"
   },
   {
    "duration": 59,
    "start_time": "2024-06-03T19:49:00.162Z"
   },
   {
    "duration": 67,
    "start_time": "2024-06-03T19:49:10.023Z"
   },
   {
    "duration": 65,
    "start_time": "2024-06-03T19:49:39.125Z"
   },
   {
    "duration": 33,
    "start_time": "2024-06-03T19:50:12.210Z"
   },
   {
    "duration": 123,
    "start_time": "2024-06-03T19:50:13.435Z"
   },
   {
    "duration": 433,
    "start_time": "2024-06-03T19:50:18.960Z"
   },
   {
    "duration": 101,
    "start_time": "2024-06-03T19:50:22.032Z"
   },
   {
    "duration": 26,
    "start_time": "2024-06-03T19:50:28.939Z"
   },
   {
    "duration": 61783,
    "start_time": "2024-06-03T19:50:32.114Z"
   },
   {
    "duration": 98,
    "start_time": "2024-06-03T19:51:33.899Z"
   },
   {
    "duration": 5042,
    "start_time": "2024-06-03T20:37:56.365Z"
   },
   {
    "duration": 100,
    "start_time": "2024-06-03T20:38:01.409Z"
   },
   {
    "duration": 50,
    "start_time": "2024-06-03T20:38:18.237Z"
   },
   {
    "duration": 29,
    "start_time": "2024-06-03T20:38:34.592Z"
   },
   {
    "duration": 60,
    "start_time": "2024-06-03T20:38:42.009Z"
   },
   {
    "duration": 64379,
    "start_time": "2024-06-03T20:39:17.702Z"
   },
   {
    "duration": 105,
    "start_time": "2024-06-03T20:40:22.087Z"
   },
   {
    "duration": 222,
    "start_time": "2024-06-03T20:53:38.675Z"
   },
   {
    "duration": 6,
    "start_time": "2024-06-03T20:53:47.104Z"
   },
   {
    "duration": 47,
    "start_time": "2024-06-03T20:53:54.624Z"
   },
   {
    "duration": 11,
    "start_time": "2024-06-03T20:53:59.009Z"
   },
   {
    "duration": 66,
    "start_time": "2024-06-03T20:54:55.679Z"
   },
   {
    "duration": 20,
    "start_time": "2024-06-03T20:56:10.434Z"
   },
   {
    "duration": 25,
    "start_time": "2024-06-03T20:59:34.446Z"
   },
   {
    "duration": 67,
    "start_time": "2024-06-03T20:59:58.313Z"
   },
   {
    "duration": 33,
    "start_time": "2024-06-03T21:00:01.973Z"
   },
   {
    "duration": 23,
    "start_time": "2024-06-03T21:02:57.458Z"
   },
   {
    "duration": 23,
    "start_time": "2024-06-03T21:03:19.570Z"
   },
   {
    "duration": 15496,
    "start_time": "2024-06-03T21:24:10.541Z"
   },
   {
    "duration": 20797,
    "start_time": "2024-06-03T21:26:14.970Z"
   },
   {
    "duration": 9,
    "start_time": "2024-06-03T21:27:21.508Z"
   },
   {
    "duration": 11,
    "start_time": "2024-06-03T21:28:55.299Z"
   },
   {
    "duration": 5985,
    "start_time": "2024-06-03T21:29:41.810Z"
   },
   {
    "duration": 1523,
    "start_time": "2024-06-03T21:29:47.798Z"
   },
   {
    "duration": 7,
    "start_time": "2024-06-03T21:29:49.323Z"
   },
   {
    "duration": 19,
    "start_time": "2024-06-03T21:29:49.332Z"
   },
   {
    "duration": 1247,
    "start_time": "2024-06-03T21:29:49.353Z"
   },
   {
    "duration": 447,
    "start_time": "2024-06-03T21:29:50.601Z"
   },
   {
    "duration": 74,
    "start_time": "2024-06-03T21:29:51.050Z"
   },
   {
    "duration": 46,
    "start_time": "2024-06-03T21:29:51.126Z"
   },
   {
    "duration": 131,
    "start_time": "2024-06-03T21:29:51.174Z"
   },
   {
    "duration": 501,
    "start_time": "2024-06-03T21:29:51.308Z"
   },
   {
    "duration": 142,
    "start_time": "2024-06-03T21:29:51.811Z"
   },
   {
    "duration": 28,
    "start_time": "2024-06-03T21:29:51.955Z"
   },
   {
    "duration": 63687,
    "start_time": "2024-06-03T21:29:51.985Z"
   },
   {
    "duration": 108,
    "start_time": "2024-06-03T21:30:55.674Z"
   },
   {
    "duration": 5325,
    "start_time": "2024-06-03T21:30:55.784Z"
   },
   {
    "duration": 98,
    "start_time": "2024-06-03T21:31:01.111Z"
   },
   {
    "duration": 138,
    "start_time": "2024-06-03T21:31:01.211Z"
   },
   {
    "duration": 100,
    "start_time": "2024-06-03T21:31:01.350Z"
   },
   {
    "duration": 85,
    "start_time": "2024-06-03T21:31:01.451Z"
   },
   {
    "duration": 64852,
    "start_time": "2024-06-03T21:31:01.538Z"
   },
   {
    "duration": 100,
    "start_time": "2024-06-03T21:32:06.392Z"
   },
   {
    "duration": 293,
    "start_time": "2024-06-03T21:32:06.494Z"
   },
   {
    "duration": 7,
    "start_time": "2024-06-03T21:32:06.792Z"
   },
   {
    "duration": 69,
    "start_time": "2024-06-03T21:32:06.801Z"
   },
   {
    "duration": 11,
    "start_time": "2024-06-03T21:32:06.872Z"
   },
   {
    "duration": 85,
    "start_time": "2024-06-03T21:32:06.885Z"
   },
   {
    "duration": 19,
    "start_time": "2024-06-03T21:32:06.972Z"
   },
   {
    "duration": 20,
    "start_time": "2024-06-03T21:32:06.993Z"
   },
   {
    "duration": 56,
    "start_time": "2024-06-03T21:32:07.015Z"
   },
   {
    "duration": 28,
    "start_time": "2024-06-03T21:32:07.073Z"
   },
   {
    "duration": 15999,
    "start_time": "2024-06-03T21:32:07.102Z"
   },
   {
    "duration": 21,
    "start_time": "2024-06-03T21:32:23.103Z"
   },
   {
    "duration": 95,
    "start_time": "2024-06-03T21:32:23.126Z"
   },
   {
    "duration": 17215,
    "start_time": "2024-06-03T21:34:38.261Z"
   },
   {
    "duration": 9,
    "start_time": "2024-06-03T21:35:05.836Z"
   },
   {
    "duration": 11,
    "start_time": "2024-06-03T21:35:09.026Z"
   },
   {
    "duration": 4,
    "start_time": "2024-06-03T21:35:36.274Z"
   },
   {
    "duration": 7714,
    "start_time": "2024-06-03T21:35:36.962Z"
   },
   {
    "duration": 8,
    "start_time": "2024-06-03T21:36:39.240Z"
   },
   {
    "duration": 19,
    "start_time": "2024-06-03T21:37:34.367Z"
   },
   {
    "duration": 17,
    "start_time": "2024-06-03T21:37:43.800Z"
   },
   {
    "duration": 20,
    "start_time": "2024-06-03T21:37:51.478Z"
   },
   {
    "duration": 22,
    "start_time": "2024-06-03T21:40:09.613Z"
   },
   {
    "duration": 20,
    "start_time": "2024-06-03T21:40:28.980Z"
   },
   {
    "duration": 3,
    "start_time": "2024-06-03T21:42:37.138Z"
   },
   {
    "duration": 805,
    "start_time": "2024-06-03T21:42:54.357Z"
   },
   {
    "duration": 188,
    "start_time": "2024-06-03T21:43:09.340Z"
   },
   {
    "duration": 183,
    "start_time": "2024-06-03T21:43:34.063Z"
   },
   {
    "duration": 5979,
    "start_time": "2024-06-03T21:50:27.490Z"
   },
   {
    "duration": 32,
    "start_time": "2024-06-03T21:57:53.215Z"
   },
   {
    "duration": 7,
    "start_time": "2024-06-03T21:58:52.452Z"
   },
   {
    "duration": 136,
    "start_time": "2024-06-03T21:58:57.352Z"
   },
   {
    "duration": 188,
    "start_time": "2024-06-03T21:59:10.934Z"
   },
   {
    "duration": 47,
    "start_time": "2024-06-03T22:06:50.411Z"
   },
   {
    "duration": 21,
    "start_time": "2024-06-03T22:09:09.994Z"
   },
   {
    "duration": 37,
    "start_time": "2024-06-03T22:10:23.051Z"
   },
   {
    "duration": 4,
    "start_time": "2024-06-03T22:25:47.489Z"
   },
   {
    "duration": 4,
    "start_time": "2024-06-03T22:25:48.885Z"
   },
   {
    "duration": 126,
    "start_time": "2024-06-03T22:26:00.005Z"
   },
   {
    "duration": 17,
    "start_time": "2024-06-04T08:44:23.343Z"
   },
   {
    "duration": 128,
    "start_time": "2024-06-04T08:44:44.748Z"
   },
   {
    "duration": 10,
    "start_time": "2024-06-04T08:45:07.386Z"
   },
   {
    "duration": 173,
    "start_time": "2024-06-04T08:46:35.492Z"
   },
   {
    "duration": 127,
    "start_time": "2024-06-04T08:47:12.102Z"
   },
   {
    "duration": 20,
    "start_time": "2024-06-04T08:47:24.937Z"
   },
   {
    "duration": 17,
    "start_time": "2024-06-04T08:47:32.218Z"
   },
   {
    "duration": 163,
    "start_time": "2024-06-04T08:48:33.826Z"
   },
   {
    "duration": 297,
    "start_time": "2024-06-04T08:50:29.915Z"
   },
   {
    "duration": 337,
    "start_time": "2024-06-04T09:23:13.248Z"
   },
   {
    "duration": 24,
    "start_time": "2024-06-04T09:24:01.464Z"
   },
   {
    "duration": 6489,
    "start_time": "2024-06-04T09:26:33.810Z"
   },
   {
    "duration": 1593,
    "start_time": "2024-06-04T09:26:40.302Z"
   },
   {
    "duration": 6,
    "start_time": "2024-06-04T09:26:41.897Z"
   },
   {
    "duration": 36,
    "start_time": "2024-06-04T09:26:41.905Z"
   },
   {
    "duration": 1287,
    "start_time": "2024-06-04T09:26:41.944Z"
   },
   {
    "duration": 486,
    "start_time": "2024-06-04T09:26:43.232Z"
   },
   {
    "duration": 85,
    "start_time": "2024-06-04T09:26:43.719Z"
   },
   {
    "duration": 41,
    "start_time": "2024-06-04T09:26:43.806Z"
   },
   {
    "duration": 119,
    "start_time": "2024-06-04T09:26:43.850Z"
   },
   {
    "duration": 530,
    "start_time": "2024-06-04T09:26:43.972Z"
   },
   {
    "duration": 148,
    "start_time": "2024-06-04T09:26:44.504Z"
   },
   {
    "duration": 36,
    "start_time": "2024-06-04T09:26:44.654Z"
   },
   {
    "duration": 68457,
    "start_time": "2024-06-04T09:26:44.692Z"
   },
   {
    "duration": 121,
    "start_time": "2024-06-04T09:27:53.152Z"
   },
   {
    "duration": 5534,
    "start_time": "2024-06-04T09:27:53.275Z"
   },
   {
    "duration": 116,
    "start_time": "2024-06-04T09:27:58.811Z"
   },
   {
    "duration": 58,
    "start_time": "2024-06-04T09:27:58.929Z"
   },
   {
    "duration": 30,
    "start_time": "2024-06-04T09:27:58.988Z"
   },
   {
    "duration": 95,
    "start_time": "2024-06-04T09:27:59.020Z"
   },
   {
    "duration": 69974,
    "start_time": "2024-06-04T09:27:59.117Z"
   },
   {
    "duration": 116,
    "start_time": "2024-06-04T09:29:09.093Z"
   },
   {
    "duration": 272,
    "start_time": "2024-06-04T09:29:09.211Z"
   },
   {
    "duration": 8,
    "start_time": "2024-06-04T09:29:09.485Z"
   },
   {
    "duration": 66,
    "start_time": "2024-06-04T09:29:09.495Z"
   },
   {
    "duration": 11,
    "start_time": "2024-06-04T09:29:09.563Z"
   },
   {
    "duration": 118,
    "start_time": "2024-06-04T09:29:09.576Z"
   },
   {
    "duration": 26,
    "start_time": "2024-06-04T09:29:09.697Z"
   },
   {
    "duration": 36,
    "start_time": "2024-06-04T09:29:09.725Z"
   },
   {
    "duration": 29,
    "start_time": "2024-06-04T09:29:09.763Z"
   },
   {
    "duration": 35,
    "start_time": "2024-06-04T09:29:09.794Z"
   },
   {
    "duration": 17384,
    "start_time": "2024-06-04T09:29:09.830Z"
   },
   {
    "duration": 8,
    "start_time": "2024-06-04T09:29:27.215Z"
   },
   {
    "duration": 32,
    "start_time": "2024-06-04T09:29:27.225Z"
   },
   {
    "duration": 4,
    "start_time": "2024-06-04T09:29:27.260Z"
   },
   {
    "duration": 7761,
    "start_time": "2024-06-04T09:29:27.268Z"
   },
   {
    "duration": 23,
    "start_time": "2024-06-04T09:29:35.030Z"
   },
   {
    "duration": 28,
    "start_time": "2024-06-04T09:29:35.055Z"
   },
   {
    "duration": 345,
    "start_time": "2024-06-04T09:29:35.085Z"
   },
   {
    "duration": 6394,
    "start_time": "2024-06-04T09:29:35.431Z"
   },
   {
    "duration": 32,
    "start_time": "2024-06-04T09:29:41.827Z"
   },
   {
    "duration": 5,
    "start_time": "2024-06-04T09:29:41.861Z"
   },
   {
    "duration": 96,
    "start_time": "2024-06-04T09:29:41.868Z"
   },
   {
    "duration": 20,
    "start_time": "2024-06-04T09:44:27.577Z"
   },
   {
    "duration": 143,
    "start_time": "2024-06-04T09:45:45.346Z"
   },
   {
    "duration": 18,
    "start_time": "2024-06-04T09:46:10.137Z"
   },
   {
    "duration": 335,
    "start_time": "2024-06-04T09:46:25.897Z"
   },
   {
    "duration": 7,
    "start_time": "2024-06-04T09:47:12.576Z"
   },
   {
    "duration": 20,
    "start_time": "2024-06-04T09:47:43.976Z"
   },
   {
    "duration": 27,
    "start_time": "2024-06-04T09:48:26.316Z"
   },
   {
    "duration": 41,
    "start_time": "2024-06-04T09:48:32.345Z"
   },
   {
    "duration": 155,
    "start_time": "2024-06-04T11:11:55.918Z"
   },
   {
    "duration": 18,
    "start_time": "2024-06-04T11:12:26.606Z"
   },
   {
    "duration": 39,
    "start_time": "2024-06-04T11:12:32.116Z"
   },
   {
    "duration": 219,
    "start_time": "2024-06-04T11:12:38.330Z"
   },
   {
    "duration": 196,
    "start_time": "2024-06-04T11:13:10.550Z"
   },
   {
    "duration": 529,
    "start_time": "2024-06-04T11:15:19.118Z"
   },
   {
    "duration": 87,
    "start_time": "2024-06-04T11:33:18.867Z"
   },
   {
    "duration": 73,
    "start_time": "2024-06-04T11:33:27.048Z"
   },
   {
    "duration": 21662,
    "start_time": "2024-06-04T11:33:39.705Z"
   },
   {
    "duration": 172524,
    "start_time": "2024-06-04T12:25:25.141Z"
   },
   {
    "duration": 182457,
    "start_time": "2024-06-04T12:29:39.106Z"
   },
   {
    "duration": 5723,
    "start_time": "2024-06-04T12:50:09.178Z"
   },
   {
    "duration": 1446,
    "start_time": "2024-06-04T12:50:14.904Z"
   },
   {
    "duration": 6,
    "start_time": "2024-06-04T12:50:16.352Z"
   },
   {
    "duration": 21,
    "start_time": "2024-06-04T12:50:16.361Z"
   },
   {
    "duration": 1275,
    "start_time": "2024-06-04T12:50:16.385Z"
   },
   {
    "duration": 434,
    "start_time": "2024-06-04T12:50:17.662Z"
   },
   {
    "duration": 73,
    "start_time": "2024-06-04T12:50:18.098Z"
   },
   {
    "duration": 32,
    "start_time": "2024-06-04T12:50:18.173Z"
   },
   {
    "duration": 119,
    "start_time": "2024-06-04T12:50:18.207Z"
   },
   {
    "duration": 497,
    "start_time": "2024-06-04T12:50:18.328Z"
   },
   {
    "duration": 117,
    "start_time": "2024-06-04T12:50:18.827Z"
   },
   {
    "duration": 27,
    "start_time": "2024-06-04T12:50:18.946Z"
   },
   {
    "duration": 64167,
    "start_time": "2024-06-04T12:50:18.975Z"
   },
   {
    "duration": 124,
    "start_time": "2024-06-04T12:51:23.145Z"
   },
   {
    "duration": 5261,
    "start_time": "2024-06-04T12:51:23.271Z"
   },
   {
    "duration": 120,
    "start_time": "2024-06-04T12:51:28.534Z"
   },
   {
    "duration": 60,
    "start_time": "2024-06-04T12:51:28.656Z"
   },
   {
    "duration": 39,
    "start_time": "2024-06-04T12:51:28.718Z"
   },
   {
    "duration": 69,
    "start_time": "2024-06-04T12:51:28.759Z"
   },
   {
    "duration": 64961,
    "start_time": "2024-06-04T12:51:28.830Z"
   },
   {
    "duration": 115,
    "start_time": "2024-06-04T12:52:33.793Z"
   },
   {
    "duration": 269,
    "start_time": "2024-06-04T12:52:33.909Z"
   },
   {
    "duration": 6,
    "start_time": "2024-06-04T12:52:34.180Z"
   },
   {
    "duration": 66,
    "start_time": "2024-06-04T12:52:34.188Z"
   },
   {
    "duration": 11,
    "start_time": "2024-06-04T12:52:34.256Z"
   },
   {
    "duration": 90,
    "start_time": "2024-06-04T12:52:34.268Z"
   },
   {
    "duration": 18,
    "start_time": "2024-06-04T12:52:34.360Z"
   },
   {
    "duration": 31,
    "start_time": "2024-06-04T12:52:34.380Z"
   },
   {
    "duration": 33,
    "start_time": "2024-06-04T12:52:34.413Z"
   },
   {
    "duration": 22,
    "start_time": "2024-06-04T12:52:34.448Z"
   },
   {
    "duration": 15650,
    "start_time": "2024-06-04T12:52:34.471Z"
   },
   {
    "duration": 8,
    "start_time": "2024-06-04T12:52:50.123Z"
   },
   {
    "duration": 77,
    "start_time": "2024-06-04T12:52:50.133Z"
   },
   {
    "duration": 132,
    "start_time": "2024-06-04T12:52:50.212Z"
   },
   {
    "duration": 7254,
    "start_time": "2024-06-04T12:52:50.346Z"
   },
   {
    "duration": 19,
    "start_time": "2024-06-04T12:52:57.602Z"
   },
   {
    "duration": 36,
    "start_time": "2024-06-04T12:52:57.623Z"
   },
   {
    "duration": 217,
    "start_time": "2024-06-04T12:52:57.661Z"
   },
   {
    "duration": 6095,
    "start_time": "2024-06-04T12:52:57.880Z"
   },
   {
    "duration": 44,
    "start_time": "2024-06-04T12:53:03.977Z"
   },
   {
    "duration": 21,
    "start_time": "2024-06-04T12:53:04.025Z"
   },
   {
    "duration": 78,
    "start_time": "2024-06-04T12:53:04.048Z"
   },
   {
    "duration": 146,
    "start_time": "2024-06-04T12:53:04.128Z"
   },
   {
    "duration": 357,
    "start_time": "2024-06-04T12:53:04.276Z"
   },
   {
    "duration": 22,
    "start_time": "2024-06-04T12:53:04.635Z"
   },
   {
    "duration": 27,
    "start_time": "2024-06-04T12:53:04.658Z"
   },
   {
    "duration": 563,
    "start_time": "2024-06-04T12:53:04.686Z"
   },
   {
    "duration": 22157,
    "start_time": "2024-06-04T12:53:05.251Z"
   },
   {
    "duration": 42237,
    "start_time": "2024-06-04T12:53:27.410Z"
   },
   {
    "duration": 221617,
    "start_time": "2024-06-04T12:54:09.649Z"
   },
   {
    "duration": 209,
    "start_time": "2024-06-04T12:57:51.346Z"
   },
   {
    "duration": 740,
    "start_time": "2024-06-04T12:57:51.557Z"
   },
   {
    "duration": 583,
    "start_time": "2024-06-04T12:57:52.299Z"
   },
   {
    "duration": 88,
    "start_time": "2024-06-04T12:58:19.987Z"
   },
   {
    "duration": 26,
    "start_time": "2024-06-04T12:59:29.876Z"
   },
   {
    "duration": 561,
    "start_time": "2024-06-04T12:59:40.204Z"
   },
   {
    "duration": 455,
    "start_time": "2024-06-04T12:59:43.005Z"
   },
   {
    "duration": 9685,
    "start_time": "2024-06-05T23:10:07.790Z"
   },
   {
    "duration": 1445,
    "start_time": "2024-06-05T23:10:17.477Z"
   },
   {
    "duration": 5,
    "start_time": "2024-06-05T23:10:18.924Z"
   },
   {
    "duration": 9,
    "start_time": "2024-06-05T23:10:18.931Z"
   },
   {
    "duration": 2918,
    "start_time": "2024-06-05T23:10:18.941Z"
   },
   {
    "duration": 293,
    "start_time": "2024-06-05T23:10:21.860Z"
   },
   {
    "duration": 68,
    "start_time": "2024-06-05T23:10:22.155Z"
   },
   {
    "duration": 29,
    "start_time": "2024-06-05T23:10:25.612Z"
   },
   {
    "duration": 76,
    "start_time": "2024-06-05T23:10:26.060Z"
   },
   {
    "duration": 346,
    "start_time": "2024-06-05T23:19:10.719Z"
   },
   {
    "duration": 63,
    "start_time": "2024-06-05T23:19:11.335Z"
   },
   {
    "duration": 27,
    "start_time": "2024-06-05T23:19:12.286Z"
   },
   {
    "duration": 45541,
    "start_time": "2024-06-05T23:19:13.384Z"
   },
   {
    "duration": 62,
    "start_time": "2024-06-05T23:19:58.926Z"
   },
   {
    "duration": 3715,
    "start_time": "2024-06-05T23:19:58.989Z"
   },
   {
    "duration": 72,
    "start_time": "2024-06-05T23:20:02.707Z"
   },
   {
    "duration": 54,
    "start_time": "2024-06-05T23:20:02.780Z"
   },
   {
    "duration": 20,
    "start_time": "2024-06-05T23:20:02.836Z"
   },
   {
    "duration": 75,
    "start_time": "2024-06-05T23:20:02.857Z"
   },
   {
    "duration": 44595,
    "start_time": "2024-06-05T23:20:02.933Z"
   },
   {
    "duration": 59,
    "start_time": "2024-06-05T23:20:47.529Z"
   },
   {
    "duration": 157,
    "start_time": "2024-06-05T23:20:47.590Z"
   },
   {
    "duration": 14,
    "start_time": "2024-06-05T23:20:47.748Z"
   },
   {
    "duration": 24,
    "start_time": "2024-06-05T23:20:47.763Z"
   },
   {
    "duration": 49,
    "start_time": "2024-06-05T23:20:47.788Z"
   },
   {
    "duration": 8,
    "start_time": "2024-06-05T23:20:47.838Z"
   },
   {
    "duration": 69,
    "start_time": "2024-06-05T23:20:47.847Z"
   },
   {
    "duration": 24,
    "start_time": "2024-06-05T23:20:47.917Z"
   },
   {
    "duration": 15,
    "start_time": "2024-06-05T23:20:47.942Z"
   },
   {
    "duration": 24,
    "start_time": "2024-06-05T23:20:47.958Z"
   },
   {
    "duration": 49,
    "start_time": "2024-06-05T23:21:51.378Z"
   },
   {
    "duration": 69,
    "start_time": "2024-06-05T23:22:18.338Z"
   },
   {
    "duration": 64,
    "start_time": "2024-06-05T23:22:31.884Z"
   },
   {
    "duration": 72,
    "start_time": "2024-06-05T23:22:36.121Z"
   },
   {
    "duration": 64,
    "start_time": "2024-06-05T23:22:42.953Z"
   },
   {
    "duration": 124,
    "start_time": "2024-06-05T23:23:02.077Z"
   },
   {
    "duration": 1374,
    "start_time": "2024-06-05T23:25:05.015Z"
   },
   {
    "duration": 51,
    "start_time": "2024-06-05T23:25:39.507Z"
   },
   {
    "duration": 562,
    "start_time": "2024-06-05T23:27:30.205Z"
   },
   {
    "duration": 564,
    "start_time": "2024-06-05T23:28:16.406Z"
   },
   {
    "duration": 18,
    "start_time": "2024-06-05T23:28:40.594Z"
   },
   {
    "duration": 17,
    "start_time": "2024-06-05T23:29:03.109Z"
   },
   {
    "duration": 15,
    "start_time": "2024-06-05T23:29:28.078Z"
   },
   {
    "duration": 15,
    "start_time": "2024-06-05T23:29:37.162Z"
   },
   {
    "duration": 14,
    "start_time": "2024-06-05T23:30:01.346Z"
   },
   {
    "duration": 5,
    "start_time": "2024-06-05T23:30:12.839Z"
   },
   {
    "duration": 5,
    "start_time": "2024-06-05T23:30:25.191Z"
   },
   {
    "duration": 18,
    "start_time": "2024-06-05T23:31:09.721Z"
   },
   {
    "duration": 14,
    "start_time": "2024-06-05T23:31:36.706Z"
   },
   {
    "duration": 11,
    "start_time": "2024-06-05T23:31:40.146Z"
   },
   {
    "duration": 9,
    "start_time": "2024-06-05T23:31:43.515Z"
   },
   {
    "duration": 8,
    "start_time": "2024-06-05T23:31:46.685Z"
   },
   {
    "duration": 12,
    "start_time": "2024-06-05T23:31:53.036Z"
   },
   {
    "duration": 547,
    "start_time": "2024-06-05T23:32:26.207Z"
   },
   {
    "duration": 437,
    "start_time": "2024-06-05T23:32:49.925Z"
   },
   {
    "duration": 10,
    "start_time": "2024-06-05T23:34:13.621Z"
   },
   {
    "duration": 7,
    "start_time": "2024-06-05T23:34:49.218Z"
   },
   {
    "duration": 18,
    "start_time": "2024-06-05T23:36:41.452Z"
   },
   {
    "duration": 17,
    "start_time": "2024-06-05T23:37:27.848Z"
   },
   {
    "duration": 5181,
    "start_time": "2024-06-05T23:43:43.109Z"
   },
   {
    "duration": 1250,
    "start_time": "2024-06-05T23:43:48.292Z"
   },
   {
    "duration": 4,
    "start_time": "2024-06-05T23:43:49.543Z"
   },
   {
    "duration": 14,
    "start_time": "2024-06-05T23:43:49.549Z"
   },
   {
    "duration": 817,
    "start_time": "2024-06-05T23:43:49.563Z"
   },
   {
    "duration": 268,
    "start_time": "2024-06-05T23:43:50.381Z"
   },
   {
    "duration": 54,
    "start_time": "2024-06-05T23:43:50.651Z"
   },
   {
    "duration": 27,
    "start_time": "2024-06-05T23:43:50.706Z"
   },
   {
    "duration": 85,
    "start_time": "2024-06-05T23:43:50.734Z"
   },
   {
    "duration": 327,
    "start_time": "2024-06-05T23:43:50.821Z"
   },
   {
    "duration": 69,
    "start_time": "2024-06-05T23:43:51.150Z"
   },
   {
    "duration": 35,
    "start_time": "2024-06-05T23:43:51.220Z"
   },
   {
    "duration": 42400,
    "start_time": "2024-06-05T23:43:51.257Z"
   },
   {
    "duration": 63,
    "start_time": "2024-06-05T23:44:33.658Z"
   },
   {
    "duration": 3303,
    "start_time": "2024-06-05T23:44:33.722Z"
   },
   {
    "duration": 61,
    "start_time": "2024-06-05T23:44:37.027Z"
   },
   {
    "duration": 47,
    "start_time": "2024-06-05T23:44:37.089Z"
   },
   {
    "duration": 21,
    "start_time": "2024-06-05T23:44:37.137Z"
   },
   {
    "duration": 65,
    "start_time": "2024-06-05T23:44:37.159Z"
   },
   {
    "duration": 42274,
    "start_time": "2024-06-05T23:44:37.225Z"
   },
   {
    "duration": 59,
    "start_time": "2024-06-05T23:45:19.501Z"
   },
   {
    "duration": 18,
    "start_time": "2024-06-05T23:45:19.561Z"
   },
   {
    "duration": 165,
    "start_time": "2024-06-05T23:47:49.873Z"
   },
   {
    "duration": 15,
    "start_time": "2024-06-05T23:47:50.971Z"
   },
   {
    "duration": 5,
    "start_time": "2024-06-05T23:47:51.497Z"
   },
   {
    "duration": 41,
    "start_time": "2024-06-05T23:47:51.784Z"
   },
   {
    "duration": 8,
    "start_time": "2024-06-05T23:47:53.082Z"
   },
   {
    "duration": 55,
    "start_time": "2024-06-05T23:47:53.320Z"
   },
   {
    "duration": 16,
    "start_time": "2024-06-05T23:47:55.349Z"
   },
   {
    "duration": 17,
    "start_time": "2024-06-05T23:47:55.805Z"
   },
   {
    "duration": 20,
    "start_time": "2024-06-05T23:47:56.712Z"
   },
   {
    "duration": 1385,
    "start_time": "2024-06-05T23:47:57.320Z"
   },
   {
    "duration": 53,
    "start_time": "2024-06-05T23:47:58.707Z"
   },
   {
    "duration": 595,
    "start_time": "2024-06-05T23:47:58.761Z"
   },
   {
    "duration": 490,
    "start_time": "2024-06-05T23:47:59.357Z"
   },
   {
    "duration": 6,
    "start_time": "2024-06-05T23:47:59.848Z"
   },
   {
    "duration": 22,
    "start_time": "2024-06-05T23:47:59.855Z"
   },
   {
    "duration": 25,
    "start_time": "2024-06-05T23:48:05.729Z"
   },
   {
    "duration": 9,
    "start_time": "2024-06-05T23:50:00.814Z"
   },
   {
    "duration": 64,
    "start_time": "2024-06-06T00:04:11.775Z"
   },
   {
    "duration": 10,
    "start_time": "2024-06-06T00:06:54.720Z"
   },
   {
    "duration": 5597,
    "start_time": "2024-06-06T00:08:28.244Z"
   },
   {
    "duration": 1230,
    "start_time": "2024-06-06T00:08:33.843Z"
   },
   {
    "duration": 5,
    "start_time": "2024-06-06T00:08:35.075Z"
   },
   {
    "duration": 12,
    "start_time": "2024-06-06T00:08:35.082Z"
   },
   {
    "duration": 825,
    "start_time": "2024-06-06T00:08:35.096Z"
   },
   {
    "duration": 309,
    "start_time": "2024-06-06T00:08:35.922Z"
   },
   {
    "duration": 54,
    "start_time": "2024-06-06T00:08:36.232Z"
   },
   {
    "duration": 38,
    "start_time": "2024-06-06T00:08:36.287Z"
   },
   {
    "duration": 85,
    "start_time": "2024-06-06T00:08:36.326Z"
   },
   {
    "duration": 345,
    "start_time": "2024-06-06T00:08:36.414Z"
   },
   {
    "duration": 70,
    "start_time": "2024-06-06T00:08:36.760Z"
   },
   {
    "duration": 25,
    "start_time": "2024-06-06T00:08:36.831Z"
   },
   {
    "duration": 42290,
    "start_time": "2024-06-06T00:08:36.857Z"
   },
   {
    "duration": 67,
    "start_time": "2024-06-06T00:09:19.149Z"
   },
   {
    "duration": 3429,
    "start_time": "2024-06-06T00:09:19.217Z"
   },
   {
    "duration": 76,
    "start_time": "2024-06-06T00:09:22.647Z"
   },
   {
    "duration": 42,
    "start_time": "2024-06-06T00:09:22.724Z"
   },
   {
    "duration": 19,
    "start_time": "2024-06-06T00:09:22.768Z"
   },
   {
    "duration": 47,
    "start_time": "2024-06-06T00:09:22.788Z"
   },
   {
    "duration": 42631,
    "start_time": "2024-06-06T00:09:22.836Z"
   },
   {
    "duration": 63,
    "start_time": "2024-06-06T00:10:05.469Z"
   },
   {
    "duration": 55,
    "start_time": "2024-06-06T00:10:05.534Z"
   },
   {
    "duration": 150,
    "start_time": "2024-06-06T00:11:16.561Z"
   },
   {
    "duration": 14,
    "start_time": "2024-06-06T00:11:18.107Z"
   },
   {
    "duration": 5,
    "start_time": "2024-06-06T00:11:18.787Z"
   },
   {
    "duration": 45,
    "start_time": "2024-06-06T00:11:19.224Z"
   },
   {
    "duration": 9,
    "start_time": "2024-06-06T00:11:20.290Z"
   },
   {
    "duration": 63,
    "start_time": "2024-06-06T00:11:20.689Z"
   },
   {
    "duration": 17,
    "start_time": "2024-06-06T00:11:21.973Z"
   },
   {
    "duration": 15,
    "start_time": "2024-06-06T00:11:22.641Z"
   },
   {
    "duration": 21,
    "start_time": "2024-06-06T00:11:23.410Z"
   },
   {
    "duration": 1393,
    "start_time": "2024-06-06T00:11:24.316Z"
   },
   {
    "duration": 51,
    "start_time": "2024-06-06T00:11:25.711Z"
   },
   {
    "duration": 591,
    "start_time": "2024-06-06T00:11:25.763Z"
   },
   {
    "duration": 520,
    "start_time": "2024-06-06T00:11:26.356Z"
   },
   {
    "duration": 6,
    "start_time": "2024-06-06T00:11:26.877Z"
   },
   {
    "duration": 32,
    "start_time": "2024-06-06T00:11:26.884Z"
   },
   {
    "duration": 18,
    "start_time": "2024-06-06T00:11:28.918Z"
   },
   {
    "duration": 9,
    "start_time": "2024-06-06T00:11:41.650Z"
   },
   {
    "duration": 5241,
    "start_time": "2024-06-06T00:19:36.599Z"
   },
   {
    "duration": 1176,
    "start_time": "2024-06-06T00:19:41.842Z"
   },
   {
    "duration": 4,
    "start_time": "2024-06-06T00:19:43.019Z"
   },
   {
    "duration": 54,
    "start_time": "2024-06-06T00:19:43.025Z"
   },
   {
    "duration": 902,
    "start_time": "2024-06-06T00:19:43.081Z"
   },
   {
    "duration": 335,
    "start_time": "2024-06-06T00:19:43.984Z"
   },
   {
    "duration": 54,
    "start_time": "2024-06-06T00:19:44.320Z"
   },
   {
    "duration": 41,
    "start_time": "2024-06-06T00:19:44.376Z"
   },
   {
    "duration": 75,
    "start_time": "2024-06-06T00:19:44.418Z"
   },
   {
    "duration": 327,
    "start_time": "2024-06-06T00:19:44.502Z"
   },
   {
    "duration": 63,
    "start_time": "2024-06-06T00:19:44.830Z"
   },
   {
    "duration": 24,
    "start_time": "2024-06-06T00:19:44.901Z"
   },
   {
    "duration": 42390,
    "start_time": "2024-06-06T00:19:44.926Z"
   },
   {
    "duration": 66,
    "start_time": "2024-06-06T00:20:27.318Z"
   },
   {
    "duration": 3334,
    "start_time": "2024-06-06T00:20:27.386Z"
   },
   {
    "duration": 61,
    "start_time": "2024-06-06T00:20:30.722Z"
   },
   {
    "duration": 75,
    "start_time": "2024-06-06T00:20:30.784Z"
   },
   {
    "duration": 111,
    "start_time": "2024-06-06T00:20:30.860Z"
   },
   {
    "duration": 92,
    "start_time": "2024-06-06T00:20:30.973Z"
   },
   {
    "duration": 42524,
    "start_time": "2024-06-06T00:20:31.066Z"
   },
   {
    "duration": 62,
    "start_time": "2024-06-06T00:21:13.591Z"
   },
   {
    "duration": 23,
    "start_time": "2024-06-06T00:21:13.654Z"
   },
   {
    "duration": 153,
    "start_time": "2024-06-06T00:21:13.679Z"
   },
   {
    "duration": 14,
    "start_time": "2024-06-06T00:21:13.833Z"
   },
   {
    "duration": 4,
    "start_time": "2024-06-06T00:21:13.848Z"
   },
   {
    "duration": 55,
    "start_time": "2024-06-06T00:21:13.853Z"
   },
   {
    "duration": 7,
    "start_time": "2024-06-06T00:21:13.910Z"
   },
   {
    "duration": 56,
    "start_time": "2024-06-06T00:21:13.918Z"
   },
   {
    "duration": 25,
    "start_time": "2024-06-06T00:21:13.976Z"
   },
   {
    "duration": 14,
    "start_time": "2024-06-06T00:21:14.003Z"
   },
   {
    "duration": 21,
    "start_time": "2024-06-06T00:21:14.018Z"
   },
   {
    "duration": 1458,
    "start_time": "2024-06-06T00:21:14.041Z"
   },
   {
    "duration": 52,
    "start_time": "2024-06-06T00:21:15.502Z"
   },
   {
    "duration": 638,
    "start_time": "2024-06-06T00:21:15.555Z"
   },
   {
    "duration": 453,
    "start_time": "2024-06-06T00:21:16.194Z"
   },
   {
    "duration": 6,
    "start_time": "2024-06-06T00:21:16.649Z"
   },
   {
    "duration": 39,
    "start_time": "2024-06-06T00:21:16.656Z"
   },
   {
    "duration": 17,
    "start_time": "2024-06-06T00:21:16.697Z"
   },
   {
    "duration": 9,
    "start_time": "2024-06-06T00:21:16.715Z"
   },
   {
    "duration": 10773,
    "start_time": "2024-06-06T00:31:09.924Z"
   },
   {
    "duration": 14,
    "start_time": "2024-06-06T00:33:16.489Z"
   },
   {
    "duration": 6,
    "start_time": "2024-06-06T00:36:11.616Z"
   },
   {
    "duration": 7,
    "start_time": "2024-06-06T00:36:27.920Z"
   },
   {
    "duration": 8,
    "start_time": "2024-06-06T00:36:42.632Z"
   },
   {
    "duration": 3,
    "start_time": "2024-06-06T00:36:49.281Z"
   },
   {
    "duration": 5486,
    "start_time": "2024-06-06T00:36:49.750Z"
   },
   {
    "duration": 14,
    "start_time": "2024-06-06T00:36:58.460Z"
   },
   {
    "duration": 15,
    "start_time": "2024-06-06T00:36:59.233Z"
   },
   {
    "duration": 141,
    "start_time": "2024-06-06T00:36:59.707Z"
   },
   {
    "duration": 4389,
    "start_time": "2024-06-06T00:37:03.083Z"
   },
   {
    "duration": 21,
    "start_time": "2024-06-06T00:37:49.204Z"
   },
   {
    "duration": 2,
    "start_time": "2024-06-06T00:37:49.517Z"
   },
   {
    "duration": 59,
    "start_time": "2024-06-06T00:37:50.161Z"
   },
   {
    "duration": 106,
    "start_time": "2024-06-06T00:51:20.678Z"
   },
   {
    "duration": 142,
    "start_time": "2024-06-06T00:51:27.776Z"
   },
   {
    "duration": 262,
    "start_time": "2024-06-06T00:58:22.096Z"
   },
   {
    "duration": 16,
    "start_time": "2024-06-06T00:58:25.743Z"
   },
   {
    "duration": 14,
    "start_time": "2024-06-06T00:58:26.668Z"
   },
   {
    "duration": 423,
    "start_time": "2024-06-06T00:58:29.279Z"
   },
   {
    "duration": 16304,
    "start_time": "2024-06-06T00:58:36.401Z"
   },
   {
    "duration": 5424,
    "start_time": "2024-06-06T00:59:40.379Z"
   },
   {
    "duration": 132406,
    "start_time": "2024-06-06T00:59:46.099Z"
   },
   {
    "duration": 5253,
    "start_time": "2024-06-06T02:10:11.168Z"
   },
   {
    "duration": 1211,
    "start_time": "2024-06-06T02:10:16.423Z"
   },
   {
    "duration": 5,
    "start_time": "2024-06-06T02:10:17.635Z"
   },
   {
    "duration": 13,
    "start_time": "2024-06-06T02:10:17.641Z"
   },
   {
    "duration": 816,
    "start_time": "2024-06-06T02:10:17.656Z"
   },
   {
    "duration": 322,
    "start_time": "2024-06-06T02:10:18.474Z"
   },
   {
    "duration": 58,
    "start_time": "2024-06-06T02:10:18.797Z"
   },
   {
    "duration": 28,
    "start_time": "2024-06-06T02:10:18.857Z"
   },
   {
    "duration": 86,
    "start_time": "2024-06-06T02:10:18.886Z"
   },
   {
    "duration": 340,
    "start_time": "2024-06-06T02:10:18.974Z"
   },
   {
    "duration": 64,
    "start_time": "2024-06-06T02:10:19.316Z"
   },
   {
    "duration": 65,
    "start_time": "2024-06-06T02:10:19.381Z"
   },
   {
    "duration": 41848,
    "start_time": "2024-06-06T02:10:19.447Z"
   },
   {
    "duration": 82,
    "start_time": "2024-06-06T02:11:01.298Z"
   },
   {
    "duration": 3298,
    "start_time": "2024-06-06T02:11:01.382Z"
   },
   {
    "duration": 74,
    "start_time": "2024-06-06T02:11:04.681Z"
   },
   {
    "duration": 31,
    "start_time": "2024-06-06T02:11:04.757Z"
   },
   {
    "duration": 26,
    "start_time": "2024-06-06T02:11:04.789Z"
   },
   {
    "duration": 43,
    "start_time": "2024-06-06T02:11:04.816Z"
   },
   {
    "duration": 42175,
    "start_time": "2024-06-06T02:11:04.861Z"
   },
   {
    "duration": 73,
    "start_time": "2024-06-06T02:11:47.037Z"
   },
   {
    "duration": 14,
    "start_time": "2024-06-06T02:11:47.111Z"
   },
   {
    "duration": 166,
    "start_time": "2024-06-06T02:11:47.126Z"
   },
   {
    "duration": 20,
    "start_time": "2024-06-06T02:11:47.293Z"
   },
   {
    "duration": 4,
    "start_time": "2024-06-06T02:11:47.314Z"
   },
   {
    "duration": 41,
    "start_time": "2024-06-06T02:11:47.319Z"
   },
   {
    "duration": 7,
    "start_time": "2024-06-06T02:11:47.361Z"
   },
   {
    "duration": 69,
    "start_time": "2024-06-06T02:11:47.370Z"
   },
   {
    "duration": 16,
    "start_time": "2024-06-06T02:11:47.440Z"
   },
   {
    "duration": 15,
    "start_time": "2024-06-06T02:11:47.457Z"
   },
   {
    "duration": 35,
    "start_time": "2024-06-06T02:11:47.473Z"
   },
   {
    "duration": 1436,
    "start_time": "2024-06-06T02:11:47.509Z"
   },
   {
    "duration": 58,
    "start_time": "2024-06-06T02:11:48.947Z"
   },
   {
    "duration": 551,
    "start_time": "2024-06-06T02:11:49.007Z"
   },
   {
    "duration": 490,
    "start_time": "2024-06-06T02:11:49.560Z"
   },
   {
    "duration": 8,
    "start_time": "2024-06-06T02:11:50.053Z"
   },
   {
    "duration": 44,
    "start_time": "2024-06-06T02:11:50.062Z"
   },
   {
    "duration": 20,
    "start_time": "2024-06-06T02:11:50.107Z"
   },
   {
    "duration": 10,
    "start_time": "2024-06-06T02:11:50.128Z"
   },
   {
    "duration": 10786,
    "start_time": "2024-06-06T02:11:50.139Z"
   },
   {
    "duration": 10,
    "start_time": "2024-06-06T02:12:00.929Z"
   },
   {
    "duration": 58,
    "start_time": "2024-06-06T02:12:00.940Z"
   },
   {
    "duration": 125,
    "start_time": "2024-06-06T02:12:01.000Z"
   },
   {
    "duration": 5592,
    "start_time": "2024-06-06T02:12:01.126Z"
   },
   {
    "duration": 14,
    "start_time": "2024-06-06T02:12:06.719Z"
   },
   {
    "duration": 14,
    "start_time": "2024-06-06T02:12:06.735Z"
   },
   {
    "duration": 157,
    "start_time": "2024-06-06T02:12:06.751Z"
   },
   {
    "duration": 4355,
    "start_time": "2024-06-06T02:12:06.909Z"
   },
   {
    "duration": 22,
    "start_time": "2024-06-06T02:12:11.265Z"
   },
   {
    "duration": 3,
    "start_time": "2024-06-06T02:12:11.288Z"
   },
   {
    "duration": 60,
    "start_time": "2024-06-06T02:12:11.292Z"
   },
   {
    "duration": 37,
    "start_time": "2024-06-06T02:12:11.353Z"
   },
   {
    "duration": 130,
    "start_time": "2024-06-06T02:12:11.392Z"
   },
   {
    "duration": 253,
    "start_time": "2024-06-06T02:12:11.523Z"
   },
   {
    "duration": 24,
    "start_time": "2024-06-06T02:12:11.777Z"
   },
   {
    "duration": 14,
    "start_time": "2024-06-06T02:12:11.802Z"
   },
   {
    "duration": 388,
    "start_time": "2024-06-06T02:12:11.817Z"
   },
   {
    "duration": 12540,
    "start_time": "2024-06-06T02:12:12.208Z"
   },
   {
    "duration": 160,
    "start_time": "2024-06-06T02:12:24.749Z"
   },
   {
    "duration": 399,
    "start_time": "2024-06-06T02:12:24.910Z"
   },
   {
    "duration": 19,
    "start_time": "2024-06-06T02:12:25.310Z"
   },
   {
    "duration": 5,
    "start_time": "2024-06-06T02:12:25.331Z"
   },
   {
    "duration": 4166,
    "start_time": "2024-06-06T02:12:25.337Z"
   },
   {
    "duration": 500,
    "start_time": "2024-06-06T02:12:29.504Z"
   },
   {
    "duration": 4,
    "start_time": "2024-06-06T02:12:30.006Z"
   },
   {
    "duration": 104,
    "start_time": "2024-06-06T02:12:30.011Z"
   },
   {
    "duration": 63,
    "start_time": "2024-06-06T02:12:30.116Z"
   },
   {
    "duration": 7,
    "start_time": "2024-06-06T02:12:30.180Z"
   },
   {
    "duration": 5289,
    "start_time": "2024-06-06T02:14:09.504Z"
   },
   {
    "duration": 1281,
    "start_time": "2024-06-06T02:14:14.794Z"
   },
   {
    "duration": 6,
    "start_time": "2024-06-06T02:14:16.077Z"
   },
   {
    "duration": 20,
    "start_time": "2024-06-06T02:14:16.085Z"
   },
   {
    "duration": 803,
    "start_time": "2024-06-06T02:14:16.107Z"
   },
   {
    "duration": 313,
    "start_time": "2024-06-06T02:14:16.911Z"
   },
   {
    "duration": 52,
    "start_time": "2024-06-06T02:14:17.226Z"
   },
   {
    "duration": 38,
    "start_time": "2024-06-06T02:14:17.279Z"
   },
   {
    "duration": 84,
    "start_time": "2024-06-06T02:14:17.318Z"
   },
   {
    "duration": 339,
    "start_time": "2024-06-06T02:14:17.404Z"
   },
   {
    "duration": 70,
    "start_time": "2024-06-06T02:14:17.744Z"
   },
   {
    "duration": 25,
    "start_time": "2024-06-06T02:14:17.815Z"
   },
   {
    "duration": 41801,
    "start_time": "2024-06-06T02:14:17.842Z"
   },
   {
    "duration": 65,
    "start_time": "2024-06-06T02:14:59.644Z"
   },
   {
    "duration": 3448,
    "start_time": "2024-06-06T02:14:59.710Z"
   },
   {
    "duration": 84,
    "start_time": "2024-06-06T02:15:03.160Z"
   },
   {
    "duration": 78,
    "start_time": "2024-06-06T02:15:03.246Z"
   },
   {
    "duration": 20,
    "start_time": "2024-06-06T02:15:03.325Z"
   },
   {
    "duration": 58,
    "start_time": "2024-06-06T02:15:03.346Z"
   },
   {
    "duration": 42117,
    "start_time": "2024-06-06T02:15:03.405Z"
   },
   {
    "duration": 59,
    "start_time": "2024-06-06T02:15:45.523Z"
   },
   {
    "duration": 23,
    "start_time": "2024-06-06T02:15:45.583Z"
   },
   {
    "duration": 157,
    "start_time": "2024-06-06T02:15:45.608Z"
   },
   {
    "duration": 14,
    "start_time": "2024-06-06T02:15:45.766Z"
   },
   {
    "duration": 10,
    "start_time": "2024-06-06T02:15:45.781Z"
   },
   {
    "duration": 46,
    "start_time": "2024-06-06T02:15:45.793Z"
   },
   {
    "duration": 7,
    "start_time": "2024-06-06T02:15:45.840Z"
   },
   {
    "duration": 65,
    "start_time": "2024-06-06T02:15:45.851Z"
   },
   {
    "duration": 16,
    "start_time": "2024-06-06T02:15:45.917Z"
   },
   {
    "duration": 14,
    "start_time": "2024-06-06T02:15:45.934Z"
   },
   {
    "duration": 21,
    "start_time": "2024-06-06T02:15:45.949Z"
   },
   {
    "duration": 1414,
    "start_time": "2024-06-06T02:15:45.971Z"
   },
   {
    "duration": 53,
    "start_time": "2024-06-06T02:15:47.386Z"
   },
   {
    "duration": 617,
    "start_time": "2024-06-06T02:15:47.440Z"
   },
   {
    "duration": 486,
    "start_time": "2024-06-06T02:15:48.058Z"
   },
   {
    "duration": 6,
    "start_time": "2024-06-06T02:15:48.545Z"
   },
   {
    "duration": 70,
    "start_time": "2024-06-06T02:15:48.552Z"
   },
   {
    "duration": 17,
    "start_time": "2024-06-06T02:15:48.624Z"
   },
   {
    "duration": 8,
    "start_time": "2024-06-06T02:15:48.643Z"
   },
   {
    "duration": 10561,
    "start_time": "2024-06-06T02:15:48.653Z"
   },
   {
    "duration": 11,
    "start_time": "2024-06-06T02:15:59.215Z"
   },
   {
    "duration": 7,
    "start_time": "2024-06-06T02:15:59.228Z"
   },
   {
    "duration": 4,
    "start_time": "2024-06-06T02:15:59.236Z"
   },
   {
    "duration": 5609,
    "start_time": "2024-06-06T02:15:59.241Z"
   },
   {
    "duration": 14,
    "start_time": "2024-06-06T02:16:04.851Z"
   },
   {
    "duration": 15,
    "start_time": "2024-06-06T02:16:04.867Z"
   },
   {
    "duration": 158,
    "start_time": "2024-06-06T02:16:04.883Z"
   },
   {
    "duration": 4301,
    "start_time": "2024-06-06T02:16:05.043Z"
   },
   {
    "duration": 20,
    "start_time": "2024-06-06T02:16:09.345Z"
   },
   {
    "duration": 2,
    "start_time": "2024-06-06T02:16:09.366Z"
   },
   {
    "duration": 69,
    "start_time": "2024-06-06T02:16:09.370Z"
   },
   {
    "duration": 37,
    "start_time": "2024-06-06T02:16:09.440Z"
   },
   {
    "duration": 128,
    "start_time": "2024-06-06T02:16:09.478Z"
   },
   {
    "duration": 252,
    "start_time": "2024-06-06T02:16:09.607Z"
   },
   {
    "duration": 19,
    "start_time": "2024-06-06T02:16:09.860Z"
   },
   {
    "duration": 24,
    "start_time": "2024-06-06T02:16:09.880Z"
   },
   {
    "duration": 299,
    "start_time": "2024-06-06T02:16:09.905Z"
   },
   {
    "duration": 12550,
    "start_time": "2024-06-06T02:16:10.207Z"
   },
   {
    "duration": 116343,
    "start_time": "2024-06-06T02:16:22.759Z"
   },
   {
    "duration": 401,
    "start_time": "2024-06-06T02:18:19.103Z"
   },
   {
    "duration": 16,
    "start_time": "2024-06-06T02:18:19.505Z"
   },
   {
    "duration": 5,
    "start_time": "2024-06-06T02:18:19.522Z"
   },
   {
    "duration": 5875,
    "start_time": "2024-06-06T02:18:19.528Z"
   },
   {
    "duration": 409,
    "start_time": "2024-06-06T02:18:25.405Z"
   },
   {
    "duration": 6,
    "start_time": "2024-06-06T02:18:25.904Z"
   },
   {
    "duration": 4492,
    "start_time": "2024-06-06T02:18:25.911Z"
   },
   {
    "duration": 420,
    "start_time": "2024-06-06T02:18:30.406Z"
   },
   {
    "duration": 4,
    "start_time": "2024-06-06T02:18:30.902Z"
   },
   {
    "duration": 534,
    "start_time": "2024-06-06T02:27:42.285Z"
   },
   {
    "duration": 5243,
    "start_time": "2024-06-06T02:29:52.164Z"
   },
   {
    "duration": 1219,
    "start_time": "2024-06-06T02:29:57.409Z"
   },
   {
    "duration": 6,
    "start_time": "2024-06-06T02:29:58.629Z"
   },
   {
    "duration": 11,
    "start_time": "2024-06-06T02:29:58.637Z"
   },
   {
    "duration": 824,
    "start_time": "2024-06-06T02:29:58.650Z"
   },
   {
    "duration": 320,
    "start_time": "2024-06-06T02:29:59.475Z"
   },
   {
    "duration": 56,
    "start_time": "2024-06-06T02:29:59.796Z"
   },
   {
    "duration": 28,
    "start_time": "2024-06-06T02:29:59.854Z"
   },
   {
    "duration": 84,
    "start_time": "2024-06-06T02:29:59.883Z"
   },
   {
    "duration": 375,
    "start_time": "2024-06-06T02:29:59.969Z"
   },
   {
    "duration": 97,
    "start_time": "2024-06-06T02:30:00.345Z"
   },
   {
    "duration": 82,
    "start_time": "2024-06-06T02:30:00.443Z"
   },
   {
    "duration": 42203,
    "start_time": "2024-06-06T02:30:00.526Z"
   },
   {
    "duration": 61,
    "start_time": "2024-06-06T02:30:42.730Z"
   },
   {
    "duration": 3290,
    "start_time": "2024-06-06T02:30:42.792Z"
   },
   {
    "duration": 66,
    "start_time": "2024-06-06T02:30:46.083Z"
   },
   {
    "duration": 41,
    "start_time": "2024-06-06T02:30:46.150Z"
   },
   {
    "duration": 25,
    "start_time": "2024-06-06T02:30:46.192Z"
   },
   {
    "duration": 44,
    "start_time": "2024-06-06T02:30:46.219Z"
   },
   {
    "duration": 42316,
    "start_time": "2024-06-06T02:30:46.265Z"
   },
   {
    "duration": 60,
    "start_time": "2024-06-06T02:31:28.583Z"
   },
   {
    "duration": 20,
    "start_time": "2024-06-06T02:31:28.644Z"
   },
   {
    "duration": 155,
    "start_time": "2024-06-06T02:31:28.665Z"
   },
   {
    "duration": 13,
    "start_time": "2024-06-06T02:31:28.821Z"
   },
   {
    "duration": 5,
    "start_time": "2024-06-06T02:31:28.836Z"
   },
   {
    "duration": 40,
    "start_time": "2024-06-06T02:31:28.842Z"
   },
   {
    "duration": 23,
    "start_time": "2024-06-06T02:31:28.883Z"
   },
   {
    "duration": 56,
    "start_time": "2024-06-06T02:31:28.910Z"
   },
   {
    "duration": 37,
    "start_time": "2024-06-06T02:31:28.968Z"
   },
   {
    "duration": 16,
    "start_time": "2024-06-06T02:31:29.006Z"
   },
   {
    "duration": 25,
    "start_time": "2024-06-06T02:31:29.023Z"
   },
   {
    "duration": 1583,
    "start_time": "2024-06-06T02:31:29.049Z"
   },
   {
    "duration": 60,
    "start_time": "2024-06-06T02:31:30.634Z"
   },
   {
    "duration": 600,
    "start_time": "2024-06-06T02:31:30.701Z"
   },
   {
    "duration": 540,
    "start_time": "2024-06-06T02:31:31.303Z"
   },
   {
    "duration": 6,
    "start_time": "2024-06-06T02:31:31.844Z"
   },
   {
    "duration": 31,
    "start_time": "2024-06-06T02:31:31.851Z"
   },
   {
    "duration": 19,
    "start_time": "2024-06-06T02:31:31.884Z"
   },
   {
    "duration": 9,
    "start_time": "2024-06-06T02:31:31.904Z"
   },
   {
    "duration": 10628,
    "start_time": "2024-06-06T02:31:31.914Z"
   },
   {
    "duration": 6,
    "start_time": "2024-06-06T02:31:42.543Z"
   },
   {
    "duration": 14,
    "start_time": "2024-06-06T02:31:42.550Z"
   },
   {
    "duration": 9,
    "start_time": "2024-06-06T02:31:42.565Z"
   },
   {
    "duration": 5442,
    "start_time": "2024-06-06T02:31:42.575Z"
   },
   {
    "duration": 13,
    "start_time": "2024-06-06T02:31:48.018Z"
   },
   {
    "duration": 52,
    "start_time": "2024-06-06T02:31:48.032Z"
   },
   {
    "duration": 155,
    "start_time": "2024-06-06T02:31:48.086Z"
   },
   {
    "duration": 4386,
    "start_time": "2024-06-06T02:31:48.242Z"
   },
   {
    "duration": 15,
    "start_time": "2024-06-06T02:31:52.629Z"
   },
   {
    "duration": 14,
    "start_time": "2024-06-06T02:31:52.646Z"
   },
   {
    "duration": 73,
    "start_time": "2024-06-06T02:31:52.661Z"
   },
   {
    "duration": 38,
    "start_time": "2024-06-06T02:31:52.735Z"
   },
   {
    "duration": 121,
    "start_time": "2024-06-06T02:31:52.774Z"
   },
   {
    "duration": 261,
    "start_time": "2024-06-06T02:31:52.897Z"
   },
   {
    "duration": 17,
    "start_time": "2024-06-06T02:31:53.160Z"
   },
   {
    "duration": 30,
    "start_time": "2024-06-06T02:31:53.178Z"
   },
   {
    "duration": 304,
    "start_time": "2024-06-06T02:31:53.209Z"
   },
   {
    "duration": 12447,
    "start_time": "2024-06-06T02:31:53.514Z"
   },
   {
    "duration": 111040,
    "start_time": "2024-06-06T02:32:05.962Z"
   },
   {
    "duration": 407,
    "start_time": "2024-06-06T02:33:57.004Z"
   },
   {
    "duration": 14,
    "start_time": "2024-06-06T02:33:57.412Z"
   },
   {
    "duration": 3,
    "start_time": "2024-06-06T02:33:57.428Z"
   },
   {
    "duration": 4378,
    "start_time": "2024-06-06T02:33:57.432Z"
   },
   {
    "duration": 410,
    "start_time": "2024-06-06T02:34:01.902Z"
   },
   {
    "duration": 5,
    "start_time": "2024-06-06T02:34:02.313Z"
   },
   {
    "duration": 4701,
    "start_time": "2024-06-06T02:34:02.402Z"
   },
   {
    "duration": 496,
    "start_time": "2024-06-06T02:34:07.105Z"
   },
   {
    "duration": 4,
    "start_time": "2024-06-06T02:34:07.604Z"
   },
   {
    "duration": 507,
    "start_time": "2024-06-06T02:34:07.609Z"
   },
   {
    "duration": 5195,
    "start_time": "2024-06-06T02:35:38.133Z"
   },
   {
    "duration": 1213,
    "start_time": "2024-06-06T02:35:43.331Z"
   },
   {
    "duration": 4,
    "start_time": "2024-06-06T02:35:44.545Z"
   },
   {
    "duration": 4,
    "start_time": "2024-06-06T02:35:44.551Z"
   },
   {
    "duration": 800,
    "start_time": "2024-06-06T02:35:44.556Z"
   },
   {
    "duration": 343,
    "start_time": "2024-06-06T02:35:45.357Z"
   },
   {
    "duration": 52,
    "start_time": "2024-06-06T02:35:45.702Z"
   },
   {
    "duration": 26,
    "start_time": "2024-06-06T02:35:45.756Z"
   },
   {
    "duration": 82,
    "start_time": "2024-06-06T02:35:45.784Z"
   },
   {
    "duration": 322,
    "start_time": "2024-06-06T02:35:45.869Z"
   },
   {
    "duration": 70,
    "start_time": "2024-06-06T02:35:46.192Z"
   },
   {
    "duration": 25,
    "start_time": "2024-06-06T02:35:46.263Z"
   },
   {
    "duration": 42297,
    "start_time": "2024-06-06T02:35:46.290Z"
   },
   {
    "duration": 65,
    "start_time": "2024-06-06T02:36:28.588Z"
   },
   {
    "duration": 3338,
    "start_time": "2024-06-06T02:36:28.654Z"
   },
   {
    "duration": 64,
    "start_time": "2024-06-06T02:36:31.993Z"
   },
   {
    "duration": 52,
    "start_time": "2024-06-06T02:36:32.058Z"
   },
   {
    "duration": 18,
    "start_time": "2024-06-06T02:36:32.111Z"
   },
   {
    "duration": 53,
    "start_time": "2024-06-06T02:36:32.130Z"
   },
   {
    "duration": 42255,
    "start_time": "2024-06-06T02:36:32.184Z"
   },
   {
    "duration": 63,
    "start_time": "2024-06-06T02:37:14.441Z"
   },
   {
    "duration": 19,
    "start_time": "2024-06-06T02:37:14.505Z"
   },
   {
    "duration": 190,
    "start_time": "2024-06-06T02:37:14.525Z"
   },
   {
    "duration": 14,
    "start_time": "2024-06-06T02:37:14.716Z"
   },
   {
    "duration": 6,
    "start_time": "2024-06-06T02:37:14.731Z"
   },
   {
    "duration": 40,
    "start_time": "2024-06-06T02:37:14.738Z"
   },
   {
    "duration": 27,
    "start_time": "2024-06-06T02:37:14.779Z"
   },
   {
    "duration": 52,
    "start_time": "2024-06-06T02:37:14.809Z"
   },
   {
    "duration": 15,
    "start_time": "2024-06-06T02:37:14.862Z"
   },
   {
    "duration": 35,
    "start_time": "2024-06-06T02:37:14.879Z"
   },
   {
    "duration": 22,
    "start_time": "2024-06-06T02:37:14.920Z"
   },
   {
    "duration": 1432,
    "start_time": "2024-06-06T02:37:14.943Z"
   },
   {
    "duration": 63,
    "start_time": "2024-06-06T02:37:16.376Z"
   },
   {
    "duration": 623,
    "start_time": "2024-06-06T02:37:16.440Z"
   },
   {
    "duration": 522,
    "start_time": "2024-06-06T02:37:17.064Z"
   },
   {
    "duration": 6,
    "start_time": "2024-06-06T02:37:17.587Z"
   },
   {
    "duration": 19,
    "start_time": "2024-06-06T02:37:17.594Z"
   },
   {
    "duration": 17,
    "start_time": "2024-06-06T02:37:17.614Z"
   },
   {
    "duration": 9,
    "start_time": "2024-06-06T02:37:17.633Z"
   },
   {
    "duration": 10907,
    "start_time": "2024-06-06T02:37:17.643Z"
   },
   {
    "duration": 7,
    "start_time": "2024-06-06T02:37:28.551Z"
   },
   {
    "duration": 8,
    "start_time": "2024-06-06T02:37:28.559Z"
   },
   {
    "duration": 14,
    "start_time": "2024-06-06T02:37:28.568Z"
   },
   {
    "duration": 5407,
    "start_time": "2024-06-06T02:37:28.583Z"
   },
   {
    "duration": 20,
    "start_time": "2024-06-06T02:37:33.991Z"
   },
   {
    "duration": 37,
    "start_time": "2024-06-06T02:37:34.012Z"
   },
   {
    "duration": 151,
    "start_time": "2024-06-06T02:37:34.050Z"
   },
   {
    "duration": 4357,
    "start_time": "2024-06-06T02:37:34.203Z"
   },
   {
    "duration": 31,
    "start_time": "2024-06-06T02:37:38.561Z"
   },
   {
    "duration": 3,
    "start_time": "2024-06-06T02:37:38.593Z"
   },
   {
    "duration": 97,
    "start_time": "2024-06-06T02:37:38.597Z"
   },
   {
    "duration": 51,
    "start_time": "2024-06-06T02:37:38.695Z"
   },
   {
    "duration": 122,
    "start_time": "2024-06-06T02:37:38.747Z"
   },
   {
    "duration": 258,
    "start_time": "2024-06-06T02:37:38.871Z"
   },
   {
    "duration": 16,
    "start_time": "2024-06-06T02:37:39.130Z"
   },
   {
    "duration": 89,
    "start_time": "2024-06-06T02:37:39.147Z"
   },
   {
    "duration": 272,
    "start_time": "2024-06-06T02:37:39.237Z"
   },
   {
    "duration": 12643,
    "start_time": "2024-06-06T02:37:39.510Z"
   },
   {
    "duration": 128048,
    "start_time": "2024-06-06T02:37:52.154Z"
   },
   {
    "duration": 445,
    "start_time": "2024-06-06T02:40:00.204Z"
   },
   {
    "duration": 16,
    "start_time": "2024-06-06T02:40:00.650Z"
   },
   {
    "duration": 38,
    "start_time": "2024-06-06T02:40:00.667Z"
   },
   {
    "duration": 5103,
    "start_time": "2024-06-06T02:40:00.706Z"
   },
   {
    "duration": 592,
    "start_time": "2024-06-06T02:40:05.810Z"
   },
   {
    "duration": 5,
    "start_time": "2024-06-06T02:40:06.403Z"
   },
   {
    "duration": 5192,
    "start_time": "2024-06-06T02:40:06.409Z"
   },
   {
    "duration": 401,
    "start_time": "2024-06-06T02:40:11.602Z"
   },
   {
    "duration": 5,
    "start_time": "2024-06-06T02:40:12.004Z"
   },
   {
    "duration": 594,
    "start_time": "2024-06-06T02:40:12.011Z"
   },
   {
    "duration": 5278,
    "start_time": "2024-06-06T02:42:43.717Z"
   },
   {
    "duration": 1263,
    "start_time": "2024-06-06T02:42:48.997Z"
   },
   {
    "duration": 5,
    "start_time": "2024-06-06T02:42:50.262Z"
   },
   {
    "duration": 18,
    "start_time": "2024-06-06T02:42:50.268Z"
   },
   {
    "duration": 818,
    "start_time": "2024-06-06T02:42:50.289Z"
   },
   {
    "duration": 317,
    "start_time": "2024-06-06T02:42:51.108Z"
   },
   {
    "duration": 58,
    "start_time": "2024-06-06T02:42:51.427Z"
   },
   {
    "duration": 41,
    "start_time": "2024-06-06T02:42:51.486Z"
   },
   {
    "duration": 88,
    "start_time": "2024-06-06T02:42:51.529Z"
   },
   {
    "duration": 320,
    "start_time": "2024-06-06T02:42:51.618Z"
   },
   {
    "duration": 71,
    "start_time": "2024-06-06T02:42:51.939Z"
   },
   {
    "duration": 26,
    "start_time": "2024-06-06T02:42:52.011Z"
   },
   {
    "duration": 41994,
    "start_time": "2024-06-06T02:42:52.039Z"
   },
   {
    "duration": 70,
    "start_time": "2024-06-06T02:43:34.037Z"
   },
   {
    "duration": 3346,
    "start_time": "2024-06-06T02:43:34.108Z"
   },
   {
    "duration": 67,
    "start_time": "2024-06-06T02:43:37.455Z"
   },
   {
    "duration": 44,
    "start_time": "2024-06-06T02:43:37.524Z"
   },
   {
    "duration": 20,
    "start_time": "2024-06-06T02:43:37.569Z"
   },
   {
    "duration": 50,
    "start_time": "2024-06-06T02:43:37.590Z"
   },
   {
    "duration": 5309,
    "start_time": "2024-06-06T02:47:05.426Z"
   },
   {
    "duration": 1222,
    "start_time": "2024-06-06T02:47:10.740Z"
   },
   {
    "duration": 5,
    "start_time": "2024-06-06T02:47:11.964Z"
   },
   {
    "duration": 7,
    "start_time": "2024-06-06T02:47:11.971Z"
   },
   {
    "duration": 809,
    "start_time": "2024-06-06T02:47:11.980Z"
   },
   {
    "duration": 314,
    "start_time": "2024-06-06T02:47:12.790Z"
   },
   {
    "duration": 55,
    "start_time": "2024-06-06T02:47:13.105Z"
   },
   {
    "duration": 28,
    "start_time": "2024-06-06T02:47:13.162Z"
   },
   {
    "duration": 142,
    "start_time": "2024-06-06T02:47:13.202Z"
   },
   {
    "duration": 327,
    "start_time": "2024-06-06T02:47:13.345Z"
   },
   {
    "duration": 70,
    "start_time": "2024-06-06T02:47:13.673Z"
   },
   {
    "duration": 31,
    "start_time": "2024-06-06T02:47:13.745Z"
   },
   {
    "duration": 42153,
    "start_time": "2024-06-06T02:47:13.777Z"
   },
   {
    "duration": 61,
    "start_time": "2024-06-06T02:47:55.932Z"
   },
   {
    "duration": 3335,
    "start_time": "2024-06-06T02:47:55.995Z"
   },
   {
    "duration": 72,
    "start_time": "2024-06-06T02:47:59.332Z"
   },
   {
    "duration": 32,
    "start_time": "2024-06-06T02:47:59.405Z"
   },
   {
    "duration": 21,
    "start_time": "2024-06-06T02:47:59.438Z"
   },
   {
    "duration": 67,
    "start_time": "2024-06-06T02:47:59.460Z"
   },
   {
    "duration": 42538,
    "start_time": "2024-06-06T02:47:59.528Z"
   },
   {
    "duration": 62,
    "start_time": "2024-06-06T02:48:42.067Z"
   },
   {
    "duration": 13,
    "start_time": "2024-06-06T02:48:42.130Z"
   },
   {
    "duration": 163,
    "start_time": "2024-06-06T02:48:42.144Z"
   },
   {
    "duration": 15,
    "start_time": "2024-06-06T02:48:42.309Z"
   },
   {
    "duration": 16,
    "start_time": "2024-06-06T02:48:42.325Z"
   },
   {
    "duration": 49,
    "start_time": "2024-06-06T02:48:42.342Z"
   },
   {
    "duration": 8,
    "start_time": "2024-06-06T02:48:42.392Z"
   },
   {
    "duration": 64,
    "start_time": "2024-06-06T02:48:42.401Z"
   },
   {
    "duration": 16,
    "start_time": "2024-06-06T02:48:42.467Z"
   },
   {
    "duration": 29,
    "start_time": "2024-06-06T02:48:42.484Z"
   },
   {
    "duration": 20,
    "start_time": "2024-06-06T02:48:42.514Z"
   },
   {
    "duration": 1537,
    "start_time": "2024-06-06T02:48:42.536Z"
   },
   {
    "duration": 60,
    "start_time": "2024-06-06T02:48:44.075Z"
   },
   {
    "duration": 633,
    "start_time": "2024-06-06T02:48:44.137Z"
   },
   {
    "duration": 488,
    "start_time": "2024-06-06T02:48:44.771Z"
   },
   {
    "duration": 6,
    "start_time": "2024-06-06T02:48:45.260Z"
   },
   {
    "duration": 38,
    "start_time": "2024-06-06T02:48:45.267Z"
   },
   {
    "duration": 17,
    "start_time": "2024-06-06T02:48:45.306Z"
   },
   {
    "duration": 19,
    "start_time": "2024-06-06T02:48:45.325Z"
   },
   {
    "duration": 10962,
    "start_time": "2024-06-06T02:48:45.346Z"
   },
   {
    "duration": 10,
    "start_time": "2024-06-06T02:48:56.311Z"
   },
   {
    "duration": 24,
    "start_time": "2024-06-06T02:48:56.322Z"
   },
   {
    "duration": 29,
    "start_time": "2024-06-06T02:48:56.347Z"
   },
   {
    "duration": 5423,
    "start_time": "2024-06-06T02:48:56.377Z"
   },
   {
    "duration": 13,
    "start_time": "2024-06-06T02:49:01.801Z"
   },
   {
    "duration": 47,
    "start_time": "2024-06-06T02:49:01.815Z"
   },
   {
    "duration": 153,
    "start_time": "2024-06-06T02:49:01.864Z"
   },
   {
    "duration": 4322,
    "start_time": "2024-06-06T02:49:02.018Z"
   },
   {
    "duration": 30,
    "start_time": "2024-06-06T02:49:06.341Z"
   },
   {
    "duration": 12,
    "start_time": "2024-06-06T02:49:06.372Z"
   },
   {
    "duration": 65,
    "start_time": "2024-06-06T02:49:06.385Z"
   },
   {
    "duration": 38,
    "start_time": "2024-06-06T02:49:06.451Z"
   },
   {
    "duration": 144,
    "start_time": "2024-06-06T02:49:06.491Z"
   },
   {
    "duration": 262,
    "start_time": "2024-06-06T02:49:06.636Z"
   },
   {
    "duration": 16,
    "start_time": "2024-06-06T02:49:06.901Z"
   },
   {
    "duration": 14,
    "start_time": "2024-06-06T02:49:06.918Z"
   },
   {
    "duration": 369,
    "start_time": "2024-06-06T02:49:06.933Z"
   },
   {
    "duration": 12532,
    "start_time": "2024-06-06T02:49:07.304Z"
   },
   {
    "duration": 117863,
    "start_time": "2024-06-06T02:49:19.838Z"
   },
   {
    "duration": 412,
    "start_time": "2024-06-06T02:51:17.703Z"
   },
   {
    "duration": 19,
    "start_time": "2024-06-06T02:51:18.119Z"
   },
   {
    "duration": 5,
    "start_time": "2024-06-06T02:51:18.140Z"
   },
   {
    "duration": 5267,
    "start_time": "2024-06-06T02:51:18.146Z"
   },
   {
    "duration": 587,
    "start_time": "2024-06-06T02:51:23.415Z"
   },
   {
    "duration": 5,
    "start_time": "2024-06-06T02:51:24.003Z"
   },
   {
    "duration": 4699,
    "start_time": "2024-06-06T02:51:24.010Z"
   },
   {
    "duration": 499,
    "start_time": "2024-06-06T02:51:28.710Z"
   },
   {
    "duration": 93,
    "start_time": "2024-06-06T02:51:29.211Z"
   },
   {
    "duration": 508,
    "start_time": "2024-06-06T02:51:29.305Z"
   },
   {
    "duration": 9892,
    "start_time": "2024-10-15T16:46:16.043Z"
   },
   {
    "duration": 1447,
    "start_time": "2024-10-15T16:46:25.938Z"
   },
   {
    "duration": 5,
    "start_time": "2024-10-15T16:46:27.387Z"
   },
   {
    "duration": 77,
    "start_time": "2024-10-15T16:46:27.393Z"
   },
   {
    "duration": 4481,
    "start_time": "2024-10-15T16:46:27.473Z"
   },
   {
    "duration": 410,
    "start_time": "2024-10-15T16:46:31.956Z"
   },
   {
    "duration": 66,
    "start_time": "2024-10-15T16:46:32.367Z"
   },
   {
    "duration": 42,
    "start_time": "2024-10-15T16:46:32.435Z"
   },
   {
    "duration": 109,
    "start_time": "2024-10-15T16:46:32.479Z"
   },
   {
    "duration": 451,
    "start_time": "2024-10-15T16:46:32.589Z"
   },
   {
    "duration": 99,
    "start_time": "2024-10-15T16:46:33.042Z"
   },
   {
    "duration": 38,
    "start_time": "2024-10-15T16:46:33.144Z"
   },
   {
    "duration": 58993,
    "start_time": "2024-10-15T16:46:33.184Z"
   },
   {
    "duration": 104,
    "start_time": "2024-10-15T16:47:32.180Z"
   },
   {
    "duration": 4742,
    "start_time": "2024-10-15T16:47:32.286Z"
   },
   {
    "duration": 96,
    "start_time": "2024-10-15T16:47:37.030Z"
   },
   {
    "duration": 63,
    "start_time": "2024-10-15T16:47:37.127Z"
   },
   {
    "duration": 34,
    "start_time": "2024-10-15T16:47:37.192Z"
   },
   {
    "duration": 96,
    "start_time": "2024-10-15T16:47:37.228Z"
   },
   {
    "duration": 58761,
    "start_time": "2024-10-15T16:47:37.326Z"
   },
   {
    "duration": 97,
    "start_time": "2024-10-15T16:48:36.089Z"
   },
   {
    "duration": 25,
    "start_time": "2024-10-15T16:48:36.187Z"
   },
   {
    "duration": 229,
    "start_time": "2024-10-15T16:48:36.214Z"
   },
   {
    "duration": 15,
    "start_time": "2024-10-15T16:48:36.445Z"
   },
   {
    "duration": 39,
    "start_time": "2024-10-15T16:48:36.462Z"
   },
   {
    "duration": 101,
    "start_time": "2024-10-15T16:48:36.503Z"
   },
   {
    "duration": 9,
    "start_time": "2024-10-15T16:48:36.606Z"
   },
   {
    "duration": 66,
    "start_time": "2024-10-15T16:48:36.617Z"
   },
   {
    "duration": 22,
    "start_time": "2024-10-15T16:48:36.685Z"
   },
   {
    "duration": 18,
    "start_time": "2024-10-15T16:48:36.709Z"
   },
   {
    "duration": 39,
    "start_time": "2024-10-15T16:48:36.729Z"
   },
   {
    "duration": 1818,
    "start_time": "2024-10-15T16:48:36.769Z"
   },
   {
    "duration": 65,
    "start_time": "2024-10-15T16:48:38.588Z"
   },
   {
    "duration": 731,
    "start_time": "2024-10-15T16:48:38.654Z"
   },
   {
    "duration": 515,
    "start_time": "2024-10-15T16:48:39.387Z"
   },
   {
    "duration": 8,
    "start_time": "2024-10-15T16:48:39.904Z"
   },
   {
    "duration": 39,
    "start_time": "2024-10-15T16:48:39.914Z"
   },
   {
    "duration": 20,
    "start_time": "2024-10-15T16:48:39.955Z"
   },
   {
    "duration": 10,
    "start_time": "2024-10-15T16:48:39.977Z"
   },
   {
    "duration": 15217,
    "start_time": "2024-10-15T16:48:39.989Z"
   },
   {
    "duration": 11,
    "start_time": "2024-10-15T16:48:55.211Z"
   },
   {
    "duration": 29,
    "start_time": "2024-10-15T16:48:55.224Z"
   },
   {
    "duration": 2,
    "start_time": "2024-10-15T16:48:55.255Z"
   },
   {
    "duration": 6418,
    "start_time": "2024-10-15T16:48:55.259Z"
   },
   {
    "duration": 17,
    "start_time": "2024-10-15T16:49:01.679Z"
   },
   {
    "duration": 39,
    "start_time": "2024-10-15T16:49:01.698Z"
   },
   {
    "duration": 178,
    "start_time": "2024-10-15T16:49:01.739Z"
   },
   {
    "duration": 5600,
    "start_time": "2024-10-15T16:49:01.919Z"
   },
   {
    "duration": 37,
    "start_time": "2024-10-15T16:49:07.521Z"
   },
   {
    "duration": 31,
    "start_time": "2024-10-15T16:49:07.560Z"
   },
   {
    "duration": 114,
    "start_time": "2024-10-15T16:49:07.592Z"
   },
   {
    "duration": 52,
    "start_time": "2024-10-15T16:49:07.708Z"
   },
   {
    "duration": 152,
    "start_time": "2024-10-15T16:49:07.762Z"
   },
   {
    "duration": 327,
    "start_time": "2024-10-15T16:49:07.916Z"
   },
   {
    "duration": 23,
    "start_time": "2024-10-15T16:49:08.245Z"
   },
   {
    "duration": 25,
    "start_time": "2024-10-15T16:49:08.270Z"
   },
   {
    "duration": 958,
    "start_time": "2024-10-15T16:49:08.297Z"
   },
   {
    "duration": 13167,
    "start_time": "2024-10-15T16:49:09.257Z"
   },
   {
    "duration": 5899,
    "start_time": "2024-10-15T16:59:03.264Z"
   },
   {
    "duration": 1458,
    "start_time": "2024-10-15T16:59:09.166Z"
   },
   {
    "duration": 8,
    "start_time": "2024-10-15T16:59:10.627Z"
   },
   {
    "duration": 8,
    "start_time": "2024-10-15T16:59:10.637Z"
   },
   {
    "duration": 1082,
    "start_time": "2024-10-15T16:59:10.647Z"
   },
   {
    "duration": 428,
    "start_time": "2024-10-15T16:59:11.731Z"
   },
   {
    "duration": 62,
    "start_time": "2024-10-15T16:59:12.161Z"
   },
   {
    "duration": 47,
    "start_time": "2024-10-15T16:59:12.226Z"
   },
   {
    "duration": 131,
    "start_time": "2024-10-15T16:59:12.275Z"
   },
   {
    "duration": 432,
    "start_time": "2024-10-15T16:59:12.411Z"
   },
   {
    "duration": 108,
    "start_time": "2024-10-15T16:59:12.845Z"
   },
   {
    "duration": 36,
    "start_time": "2024-10-15T16:59:12.955Z"
   },
   {
    "duration": 65075,
    "start_time": "2024-10-15T16:59:12.993Z"
   },
   {
    "duration": 100,
    "start_time": "2024-10-15T17:00:18.070Z"
   },
   {
    "duration": 4945,
    "start_time": "2024-10-15T17:00:18.172Z"
   },
   {
    "duration": 110,
    "start_time": "2024-10-15T17:00:23.119Z"
   },
   {
    "duration": 97,
    "start_time": "2024-10-15T17:00:23.230Z"
   },
   {
    "duration": 59,
    "start_time": "2024-10-15T17:00:23.329Z"
   },
   {
    "duration": 72,
    "start_time": "2024-10-15T17:00:23.390Z"
   },
   {
    "duration": 65836,
    "start_time": "2024-10-15T17:00:23.464Z"
   },
   {
    "duration": 97,
    "start_time": "2024-10-15T17:01:29.302Z"
   },
   {
    "duration": 27,
    "start_time": "2024-10-15T17:01:29.401Z"
   },
   {
    "duration": 252,
    "start_time": "2024-10-15T17:01:29.430Z"
   },
   {
    "duration": 15,
    "start_time": "2024-10-15T17:01:29.684Z"
   },
   {
    "duration": 7,
    "start_time": "2024-10-15T17:01:29.700Z"
   },
   {
    "duration": 70,
    "start_time": "2024-10-15T17:01:29.709Z"
   },
   {
    "duration": 10,
    "start_time": "2024-10-15T17:01:29.781Z"
   },
   {
    "duration": 83,
    "start_time": "2024-10-15T17:01:29.797Z"
   },
   {
    "duration": 19,
    "start_time": "2024-10-15T17:01:29.883Z"
   },
   {
    "duration": 21,
    "start_time": "2024-10-15T17:01:29.904Z"
   },
   {
    "duration": 47,
    "start_time": "2024-10-15T17:01:29.926Z"
   },
   {
    "duration": 1806,
    "start_time": "2024-10-15T17:01:29.975Z"
   },
   {
    "duration": 58,
    "start_time": "2024-10-15T17:01:31.783Z"
   },
   {
    "duration": 765,
    "start_time": "2024-10-15T17:01:31.852Z"
   },
   {
    "duration": 570,
    "start_time": "2024-10-15T17:01:32.619Z"
   },
   {
    "duration": 9,
    "start_time": "2024-10-15T17:01:33.191Z"
   },
   {
    "duration": 27,
    "start_time": "2024-10-15T17:01:33.202Z"
   },
   {
    "duration": 45,
    "start_time": "2024-10-15T17:01:33.231Z"
   },
   {
    "duration": 14,
    "start_time": "2024-10-15T17:01:33.278Z"
   },
   {
    "duration": 15690,
    "start_time": "2024-10-15T17:01:33.295Z"
   },
   {
    "duration": 11,
    "start_time": "2024-10-15T17:01:48.989Z"
   },
   {
    "duration": 19,
    "start_time": "2024-10-15T17:01:49.001Z"
   },
   {
    "duration": 7,
    "start_time": "2024-10-15T17:01:49.022Z"
   },
   {
    "duration": 7722,
    "start_time": "2024-10-15T17:01:49.030Z"
   },
   {
    "duration": 20,
    "start_time": "2024-10-15T17:01:56.753Z"
   },
   {
    "duration": 25,
    "start_time": "2024-10-15T17:01:56.775Z"
   },
   {
    "duration": 204,
    "start_time": "2024-10-15T17:01:56.801Z"
   },
   {
    "duration": 5704,
    "start_time": "2024-10-15T17:01:57.007Z"
   },
   {
    "duration": 53,
    "start_time": "2024-10-15T17:02:02.714Z"
   },
   {
    "duration": 4,
    "start_time": "2024-10-15T17:02:02.770Z"
   },
   {
    "duration": 118,
    "start_time": "2024-10-15T17:02:02.777Z"
   },
   {
    "duration": 62,
    "start_time": "2024-10-15T17:02:02.897Z"
   },
   {
    "duration": 167,
    "start_time": "2024-10-15T17:02:02.961Z"
   },
   {
    "duration": 330,
    "start_time": "2024-10-15T17:02:03.129Z"
   },
   {
    "duration": 31,
    "start_time": "2024-10-15T17:02:03.461Z"
   },
   {
    "duration": 126,
    "start_time": "2024-10-15T17:02:03.494Z"
   },
   {
    "duration": 332,
    "start_time": "2024-10-15T17:02:03.622Z"
   },
   {
    "duration": 13954,
    "start_time": "2024-10-15T17:02:03.957Z"
   },
   {
    "duration": 5636,
    "start_time": "2024-10-15T17:04:18.112Z"
   },
   {
    "duration": 1420,
    "start_time": "2024-10-15T17:04:23.751Z"
   },
   {
    "duration": 5,
    "start_time": "2024-10-15T17:04:25.172Z"
   },
   {
    "duration": 14,
    "start_time": "2024-10-15T17:04:25.180Z"
   },
   {
    "duration": 1089,
    "start_time": "2024-10-15T17:04:25.195Z"
   },
   {
    "duration": 424,
    "start_time": "2024-10-15T17:04:26.285Z"
   },
   {
    "duration": 77,
    "start_time": "2024-10-15T17:04:26.711Z"
   },
   {
    "duration": 31,
    "start_time": "2024-10-15T17:04:26.790Z"
   },
   {
    "duration": 120,
    "start_time": "2024-10-15T17:04:26.822Z"
   },
   {
    "duration": 464,
    "start_time": "2024-10-15T17:04:26.955Z"
   },
   {
    "duration": 164,
    "start_time": "2024-10-15T17:04:27.421Z"
   },
   {
    "duration": 27,
    "start_time": "2024-10-15T17:04:27.587Z"
   },
   {
    "duration": 61006,
    "start_time": "2024-10-15T17:04:27.616Z"
   },
   {
    "duration": 101,
    "start_time": "2024-10-15T17:05:28.623Z"
   },
   {
    "duration": 5029,
    "start_time": "2024-10-15T17:05:28.726Z"
   },
   {
    "duration": 100,
    "start_time": "2024-10-15T17:05:33.757Z"
   },
   {
    "duration": 45,
    "start_time": "2024-10-15T17:05:33.859Z"
   },
   {
    "duration": 51,
    "start_time": "2024-10-15T17:05:33.906Z"
   },
   {
    "duration": 79,
    "start_time": "2024-10-15T17:05:33.960Z"
   },
   {
    "duration": 61718,
    "start_time": "2024-10-15T17:05:34.053Z"
   },
   {
    "duration": 110,
    "start_time": "2024-10-15T17:06:35.773Z"
   },
   {
    "duration": 31,
    "start_time": "2024-10-15T17:06:35.884Z"
   },
   {
    "duration": 330,
    "start_time": "2024-10-15T17:06:35.918Z"
   },
   {
    "duration": 27,
    "start_time": "2024-10-15T17:06:36.253Z"
   },
   {
    "duration": 22,
    "start_time": "2024-10-15T17:06:36.282Z"
   },
   {
    "duration": 58,
    "start_time": "2024-10-15T17:06:36.306Z"
   },
   {
    "duration": 10,
    "start_time": "2024-10-15T17:06:36.366Z"
   },
   {
    "duration": 81,
    "start_time": "2024-10-15T17:06:36.381Z"
   },
   {
    "duration": 19,
    "start_time": "2024-10-15T17:06:36.464Z"
   },
   {
    "duration": 33,
    "start_time": "2024-10-15T17:06:36.484Z"
   },
   {
    "duration": 28,
    "start_time": "2024-10-15T17:06:36.519Z"
   },
   {
    "duration": 1787,
    "start_time": "2024-10-15T17:06:36.553Z"
   },
   {
    "duration": 67,
    "start_time": "2024-10-15T17:06:38.342Z"
   },
   {
    "duration": 777,
    "start_time": "2024-10-15T17:06:38.410Z"
   },
   {
    "duration": 528,
    "start_time": "2024-10-15T17:06:39.189Z"
   },
   {
    "duration": 8,
    "start_time": "2024-10-15T17:06:39.719Z"
   },
   {
    "duration": 37,
    "start_time": "2024-10-15T17:06:39.728Z"
   },
   {
    "duration": 21,
    "start_time": "2024-10-15T17:06:39.767Z"
   },
   {
    "duration": 10,
    "start_time": "2024-10-15T17:06:39.790Z"
   },
   {
    "duration": 15320,
    "start_time": "2024-10-15T17:06:39.801Z"
   },
   {
    "duration": 19,
    "start_time": "2024-10-15T17:06:55.123Z"
   },
   {
    "duration": 15,
    "start_time": "2024-10-15T17:06:55.153Z"
   },
   {
    "duration": 7,
    "start_time": "2024-10-15T17:06:55.169Z"
   },
   {
    "duration": 6654,
    "start_time": "2024-10-15T17:06:55.179Z"
   },
   {
    "duration": 28,
    "start_time": "2024-10-15T17:07:01.835Z"
   },
   {
    "duration": 18,
    "start_time": "2024-10-15T17:07:01.865Z"
   },
   {
    "duration": 249,
    "start_time": "2024-10-15T17:07:01.885Z"
   },
   {
    "duration": 5777,
    "start_time": "2024-10-15T17:07:02.135Z"
   },
   {
    "duration": 38,
    "start_time": "2024-10-15T17:07:07.914Z"
   },
   {
    "duration": 3,
    "start_time": "2024-10-15T17:07:07.953Z"
   },
   {
    "duration": 93,
    "start_time": "2024-10-15T17:07:07.958Z"
   },
   {
    "duration": 53,
    "start_time": "2024-10-15T17:07:08.052Z"
   },
   {
    "duration": 168,
    "start_time": "2024-10-15T17:07:08.107Z"
   },
   {
    "duration": 337,
    "start_time": "2024-10-15T17:07:08.276Z"
   },
   {
    "duration": 23,
    "start_time": "2024-10-15T17:07:08.615Z"
   },
   {
    "duration": 24,
    "start_time": "2024-10-15T17:07:08.640Z"
   },
   {
    "duration": 586,
    "start_time": "2024-10-15T17:07:08.666Z"
   },
   {
    "duration": 14224,
    "start_time": "2024-10-15T17:07:09.254Z"
   },
   {
    "duration": 5595,
    "start_time": "2024-10-15T19:08:38.010Z"
   },
   {
    "duration": 1284,
    "start_time": "2024-10-15T19:08:43.608Z"
   },
   {
    "duration": 5,
    "start_time": "2024-10-15T19:08:44.894Z"
   },
   {
    "duration": 10,
    "start_time": "2024-10-15T19:08:44.900Z"
   },
   {
    "duration": 1087,
    "start_time": "2024-10-15T19:08:44.912Z"
   },
   {
    "duration": 403,
    "start_time": "2024-10-15T19:08:46.001Z"
   },
   {
    "duration": 66,
    "start_time": "2024-10-15T19:08:46.406Z"
   },
   {
    "duration": 31,
    "start_time": "2024-10-15T19:08:46.474Z"
   },
   {
    "duration": 106,
    "start_time": "2024-10-15T19:08:46.507Z"
   },
   {
    "duration": 429,
    "start_time": "2024-10-15T19:08:46.615Z"
   },
   {
    "duration": 96,
    "start_time": "2024-10-15T19:08:47.046Z"
   },
   {
    "duration": 23,
    "start_time": "2024-10-15T19:08:47.153Z"
   },
   {
    "duration": 58875,
    "start_time": "2024-10-15T19:08:47.178Z"
   },
   {
    "duration": 103,
    "start_time": "2024-10-15T19:09:46.056Z"
   },
   {
    "duration": 4905,
    "start_time": "2024-10-15T19:09:46.160Z"
   },
   {
    "duration": 94,
    "start_time": "2024-10-15T19:09:51.067Z"
   },
   {
    "duration": 61,
    "start_time": "2024-10-15T19:09:51.162Z"
   },
   {
    "duration": 31,
    "start_time": "2024-10-15T19:09:51.224Z"
   },
   {
    "duration": 69,
    "start_time": "2024-10-15T19:09:51.256Z"
   },
   {
    "duration": 60207,
    "start_time": "2024-10-15T19:09:51.326Z"
   },
   {
    "duration": 109,
    "start_time": "2024-10-15T19:10:51.535Z"
   },
   {
    "duration": 15,
    "start_time": "2024-10-15T19:10:51.652Z"
   },
   {
    "duration": 227,
    "start_time": "2024-10-15T19:10:51.669Z"
   },
   {
    "duration": 22,
    "start_time": "2024-10-15T19:10:51.897Z"
   },
   {
    "duration": 28,
    "start_time": "2024-10-15T19:10:51.921Z"
   },
   {
    "duration": 91,
    "start_time": "2024-10-15T19:10:51.951Z"
   },
   {
    "duration": 11,
    "start_time": "2024-10-15T19:10:52.044Z"
   },
   {
    "duration": 73,
    "start_time": "2024-10-15T19:10:52.057Z"
   },
   {
    "duration": 37,
    "start_time": "2024-10-15T19:10:52.132Z"
   },
   {
    "duration": 83,
    "start_time": "2024-10-15T19:10:52.172Z"
   },
   {
    "duration": 22,
    "start_time": "2024-10-15T19:10:52.257Z"
   },
   {
    "duration": 1730,
    "start_time": "2024-10-15T19:10:52.283Z"
   },
   {
    "duration": 73,
    "start_time": "2024-10-15T19:10:54.015Z"
   },
   {
    "duration": 793,
    "start_time": "2024-10-15T19:10:54.090Z"
   },
   {
    "duration": 593,
    "start_time": "2024-10-15T19:10:54.885Z"
   },
   {
    "duration": 8,
    "start_time": "2024-10-15T19:10:55.480Z"
   },
   {
    "duration": 21,
    "start_time": "2024-10-15T19:10:55.489Z"
   },
   {
    "duration": 21,
    "start_time": "2024-10-15T19:10:55.512Z"
   },
   {
    "duration": 11,
    "start_time": "2024-10-15T19:10:55.553Z"
   },
   {
    "duration": 15679,
    "start_time": "2024-10-15T19:10:55.565Z"
   },
   {
    "duration": 11,
    "start_time": "2024-10-15T19:11:11.252Z"
   },
   {
    "duration": 12,
    "start_time": "2024-10-15T19:11:11.265Z"
   },
   {
    "duration": 3,
    "start_time": "2024-10-15T19:11:11.279Z"
   },
   {
    "duration": 6686,
    "start_time": "2024-10-15T19:11:11.284Z"
   },
   {
    "duration": 18,
    "start_time": "2024-10-15T19:11:17.972Z"
   },
   {
    "duration": 20,
    "start_time": "2024-10-15T19:11:17.992Z"
   },
   {
    "duration": 201,
    "start_time": "2024-10-15T19:11:18.015Z"
   },
   {
    "duration": 5699,
    "start_time": "2024-10-15T19:11:18.218Z"
   },
   {
    "duration": 39,
    "start_time": "2024-10-15T19:11:23.919Z"
   },
   {
    "duration": 3,
    "start_time": "2024-10-15T19:11:23.959Z"
   },
   {
    "duration": 106,
    "start_time": "2024-10-15T19:11:23.964Z"
   },
   {
    "duration": 56,
    "start_time": "2024-10-15T19:11:24.072Z"
   },
   {
    "duration": 201,
    "start_time": "2024-10-15T19:11:24.131Z"
   },
   {
    "duration": 384,
    "start_time": "2024-10-15T19:11:24.334Z"
   },
   {
    "duration": 23,
    "start_time": "2024-10-15T19:11:24.720Z"
   },
   {
    "duration": 26,
    "start_time": "2024-10-15T19:11:24.745Z"
   },
   {
    "duration": 484,
    "start_time": "2024-10-15T19:11:24.773Z"
   },
   {
    "duration": 13429,
    "start_time": "2024-10-15T19:11:25.258Z"
   },
   {
    "duration": 5577,
    "start_time": "2024-10-15T19:21:48.437Z"
   },
   {
    "duration": 1884,
    "start_time": "2024-10-15T19:21:54.017Z"
   },
   {
    "duration": 5,
    "start_time": "2024-10-15T19:21:55.902Z"
   },
   {
    "duration": 19,
    "start_time": "2024-10-15T19:21:55.909Z"
   },
   {
    "duration": 2148,
    "start_time": "2024-10-15T19:21:55.929Z"
   },
   {
    "duration": 874,
    "start_time": "2024-10-15T19:21:58.079Z"
   },
   {
    "duration": 137,
    "start_time": "2024-10-15T19:21:58.956Z"
   },
   {
    "duration": 93,
    "start_time": "2024-10-15T19:21:59.096Z"
   },
   {
    "duration": 302,
    "start_time": "2024-10-15T19:21:59.191Z"
   },
   {
    "duration": 841,
    "start_time": "2024-10-15T19:21:59.552Z"
   },
   {
    "duration": 272,
    "start_time": "2024-10-15T19:22:00.395Z"
   },
   {
    "duration": 89,
    "start_time": "2024-10-15T19:22:00.669Z"
   },
   {
    "duration": 91922,
    "start_time": "2024-10-15T19:22:00.760Z"
   },
   {
    "duration": 97,
    "start_time": "2024-10-15T19:23:32.683Z"
   },
   {
    "duration": 4798,
    "start_time": "2024-10-15T19:23:32.781Z"
   },
   {
    "duration": 99,
    "start_time": "2024-10-15T19:23:37.580Z"
   },
   {
    "duration": 49,
    "start_time": "2024-10-15T19:23:37.681Z"
   },
   {
    "duration": 42,
    "start_time": "2024-10-15T19:23:37.732Z"
   },
   {
    "duration": 59,
    "start_time": "2024-10-15T19:23:37.776Z"
   },
   {
    "duration": 99018,
    "start_time": "2024-10-15T19:23:37.837Z"
   },
   {
    "duration": 101,
    "start_time": "2024-10-15T19:25:16.857Z"
   },
   {
    "duration": 15,
    "start_time": "2024-10-15T19:25:16.960Z"
   },
   {
    "duration": 229,
    "start_time": "2024-10-15T19:25:16.976Z"
   },
   {
    "duration": 20,
    "start_time": "2024-10-15T19:25:17.207Z"
   },
   {
    "duration": 24,
    "start_time": "2024-10-15T19:25:17.230Z"
   },
   {
    "duration": 72,
    "start_time": "2024-10-15T19:25:17.255Z"
   },
   {
    "duration": 10,
    "start_time": "2024-10-15T19:25:17.329Z"
   },
   {
    "duration": 89,
    "start_time": "2024-10-15T19:25:17.344Z"
   },
   {
    "duration": 20,
    "start_time": "2024-10-15T19:25:17.435Z"
   },
   {
    "duration": 38,
    "start_time": "2024-10-15T19:25:17.456Z"
   },
   {
    "duration": 22,
    "start_time": "2024-10-15T19:25:17.495Z"
   },
   {
    "duration": 1842,
    "start_time": "2024-10-15T19:25:17.519Z"
   },
   {
    "duration": 70,
    "start_time": "2024-10-15T19:25:19.363Z"
   },
   {
    "duration": 685,
    "start_time": "2024-10-15T19:25:19.436Z"
   },
   {
    "duration": 611,
    "start_time": "2024-10-15T19:25:20.123Z"
   },
   {
    "duration": 19,
    "start_time": "2024-10-15T19:25:20.735Z"
   },
   {
    "duration": 40,
    "start_time": "2024-10-15T19:25:20.756Z"
   },
   {
    "duration": 24,
    "start_time": "2024-10-15T19:25:20.799Z"
   },
   {
    "duration": 29,
    "start_time": "2024-10-15T19:25:20.824Z"
   },
   {
    "duration": 15352,
    "start_time": "2024-10-15T19:25:20.855Z"
   },
   {
    "duration": 11,
    "start_time": "2024-10-15T19:25:36.209Z"
   },
   {
    "duration": 108,
    "start_time": "2024-10-15T19:25:36.222Z"
   },
   {
    "duration": 22,
    "start_time": "2024-10-15T19:25:36.332Z"
   },
   {
    "duration": 7606,
    "start_time": "2024-10-15T19:25:36.356Z"
   },
   {
    "duration": 20,
    "start_time": "2024-10-15T19:25:43.964Z"
   },
   {
    "duration": 78,
    "start_time": "2024-10-15T19:25:43.985Z"
   },
   {
    "duration": 435,
    "start_time": "2024-10-15T19:25:44.065Z"
   },
   {
    "duration": 11255,
    "start_time": "2024-10-15T19:25:44.501Z"
   },
   {
    "duration": 38,
    "start_time": "2024-10-15T19:25:55.758Z"
   },
   {
    "duration": 3,
    "start_time": "2024-10-15T19:25:55.799Z"
   },
   {
    "duration": 120,
    "start_time": "2024-10-15T19:25:55.854Z"
   },
   {
    "duration": 109,
    "start_time": "2024-10-15T19:25:55.976Z"
   },
   {
    "duration": 394,
    "start_time": "2024-10-15T19:25:56.087Z"
   },
   {
    "duration": 871,
    "start_time": "2024-10-15T19:25:56.484Z"
   },
   {
    "duration": 25,
    "start_time": "2024-10-15T19:25:57.357Z"
   },
   {
    "duration": 71,
    "start_time": "2024-10-15T19:25:57.384Z"
   },
   {
    "duration": 595,
    "start_time": "2024-10-15T19:25:57.457Z"
   },
   {
    "duration": 28922,
    "start_time": "2024-10-15T19:25:58.057Z"
   },
   {
    "duration": 10308,
    "start_time": "2024-10-16T07:55:15.867Z"
   },
   {
    "duration": 1520,
    "start_time": "2024-10-16T07:55:26.178Z"
   },
   {
    "duration": 5,
    "start_time": "2024-10-16T07:55:27.700Z"
   },
   {
    "duration": 15,
    "start_time": "2024-10-16T07:55:27.707Z"
   },
   {
    "duration": 3214,
    "start_time": "2024-10-16T07:55:27.724Z"
   },
   {
    "duration": 403,
    "start_time": "2024-10-16T07:55:30.940Z"
   },
   {
    "duration": 66,
    "start_time": "2024-10-16T07:55:31.344Z"
   },
   {
    "duration": 50,
    "start_time": "2024-10-16T07:55:31.412Z"
   },
   {
    "duration": 103,
    "start_time": "2024-10-16T07:55:31.464Z"
   },
   {
    "duration": 435,
    "start_time": "2024-10-16T07:55:31.569Z"
   },
   {
    "duration": 100,
    "start_time": "2024-10-16T07:55:32.005Z"
   },
   {
    "duration": 150,
    "start_time": "2024-10-16T07:55:32.106Z"
   },
   {
    "duration": 58804,
    "start_time": "2024-10-16T07:55:32.257Z"
   },
   {
    "duration": 92,
    "start_time": "2024-10-16T07:56:31.064Z"
   },
   {
    "duration": 4754,
    "start_time": "2024-10-16T07:56:31.158Z"
   },
   {
    "duration": 90,
    "start_time": "2024-10-16T07:56:35.914Z"
   },
   {
    "duration": 75,
    "start_time": "2024-10-16T07:56:36.005Z"
   },
   {
    "duration": 111,
    "start_time": "2024-10-16T07:56:36.082Z"
   },
   {
    "duration": 158,
    "start_time": "2024-10-16T07:56:36.195Z"
   },
   {
    "duration": 58065,
    "start_time": "2024-10-16T07:56:36.355Z"
   },
   {
    "duration": 118,
    "start_time": "2024-10-16T07:57:34.422Z"
   },
   {
    "duration": 14,
    "start_time": "2024-10-16T07:57:34.543Z"
   },
   {
    "duration": 223,
    "start_time": "2024-10-16T07:57:34.559Z"
   },
   {
    "duration": 16,
    "start_time": "2024-10-16T07:57:34.784Z"
   },
   {
    "duration": 30,
    "start_time": "2024-10-16T07:57:34.802Z"
   },
   {
    "duration": 60,
    "start_time": "2024-10-16T07:57:34.834Z"
   },
   {
    "duration": 10,
    "start_time": "2024-10-16T07:57:34.896Z"
   },
   {
    "duration": 80,
    "start_time": "2024-10-16T07:57:34.908Z"
   },
   {
    "duration": 17,
    "start_time": "2024-10-16T07:57:34.990Z"
   },
   {
    "duration": 47,
    "start_time": "2024-10-16T07:57:35.009Z"
   },
   {
    "duration": 23,
    "start_time": "2024-10-16T07:57:35.058Z"
   },
   {
    "duration": 1647,
    "start_time": "2024-10-16T07:57:35.083Z"
   },
   {
    "duration": 66,
    "start_time": "2024-10-16T07:57:36.732Z"
   },
   {
    "duration": 708,
    "start_time": "2024-10-16T07:57:36.800Z"
   },
   {
    "duration": 543,
    "start_time": "2024-10-16T07:57:37.510Z"
   },
   {
    "duration": 8,
    "start_time": "2024-10-16T07:57:38.055Z"
   },
   {
    "duration": 66,
    "start_time": "2024-10-16T07:57:38.064Z"
   },
   {
    "duration": 142,
    "start_time": "2024-10-16T07:57:38.131Z"
   },
   {
    "duration": 10,
    "start_time": "2024-10-16T07:57:38.275Z"
   },
   {
    "duration": 14711,
    "start_time": "2024-10-16T07:57:38.287Z"
   },
   {
    "duration": 12,
    "start_time": "2024-10-16T07:57:53.002Z"
   },
   {
    "duration": 31,
    "start_time": "2024-10-16T07:57:53.016Z"
   },
   {
    "duration": 7,
    "start_time": "2024-10-16T07:57:53.049Z"
   },
   {
    "duration": 6472,
    "start_time": "2024-10-16T07:57:53.058Z"
   },
   {
    "duration": 21,
    "start_time": "2024-10-16T07:57:59.532Z"
   },
   {
    "duration": 33,
    "start_time": "2024-10-16T07:57:59.555Z"
   },
   {
    "duration": 175,
    "start_time": "2024-10-16T07:57:59.589Z"
   },
   {
    "duration": 5605,
    "start_time": "2024-10-16T07:57:59.766Z"
   },
   {
    "duration": 38,
    "start_time": "2024-10-16T07:58:05.373Z"
   },
   {
    "duration": 32,
    "start_time": "2024-10-16T07:58:05.412Z"
   },
   {
    "duration": 86,
    "start_time": "2024-10-16T07:58:05.446Z"
   },
   {
    "duration": 52,
    "start_time": "2024-10-16T07:58:05.534Z"
   },
   {
    "duration": 155,
    "start_time": "2024-10-16T07:58:05.587Z"
   },
   {
    "duration": 320,
    "start_time": "2024-10-16T07:58:05.744Z"
   },
   {
    "duration": 24,
    "start_time": "2024-10-16T07:58:06.065Z"
   },
   {
    "duration": 116,
    "start_time": "2024-10-16T07:58:06.091Z"
   },
   {
    "duration": 536,
    "start_time": "2024-10-16T07:58:06.208Z"
   },
   {
    "duration": 13823,
    "start_time": "2024-10-16T07:58:06.746Z"
   },
   {
    "duration": 119374,
    "start_time": "2024-10-16T07:58:20.571Z"
   },
   {
    "duration": 511,
    "start_time": "2024-10-16T08:00:19.947Z"
   },
   {
    "duration": 20,
    "start_time": "2024-10-16T08:00:20.460Z"
   },
   {
    "duration": 11,
    "start_time": "2024-10-16T08:00:20.482Z"
   },
   {
    "duration": 5056,
    "start_time": "2024-10-16T08:00:20.495Z"
   },
   {
    "duration": 501,
    "start_time": "2024-10-16T08:00:25.552Z"
   },
   {
    "duration": 5,
    "start_time": "2024-10-16T08:00:26.054Z"
   },
   {
    "duration": 5988,
    "start_time": "2024-10-16T08:00:26.060Z"
   },
   {
    "duration": 401,
    "start_time": "2024-10-16T08:00:32.050Z"
   },
   {
    "duration": 5,
    "start_time": "2024-10-16T08:00:32.453Z"
   },
   {
    "duration": 586,
    "start_time": "2024-10-16T08:00:32.460Z"
   }
  ],
  "kernelspec": {
   "display_name": "Python 3 (ipykernel)",
   "language": "python",
   "name": "python3"
  },
  "language_info": {
   "codemirror_mode": {
    "name": "ipython",
    "version": 3
   },
   "file_extension": ".py",
   "mimetype": "text/x-python",
   "name": "python",
   "nbconvert_exporter": "python",
   "pygments_lexer": "ipython3",
   "version": "3.9.5"
  },
  "toc": {
   "base_numbering": 1,
   "nav_menu": {},
   "number_sections": true,
   "sideBar": true,
   "skip_h1_title": true,
   "title_cell": "Table of Contents",
   "title_sidebar": "Contents",
   "toc_cell": false,
   "toc_position": {
    "height": "calc(100% - 180px)",
    "left": "10px",
    "top": "150px",
    "width": "342px"
   },
   "toc_section_display": true,
   "toc_window_display": true
  }
 },
 "nbformat": 4,
 "nbformat_minor": 2
}
