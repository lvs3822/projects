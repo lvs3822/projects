{
 "cells": [
  {
   "cell_type": "markdown",
   "metadata": {},
   "source": [
    "# Проект для интернет-магазина по определению негативных комментариев"
   ]
  },
  {
   "cell_type": "markdown",
   "metadata": {},
   "source": [
    "Интернет-магазин запускает новый сервис. Теперь пользователи могут редактировать и дополнять описания товаров, как в вики-сообществах. То есть клиенты предлагают свои правки и комментируют изменения других. Магазину нужен инструмент, который будет искать токсичные комментарии и отправлять их на модерацию. \n",
    "\n",
    "Надо обучить модель классифицировать комментарии на позитивные и негативные. В моем распоряжении набор данных с разметкой о токсичности правок.\n",
    "\n",
    "Задача &mdash; построить модель со значением метрики качества *F1* не меньше 0.75.\n",
    "\n",
    "**Описание данных**\n",
    "\n",
    "Данные находятся в файле `toxic_comments.csv`. Столбец *text* в нём содержит текст комментария, а *toxic* — целевой признак."
   ]
  },
  {
   "cell_type": "markdown",
   "metadata": {},
   "source": [
    "## Подготовка"
   ]
  },
  {
   "cell_type": "code",
   "execution_count": 1,
   "metadata": {},
   "outputs": [],
   "source": [
    "import pandas as pd\n",
    "import re\n",
    "import warnings\n",
    "import numpy as np\n",
    "import torch\n",
    "import transformers\n",
    "import nltk\n",
    "import matplotlib.pyplot as plt\n",
    "import seaborn as sns\n",
    "import spacy\n",
    "\n",
    "from lightgbm import LGBMClassifier\n",
    "from sklearn.linear_model import LogisticRegression\n",
    "from nltk.corpus import stopwords as nltk_stopwords\n",
    "from sklearn.feature_extraction.text import TfidfVectorizer\n",
    "from nltk.corpus import stopwords\n",
    "from nltk.stem import WordNetLemmatizer\n",
    "from sklearn.model_selection import GridSearchCV\n",
    "from sklearn.model_selection import train_test_split\n",
    "from sklearn.metrics import f1_score\n",
    "from tqdm import notebook"
   ]
  },
  {
   "cell_type": "code",
   "execution_count": 2,
   "metadata": {},
   "outputs": [
    {
     "name": "stderr",
     "output_type": "stream",
     "text": [
      "[nltk_data] Downloading package stopwords to /home/jovyan/nltk_data...\n",
      "[nltk_data]   Package stopwords is already up-to-date!\n",
      "[nltk_data] Downloading package wordnet to /home/jovyan/nltk_data...\n",
      "[nltk_data]   Package wordnet is already up-to-date!\n"
     ]
    }
   ],
   "source": [
    "nltk.download('stopwords')\n",
    "nltk.download('wordnet')\n",
    "nlp = spacy.load(\"en_core_web_sm\")"
   ]
  },
  {
   "cell_type": "code",
   "execution_count": 3,
   "metadata": {},
   "outputs": [],
   "source": [
    "#def lemmas(text):\n",
    "#    lemmas = ' '.join(re.sub(r'[^a-zA-z]', ' ', text).lower().split())\n",
    "#    words = nltk.word_tokenize(lemmas)\n",
    "#    lemmatized = ' '.join([lemmatizer.lemmatize(w) for w in words])    \n",
    "#    return lemmatized\n",
    "\n",
    "def lemmas(text):\n",
    "    lemmas = nlp(\" \".join(re.sub(r'[^a-zA-z]', ' ', text).split()))\n",
    "    lemmatized = ' '.join([w.lemma_ for w in lemmas])\n",
    "    return lemmatized\n",
    "\n",
    "def pie_diag(df, i):\n",
    "    plt.figure\n",
    "    df1 = df.groupby(i)[i].count().sort_values(ascending=False)\n",
    "    labels = df1.index\n",
    "    n = len(labels)\n",
    "    colors = sns.color_palette('pastel')[0:n]\n",
    "    plt.pie(df1, labels=labels, colors = colors, autopct='%1.1f%%')"
   ]
  },
  {
   "cell_type": "code",
   "execution_count": 4,
   "metadata": {},
   "outputs": [],
   "source": [
    "RANDOM_STATE = 42\n",
    "TEST_SIZE = 0.25"
   ]
  },
  {
   "cell_type": "code",
   "execution_count": 5,
   "metadata": {},
   "outputs": [
    {
     "data": {
      "text/html": [
       "<div>\n",
       "<style scoped>\n",
       "    .dataframe tbody tr th:only-of-type {\n",
       "        vertical-align: middle;\n",
       "    }\n",
       "\n",
       "    .dataframe tbody tr th {\n",
       "        vertical-align: top;\n",
       "    }\n",
       "\n",
       "    .dataframe thead th {\n",
       "        text-align: right;\n",
       "    }\n",
       "</style>\n",
       "<table border=\"1\" class=\"dataframe\">\n",
       "  <thead>\n",
       "    <tr style=\"text-align: right;\">\n",
       "      <th></th>\n",
       "      <th>text</th>\n",
       "      <th>toxic</th>\n",
       "    </tr>\n",
       "  </thead>\n",
       "  <tbody>\n",
       "    <tr>\n",
       "      <th>0</th>\n",
       "      <td>Explanation\\nWhy the edits made under my usern...</td>\n",
       "      <td>0</td>\n",
       "    </tr>\n",
       "    <tr>\n",
       "      <th>1</th>\n",
       "      <td>D'aww! He matches this background colour I'm s...</td>\n",
       "      <td>0</td>\n",
       "    </tr>\n",
       "    <tr>\n",
       "      <th>2</th>\n",
       "      <td>Hey man, I'm really not trying to edit war. It...</td>\n",
       "      <td>0</td>\n",
       "    </tr>\n",
       "    <tr>\n",
       "      <th>3</th>\n",
       "      <td>\"\\nMore\\nI can't make any real suggestions on ...</td>\n",
       "      <td>0</td>\n",
       "    </tr>\n",
       "    <tr>\n",
       "      <th>4</th>\n",
       "      <td>You, sir, are my hero. Any chance you remember...</td>\n",
       "      <td>0</td>\n",
       "    </tr>\n",
       "  </tbody>\n",
       "</table>\n",
       "</div>"
      ],
      "text/plain": [
       "                                                text  toxic\n",
       "0  Explanation\\nWhy the edits made under my usern...      0\n",
       "1  D'aww! He matches this background colour I'm s...      0\n",
       "2  Hey man, I'm really not trying to edit war. It...      0\n",
       "3  \"\\nMore\\nI can't make any real suggestions on ...      0\n",
       "4  You, sir, are my hero. Any chance you remember...      0"
      ]
     },
     "execution_count": 5,
     "metadata": {},
     "output_type": "execute_result"
    }
   ],
   "source": [
    "df = pd.read_csv('/datasets/toxic_comments.csv', index_col=0)\n",
    "df.head()"
   ]
  },
  {
   "cell_type": "code",
   "execution_count": 6,
   "metadata": {},
   "outputs": [
    {
     "data": {
      "text/plain": [
       "(159292, 2)"
      ]
     },
     "execution_count": 6,
     "metadata": {},
     "output_type": "execute_result"
    }
   ],
   "source": [
    "df.shape"
   ]
  },
  {
   "cell_type": "code",
   "execution_count": 7,
   "metadata": {},
   "outputs": [
    {
     "data": {
      "text/plain": [
       "text     0\n",
       "toxic    0\n",
       "dtype: int64"
      ]
     },
     "metadata": {},
     "output_type": "display_data"
    },
    {
     "name": "stdout",
     "output_type": "stream",
     "text": [
      "\n"
     ]
    },
    {
     "data": {
      "text/html": [
       "<div>\n",
       "<style scoped>\n",
       "    .dataframe tbody tr th:only-of-type {\n",
       "        vertical-align: middle;\n",
       "    }\n",
       "\n",
       "    .dataframe tbody tr th {\n",
       "        vertical-align: top;\n",
       "    }\n",
       "\n",
       "    .dataframe thead th {\n",
       "        text-align: right;\n",
       "    }\n",
       "</style>\n",
       "<table border=\"1\" class=\"dataframe\">\n",
       "  <thead>\n",
       "    <tr style=\"text-align: right;\">\n",
       "      <th></th>\n",
       "      <th>text</th>\n",
       "      <th>toxic</th>\n",
       "    </tr>\n",
       "  </thead>\n",
       "  <tbody>\n",
       "  </tbody>\n",
       "</table>\n",
       "</div>"
      ],
      "text/plain": [
       "Empty DataFrame\n",
       "Columns: [text, toxic]\n",
       "Index: []"
      ]
     },
     "metadata": {},
     "output_type": "display_data"
    }
   ],
   "source": [
    "display(df.isnull().sum())\n",
    "print()\n",
    "display(df[df.duplicated()])"
   ]
  },
  {
   "cell_type": "code",
   "execution_count": 8,
   "metadata": {},
   "outputs": [],
   "source": [
    "lemmatizer = WordNetLemmatizer()\n",
    "\n",
    "df['lemm_text'] = df['text'].apply(lemmas)"
   ]
  },
  {
   "cell_type": "code",
   "execution_count": 9,
   "metadata": {},
   "outputs": [
    {
     "data": {
      "text/html": [
       "<div>\n",
       "<style scoped>\n",
       "    .dataframe tbody tr th:only-of-type {\n",
       "        vertical-align: middle;\n",
       "    }\n",
       "\n",
       "    .dataframe tbody tr th {\n",
       "        vertical-align: top;\n",
       "    }\n",
       "\n",
       "    .dataframe thead th {\n",
       "        text-align: right;\n",
       "    }\n",
       "</style>\n",
       "<table border=\"1\" class=\"dataframe\">\n",
       "  <thead>\n",
       "    <tr style=\"text-align: right;\">\n",
       "      <th></th>\n",
       "      <th>text</th>\n",
       "      <th>toxic</th>\n",
       "      <th>lemm_text</th>\n",
       "    </tr>\n",
       "  </thead>\n",
       "  <tbody>\n",
       "    <tr>\n",
       "      <th>0</th>\n",
       "      <td>Explanation\\nWhy the edits made under my usern...</td>\n",
       "      <td>0</td>\n",
       "      <td>explanation why the edit make under my usernam...</td>\n",
       "    </tr>\n",
       "    <tr>\n",
       "      <th>1</th>\n",
       "      <td>D'aww! He matches this background colour I'm s...</td>\n",
       "      <td>0</td>\n",
       "      <td>d aww he match this background colour I m seem...</td>\n",
       "    </tr>\n",
       "    <tr>\n",
       "      <th>2</th>\n",
       "      <td>Hey man, I'm really not trying to edit war. It...</td>\n",
       "      <td>0</td>\n",
       "      <td>hey man I m really not try to edit war it s ju...</td>\n",
       "    </tr>\n",
       "    <tr>\n",
       "      <th>3</th>\n",
       "      <td>\"\\nMore\\nI can't make any real suggestions on ...</td>\n",
       "      <td>0</td>\n",
       "      <td>More I can t make any real suggestion on impro...</td>\n",
       "    </tr>\n",
       "    <tr>\n",
       "      <th>4</th>\n",
       "      <td>You, sir, are my hero. Any chance you remember...</td>\n",
       "      <td>0</td>\n",
       "      <td>you sir be my hero any chance you remember wha...</td>\n",
       "    </tr>\n",
       "  </tbody>\n",
       "</table>\n",
       "</div>"
      ],
      "text/plain": [
       "                                                text  toxic  \\\n",
       "0  Explanation\\nWhy the edits made under my usern...      0   \n",
       "1  D'aww! He matches this background colour I'm s...      0   \n",
       "2  Hey man, I'm really not trying to edit war. It...      0   \n",
       "3  \"\\nMore\\nI can't make any real suggestions on ...      0   \n",
       "4  You, sir, are my hero. Any chance you remember...      0   \n",
       "\n",
       "                                           lemm_text  \n",
       "0  explanation why the edit make under my usernam...  \n",
       "1  d aww he match this background colour I m seem...  \n",
       "2  hey man I m really not try to edit war it s ju...  \n",
       "3  More I can t make any real suggestion on impro...  \n",
       "4  you sir be my hero any chance you remember wha...  "
      ]
     },
     "execution_count": 9,
     "metadata": {},
     "output_type": "execute_result"
    }
   ],
   "source": [
    "df.head()"
   ]
  },
  {
   "cell_type": "code",
   "execution_count": 10,
   "metadata": {},
   "outputs": [
    {
     "data": {
      "image/png": "[encoded data removed]",
      "text/plain": [
       "<Figure size 432x288 with 1 Axes>"
      ]
     },
     "metadata": {},
     "output_type": "display_data"
    }
   ],
   "source": [
    "pie_diag(df, 'toxic')"
   ]
  },
  {
   "cell_type": "markdown",
   "metadata": {},
   "source": [
    "Есть дисбаланс классов. Сначала построю модель, может быть, не придется его убирать."
   ]
  },
  {
   "cell_type": "code",
   "execution_count": 11,
   "metadata": {},
   "outputs": [],
   "source": [
    "X = df.drop(columns=['toxic'])\n",
    "y = df['toxic']\n",
    "\n",
    "X_train, X_test, y_train, y_test = train_test_split(\n",
    "    X,\n",
    "    y,\n",
    "    test_size = TEST_SIZE, \n",
    "    random_state = RANDOM_STATE,\n",
    "    stratify = y)"
   ]
  },
  {
   "cell_type": "code",
   "execution_count": 12,
   "metadata": {},
   "outputs": [],
   "source": [
    "X_train, X_valid, y_train, y_valid = train_test_split(\n",
    "    X_train,\n",
    "    y_train,\n",
    "    test_size = TEST_SIZE, \n",
    "    random_state = RANDOM_STATE,\n",
    "    stratify = y_train)"
   ]
  },
  {
   "cell_type": "code",
   "execution_count": 13,
   "metadata": {},
   "outputs": [
    {
     "name": "stderr",
     "output_type": "stream",
     "text": [
      "[nltk_data] Downloading package stopwords to /home/jovyan/nltk_data...\n",
      "[nltk_data]   Package stopwords is already up-to-date!\n"
     ]
    }
   ],
   "source": [
    "nltk.download('stopwords')\n",
    "stop_words = list(stopwords.words('english'))"
   ]
  },
  {
   "cell_type": "code",
   "execution_count": 14,
   "metadata": {},
   "outputs": [],
   "source": [
    "corpus = X_train['lemm_text']\n",
    "\n",
    "count_tf_idf = TfidfVectorizer(stop_words=stop_words)\n",
    "\n",
    "X_train = count_tf_idf.fit_transform(corpus)"
   ]
  },
  {
   "cell_type": "code",
   "execution_count": 15,
   "metadata": {},
   "outputs": [],
   "source": [
    "corpus = X_valid['lemm_text']\n",
    "\n",
    "X_valid = count_tf_idf.transform(corpus)"
   ]
  },
  {
   "cell_type": "markdown",
   "metadata": {},
   "source": [
    "## Обучение"
   ]
  },
  {
   "cell_type": "code",
   "execution_count": 16,
   "metadata": {},
   "outputs": [
    {
     "data": {
      "text/plain": [
       "LGBMClassifier()"
      ]
     },
     "execution_count": 16,
     "metadata": {},
     "output_type": "execute_result"
    }
   ],
   "source": [
    "model_lgbm = LGBMClassifier()\n",
    "\n",
    "model_lgbm.fit(X_train, y_train)"
   ]
  },
  {
   "cell_type": "code",
   "execution_count": 17,
   "metadata": {},
   "outputs": [],
   "source": [
    "lgbm_preds = model_lgbm.predict(X_valid)"
   ]
  },
  {
   "cell_type": "code",
   "execution_count": 18,
   "metadata": {},
   "outputs": [
    {
     "name": "stdout",
     "output_type": "stream",
     "text": [
      "Метрика F1 на валидационной выборке равна 0.7452266152362584\n"
     ]
    }
   ],
   "source": [
    "print(f'Метрика F1 на валидационной выборке равна {f1_score(y_valid, lgbm_preds)}')"
   ]
  },
  {
   "cell_type": "markdown",
   "metadata": {},
   "source": [
    "Почти. Я пробовал сделать RandomizedSearchCV для lgbm, но это оказалось очень долгим процессом. С матрицами, где много столбцов, хорошо работают линейные модели. Попробую сделать пайплайн для LogisticRegression."
   ]
  },
  {
   "cell_type": "code",
   "execution_count": 19,
   "metadata": {
    "scrolled": true
   },
   "outputs": [
    {
     "data": {
      "text/plain": [
       "GridSearchCV(cv=5, estimator=LogisticRegression(random_state=42), n_jobs=-1,\n",
       "             param_grid={'C': [0.08, 0.16, 0.32, 0.64, 1.28, 2.56, 5.12,\n",
       "                               10.24]},\n",
       "             scoring='f1')"
      ]
     },
     "execution_count": 19,
     "metadata": {},
     "output_type": "execute_result"
    }
   ],
   "source": [
    "warnings.filterwarnings('ignore')\n",
    "\n",
    "model_lr = LogisticRegression(random_state=RANDOM_STATE)\n",
    "\n",
    "C = [0.08, 0.16, 0.32, 0.64, 1.28, 2.56, 5.12, 10.24]\n",
    "\n",
    "param_grid = dict(C=C)\n",
    "\n",
    "grid_search_lr = GridSearchCV(\n",
    "    model_lr,\n",
    "    param_grid,\n",
    "    cv=5,\n",
    "    scoring='f1',\n",
    "    n_jobs=-1\n",
    ")\n",
    "grid_search_lr.fit(X_train, y_train)"
   ]
  },
  {
   "cell_type": "code",
   "execution_count": 20,
   "metadata": {},
   "outputs": [],
   "source": [
    "lr_preds = grid_search_lr.predict(X_valid)"
   ]
  },
  {
   "cell_type": "code",
   "execution_count": 21,
   "metadata": {},
   "outputs": [
    {
     "name": "stdout",
     "output_type": "stream",
     "text": [
      "Лучшая модель и её параметры:\n",
      "\n",
      " LogisticRegression(C=10.24, random_state=42)\n",
      "Метрика лучшей модели на тренировочной выборке: 0.7647547657266083\n",
      "Метрика F1 на валидационной выборке равна 0.770027752081406\n"
     ]
    }
   ],
   "source": [
    "print('Лучшая модель и её параметры:\\n\\n', grid_search_lr.best_estimator_)\n",
    "print ('Метрика лучшей модели на тренировочной выборке:', grid_search_lr.best_score_)\n",
    "\n",
    "print(f'Метрика F1 на валидационной выборке равна {f1_score(y_valid, lr_preds)}')"
   ]
  },
  {
   "cell_type": "code",
   "execution_count": 22,
   "metadata": {},
   "outputs": [],
   "source": [
    "corpus = X_test['lemm_text']\n",
    "\n",
    "X_test = count_tf_idf.transform(corpus)"
   ]
  },
  {
   "cell_type": "code",
   "execution_count": 23,
   "metadata": {},
   "outputs": [
    {
     "name": "stdout",
     "output_type": "stream",
     "text": [
      "Метрика F1 на валидационной выборке равна 0.77081880318036\n"
     ]
    }
   ],
   "source": [
    "lr_preds = grid_search_lr.predict(X_test)\n",
    "print(f'Метрика F1 на валидационной выборке равна {f1_score(y_test, lr_preds)}')"
   ]
  },
  {
   "cell_type": "markdown",
   "metadata": {},
   "source": [
    "## Выводы"
   ]
  },
  {
   "cell_type": "markdown",
   "metadata": {},
   "source": [
    "Метрика f1 выше 0.75, задача выполнена. Что было сделано? Лемматизированы все строки датасета, приведены в векторный вид, построена матрица. На ее основе модель научилась предсказывать ткосичность комментариев."
   ]
  }
 ],
 "metadata": {
  "ExecuteTimeLog": [
   {
    "duration": 58,
    "start_time": "2024-07-15T10:45:34.706Z"
   },
   {
    "duration": 1192,
    "start_time": "2024-07-15T10:45:58.786Z"
   },
   {
    "duration": 1208,
    "start_time": "2024-07-15T10:45:59.979Z"
   },
   {
    "duration": 830,
    "start_time": "2024-07-15T10:56:13.012Z"
   },
   {
    "duration": 766,
    "start_time": "2024-07-15T10:56:23.152Z"
   },
   {
    "duration": 6,
    "start_time": "2024-07-15T11:13:29.054Z"
   },
   {
    "duration": 71,
    "start_time": "2024-07-15T11:13:37.286Z"
   },
   {
    "duration": 3,
    "start_time": "2024-07-15T11:13:40.195Z"
   },
   {
    "duration": 2928,
    "start_time": "2024-07-16T01:38:37.003Z"
   },
   {
    "duration": 1319,
    "start_time": "2024-07-16T01:38:39.933Z"
   },
   {
    "duration": 4,
    "start_time": "2024-07-16T01:38:41.254Z"
   },
   {
    "duration": 194,
    "start_time": "2024-07-16T01:38:41.260Z"
   },
   {
    "duration": 274,
    "start_time": "2024-07-16T01:39:01.260Z"
   },
   {
    "duration": 2634,
    "start_time": "2024-07-18T18:48:06.787Z"
   },
   {
    "duration": 3,
    "start_time": "2024-07-18T18:48:09.423Z"
   },
   {
    "duration": 14,
    "start_time": "2024-07-18T18:48:09.428Z"
   },
   {
    "duration": 1326,
    "start_time": "2024-07-18T18:48:09.444Z"
   },
   {
    "duration": 4,
    "start_time": "2024-07-18T18:48:10.771Z"
   },
   {
    "duration": 259,
    "start_time": "2024-07-18T18:48:10.777Z"
   },
   {
    "duration": 91091,
    "start_time": "2024-07-18T18:48:11.037Z"
   },
   {
    "duration": 7,
    "start_time": "2024-07-18T18:49:42.129Z"
   },
   {
    "duration": 173,
    "start_time": "2024-07-18T18:51:40.830Z"
   },
   {
    "duration": 5,
    "start_time": "2024-07-18T18:51:46.807Z"
   },
   {
    "duration": 16,
    "start_time": "2024-07-18T18:51:50.299Z"
   },
   {
    "duration": 390,
    "start_time": "2024-07-18T18:52:13.259Z"
   },
   {
    "duration": 5,
    "start_time": "2024-07-18T18:52:20.005Z"
   },
   {
    "duration": 37,
    "start_time": "2024-07-18T18:52:23.120Z"
   },
   {
    "duration": 30,
    "start_time": "2024-07-18T18:52:44.604Z"
   },
   {
    "duration": 5,
    "start_time": "2024-07-18T18:52:46.396Z"
   },
   {
    "duration": 79,
    "start_time": "2024-07-18T18:52:48.929Z"
   },
   {
    "duration": 3,
    "start_time": "2024-07-18T19:48:37.028Z"
   },
   {
    "duration": 174,
    "start_time": "2024-07-18T21:29:26.746Z"
   },
   {
    "duration": 2874,
    "start_time": "2024-07-18T21:31:09.783Z"
   },
   {
    "duration": 5,
    "start_time": "2024-07-18T21:31:12.659Z"
   },
   {
    "duration": 15,
    "start_time": "2024-07-18T21:31:12.665Z"
   },
   {
    "duration": 1043,
    "start_time": "2024-07-18T21:31:12.681Z"
   },
   {
    "duration": 4,
    "start_time": "2024-07-18T21:31:13.726Z"
   },
   {
    "duration": 280,
    "start_time": "2024-07-18T21:31:13.731Z"
   },
   {
    "duration": 88770,
    "start_time": "2024-07-18T21:31:14.013Z"
   },
   {
    "duration": 11,
    "start_time": "2024-07-18T21:32:42.784Z"
   },
   {
    "duration": 237,
    "start_time": "2024-07-18T21:32:42.796Z"
   },
   {
    "duration": 109,
    "start_time": "2024-07-18T21:32:43.034Z"
   },
   {
    "duration": 1978,
    "start_time": "2024-07-18T21:32:43.144Z"
   },
   {
    "duration": 0,
    "start_time": "2024-07-18T21:32:45.124Z"
   },
   {
    "duration": 51,
    "start_time": "2024-07-18T21:33:54.487Z"
   },
   {
    "duration": 48,
    "start_time": "2024-07-18T21:34:00.368Z"
   },
   {
    "duration": 2788,
    "start_time": "2024-07-18T21:35:02.393Z"
   },
   {
    "duration": 5,
    "start_time": "2024-07-18T21:35:05.183Z"
   },
   {
    "duration": 2,
    "start_time": "2024-07-18T21:35:05.507Z"
   },
   {
    "duration": 1275,
    "start_time": "2024-07-18T21:35:08.283Z"
   },
   {
    "duration": 5,
    "start_time": "2024-07-18T21:35:10.593Z"
   },
   {
    "duration": 261,
    "start_time": "2024-07-18T21:35:11.184Z"
   },
   {
    "duration": 88220,
    "start_time": "2024-07-18T21:35:15.555Z"
   },
   {
    "duration": 11,
    "start_time": "2024-07-18T21:36:43.777Z"
   },
   {
    "duration": 240,
    "start_time": "2024-07-18T21:36:43.789Z"
   },
   {
    "duration": 95,
    "start_time": "2024-07-18T21:38:51.292Z"
   },
   {
    "duration": 9,
    "start_time": "2024-07-18T21:38:56.746Z"
   },
   {
    "duration": 33,
    "start_time": "2024-07-18T21:39:07.294Z"
   },
   {
    "duration": 8816,
    "start_time": "2024-07-18T21:39:24.700Z"
   },
   {
    "duration": 2949,
    "start_time": "2024-07-18T21:40:32.052Z"
   },
   {
    "duration": 5,
    "start_time": "2024-07-18T21:40:35.003Z"
   },
   {
    "duration": 12,
    "start_time": "2024-07-18T21:40:35.010Z"
   },
   {
    "duration": 911,
    "start_time": "2024-07-18T21:40:35.024Z"
   },
   {
    "duration": 4,
    "start_time": "2024-07-18T21:40:35.936Z"
   },
   {
    "duration": 275,
    "start_time": "2024-07-18T21:40:35.941Z"
   },
   {
    "duration": 86988,
    "start_time": "2024-07-18T21:40:36.217Z"
   },
   {
    "duration": 12,
    "start_time": "2024-07-18T21:42:03.207Z"
   },
   {
    "duration": 242,
    "start_time": "2024-07-18T21:42:03.221Z"
   },
   {
    "duration": 104,
    "start_time": "2024-07-18T21:42:03.465Z"
   },
   {
    "duration": 4,
    "start_time": "2024-07-18T21:42:03.571Z"
   },
   {
    "duration": 8833,
    "start_time": "2024-07-18T21:42:08.079Z"
   },
   {
    "duration": 3086,
    "start_time": "2024-07-18T21:42:18.889Z"
   },
   {
    "duration": 2840,
    "start_time": "2024-07-18T21:49:23.956Z"
   },
   {
    "duration": 5,
    "start_time": "2024-07-18T21:49:26.798Z"
   },
   {
    "duration": 17,
    "start_time": "2024-07-18T21:49:26.804Z"
   },
   {
    "duration": 967,
    "start_time": "2024-07-18T21:49:26.823Z"
   },
   {
    "duration": 4,
    "start_time": "2024-07-18T21:49:27.792Z"
   },
   {
    "duration": 273,
    "start_time": "2024-07-18T21:49:27.798Z"
   },
   {
    "duration": 87933,
    "start_time": "2024-07-18T21:49:28.072Z"
   },
   {
    "duration": 11,
    "start_time": "2024-07-18T21:50:56.006Z"
   },
   {
    "duration": 243,
    "start_time": "2024-07-18T21:50:56.018Z"
   },
   {
    "duration": 103,
    "start_time": "2024-07-18T21:50:56.262Z"
   },
   {
    "duration": 5,
    "start_time": "2024-07-18T21:50:56.366Z"
   },
   {
    "duration": 8989,
    "start_time": "2024-07-18T21:50:56.372Z"
   },
   {
    "duration": 2902,
    "start_time": "2024-07-18T21:51:05.363Z"
   },
   {
    "duration": 6,
    "start_time": "2024-07-18T21:51:32.264Z"
   },
   {
    "duration": 188,
    "start_time": "2024-07-18T22:08:47.601Z"
   },
   {
    "duration": 2930,
    "start_time": "2024-07-18T22:09:46.733Z"
   },
   {
    "duration": 5,
    "start_time": "2024-07-18T22:09:49.665Z"
   },
   {
    "duration": 15,
    "start_time": "2024-07-18T22:09:49.671Z"
   },
   {
    "duration": 899,
    "start_time": "2024-07-18T22:09:49.688Z"
   },
   {
    "duration": 4,
    "start_time": "2024-07-18T22:09:50.589Z"
   },
   {
    "duration": 274,
    "start_time": "2024-07-18T22:09:50.594Z"
   },
   {
    "duration": 88046,
    "start_time": "2024-07-18T22:09:50.869Z"
   },
   {
    "duration": 13,
    "start_time": "2024-07-18T22:11:18.917Z"
   },
   {
    "duration": 258,
    "start_time": "2024-07-18T22:11:18.931Z"
   },
   {
    "duration": 123,
    "start_time": "2024-07-18T22:11:19.191Z"
   },
   {
    "duration": 4,
    "start_time": "2024-07-18T22:11:19.316Z"
   },
   {
    "duration": 9453,
    "start_time": "2024-07-18T22:11:19.322Z"
   },
   {
    "duration": 3144,
    "start_time": "2024-07-18T22:11:28.777Z"
   },
   {
    "duration": 217950,
    "start_time": "2024-07-18T22:11:31.924Z"
   },
   {
    "duration": 3386,
    "start_time": "2024-07-18T22:15:09.877Z"
   },
   {
    "duration": 15,
    "start_time": "2024-07-18T22:15:13.264Z"
   },
   {
    "duration": 2845,
    "start_time": "2024-07-18T22:20:43.347Z"
   },
   {
    "duration": 6,
    "start_time": "2024-07-18T22:20:46.194Z"
   },
   {
    "duration": 7,
    "start_time": "2024-07-18T22:20:46.202Z"
   },
   {
    "duration": 927,
    "start_time": "2024-07-18T22:20:46.211Z"
   },
   {
    "duration": 4,
    "start_time": "2024-07-18T22:20:47.142Z"
   },
   {
    "duration": 274,
    "start_time": "2024-07-18T22:20:47.155Z"
   },
   {
    "duration": 87706,
    "start_time": "2024-07-18T22:20:47.431Z"
   },
   {
    "duration": 17,
    "start_time": "2024-07-18T22:22:15.139Z"
   },
   {
    "duration": 240,
    "start_time": "2024-07-18T22:22:15.158Z"
   },
   {
    "duration": 103,
    "start_time": "2024-07-18T22:22:15.400Z"
   },
   {
    "duration": 4,
    "start_time": "2024-07-18T22:22:15.505Z"
   },
   {
    "duration": 8891,
    "start_time": "2024-07-18T22:22:15.510Z"
   },
   {
    "duration": 2895,
    "start_time": "2024-07-18T22:22:24.403Z"
   },
   {
    "duration": 2902,
    "start_time": "2024-07-18T22:43:13.102Z"
   },
   {
    "duration": 5,
    "start_time": "2024-07-18T22:43:16.007Z"
   },
   {
    "duration": 25,
    "start_time": "2024-07-18T22:43:16.013Z"
   },
   {
    "duration": 940,
    "start_time": "2024-07-18T22:43:16.040Z"
   },
   {
    "duration": 3,
    "start_time": "2024-07-18T22:43:16.983Z"
   },
   {
    "duration": 280,
    "start_time": "2024-07-18T22:43:16.988Z"
   },
   {
    "duration": 2811,
    "start_time": "2024-07-18T22:46:38.585Z"
   },
   {
    "duration": 4,
    "start_time": "2024-07-18T22:46:41.398Z"
   },
   {
    "duration": 4,
    "start_time": "2024-07-18T22:46:41.404Z"
   },
   {
    "duration": 1008,
    "start_time": "2024-07-18T22:46:41.410Z"
   },
   {
    "duration": 4,
    "start_time": "2024-07-18T22:46:42.421Z"
   },
   {
    "duration": 274,
    "start_time": "2024-07-18T22:46:42.426Z"
   },
   {
    "duration": 87128,
    "start_time": "2024-07-18T22:46:42.702Z"
   },
   {
    "duration": 11,
    "start_time": "2024-07-18T22:48:09.832Z"
   },
   {
    "duration": 238,
    "start_time": "2024-07-18T22:48:09.845Z"
   },
   {
    "duration": 102,
    "start_time": "2024-07-18T22:48:10.085Z"
   },
   {
    "duration": 5,
    "start_time": "2024-07-18T22:48:10.188Z"
   },
   {
    "duration": 9370,
    "start_time": "2024-07-18T22:48:10.194Z"
   },
   {
    "duration": 2973,
    "start_time": "2024-07-18T22:48:19.566Z"
   },
   {
    "duration": 2904,
    "start_time": "2024-07-18T22:54:13.910Z"
   },
   {
    "duration": 5,
    "start_time": "2024-07-18T22:54:16.816Z"
   },
   {
    "duration": 9,
    "start_time": "2024-07-18T22:54:16.823Z"
   },
   {
    "duration": 980,
    "start_time": "2024-07-18T22:54:16.834Z"
   },
   {
    "duration": 5,
    "start_time": "2024-07-18T22:54:17.816Z"
   },
   {
    "duration": 282,
    "start_time": "2024-07-18T22:54:17.822Z"
   },
   {
    "duration": 88436,
    "start_time": "2024-07-18T22:54:18.105Z"
   },
   {
    "duration": 15,
    "start_time": "2024-07-18T22:55:46.543Z"
   },
   {
    "duration": 247,
    "start_time": "2024-07-18T22:55:46.560Z"
   },
   {
    "duration": 119,
    "start_time": "2024-07-18T22:55:46.809Z"
   },
   {
    "duration": 5,
    "start_time": "2024-07-18T22:55:46.930Z"
   },
   {
    "duration": 8877,
    "start_time": "2024-07-18T22:55:46.938Z"
   },
   {
    "duration": 2951,
    "start_time": "2024-07-18T22:55:55.817Z"
   },
   {
    "duration": 2783,
    "start_time": "2024-07-18T23:04:24.586Z"
   },
   {
    "duration": 5,
    "start_time": "2024-07-18T23:04:27.371Z"
   },
   {
    "duration": 44,
    "start_time": "2024-07-18T23:04:27.377Z"
   },
   {
    "duration": 959,
    "start_time": "2024-07-18T23:04:27.423Z"
   },
   {
    "duration": 4,
    "start_time": "2024-07-18T23:04:28.384Z"
   },
   {
    "duration": 267,
    "start_time": "2024-07-18T23:04:28.389Z"
   },
   {
    "duration": 87831,
    "start_time": "2024-07-18T23:04:28.657Z"
   },
   {
    "duration": 12,
    "start_time": "2024-07-18T23:05:56.489Z"
   },
   {
    "duration": 247,
    "start_time": "2024-07-18T23:05:56.503Z"
   },
   {
    "duration": 107,
    "start_time": "2024-07-18T23:05:56.754Z"
   },
   {
    "duration": 5,
    "start_time": "2024-07-18T23:05:56.863Z"
   },
   {
    "duration": 8933,
    "start_time": "2024-07-18T23:05:56.870Z"
   },
   {
    "duration": 2879,
    "start_time": "2024-07-18T23:06:05.805Z"
   },
   {
    "duration": 2792,
    "start_time": "2024-07-18T23:25:34.604Z"
   },
   {
    "duration": 5,
    "start_time": "2024-07-18T23:25:37.398Z"
   },
   {
    "duration": 7,
    "start_time": "2024-07-18T23:25:37.405Z"
   },
   {
    "duration": 934,
    "start_time": "2024-07-18T23:25:37.414Z"
   },
   {
    "duration": 8,
    "start_time": "2024-07-18T23:25:38.349Z"
   },
   {
    "duration": 286,
    "start_time": "2024-07-18T23:25:38.358Z"
   },
   {
    "duration": 87206,
    "start_time": "2024-07-18T23:25:38.645Z"
   },
   {
    "duration": 11,
    "start_time": "2024-07-18T23:27:05.853Z"
   },
   {
    "duration": 238,
    "start_time": "2024-07-18T23:27:05.865Z"
   },
   {
    "duration": 111,
    "start_time": "2024-07-18T23:27:06.104Z"
   },
   {
    "duration": 5,
    "start_time": "2024-07-18T23:27:06.217Z"
   },
   {
    "duration": 9080,
    "start_time": "2024-07-18T23:27:06.223Z"
   },
   {
    "duration": 3094,
    "start_time": "2024-07-18T23:27:15.305Z"
   },
   {
    "duration": 210711,
    "start_time": "2024-07-18T23:27:18.401Z"
   },
   {
    "duration": 3400,
    "start_time": "2024-07-18T23:30:49.156Z"
   },
   {
    "duration": 15,
    "start_time": "2024-07-18T23:30:52.558Z"
   },
   {
    "duration": 162,
    "start_time": "2024-07-18T23:36:01.050Z"
   },
   {
    "duration": 5,
    "start_time": "2024-07-18T23:36:07.725Z"
   },
   {
    "duration": 46565,
    "start_time": "2024-07-18T23:36:10.892Z"
   },
   {
    "duration": 6,
    "start_time": "2024-07-18T23:37:16.662Z"
   },
   {
    "duration": 17,
    "start_time": "2024-07-18T23:37:34.204Z"
   },
   {
    "duration": 6,
    "start_time": "2024-07-18T23:50:34.825Z"
   },
   {
    "duration": 16,
    "start_time": "2024-07-18T23:51:30.559Z"
   },
   {
    "duration": 2801,
    "start_time": "2024-07-18T23:53:00.275Z"
   },
   {
    "duration": 5,
    "start_time": "2024-07-18T23:53:03.078Z"
   },
   {
    "duration": 35,
    "start_time": "2024-07-18T23:53:03.084Z"
   },
   {
    "duration": 974,
    "start_time": "2024-07-18T23:53:03.121Z"
   },
   {
    "duration": 3,
    "start_time": "2024-07-18T23:53:04.097Z"
   },
   {
    "duration": 281,
    "start_time": "2024-07-18T23:53:04.102Z"
   },
   {
    "duration": 87438,
    "start_time": "2024-07-18T23:53:04.385Z"
   },
   {
    "duration": 12,
    "start_time": "2024-07-18T23:54:31.824Z"
   },
   {
    "duration": 302,
    "start_time": "2024-07-18T23:54:31.837Z"
   },
   {
    "duration": 101,
    "start_time": "2024-07-18T23:54:32.141Z"
   },
   {
    "duration": 11,
    "start_time": "2024-07-18T23:54:32.244Z"
   },
   {
    "duration": 9067,
    "start_time": "2024-07-18T23:54:32.257Z"
   },
   {
    "duration": 2969,
    "start_time": "2024-07-18T23:54:41.326Z"
   },
   {
    "duration": 205280,
    "start_time": "2024-07-18T23:54:44.297Z"
   },
   {
    "duration": 3300,
    "start_time": "2024-07-18T23:58:09.579Z"
   },
   {
    "duration": 214,
    "start_time": "2024-07-18T23:58:12.881Z"
   },
   {
    "duration": 0,
    "start_time": "2024-07-18T23:58:13.098Z"
   },
   {
    "duration": 0,
    "start_time": "2024-07-18T23:58:13.099Z"
   },
   {
    "duration": 0,
    "start_time": "2024-07-18T23:58:13.100Z"
   },
   {
    "duration": 16,
    "start_time": "2024-07-18T23:59:03.998Z"
   },
   {
    "duration": 421605,
    "start_time": "2024-07-18T23:59:06.871Z"
   },
   {
    "duration": 0,
    "start_time": "2024-07-19T00:06:08.478Z"
   },
   {
    "duration": 0,
    "start_time": "2024-07-19T00:06:08.479Z"
   },
   {
    "duration": 51152,
    "start_time": "2024-07-19T00:06:28.930Z"
   },
   {
    "duration": 0,
    "start_time": "2024-07-19T00:07:20.084Z"
   },
   {
    "duration": 0,
    "start_time": "2024-07-19T00:07:20.085Z"
   },
   {
    "duration": 40072,
    "start_time": "2024-07-19T00:08:32.304Z"
   },
   {
    "duration": 0,
    "start_time": "2024-07-19T00:09:12.378Z"
   },
   {
    "duration": 0,
    "start_time": "2024-07-19T00:09:12.379Z"
   },
   {
    "duration": 22817,
    "start_time": "2024-07-19T00:09:43.604Z"
   },
   {
    "duration": 0,
    "start_time": "2024-07-19T00:10:06.424Z"
   },
   {
    "duration": 0,
    "start_time": "2024-07-19T00:10:06.425Z"
   },
   {
    "duration": 20809,
    "start_time": "2024-07-19T00:10:08.664Z"
   },
   {
    "duration": 0,
    "start_time": "2024-07-19T00:10:29.475Z"
   },
   {
    "duration": 0,
    "start_time": "2024-07-19T00:10:29.477Z"
   },
   {
    "duration": 1389681,
    "start_time": "2024-07-19T00:10:48.883Z"
   },
   {
    "duration": 7,
    "start_time": "2024-07-19T00:33:58.656Z"
   },
   {
    "duration": 66,
    "start_time": "2024-07-19T00:33:58.664Z"
   },
   {
    "duration": 5700,
    "start_time": "2024-07-22T21:57:26.372Z"
   },
   {
    "duration": 698,
    "start_time": "2024-07-22T21:57:32.075Z"
   },
   {
    "duration": 4,
    "start_time": "2024-07-22T21:57:34.618Z"
   },
   {
    "duration": 2,
    "start_time": "2024-07-22T21:57:37.159Z"
   },
   {
    "duration": 1336,
    "start_time": "2024-07-22T21:57:38.953Z"
   },
   {
    "duration": 4,
    "start_time": "2024-07-22T21:57:41.217Z"
   },
   {
    "duration": 236,
    "start_time": "2024-07-22T21:57:41.878Z"
   },
   {
    "duration": 894370,
    "start_time": "2024-07-22T21:57:43.330Z"
   },
   {
    "duration": 4984,
    "start_time": "2024-07-22T22:13:51.832Z"
   },
   {
    "duration": 682,
    "start_time": "2024-07-22T22:13:56.818Z"
   },
   {
    "duration": 5,
    "start_time": "2024-07-22T22:13:57.501Z"
   },
   {
    "duration": 26,
    "start_time": "2024-07-22T22:13:57.508Z"
   },
   {
    "duration": 979,
    "start_time": "2024-07-22T22:13:57.536Z"
   },
   {
    "duration": 5,
    "start_time": "2024-07-22T22:13:58.516Z"
   },
   {
    "duration": 317,
    "start_time": "2024-07-22T22:13:58.522Z"
   },
   {
    "duration": 2302696,
    "start_time": "2024-07-22T22:13:58.840Z"
   },
   {
    "duration": 10,
    "start_time": "2024-07-22T22:52:21.538Z"
   },
   {
    "duration": 79,
    "start_time": "2024-07-22T23:01:26.336Z"
   },
   {
    "duration": 95,
    "start_time": "2024-07-22T23:07:57.814Z"
   },
   {
    "duration": 368,
    "start_time": "2024-07-22T23:09:16.036Z"
   },
   {
    "duration": 86,
    "start_time": "2024-07-22T23:11:01.194Z"
   },
   {
    "duration": 24,
    "start_time": "2024-07-22T23:11:02.580Z"
   },
   {
    "duration": 51,
    "start_time": "2024-07-22T23:11:38.382Z"
   },
   {
    "duration": 5,
    "start_time": "2024-07-22T23:11:49.767Z"
   },
   {
    "duration": 5515,
    "start_time": "2024-07-24T18:03:55.060Z"
   },
   {
    "duration": 842,
    "start_time": "2024-07-24T18:04:00.577Z"
   },
   {
    "duration": 5,
    "start_time": "2024-07-24T18:04:01.421Z"
   },
   {
    "duration": 73,
    "start_time": "2024-07-24T18:04:01.429Z"
   },
   {
    "duration": 1425,
    "start_time": "2024-07-24T18:04:01.504Z"
   },
   {
    "duration": 5,
    "start_time": "2024-07-24T18:04:02.930Z"
   },
   {
    "duration": 268,
    "start_time": "2024-07-24T18:04:02.936Z"
   },
   {
    "duration": 4920,
    "start_time": "2024-07-24T18:04:56.459Z"
   },
   {
    "duration": 822,
    "start_time": "2024-07-24T18:05:01.381Z"
   },
   {
    "duration": 5,
    "start_time": "2024-07-24T18:05:02.204Z"
   },
   {
    "duration": 34,
    "start_time": "2024-07-24T18:05:02.210Z"
   },
   {
    "duration": 997,
    "start_time": "2024-07-24T18:05:02.246Z"
   },
   {
    "duration": 5,
    "start_time": "2024-07-24T18:05:03.244Z"
   },
   {
    "duration": 277,
    "start_time": "2024-07-24T18:05:03.251Z"
   },
   {
    "duration": 2336957,
    "start_time": "2024-07-24T18:05:03.530Z"
   },
   {
    "duration": 7,
    "start_time": "2024-07-24T18:44:00.489Z"
   },
   {
    "duration": 230,
    "start_time": "2024-07-24T18:44:00.499Z"
   },
   {
    "duration": 113,
    "start_time": "2024-07-24T19:01:40.684Z"
   },
   {
    "duration": 54,
    "start_time": "2024-07-24T19:01:41.436Z"
   },
   {
    "duration": 6,
    "start_time": "2024-07-24T19:01:52.753Z"
   },
   {
    "duration": 1574,
    "start_time": "2024-07-24T19:02:11.089Z"
   },
   {
    "duration": 4,
    "start_time": "2024-07-24T19:02:16.271Z"
   },
   {
    "duration": 4371,
    "start_time": "2024-07-24T19:03:06.521Z"
   },
   {
    "duration": 1755,
    "start_time": "2024-07-24T19:03:10.893Z"
   },
   {
    "duration": 23698,
    "start_time": "2024-07-24T19:04:01.294Z"
   },
   {
    "duration": 0,
    "start_time": "2024-07-24T19:04:24.994Z"
   },
   {
    "duration": 0,
    "start_time": "2024-07-24T19:04:24.995Z"
   },
   {
    "duration": 78402,
    "start_time": "2024-07-24T19:04:31.239Z"
   },
   {
    "duration": 44,
    "start_time": "2024-07-24T19:05:49.643Z"
   },
   {
    "duration": 0,
    "start_time": "2024-07-24T19:05:49.689Z"
   },
   {
    "duration": 89,
    "start_time": "2024-07-24T19:09:00.310Z"
   },
   {
    "duration": 63,
    "start_time": "2024-07-24T19:09:02.137Z"
   },
   {
    "duration": 137,
    "start_time": "2024-07-24T19:09:03.716Z"
   },
   {
    "duration": 4177,
    "start_time": "2024-07-24T19:09:09.481Z"
   },
   {
    "duration": 1381,
    "start_time": "2024-07-24T19:09:13.660Z"
   },
   {
    "duration": 82172,
    "start_time": "2024-07-24T19:09:20.737Z"
   },
   {
    "duration": 2542,
    "start_time": "2024-07-24T19:10:42.912Z"
   },
   {
    "duration": 14,
    "start_time": "2024-07-24T19:11:58.838Z"
   },
   {
    "duration": 1259795,
    "start_time": "2024-07-24T19:12:12.893Z"
   },
   {
    "duration": 9,
    "start_time": "2024-07-24T19:36:09.481Z"
   },
   {
    "duration": 16,
    "start_time": "2024-07-24T19:36:10.250Z"
   },
   {
    "duration": 13,
    "start_time": "2024-07-24T19:40:48.889Z"
   },
   {
    "duration": 1863,
    "start_time": "2024-07-24T19:41:42.515Z"
   },
   {
    "duration": 19,
    "start_time": "2024-07-24T19:42:17.750Z"
   },
   {
    "duration": 16704,
    "start_time": "2024-07-25T04:23:52.400Z"
   },
   {
    "duration": 1059,
    "start_time": "2024-07-25T04:24:09.105Z"
   },
   {
    "duration": 4,
    "start_time": "2024-07-25T04:24:10.165Z"
   },
   {
    "duration": 12,
    "start_time": "2024-07-25T04:24:10.170Z"
   },
   {
    "duration": 3691,
    "start_time": "2024-07-25T04:24:10.183Z"
   },
   {
    "duration": 3,
    "start_time": "2024-07-25T04:24:13.876Z"
   },
   {
    "duration": 236,
    "start_time": "2024-07-25T04:24:13.882Z"
   },
   {
    "duration": 510,
    "start_time": "2024-07-25T04:24:58.567Z"
   },
   {
    "duration": 7857,
    "start_time": "2024-07-25T04:25:09.535Z"
   },
   {
    "duration": 210,
    "start_time": "2024-07-25T04:25:43.192Z"
   },
   {
    "duration": 195,
    "start_time": "2024-07-25T04:25:49.516Z"
   },
   {
    "duration": 210,
    "start_time": "2024-07-25T04:26:21.199Z"
   },
   {
    "duration": 24,
    "start_time": "2024-07-25T04:26:37.343Z"
   },
   {
    "duration": 25,
    "start_time": "2024-07-25T04:26:52.255Z"
   },
   {
    "duration": 7104,
    "start_time": "2024-10-15T09:22:47.635Z"
   },
   {
    "duration": 874,
    "start_time": "2024-10-15T09:22:54.741Z"
   },
   {
    "duration": 5,
    "start_time": "2024-10-15T09:22:55.617Z"
   },
   {
    "duration": 6,
    "start_time": "2024-10-15T09:22:55.624Z"
   },
   {
    "duration": 1541,
    "start_time": "2024-10-15T09:22:55.632Z"
   },
   {
    "duration": 5,
    "start_time": "2024-10-15T09:22:57.175Z"
   },
   {
    "duration": 308,
    "start_time": "2024-10-15T09:22:57.182Z"
   },
   {
    "duration": 5732,
    "start_time": "2024-10-15T09:26:45.579Z"
   },
   {
    "duration": 880,
    "start_time": "2024-10-15T09:26:51.313Z"
   },
   {
    "duration": 6,
    "start_time": "2024-10-15T09:26:52.196Z"
   },
   {
    "duration": 59,
    "start_time": "2024-10-15T09:26:52.204Z"
   },
   {
    "duration": 27000,
    "start_time": "2024-10-15T10:35:17.971Z"
   },
   {
    "duration": 4108,
    "start_time": "2024-10-15T10:35:44.974Z"
   },
   {
    "duration": 75,
    "start_time": "2024-10-15T10:35:49.089Z"
   },
   {
    "duration": 91,
    "start_time": "2024-10-15T10:35:49.171Z"
   },
   {
    "duration": 6169,
    "start_time": "2024-10-15T10:35:49.287Z"
   },
   {
    "duration": 7,
    "start_time": "2024-10-15T10:35:55.459Z"
   },
   {
    "duration": 1415,
    "start_time": "2024-10-15T10:35:55.469Z"
   },
   {
    "duration": 5435,
    "start_time": "2024-10-15T14:12:58.564Z"
   },
   {
    "duration": 840,
    "start_time": "2024-10-15T14:13:04.001Z"
   },
   {
    "duration": 5,
    "start_time": "2024-10-15T14:13:04.842Z"
   },
   {
    "duration": 106,
    "start_time": "2024-10-15T14:13:04.848Z"
   },
   {
    "duration": 1437,
    "start_time": "2024-10-15T14:13:04.956Z"
   },
   {
    "duration": 5,
    "start_time": "2024-10-15T14:13:06.395Z"
   },
   {
    "duration": 276,
    "start_time": "2024-10-15T14:13:06.402Z"
   },
   {
    "duration": 2203561,
    "start_time": "2024-10-15T14:13:06.680Z"
   },
   {
    "duration": 11,
    "start_time": "2024-10-15T14:49:50.242Z"
   },
   {
    "duration": 82,
    "start_time": "2024-10-15T14:49:50.254Z"
   },
   {
    "duration": 89,
    "start_time": "2024-10-15T14:49:50.338Z"
   },
   {
    "duration": 59,
    "start_time": "2024-10-15T14:49:50.428Z"
   },
   {
    "duration": 5,
    "start_time": "2024-10-15T14:49:50.488Z"
   },
   {
    "duration": 3764,
    "start_time": "2024-10-15T14:49:50.495Z"
   },
   {
    "duration": 1236,
    "start_time": "2024-10-15T14:49:54.261Z"
   },
   {
    "duration": 86903,
    "start_time": "2024-10-15T14:49:55.499Z"
   },
   {
    "duration": 2272,
    "start_time": "2024-10-15T14:51:22.403Z"
   },
   {
    "duration": 13,
    "start_time": "2024-10-15T14:51:24.676Z"
   },
   {
    "duration": 1260475,
    "start_time": "2024-10-15T14:51:24.690Z"
   },
   {
    "duration": 90,
    "start_time": "2024-10-15T15:12:25.168Z"
   },
   {
    "duration": 21,
    "start_time": "2024-10-15T15:12:25.260Z"
   },
   {
    "duration": 1657,
    "start_time": "2024-10-15T15:12:25.283Z"
   },
   {
    "duration": 20,
    "start_time": "2024-10-15T15:12:26.942Z"
   }
  ],
  "kernelspec": {
   "display_name": "Python 3 (ipykernel)",
   "language": "python",
   "name": "python3"
  },
  "language_info": {
   "codemirror_mode": {
    "name": "ipython",
    "version": 3
   },
   "file_extension": ".py",
   "mimetype": "text/x-python",
   "name": "python",
   "nbconvert_exporter": "python",
   "pygments_lexer": "ipython3",
   "version": "3.9.5"
  },
  "toc": {
   "base_numbering": 1,
   "nav_menu": {},
   "number_sections": true,
   "sideBar": true,
   "skip_h1_title": true,
   "title_cell": "Содержание",
   "title_sidebar": "Contents",
   "toc_cell": true,
   "toc_position": {
    "height": "calc(100% - 180px)",
    "left": "10px",
    "top": "150px",
    "width": "302.391px"
   },
   "toc_section_display": true,
   "toc_window_display": true
  }
 },
 "nbformat": 4,
 "nbformat_minor": 2
}
